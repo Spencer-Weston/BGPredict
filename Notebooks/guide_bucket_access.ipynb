{
 "cells": [
  {
   "cell_type": "markdown",
   "id": "067f68a8-51ac-45d9-97e8-1e33390f9561",
   "metadata": {},
   "source": [
    "# Accessing Data with Boto3\n",
    "author: Spencer Weston\n",
    "\n",
    "\n",
    "[source](https://dluo.me/s3databoto3)\n",
    "\n",
    "In Jupyter, open up a terminal and run `aws configure` with your credentials to get connected to the AWS account that holds our s3 instance."
   ]
  },
  {
   "cell_type": "code",
   "execution_count": 4,
   "id": "7b1d090a-9f94-45a6-ad8f-0e207578b24b",
   "metadata": {},
   "outputs": [],
   "source": [
    "# Open up a terminal and run aws configure\n",
    "#!aws configure"
   ]
  },
  {
   "cell_type": "markdown",
   "id": "660ca5fb-5881-4500-b101-59e41d0b4ec4",
   "metadata": {},
   "source": [
    "### install Boto3"
   ]
  },
  {
   "cell_type": "code",
   "execution_count": 5,
   "id": "f4b5ba73-da1b-4d1a-8cad-f9bc86581095",
   "metadata": {},
   "outputs": [
    {
     "name": "stdout",
     "output_type": "stream",
     "text": [
      "Requirement already satisfied: Boto3 in ./miniconda3/envs/myenv/lib/python3.10/site-packages (1.23.5)\n",
      "Requirement already satisfied: jmespath<2.0.0,>=0.7.1 in ./miniconda3/envs/myenv/lib/python3.10/site-packages (from Boto3) (1.0.0)\n",
      "Requirement already satisfied: botocore<1.27.0,>=1.26.5 in ./miniconda3/envs/myenv/lib/python3.10/site-packages (from Boto3) (1.26.5)\n",
      "Requirement already satisfied: s3transfer<0.6.0,>=0.5.0 in ./miniconda3/envs/myenv/lib/python3.10/site-packages (from Boto3) (0.5.2)\n",
      "Requirement already satisfied: urllib3<1.27,>=1.25.4 in ./miniconda3/envs/myenv/lib/python3.10/site-packages (from botocore<1.27.0,>=1.26.5->Boto3) (1.26.9)\n",
      "Requirement already satisfied: python-dateutil<3.0.0,>=2.1 in ./miniconda3/envs/myenv/lib/python3.10/site-packages (from botocore<1.27.0,>=1.26.5->Boto3) (2.8.2)\n",
      "Requirement already satisfied: six>=1.5 in ./miniconda3/envs/myenv/lib/python3.10/site-packages (from python-dateutil<3.0.0,>=2.1->botocore<1.27.0,>=1.26.5->Boto3) (1.16.0)\n"
     ]
    }
   ],
   "source": [
    "!pip install Boto3"
   ]
  },
  {
   "cell_type": "code",
   "execution_count": 1,
   "id": "b08b9ac4-73a9-42a9-b169-8b615fa8c8b2",
   "metadata": {},
   "outputs": [],
   "source": [
    "import boto3\n",
    "import pandas as pd"
   ]
  },
  {
   "cell_type": "markdown",
   "id": "921d5269-ccd3-41b9-9b90-9361c1dec3cf",
   "metadata": {},
   "source": [
    "### List buckets"
   ]
  },
  {
   "cell_type": "code",
   "execution_count": 2,
   "id": "20aa8ac2-6f42-4477-b4c5-0d5fb1ba7648",
   "metadata": {},
   "outputs": [
    {
     "name": "stdout",
     "output_type": "stream",
     "text": [
      "bgpredict\n"
     ]
    }
   ],
   "source": [
    "s3 = boto3.resource('s3')\n",
    "for bucket in s3.buckets.all():\n",
    "    print(bucket.name)"
   ]
  },
  {
   "cell_type": "markdown",
   "id": "a82f2c34-8365-4286-acda-2f9ccf230fa8",
   "metadata": {},
   "source": [
    "### Accessing an individual file:"
   ]
  },
  {
   "cell_type": "code",
   "execution_count": 4,
   "id": "a4e05fee-910b-4164-9b8e-7870cbe34f47",
   "metadata": {},
   "outputs": [
    {
     "name": "stderr",
     "output_type": "stream",
     "text": [
      "/tmp/ipykernel_4572/752560843.py:4: DtypeWarning: Columns (249) have mixed types. Specify dtype option on import or set low_memory=False.\n",
      "  df= pd.read_csv(obj['Body'])\n"
     ]
    }
   ],
   "source": [
    "client = boto3.client('s3')\n",
    "obj = client.get_object(Bucket='bgpredict',\n",
    "                        Key=\"openaps_data/00221634/direct-sharing-31/00221634_devicestatus_2018-03-01_to_2018-08-05_csv/00221634_devicestatus_2018-03-01_to_2018-08-05_aa.csv\")\n",
    "df= pd.read_csv(obj['Body'])"
   ]
  },
  {
   "cell_type": "code",
   "execution_count": 5,
   "id": "7b74f315-8509-4cc9-9ad4-6d84e0f4f976",
   "metadata": {},
   "outputs": [
    {
     "data": {
      "text/html": [
       "<div>\n",
       "<style scoped>\n",
       "    .dataframe tbody tr th:only-of-type {\n",
       "        vertical-align: middle;\n",
       "    }\n",
       "\n",
       "    .dataframe tbody tr th {\n",
       "        vertical-align: top;\n",
       "    }\n",
       "\n",
       "    .dataframe thead th {\n",
       "        text-align: right;\n",
       "    }\n",
       "</style>\n",
       "<table border=\"1\" class=\"dataframe\">\n",
       "  <thead>\n",
       "    <tr style=\"text-align: right;\">\n",
       "      <th></th>\n",
       "      <th>NSCLIENT_ID</th>\n",
       "      <th>_id</th>\n",
       "      <th>created_at</th>\n",
       "      <th>pump/extended/ActiveProfile</th>\n",
       "      <th>pump/extended/PumpIOB</th>\n",
       "      <th>pump/extended/BaseBasalRate</th>\n",
       "      <th>pump/extended/LastBolus</th>\n",
       "      <th>pump/extended/Version</th>\n",
       "      <th>pump/extended/LastBolusAmount</th>\n",
       "      <th>pump/reservoir</th>\n",
       "      <th>...</th>\n",
       "      <th>openaps/enacted/predBGs/ZT/44</th>\n",
       "      <th>openaps/enacted/predBGs/ZT/45</th>\n",
       "      <th>openaps/enacted/predBGs/ZT/46</th>\n",
       "      <th>openaps/enacted/predBGs/ZT/47</th>\n",
       "      <th>openaps/enacted/predBGs/COB/45</th>\n",
       "      <th>openaps/enacted/predBGs/COB/46</th>\n",
       "      <th>openaps/enacted/predBGs/UAM/47</th>\n",
       "      <th>openaps/enacted/predBGs/COB/47</th>\n",
       "      <th>openaps/suggested/carbsReq</th>\n",
       "      <th>openaps/enacted/carbsReq</th>\n",
       "    </tr>\n",
       "  </thead>\n",
       "  <tbody>\n",
       "    <tr>\n",
       "      <th>0</th>\n",
       "      <td>1.533427e+12</td>\n",
       "      <td>5b663df1f64f437f0a9d94db</td>\n",
       "      <td>2018-08-04T23:59:45Z</td>\n",
       "      <td>MM - v4</td>\n",
       "      <td>1.37</td>\n",
       "      <td>0.52</td>\n",
       "      <td>05.08.2018 01:01:00</td>\n",
       "      <td>2.0c-dev-04cba772b-2018.08.01-20:34</td>\n",
       "      <td>1.0</td>\n",
       "      <td>108.0</td>\n",
       "      <td>...</td>\n",
       "      <td>NaN</td>\n",
       "      <td>NaN</td>\n",
       "      <td>NaN</td>\n",
       "      <td>NaN</td>\n",
       "      <td>NaN</td>\n",
       "      <td>NaN</td>\n",
       "      <td>NaN</td>\n",
       "      <td>NaN</td>\n",
       "      <td>NaN</td>\n",
       "      <td>NaN</td>\n",
       "    </tr>\n",
       "    <tr>\n",
       "      <th>1</th>\n",
       "      <td>1.533426e+12</td>\n",
       "      <td>5b663949f64f437f0a9d94d5</td>\n",
       "      <td>2018-08-04T23:39:53Z</td>\n",
       "      <td>MM - v4</td>\n",
       "      <td>1.77</td>\n",
       "      <td>0.52</td>\n",
       "      <td>05.08.2018 01:01:00</td>\n",
       "      <td>2.0c-dev-04cba772b-2018.08.01-20:34</td>\n",
       "      <td>1.0</td>\n",
       "      <td>108.0</td>\n",
       "      <td>...</td>\n",
       "      <td>NaN</td>\n",
       "      <td>NaN</td>\n",
       "      <td>NaN</td>\n",
       "      <td>NaN</td>\n",
       "      <td>NaN</td>\n",
       "      <td>NaN</td>\n",
       "      <td>NaN</td>\n",
       "      <td>NaN</td>\n",
       "      <td>NaN</td>\n",
       "      <td>NaN</td>\n",
       "    </tr>\n",
       "    <tr>\n",
       "      <th>2</th>\n",
       "      <td>1.533425e+12</td>\n",
       "      <td>5b663496f64f437f0a9d94d0</td>\n",
       "      <td>2018-08-04T23:19:50Z</td>\n",
       "      <td>MM - v4</td>\n",
       "      <td>2.55</td>\n",
       "      <td>0.52</td>\n",
       "      <td>05.08.2018 01:01:00</td>\n",
       "      <td>2.0c-dev-04cba772b-2018.08.01-20:34</td>\n",
       "      <td>1.0</td>\n",
       "      <td>108.0</td>\n",
       "      <td>...</td>\n",
       "      <td>NaN</td>\n",
       "      <td>NaN</td>\n",
       "      <td>NaN</td>\n",
       "      <td>NaN</td>\n",
       "      <td>NaN</td>\n",
       "      <td>NaN</td>\n",
       "      <td>NaN</td>\n",
       "      <td>NaN</td>\n",
       "      <td>NaN</td>\n",
       "      <td>NaN</td>\n",
       "    </tr>\n",
       "    <tr>\n",
       "      <th>3</th>\n",
       "      <td>1.533424e+12</td>\n",
       "      <td>5b663049f64f437f0a9d94cb</td>\n",
       "      <td>2018-08-04T23:01:09Z</td>\n",
       "      <td>MM - v4</td>\n",
       "      <td>2.55</td>\n",
       "      <td>0.52</td>\n",
       "      <td>05.08.2018 01:01:00</td>\n",
       "      <td>2.0c-dev-04cba772b-2018.08.01-20:34</td>\n",
       "      <td>1.0</td>\n",
       "      <td>108.0</td>\n",
       "      <td>...</td>\n",
       "      <td>NaN</td>\n",
       "      <td>NaN</td>\n",
       "      <td>NaN</td>\n",
       "      <td>NaN</td>\n",
       "      <td>NaN</td>\n",
       "      <td>NaN</td>\n",
       "      <td>NaN</td>\n",
       "      <td>NaN</td>\n",
       "      <td>NaN</td>\n",
       "      <td>NaN</td>\n",
       "    </tr>\n",
       "    <tr>\n",
       "      <th>4</th>\n",
       "      <td>1.533424e+12</td>\n",
       "      <td>5b663011f64f437f0a9d94c9</td>\n",
       "      <td>2018-08-04T23:00:33Z</td>\n",
       "      <td>MM - v4</td>\n",
       "      <td>1.57</td>\n",
       "      <td>0.52</td>\n",
       "      <td>05.08.2018 00:10:00</td>\n",
       "      <td>2.0c-dev-04cba772b-2018.08.01-20:34</td>\n",
       "      <td>1.5</td>\n",
       "      <td>109.0</td>\n",
       "      <td>...</td>\n",
       "      <td>NaN</td>\n",
       "      <td>NaN</td>\n",
       "      <td>NaN</td>\n",
       "      <td>NaN</td>\n",
       "      <td>NaN</td>\n",
       "      <td>NaN</td>\n",
       "      <td>NaN</td>\n",
       "      <td>NaN</td>\n",
       "      <td>NaN</td>\n",
       "      <td>NaN</td>\n",
       "    </tr>\n",
       "  </tbody>\n",
       "</table>\n",
       "<p>5 rows × 445 columns</p>\n",
       "</div>"
      ],
      "text/plain": [
       "    NSCLIENT_ID                       _id            created_at  \\\n",
       "0  1.533427e+12  5b663df1f64f437f0a9d94db  2018-08-04T23:59:45Z   \n",
       "1  1.533426e+12  5b663949f64f437f0a9d94d5  2018-08-04T23:39:53Z   \n",
       "2  1.533425e+12  5b663496f64f437f0a9d94d0  2018-08-04T23:19:50Z   \n",
       "3  1.533424e+12  5b663049f64f437f0a9d94cb  2018-08-04T23:01:09Z   \n",
       "4  1.533424e+12  5b663011f64f437f0a9d94c9  2018-08-04T23:00:33Z   \n",
       "\n",
       "  pump/extended/ActiveProfile  pump/extended/PumpIOB  \\\n",
       "0                     MM - v4                   1.37   \n",
       "1                     MM - v4                   1.77   \n",
       "2                     MM - v4                   2.55   \n",
       "3                     MM - v4                   2.55   \n",
       "4                     MM - v4                   1.57   \n",
       "\n",
       "   pump/extended/BaseBasalRate pump/extended/LastBolus  \\\n",
       "0                         0.52     05.08.2018 01:01:00   \n",
       "1                         0.52     05.08.2018 01:01:00   \n",
       "2                         0.52     05.08.2018 01:01:00   \n",
       "3                         0.52     05.08.2018 01:01:00   \n",
       "4                         0.52     05.08.2018 00:10:00   \n",
       "\n",
       "                 pump/extended/Version  pump/extended/LastBolusAmount  \\\n",
       "0  2.0c-dev-04cba772b-2018.08.01-20:34                            1.0   \n",
       "1  2.0c-dev-04cba772b-2018.08.01-20:34                            1.0   \n",
       "2  2.0c-dev-04cba772b-2018.08.01-20:34                            1.0   \n",
       "3  2.0c-dev-04cba772b-2018.08.01-20:34                            1.0   \n",
       "4  2.0c-dev-04cba772b-2018.08.01-20:34                            1.5   \n",
       "\n",
       "   pump/reservoir  ... openaps/enacted/predBGs/ZT/44  \\\n",
       "0           108.0  ...                           NaN   \n",
       "1           108.0  ...                           NaN   \n",
       "2           108.0  ...                           NaN   \n",
       "3           108.0  ...                           NaN   \n",
       "4           109.0  ...                           NaN   \n",
       "\n",
       "  openaps/enacted/predBGs/ZT/45 openaps/enacted/predBGs/ZT/46  \\\n",
       "0                           NaN                           NaN   \n",
       "1                           NaN                           NaN   \n",
       "2                           NaN                           NaN   \n",
       "3                           NaN                           NaN   \n",
       "4                           NaN                           NaN   \n",
       "\n",
       "   openaps/enacted/predBGs/ZT/47 openaps/enacted/predBGs/COB/45  \\\n",
       "0                            NaN                            NaN   \n",
       "1                            NaN                            NaN   \n",
       "2                            NaN                            NaN   \n",
       "3                            NaN                            NaN   \n",
       "4                            NaN                            NaN   \n",
       "\n",
       "   openaps/enacted/predBGs/COB/46  openaps/enacted/predBGs/UAM/47  \\\n",
       "0                             NaN                             NaN   \n",
       "1                             NaN                             NaN   \n",
       "2                             NaN                             NaN   \n",
       "3                             NaN                             NaN   \n",
       "4                             NaN                             NaN   \n",
       "\n",
       "   openaps/enacted/predBGs/COB/47 openaps/suggested/carbsReq  \\\n",
       "0                             NaN                        NaN   \n",
       "1                             NaN                        NaN   \n",
       "2                             NaN                        NaN   \n",
       "3                             NaN                        NaN   \n",
       "4                             NaN                        NaN   \n",
       "\n",
       "   openaps/enacted/carbsReq  \n",
       "0                       NaN  \n",
       "1                       NaN  \n",
       "2                       NaN  \n",
       "3                       NaN  \n",
       "4                       NaN  \n",
       "\n",
       "[5 rows x 445 columns]"
      ]
     },
     "execution_count": 5,
     "metadata": {},
     "output_type": "execute_result"
    }
   ],
   "source": [
    "df.head()"
   ]
  },
  {
   "cell_type": "markdown",
   "id": "9938d41d-0524-44e0-8682-cfadd69026c1",
   "metadata": {},
   "source": [
    "### Getting Multiple files"
   ]
  },
  {
   "cell_type": "code",
   "execution_count": 6,
   "id": "eeb521fd-0fdf-434b-9329-9b2bb20f2065",
   "metadata": {},
   "outputs": [],
   "source": [
    "resource = boto3.resource('s3')\n",
    "bg_bucket = resource.Bucket('bgpredict')"
   ]
  },
  {
   "cell_type": "code",
   "execution_count": 8,
   "id": "8e8ed97b-9440-47b0-9f23-5c7ed102c086",
   "metadata": {},
   "outputs": [],
   "source": [
    "files = list(bg_bucket.objects.filter(Prefix='openaps_data/00221634/direct-sharing-31/00221634_devicestatus_2018-03-01_to_2018-08-05_csv/'))"
   ]
  },
  {
   "cell_type": "code",
   "execution_count": 9,
   "id": "8bba79af-c4a4-40fb-9abb-24354b69e49f",
   "metadata": {},
   "outputs": [
    {
     "data": {
      "text/plain": [
       "[s3.ObjectSummary(bucket_name='bgpredict', key='openaps_data/00221634/direct-sharing-31/00221634_devicestatus_2018-03-01_to_2018-08-05_csv/00221634_devicestatus_2018-03-01_to_2018-08-05_aa.csv'),\n",
       " s3.ObjectSummary(bucket_name='bgpredict', key='openaps_data/00221634/direct-sharing-31/00221634_devicestatus_2018-03-01_to_2018-08-05_csv/00221634_devicestatus_2018-03-01_to_2018-08-05_ab.csv'),\n",
       " s3.ObjectSummary(bucket_name='bgpredict', key='openaps_data/00221634/direct-sharing-31/00221634_devicestatus_2018-03-01_to_2018-08-05_csv/00221634_devicestatus_2018-03-01_to_2018-08-05_ac.csv'),\n",
       " s3.ObjectSummary(bucket_name='bgpredict', key='openaps_data/00221634/direct-sharing-31/00221634_devicestatus_2018-03-01_to_2018-08-05_csv/00221634_devicestatus_2018-03-01_to_2018-08-05_ad.csv')]"
      ]
     },
     "execution_count": 9,
     "metadata": {},
     "output_type": "execute_result"
    }
   ],
   "source": [
    "files"
   ]
  }
 ],
 "metadata": {
  "kernelspec": {
   "display_name": "myenv",
   "language": "python",
   "name": "myenv"
  },
  "language_info": {
   "codemirror_mode": {
    "name": "ipython",
    "version": 3
   },
   "file_extension": ".py",
   "mimetype": "text/x-python",
   "name": "python",
   "nbconvert_exporter": "python",
   "pygments_lexer": "ipython3",
   "version": "3.10.4"
  }
 },
 "nbformat": 4,
 "nbformat_minor": 5
}
