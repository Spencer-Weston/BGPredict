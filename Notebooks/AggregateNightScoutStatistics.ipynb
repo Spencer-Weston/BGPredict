{
 "cells": [
  {
   "cell_type": "markdown",
   "id": "f5ca1ade-27df-437b-b5f2-ce8f7dfb1848",
   "metadata": {},
   "source": [
    "# Aggregate Night Scout Statistics\n",
    "Author: Spencer Weston\n",
    "\n",
    "This notebook exists to begin evaluating the nightscout/openaps data as a whole. This notebook should help determine which variables we can drop and generate some metadata. We also need to validate some assumptions across all subjects. We'll get setup by accumulating all the file pathes into a single list."
   ]
  },
  {
   "cell_type": "code",
   "execution_count": 24,
   "id": "dc46f502-95d6-4d58-aa48-9d27f71b1be6",
   "metadata": {},
   "outputs": [],
   "source": [
    "import os\n",
    "import numpy as np\n",
    "import pandas as pd \n",
    "import re \n",
    "from datetime import datetime, timedelta, timezone\n",
    "import pytz\n",
    "from collections import namedtuple"
   ]
  },
  {
   "cell_type": "code",
   "execution_count": 2,
   "id": "8ec289c8-7ec3-41f3-8eb5-9cd50a3ac973",
   "metadata": {},
   "outputs": [
    {
     "data": {
      "text/plain": [
       "'C:\\\\Users\\\\spenc\\\\Documents\\\\Berkeley\\\\Capstone\\\\BGPredict\\\\Notebooks'"
      ]
     },
     "execution_count": 2,
     "metadata": {},
     "output_type": "execute_result"
    }
   ],
   "source": [
    "os.getcwd()"
   ]
  },
  {
   "cell_type": "code",
   "execution_count": 56,
   "id": "58e287e5-2502-4ed4-9c47-2bc98fb2478f",
   "metadata": {},
   "outputs": [],
   "source": [
    "SubjectInfo = namedtuple(\"SubjectInfo\", ['path', 'subject_id', 'devicestatus', 'entries', 'treatments'])\n",
    "\n",
    "def generate_subject_info(data_dir, subject_number):\n",
    "    direct_sharing_folder = 'direct-sharing-31'\n",
    "    path = f\"{data_dir}/{subject_number}\"\n",
    "    # Some individuals have multiple direct-sharing folders. Ensure the correct folder exists and add it to path\n",
    "    # For example, one individual has a folder with menstruation data\n",
    "    if direct_sharing_folder not in os.listdir(path):\n",
    "        return None\n",
    "    else:\n",
    "        path = f\"{path}/{direct_sharing_folder}\"\n",
    "    \n",
    "    subject_dirs = [folder for folder in os.listdir(path)]\n",
    "    relevant_dir_names = [\"treatments\", \"devicestatus\", \"entries\"]\n",
    "    relevant_dirs = {k: [] for k in relevant_dir_names}\n",
    "    # Identify every file associated with treatments, device status, or entries and store them in a dictionary\n",
    "    for folder in subject_dirs:\n",
    "        for dir_name in relevant_dir_names:\n",
    "            if dir_name in folder and folder.endswith(\"_csv\"):\n",
    "                dir_path = f\"{path}/{folder}\"\n",
    "                files = [f\"{dir_path}/{file}\" for file in os.listdir(dir_path)]\n",
    "                relevant_dirs[dir_name].extend(files)\n",
    "    return SubjectInfo(path=path, subject_id=subject_number, devicestatus=relevant_dirs['devicestatus'],\n",
    "                      entries=relevant_dirs['entries'], treatments=relevant_dirs['treatments'])\n",
    "    \n",
    "# subject = SubjectInfo()\n",
    "data_dir = \"C:\\\\Users\\spenc\\Documents\\Berkeley\\Capstone\\n=183_OpenAPS_Data_Commons_August_2021_UNZIPPED\"\n",
    "data_dir = data_dir.replace(\"\\\\\", \"/\")\n",
    "data_dir = data_dir.replace(\"\\n\", \"/n\")\n",
    "# isnumeric validates that the folder comes from openaps/nightscout\n",
    "subject_dirs = [generate_subject_info(data_dir, folder) for folder in os.listdir(data_dir) if folder.isnumeric()] \n",
    "\n",
    "# None will be returned if an individual has no  \n",
    "try:\n",
    "    while subject_dirs.index(None):\n",
    "        idx = subject_dirs.index(None)\n",
    "        subject_dirs.pop(idx)\n",
    "except ValueError:\n",
    "    pass"
   ]
  },
  {
   "cell_type": "markdown",
   "id": "d7249130-d7fe-4c85-8091-ae9233be1ddc",
   "metadata": {},
   "source": [
    "## Summary Statistics\n",
    "Create some rough summary statistics based on the available files"
   ]
  },
  {
   "cell_type": "code",
   "execution_count": 71,
   "id": "2b442747-4f88-48a2-9f0c-6814c78805f9",
   "metadata": {},
   "outputs": [],
   "source": [
    "file_presence = {\"treatments\": [], \"devicestatus\": [], \"entries\": []}\n",
    "for x in subject_dirs:\n",
    "    for key in file_presence.keys():\n",
    "        tuple_idx = x._fields.index(key)\n",
    "        files = x[tuple_idx]\n",
    "        file_presence[key].append(len(files))"
   ]
  },
  {
   "cell_type": "code",
   "execution_count": 72,
   "id": "0fb68e40-0fb7-414c-9abf-63619cbeaca0",
   "metadata": {},
   "outputs": [
    {
     "data": {
      "text/plain": [
       "dict_keys(['treatments', 'devicestatus', 'entries'])"
      ]
     },
     "execution_count": 72,
     "metadata": {},
     "output_type": "execute_result"
    }
   ],
   "source": [
    "file_presence.keys()"
   ]
  },
  {
   "cell_type": "markdown",
   "id": "024be9fe-8635-4127-a5f5-cd953c4c405f",
   "metadata": {},
   "source": [
    "Here, we look at subjects with no device status but treatment data and subjects with no folders associated with their data. If they have no folders, that's an easy exclusion criteria. If they have treatment but not device status data, we'll need to validate rather the treatment data appears equivalently formatted to the device status from other olders. "
   ]
  },
  {
   "cell_type": "code",
   "execution_count": 82,
   "id": "12cf784b-e463-4b38-a229-66ef1832e5d5",
   "metadata": {},
   "outputs": [
    {
     "name": "stdout",
     "output_type": "stream",
     "text": [
      "NDT: ['42052178', '50311906', '61179686', '66773091'] \n",
      " \n",
      " NF: ['32635618', '51359431'] \n",
      " \n",
      " NE: []\n"
     ]
    }
   ],
   "source": [
    "# Get count of the number of files for each subject\n",
    "subjects = [x.subject_id for x in subject_dirs]\n",
    "file_count = list(zip(subjects, *[file_presence[k] for k in file_presence.keys()]))\n",
    "\n",
    "# subjects with no device status but treatment data; will need to be evaluated for data integrity\n",
    "no_device_but_treatment = [] \n",
    "# Subjects with no folders associated with their data; exclusion criterion\n",
    "no_folders = [] \n",
    "# No blood glucose data; exclusion criterion \n",
    "no_entries = []\n",
    "\n",
    "for x in file_count:\n",
    "    # no entries\n",
    "    if x[1] < 1:\n",
    "        if x[2] == 0 and x[3] == 0:\n",
    "            no_folders.append(x[0])\n",
    "        else: \n",
    "            no_entries.append(x[0])\n",
    "        next \n",
    "    # no device status but treatment \n",
    "    if x[2] == 0 and x[3] > 0:\n",
    "        no_device_but_treatment.append(x[0])\n",
    "        next\n",
    "\n",
    "print(f\"NDT: {no_device_but_treatment} \\n \\n NF: {no_folders} \\n \\n NE: {no_entries}\")"
   ]
  },
  {
   "cell_type": "markdown",
   "id": "33df8ede-7897-411e-b764-e1a8d8ad0b32",
   "metadata": {},
   "source": [
    "### Evaluate Subjects with No Device Status but Treatment Tables"
   ]
  },
  {
   "cell_type": "code",
   "execution_count": 83,
   "id": "637412c0-947e-457d-852d-698242556913",
   "metadata": {},
   "outputs": [],
   "source": [
    "# Functions from NightScoutJoinAnalysis\n",
    "def define_column_superset(dataframes: list):\n",
    "    superset = set()\n",
    "    for df in dataframes:\n",
    "        cols = list(df.columns)\n",
    "        superset = superset.union(cols)\n",
    "    return superset\n",
    "\n",
    "def apply_superset(df, superset):\n",
    "    df_cols = set(list(df.columns))\n",
    "    set_diff = superset.difference(df_cols)\n",
    "    n = len(df)\n",
    "    additional_col_df = pd.DataFrame({k: [None for _ in range(n)] for k in set_diff})\n",
    "    new_df = pd.concat([df, additional_col_df], axis=1)\n",
    "    return new_df\n",
    "\n",
    "def concat_dfs(dataframes: list):\n",
    "    return pd.concat(dataframes, axis = 0)"
   ]
  },
  {
   "cell_type": "code",
   "execution_count": 95,
   "id": "23892304-fdeb-4dac-ad93-e84478fcd8cb",
   "metadata": {},
   "outputs": [
    {
     "name": "stdout",
     "output_type": "stream",
     "text": [
      "Subject: 42052178, Num_files: 6\n",
      "(15000, 53)\n",
      "(15000, 56)\n",
      "(15000, 57)\n",
      "(15000, 61)\n",
      "(15000, 54)\n",
      "(5911, 348)\n",
      "Subject: 50311906, Num_files: 3\n",
      "(205, 48)\n",
      "(15000, 88)\n",
      "(10835, 81)\n",
      "Subject: 61179686, Num_files: 5\n",
      "(15000, 258)\n",
      "(15000, 16)\n",
      "(15000, 16)\n",
      "(15000, 16)\n",
      "(1272, 18)\n",
      "Subject: 66773091, Num_files: 6\n",
      "(15000, 16)\n",
      "(15000, 16)\n",
      "(15000, 16)\n",
      "(15000, 16)\n",
      "(15000, 16)\n",
      "(10132, 16)\n"
     ]
    }
   ],
   "source": [
    "ndt_subjects = [x for x in subject_dirs if x.subject_id in no_device_but_treatment]\n",
    "ndt_dfs = {}\n",
    "for subj in ndt_subjects:\n",
    "    print(f\"Subject: {subj.subject_id}, Num_files: {len(subj.treatments)}\")\n",
    "    ndt_dfs.update({subj.subject_id: [pd.read_csv(file, dtype=str) for file in subj.treatments]}) \n",
    "    for df in ndt_dfs[subj.subject_id]:\n",
    "        print(df.shape)"
   ]
  },
  {
   "cell_type": "code",
   "execution_count": 101,
   "id": "252d6504-e2fa-4980-9c53-eb27bc0bea7d",
   "metadata": {},
   "outputs": [
    {
     "name": "stdout",
     "output_type": "stream",
     "text": [
      "supersetting\n",
      "concatting\n"
     ]
    }
   ],
   "source": [
    "df_list = [df for df in ndt_dfs[\"42052178\"]]\n",
    "superset = define_column_superset(df_list)\n",
    "print('supersetting')\n",
    "superset_dfs = [apply_superset(df, superset) for df in df_list]\n",
    "print('concatting')\n",
    "union_df = concat_dfs(superset_dfs)\n",
    "# union_df.describe()"
   ]
  },
  {
   "cell_type": "code",
   "execution_count": 116,
   "id": "d97b3245-ae73-4993-b1fc-bad60f2bfc81",
   "metadata": {},
   "outputs": [
    {
     "name": "stdout",
     "output_type": "stream",
     "text": [
      "Unioned in: 0:00:00.359388\n"
     ]
    }
   ],
   "source": [
    "test = [df.reset_index(drop=True) for df in superset_dfs]\n",
    "start = datetime.now()\n",
    "union_df = pd.concat(test, axis = 0)\n",
    "end = datetime.now()\n",
    "print(\"Unioned in:\", end-start)"
   ]
  },
  {
   "cell_type": "code",
   "execution_count": 108,
   "id": "1e12686d-89e5-4359-8ee7-a0701a327242",
   "metadata": {},
   "outputs": [
    {
     "data": {
      "text/html": [
       "<div>\n",
       "<style scoped>\n",
       "    .dataframe tbody tr th:only-of-type {\n",
       "        vertical-align: middle;\n",
       "    }\n",
       "\n",
       "    .dataframe tbody tr th {\n",
       "        vertical-align: top;\n",
       "    }\n",
       "\n",
       "    .dataframe thead th {\n",
       "        text-align: right;\n",
       "    }\n",
       "</style>\n",
       "<table border=\"1\" class=\"dataframe\">\n",
       "  <thead>\n",
       "    <tr style=\"text-align: right;\">\n",
       "      <th></th>\n",
       "      <th>created_at</th>\n",
       "      <th>absolute</th>\n",
       "      <th>carbs</th>\n",
       "      <th>_id</th>\n",
       "      <th>duration</th>\n",
       "      <th>NSCLIENT_ID</th>\n",
       "      <th>rate</th>\n",
       "      <th>eventType</th>\n",
       "      <th>enteredBy</th>\n",
       "      <th>insulin</th>\n",
       "      <th>...</th>\n",
       "      <th>boluscalc/basaliobused</th>\n",
       "      <th>appended/0/_head</th>\n",
       "      <th>stale/insulin_sensitivies/4/_offset</th>\n",
       "      <th>key600</th>\n",
       "      <th>appended/0/_type</th>\n",
       "      <th>square/appended/0/_description</th>\n",
       "      <th>changed/carb_ratios/0/x</th>\n",
       "      <th>boluscalc/carbsneeded</th>\n",
       "      <th>wizard/_head</th>\n",
       "      <th>bolus/unabsorbed</th>\n",
       "    </tr>\n",
       "  </thead>\n",
       "  <tbody>\n",
       "    <tr>\n",
       "      <th>count</th>\n",
       "      <td>80911</td>\n",
       "      <td>17261</td>\n",
       "      <td>6968</td>\n",
       "      <td>80911</td>\n",
       "      <td>25493</td>\n",
       "      <td>65482</td>\n",
       "      <td>8631</td>\n",
       "      <td>80911</td>\n",
       "      <td>47836</td>\n",
       "      <td>34599</td>\n",
       "      <td>...</td>\n",
       "      <td>901</td>\n",
       "      <td>3</td>\n",
       "      <td>6</td>\n",
       "      <td>1437</td>\n",
       "      <td>3</td>\n",
       "      <td>1</td>\n",
       "      <td>6</td>\n",
       "      <td>10</td>\n",
       "      <td>79</td>\n",
       "      <td>79</td>\n",
       "    </tr>\n",
       "    <tr>\n",
       "      <th>unique</th>\n",
       "      <td>66145</td>\n",
       "      <td>769</td>\n",
       "      <td>59</td>\n",
       "      <td>80911</td>\n",
       "      <td>151</td>\n",
       "      <td>64475</td>\n",
       "      <td>385</td>\n",
       "      <td>20</td>\n",
       "      <td>12</td>\n",
       "      <td>110</td>\n",
       "      <td>...</td>\n",
       "      <td>2</td>\n",
       "      <td>3</td>\n",
       "      <td>2</td>\n",
       "      <td>1437</td>\n",
       "      <td>1</td>\n",
       "      <td>1</td>\n",
       "      <td>1</td>\n",
       "      <td>1</td>\n",
       "      <td>56</td>\n",
       "      <td>44</td>\n",
       "    </tr>\n",
       "    <tr>\n",
       "      <th>top</th>\n",
       "      <td>2018-09-25T08:07:37Z</td>\n",
       "      <td>0</td>\n",
       "      <td>20</td>\n",
       "      <td>5cd69da3131daf5594f593e1</td>\n",
       "      <td>30</td>\n",
       "      <td>1545469901242</td>\n",
       "      <td>0</td>\n",
       "      <td>Correction Bolus</td>\n",
       "      <td>S6MIS6</td>\n",
       "      <td>0.1</td>\n",
       "      <td>...</td>\n",
       "      <td>true</td>\n",
       "      <td>5c0b965e8426cc843cd684</td>\n",
       "      <td>0</td>\n",
       "      <td>BG81D16AB6</td>\n",
       "      <td>UnabsorbedInsulinBolus</td>\n",
       "      <td>UnabsorbedInsulinBolus unknown head[5], body[0...</td>\n",
       "      <td>0</td>\n",
       "      <td>0</td>\n",
       "      <td>5b00</td>\n",
       "      <td>0</td>\n",
       "    </tr>\n",
       "    <tr>\n",
       "      <th>freq</th>\n",
       "      <td>16</td>\n",
       "      <td>7488</td>\n",
       "      <td>1112</td>\n",
       "      <td>1</td>\n",
       "      <td>14730</td>\n",
       "      <td>9</td>\n",
       "      <td>5083</td>\n",
       "      <td>30533</td>\n",
       "      <td>21872</td>\n",
       "      <td>11987</td>\n",
       "      <td>...</td>\n",
       "      <td>892</td>\n",
       "      <td>1</td>\n",
       "      <td>4</td>\n",
       "      <td>1</td>\n",
       "      <td>3</td>\n",
       "      <td>1</td>\n",
       "      <td>6</td>\n",
       "      <td>10</td>\n",
       "      <td>10</td>\n",
       "      <td>22</td>\n",
       "    </tr>\n",
       "  </tbody>\n",
       "</table>\n",
       "<p>4 rows × 353 columns</p>\n",
       "</div>"
      ],
      "text/plain": [
       "                  created_at absolute carbs                       _id  \\\n",
       "count                  80911    17261  6968                     80911   \n",
       "unique                 66145      769    59                     80911   \n",
       "top     2018-09-25T08:07:37Z        0    20  5cd69da3131daf5594f593e1   \n",
       "freq                      16     7488  1112                         1   \n",
       "\n",
       "       duration    NSCLIENT_ID  rate         eventType enteredBy insulin  ...  \\\n",
       "count     25493          65482  8631             80911     47836   34599  ...   \n",
       "unique      151          64475   385                20        12     110  ...   \n",
       "top          30  1545469901242     0  Correction Bolus    S6MIS6     0.1  ...   \n",
       "freq      14730              9  5083             30533     21872   11987  ...   \n",
       "\n",
       "       boluscalc/basaliobused        appended/0/_head  \\\n",
       "count                     901                       3   \n",
       "unique                      2                       3   \n",
       "top                      true  5c0b965e8426cc843cd684   \n",
       "freq                      892                       1   \n",
       "\n",
       "       stale/insulin_sensitivies/4/_offset      key600  \\\n",
       "count                                    6        1437   \n",
       "unique                                   2        1437   \n",
       "top                                      0  BG81D16AB6   \n",
       "freq                                     4           1   \n",
       "\n",
       "              appended/0/_type  \\\n",
       "count                        3   \n",
       "unique                       1   \n",
       "top     UnabsorbedInsulinBolus   \n",
       "freq                         3   \n",
       "\n",
       "                           square/appended/0/_description  \\\n",
       "count                                                   1   \n",
       "unique                                                  1   \n",
       "top     UnabsorbedInsulinBolus unknown head[5], body[0...   \n",
       "freq                                                    1   \n",
       "\n",
       "       changed/carb_ratios/0/x boluscalc/carbsneeded wizard/_head  \\\n",
       "count                        6                    10           79   \n",
       "unique                       1                     1           56   \n",
       "top                          0                     0         5b00   \n",
       "freq                         6                    10           10   \n",
       "\n",
       "       bolus/unabsorbed  \n",
       "count                79  \n",
       "unique               44  \n",
       "top                   0  \n",
       "freq                 22  \n",
       "\n",
       "[4 rows x 353 columns]"
      ]
     },
     "execution_count": 108,
     "metadata": {},
     "output_type": "execute_result"
    }
   ],
   "source": [
    "## Prints columns\n",
    "# cols = []\n",
    "# for i,col in enumerate(union_df.columns):\n",
    "#     cols.append(col)\n",
    "#     if i % 5 == 0:\n",
    "#         print(cols)\n",
    "#         cols = []\n",
    "union_df.describe()"
   ]
  },
  {
   "cell_type": "markdown",
   "id": "4f5abdb9-f2ba-4241-9ff1-97f587cd03cf",
   "metadata": {},
   "source": [
    "We can see that these treatment tables hold a lot of relevant information. We'd love to keep this info if possible. We'll have to do a lot of work to process the though."
   ]
  },
  {
   "cell_type": "markdown",
   "id": "d84347b9-ee0d-4a2a-9283-869ae8402d8d",
   "metadata": {},
   "source": [
    "## Evaluate Treatment Uniqueness\n",
    "In Nightscout join analysis, we saw that a union of treatments with duplicates dropped exactly matched a device status file. Let's see how common that is. "
   ]
  },
  {
   "cell_type": "code",
   "execution_count": 158,
   "id": "4ead9222-a725-4fb8-bb5b-edb86eb804cc",
   "metadata": {},
   "outputs": [],
   "source": [
    "class Subject:\n",
    "    \n",
    "    def __init__(self, subject_id, subject_path, treatment_files, device_status_files, entries_files):\n",
    "        self.subject_id = subject_id\n",
    "        self.subject_path = subject_path\n",
    "        \n",
    "        self.treatment_files = treatment_files\n",
    "        self.treatment_shapes = None\n",
    "        self.treatment_df = None\n",
    "        \n",
    "        self.device_status_files = device_status_files\n",
    "        self.device_status_shapes = None\n",
    "        self.device_status_df = None\n",
    "        \n",
    "        self.entries_files = entries_files\n",
    "        self.entries_shapes = None\n",
    "        self.entries_df = None \n",
    "        \n",
    "    \n",
    "    def get_device_status_shapes(self):\n",
    "        if self.device_status_shapes is not None:\n",
    "            return self.device_status_shapes\n",
    "        else:\n",
    "            self.device_status_shapes = [pd.read_csv(file, low_memory=False).shape for file in self.device_status_files]\n",
    "            return self.device_status_shapes\n",
    "    \n",
    "    def get_device_status_df(self):\n",
    "        if self.device_status_df is not None:\n",
    "            return self.device_status_df\n",
    "        else:\n",
    "            device_status_dfs = [pd.read_csv(file, low_memory=False).reset_index(drop=True) for file in self.device_status_files]\n",
    "            self.device_status_df = pd.concat(device_status_dfs, axis=0)\n",
    "            return self.device_status_df \n",
    "    \n",
    "    def get_treatment_shapes(self):\n",
    "        if self.treatment_shapes is not None:\n",
    "            return self.treatment_shapes\n",
    "        else:\n",
    "            self.treatment_shapes = [pd.read_csv(file, low_memory=False).shape for file in self.treatment_files]\n",
    "            return self.treatment_shapes\n",
    "        \n",
    "    def get_treatment_df(self):\n",
    "        if self.treatment_df is not None:\n",
    "            return self.treatment_df\n",
    "        else:\n",
    "            treatment_dfs = [pd.read_csv(file, low_memory=False).reset_index(drop=True) for file in self.treatment_files]\n",
    "            self.treatment_df = pd.concat(treatment_dfs, axis=0)\n",
    "            return self.treatment_df\n",
    "        \n",
    "    def get_entries_shapes(self):\n",
    "        if self.entries_shapes is not None:\n",
    "            return self.entries_shapes\n",
    "        else:\n",
    "            self.entries_shapes = [pd.read_csv(file, low_memory=False).shape for file in self.entries_files]\n",
    "            return self.entries_shapes\n",
    "    \n",
    "    def get_entries_df(self):\n",
    "        if self.entries_df is not None:\n",
    "            return self.entries_df\n",
    "        else:\n",
    "            entries_dfs = [pd.read_csv(file, low_memory=False).reset_index(drop=True) for file in self.entries_files]\n",
    "            self.entries_dfs \n",
    "            \n",
    "    def check_equivalence(self, treatment_df=None, check_unique=False):\n",
    "        \"\"\"Check rather treatment data is a subset of or equivalent to device status data\"\"\"\n",
    "        if treatment_df is None:\n",
    "            treatment_df = self.get_treatment_df()\n",
    "        ds_df = self.get_device_status_df()\n",
    "        if treatment_df.shape == ds_df.shape:\n",
    "            treat_array = self.to_string_and_numpy(treatment_df)\n",
    "            ds_array = self.to_string_and_numpy(ds_df)\n",
    "            if np.array_equal(treat_array, ds_array):\n",
    "                print(\"Equivalent full treatment and device status\")\n",
    "                return 1\n",
    "            else:\n",
    "                print(\"Equivalent full treatment and device status shape but not elements\")\n",
    "                return 0\n",
    "        elif treatment_df.shape in self.get_device_status_shapes():\n",
    "            idx = self.get_device_status_shapes().index(treatment_df.shape)\n",
    "            ds_df = pd.read_csv(self.device_status_files[idx], low_memory=False)\n",
    "            ds_array = self.to_string_and_numpy(ds_df)\n",
    "            treat_array = self.to_string_and_numpy(treatment_df)\n",
    "            if np.array_equal(treat_array, ds_array):\n",
    "                print(\"Treatment equivalent to subset of device status\")\n",
    "                return 1 \n",
    "            else:\n",
    "                print(\"Treatment has equivalent shape to subset of device status but different elements\")\n",
    "                return 0 \n",
    "        elif not check_unique:\n",
    "            print('here')\n",
    "            self.check_equivalence(treatment_df.drop_duplicates(), check_unique=True)\n",
    "    \n",
    "    @staticmethod\n",
    "    def to_string_and_numpy(df):\n",
    "        return df.as_type('str').to_numpy()"
   ]
  },
  {
   "cell_type": "code",
   "execution_count": 163,
   "id": "c86d6bf0-b0f2-4a11-8396-73a7c2e7adc9",
   "metadata": {},
   "outputs": [],
   "source": [
    "subject = subject_dirs[3]\n",
    "sub_1 = Subject(subject.subject_id, subject.path, subject.treatments, subject.devicestatus, subject.entries)\n",
    "# ds_shapes = sub_1.get_device_status_shapes()\n",
    "# treat_shapes = sub_1.get_treatment_shapes()\n",
    "treatment_df = sub_1.get_treatment_df()\n",
    "ds_df = sub_1.get_device_status_df()"
   ]
  },
  {
   "cell_type": "markdown",
   "id": "02fc7e30-bbca-4b43-8f55-c7fd9831e0b8",
   "metadata": {},
   "source": [
    "**Duplicated treatment and device status**\n",
    "\n",
    "This is great. There will be multiple ways that treatment files and device status files are equivalent. But so far, they always seem to be equivalent."
   ]
  },
  {
   "cell_type": "code",
   "execution_count": 164,
   "id": "ccd5a9f7-54dd-493b-ba3e-5f5f51626057",
   "metadata": {},
   "outputs": [
    {
     "name": "stdout",
     "output_type": "stream",
     "text": [
      "(140527, 403)\n",
      "(167799, 1222)\n"
     ]
    }
   ],
   "source": [
    "print(treatment_df.shape)\n",
    "print(ds_df.shape)"
   ]
  },
  {
   "cell_type": "code",
   "execution_count": 166,
   "id": "ae701745-73ac-43ef-aaf5-15a54adc8fde",
   "metadata": {},
   "outputs": [
    {
     "name": "stdout",
     "output_type": "stream",
     "text": [
      "2\n"
     ]
    }
   ],
   "source": [
    "test = []\n",
    "for t_col in treatment_df.columns:\n",
    "    if t_col in ds_df.columns:\n",
    "        test.append((t_col, 1))\n",
    "    else:\n",
    "        test.append((t_col, 0))\n",
    "print(sum([x[1] for x in test]))"
   ]
  },
  {
   "cell_type": "code",
   "execution_count": 167,
   "id": "3bfdce5d-ed29-4b92-8013-508d741dab31",
   "metadata": {},
   "outputs": [
    {
     "data": {
      "text/plain": [
       "[('created_at', 1), ('_id', 1)]"
      ]
     },
     "execution_count": 167,
     "metadata": {},
     "output_type": "execute_result"
    }
   ],
   "source": [
    "t = [x for x in test if x[1] ==1]\n",
    "t"
   ]
  },
  {
   "cell_type": "code",
   "execution_count": 165,
   "id": "610ed985-f909-4d3b-b4e2-b96a05b85eec",
   "metadata": {},
   "outputs": [
    {
     "name": "stderr",
     "output_type": "stream",
     "text": [
      "ERROR:root:Internal Python error in the inspect module.\n",
      "Below is the traceback from this internal error.\n",
      "\n"
     ]
    },
    {
     "name": "stdout",
     "output_type": "stream",
     "text": [
      "Traceback (most recent call last):\n",
      "  File \"C:\\Users\\spenc\\anaconda3\\lib\\site-packages\\IPython\\core\\interactiveshell.py\", line 3444, in run_code\n",
      "    exec(code_obj, self.user_global_ns, self.user_ns)\n",
      "  File \"C:\\Users\\spenc\\AppData\\Local\\Temp/ipykernel_12712/1806158811.py\", line 1, in <module>\n",
      "    treatment_array = treatment_df.astype('str').to_numpy()\n",
      "  File \"C:\\Users\\spenc\\anaconda3\\lib\\site-packages\\pandas\\core\\frame.py\", line 1655, in to_numpy\n",
      "    self._consolidate_inplace()\n",
      "  File \"C:\\Users\\spenc\\anaconda3\\lib\\site-packages\\pandas\\core\\generic.py\", line 5565, in _consolidate_inplace\n",
      "    self._protect_consolidate(f)\n",
      "  File \"C:\\Users\\spenc\\anaconda3\\lib\\site-packages\\pandas\\core\\generic.py\", line 5553, in _protect_consolidate\n",
      "    result = f()\n",
      "  File \"C:\\Users\\spenc\\anaconda3\\lib\\site-packages\\pandas\\core\\generic.py\", line 5563, in f\n",
      "    self._mgr = self._mgr.consolidate()\n",
      "  File \"C:\\Users\\spenc\\anaconda3\\lib\\site-packages\\pandas\\core\\internals\\managers.py\", line 619, in consolidate\n",
      "    bm._consolidate_inplace()\n",
      "  File \"C:\\Users\\spenc\\anaconda3\\lib\\site-packages\\pandas\\core\\internals\\managers.py\", line 624, in _consolidate_inplace\n",
      "    self.blocks = tuple(_consolidate(self.blocks))\n",
      "  File \"C:\\Users\\spenc\\anaconda3\\lib\\site-packages\\pandas\\core\\internals\\managers.py\", line 1974, in _consolidate\n",
      "    merged_blocks = _merge_blocks(\n",
      "  File \"C:\\Users\\spenc\\anaconda3\\lib\\site-packages\\pandas\\core\\internals\\managers.py\", line 2009, in _merge_blocks\n",
      "    new_mgr_locs = new_mgr_locs[argsort]\n",
      "KeyboardInterrupt\n",
      "\n",
      "During handling of the above exception, another exception occurred:\n",
      "\n",
      "Traceback (most recent call last):\n",
      "  File \"C:\\Users\\spenc\\anaconda3\\lib\\site-packages\\IPython\\core\\interactiveshell.py\", line 2064, in showtraceback\n",
      "    stb = value._render_traceback_()\n",
      "AttributeError: 'KeyboardInterrupt' object has no attribute '_render_traceback_'\n",
      "\n",
      "During handling of the above exception, another exception occurred:\n",
      "\n",
      "Traceback (most recent call last):\n",
      "  File \"C:\\Users\\spenc\\anaconda3\\lib\\site-packages\\IPython\\core\\ultratb.py\", line 1101, in get_records\n",
      "    return _fixed_getinnerframes(etb, number_of_lines_of_context, tb_offset)\n",
      "  File \"C:\\Users\\spenc\\anaconda3\\lib\\site-packages\\IPython\\core\\ultratb.py\", line 248, in wrapped\n",
      "    return f(*args, **kwargs)\n",
      "  File \"C:\\Users\\spenc\\anaconda3\\lib\\site-packages\\IPython\\core\\ultratb.py\", line 281, in _fixed_getinnerframes\n",
      "    records = fix_frame_records_filenames(inspect.getinnerframes(etb, context))\n",
      "  File \"C:\\Users\\spenc\\anaconda3\\lib\\inspect.py\", line 1515, in getinnerframes\n",
      "    frameinfo = (tb.tb_frame,) + getframeinfo(tb, context)\n",
      "  File \"C:\\Users\\spenc\\anaconda3\\lib\\inspect.py\", line 1473, in getframeinfo\n",
      "    filename = getsourcefile(frame) or getfile(frame)\n",
      "  File \"C:\\Users\\spenc\\anaconda3\\lib\\inspect.py\", line 708, in getsourcefile\n",
      "    if getattr(getmodule(object, filename), '__loader__', None) is not None:\n",
      "  File \"C:\\Users\\spenc\\anaconda3\\lib\\inspect.py\", line 744, in getmodule\n",
      "    for modname, module in sys.modules.copy().items():\n",
      "KeyboardInterrupt\n"
     ]
    },
    {
     "ename": "TypeError",
     "evalue": "object of type 'NoneType' has no len()",
     "output_type": "error",
     "traceback": [
      "\u001b[1;31m---------------------------------------------------------------------------\u001b[0m",
      "\u001b[1;31mKeyboardInterrupt\u001b[0m                         Traceback (most recent call last)",
      "    \u001b[1;31m[... skipping hidden 1 frame]\u001b[0m\n",
      "\u001b[1;32m~\\AppData\\Local\\Temp/ipykernel_12712/1806158811.py\u001b[0m in \u001b[0;36m<module>\u001b[1;34m\u001b[0m\n\u001b[1;32m----> 1\u001b[1;33m \u001b[0mtreatment_array\u001b[0m \u001b[1;33m=\u001b[0m \u001b[0mtreatment_df\u001b[0m\u001b[1;33m.\u001b[0m\u001b[0mastype\u001b[0m\u001b[1;33m(\u001b[0m\u001b[1;34m'str'\u001b[0m\u001b[1;33m)\u001b[0m\u001b[1;33m.\u001b[0m\u001b[0mto_numpy\u001b[0m\u001b[1;33m(\u001b[0m\u001b[1;33m)\u001b[0m\u001b[1;33m\u001b[0m\u001b[1;33m\u001b[0m\u001b[0m\n\u001b[0m\u001b[0;32m      2\u001b[0m \u001b[0mds_array\u001b[0m \u001b[1;33m=\u001b[0m \u001b[0mds_df\u001b[0m\u001b[1;33m.\u001b[0m\u001b[0mastype\u001b[0m\u001b[1;33m(\u001b[0m\u001b[1;34m'str'\u001b[0m\u001b[1;33m)\u001b[0m\u001b[1;33m.\u001b[0m\u001b[0mto_numpy\u001b[0m\u001b[1;33m(\u001b[0m\u001b[1;33m)\u001b[0m\u001b[1;33m\u001b[0m\u001b[1;33m\u001b[0m\u001b[0m\n\u001b[0;32m      3\u001b[0m \u001b[0mnp\u001b[0m\u001b[1;33m.\u001b[0m\u001b[0marray_equal\u001b[0m\u001b[1;33m(\u001b[0m\u001b[0mtreatment_array\u001b[0m\u001b[1;33m,\u001b[0m \u001b[0mds_array\u001b[0m\u001b[1;33m)\u001b[0m\u001b[1;33m\u001b[0m\u001b[1;33m\u001b[0m\u001b[0m\n",
      "\u001b[1;32m~\\anaconda3\\lib\\site-packages\\pandas\\core\\frame.py\u001b[0m in \u001b[0;36mto_numpy\u001b[1;34m(self, dtype, copy, na_value)\u001b[0m\n\u001b[0;32m   1654\u001b[0m         \"\"\"\n\u001b[1;32m-> 1655\u001b[1;33m         \u001b[0mself\u001b[0m\u001b[1;33m.\u001b[0m\u001b[0m_consolidate_inplace\u001b[0m\u001b[1;33m(\u001b[0m\u001b[1;33m)\u001b[0m\u001b[1;33m\u001b[0m\u001b[1;33m\u001b[0m\u001b[0m\n\u001b[0m\u001b[0;32m   1656\u001b[0m         result = self._mgr.as_array(\n",
      "\u001b[1;32m~\\anaconda3\\lib\\site-packages\\pandas\\core\\generic.py\u001b[0m in \u001b[0;36m_consolidate_inplace\u001b[1;34m(self)\u001b[0m\n\u001b[0;32m   5564\u001b[0m \u001b[1;33m\u001b[0m\u001b[0m\n\u001b[1;32m-> 5565\u001b[1;33m         \u001b[0mself\u001b[0m\u001b[1;33m.\u001b[0m\u001b[0m_protect_consolidate\u001b[0m\u001b[1;33m(\u001b[0m\u001b[0mf\u001b[0m\u001b[1;33m)\u001b[0m\u001b[1;33m\u001b[0m\u001b[1;33m\u001b[0m\u001b[0m\n\u001b[0m\u001b[0;32m   5566\u001b[0m \u001b[1;33m\u001b[0m\u001b[0m\n",
      "\u001b[1;32m~\\anaconda3\\lib\\site-packages\\pandas\\core\\generic.py\u001b[0m in \u001b[0;36m_protect_consolidate\u001b[1;34m(self, f)\u001b[0m\n\u001b[0;32m   5552\u001b[0m         \u001b[0mblocks_before\u001b[0m \u001b[1;33m=\u001b[0m \u001b[0mlen\u001b[0m\u001b[1;33m(\u001b[0m\u001b[0mself\u001b[0m\u001b[1;33m.\u001b[0m\u001b[0m_mgr\u001b[0m\u001b[1;33m.\u001b[0m\u001b[0mblocks\u001b[0m\u001b[1;33m)\u001b[0m\u001b[1;33m\u001b[0m\u001b[1;33m\u001b[0m\u001b[0m\n\u001b[1;32m-> 5553\u001b[1;33m         \u001b[0mresult\u001b[0m \u001b[1;33m=\u001b[0m \u001b[0mf\u001b[0m\u001b[1;33m(\u001b[0m\u001b[1;33m)\u001b[0m\u001b[1;33m\u001b[0m\u001b[1;33m\u001b[0m\u001b[0m\n\u001b[0m\u001b[0;32m   5554\u001b[0m         \u001b[1;32mif\u001b[0m \u001b[0mlen\u001b[0m\u001b[1;33m(\u001b[0m\u001b[0mself\u001b[0m\u001b[1;33m.\u001b[0m\u001b[0m_mgr\u001b[0m\u001b[1;33m.\u001b[0m\u001b[0mblocks\u001b[0m\u001b[1;33m)\u001b[0m \u001b[1;33m!=\u001b[0m \u001b[0mblocks_before\u001b[0m\u001b[1;33m:\u001b[0m\u001b[1;33m\u001b[0m\u001b[1;33m\u001b[0m\u001b[0m\n",
      "\u001b[1;32m~\\anaconda3\\lib\\site-packages\\pandas\\core\\generic.py\u001b[0m in \u001b[0;36mf\u001b[1;34m()\u001b[0m\n\u001b[0;32m   5562\u001b[0m         \u001b[1;32mdef\u001b[0m \u001b[0mf\u001b[0m\u001b[1;33m(\u001b[0m\u001b[1;33m)\u001b[0m\u001b[1;33m:\u001b[0m\u001b[1;33m\u001b[0m\u001b[1;33m\u001b[0m\u001b[0m\n\u001b[1;32m-> 5563\u001b[1;33m             \u001b[0mself\u001b[0m\u001b[1;33m.\u001b[0m\u001b[0m_mgr\u001b[0m \u001b[1;33m=\u001b[0m \u001b[0mself\u001b[0m\u001b[1;33m.\u001b[0m\u001b[0m_mgr\u001b[0m\u001b[1;33m.\u001b[0m\u001b[0mconsolidate\u001b[0m\u001b[1;33m(\u001b[0m\u001b[1;33m)\u001b[0m\u001b[1;33m\u001b[0m\u001b[1;33m\u001b[0m\u001b[0m\n\u001b[0m\u001b[0;32m   5564\u001b[0m \u001b[1;33m\u001b[0m\u001b[0m\n",
      "\u001b[1;32m~\\anaconda3\\lib\\site-packages\\pandas\\core\\internals\\managers.py\u001b[0m in \u001b[0;36mconsolidate\u001b[1;34m(self)\u001b[0m\n\u001b[0;32m    618\u001b[0m         \u001b[0mbm\u001b[0m\u001b[1;33m.\u001b[0m\u001b[0m_is_consolidated\u001b[0m \u001b[1;33m=\u001b[0m \u001b[1;32mFalse\u001b[0m\u001b[1;33m\u001b[0m\u001b[1;33m\u001b[0m\u001b[0m\n\u001b[1;32m--> 619\u001b[1;33m         \u001b[0mbm\u001b[0m\u001b[1;33m.\u001b[0m\u001b[0m_consolidate_inplace\u001b[0m\u001b[1;33m(\u001b[0m\u001b[1;33m)\u001b[0m\u001b[1;33m\u001b[0m\u001b[1;33m\u001b[0m\u001b[0m\n\u001b[0m\u001b[0;32m    620\u001b[0m         \u001b[1;32mreturn\u001b[0m \u001b[0mbm\u001b[0m\u001b[1;33m\u001b[0m\u001b[1;33m\u001b[0m\u001b[0m\n",
      "\u001b[1;32m~\\anaconda3\\lib\\site-packages\\pandas\\core\\internals\\managers.py\u001b[0m in \u001b[0;36m_consolidate_inplace\u001b[1;34m(self)\u001b[0m\n\u001b[0;32m    623\u001b[0m         \u001b[1;32mif\u001b[0m \u001b[1;32mnot\u001b[0m \u001b[0mself\u001b[0m\u001b[1;33m.\u001b[0m\u001b[0mis_consolidated\u001b[0m\u001b[1;33m(\u001b[0m\u001b[1;33m)\u001b[0m\u001b[1;33m:\u001b[0m\u001b[1;33m\u001b[0m\u001b[1;33m\u001b[0m\u001b[0m\n\u001b[1;32m--> 624\u001b[1;33m             \u001b[0mself\u001b[0m\u001b[1;33m.\u001b[0m\u001b[0mblocks\u001b[0m \u001b[1;33m=\u001b[0m \u001b[0mtuple\u001b[0m\u001b[1;33m(\u001b[0m\u001b[0m_consolidate\u001b[0m\u001b[1;33m(\u001b[0m\u001b[0mself\u001b[0m\u001b[1;33m.\u001b[0m\u001b[0mblocks\u001b[0m\u001b[1;33m)\u001b[0m\u001b[1;33m)\u001b[0m\u001b[1;33m\u001b[0m\u001b[1;33m\u001b[0m\u001b[0m\n\u001b[0m\u001b[0;32m    625\u001b[0m             \u001b[0mself\u001b[0m\u001b[1;33m.\u001b[0m\u001b[0m_is_consolidated\u001b[0m \u001b[1;33m=\u001b[0m \u001b[1;32mTrue\u001b[0m\u001b[1;33m\u001b[0m\u001b[1;33m\u001b[0m\u001b[0m\n",
      "\u001b[1;32m~\\anaconda3\\lib\\site-packages\\pandas\\core\\internals\\managers.py\u001b[0m in \u001b[0;36m_consolidate\u001b[1;34m(blocks)\u001b[0m\n\u001b[0;32m   1973\u001b[0m     \u001b[1;32mfor\u001b[0m \u001b[1;33m(\u001b[0m\u001b[0m_can_consolidate\u001b[0m\u001b[1;33m,\u001b[0m \u001b[0mdtype\u001b[0m\u001b[1;33m)\u001b[0m\u001b[1;33m,\u001b[0m \u001b[0mgroup_blocks\u001b[0m \u001b[1;32min\u001b[0m \u001b[0mgrouper\u001b[0m\u001b[1;33m:\u001b[0m\u001b[1;33m\u001b[0m\u001b[1;33m\u001b[0m\u001b[0m\n\u001b[1;32m-> 1974\u001b[1;33m         merged_blocks = _merge_blocks(\n\u001b[0m\u001b[0;32m   1975\u001b[0m             \u001b[0mlist\u001b[0m\u001b[1;33m(\u001b[0m\u001b[0mgroup_blocks\u001b[0m\u001b[1;33m)\u001b[0m\u001b[1;33m,\u001b[0m \u001b[0mdtype\u001b[0m\u001b[1;33m=\u001b[0m\u001b[0mdtype\u001b[0m\u001b[1;33m,\u001b[0m \u001b[0mcan_consolidate\u001b[0m\u001b[1;33m=\u001b[0m\u001b[0m_can_consolidate\u001b[0m\u001b[1;33m\u001b[0m\u001b[1;33m\u001b[0m\u001b[0m\n",
      "\u001b[1;32m~\\anaconda3\\lib\\site-packages\\pandas\\core\\internals\\managers.py\u001b[0m in \u001b[0;36m_merge_blocks\u001b[1;34m(blocks, dtype, can_consolidate)\u001b[0m\n\u001b[0;32m   2008\u001b[0m         \u001b[0mnew_values\u001b[0m \u001b[1;33m=\u001b[0m \u001b[0mnew_values\u001b[0m\u001b[1;33m[\u001b[0m\u001b[0margsort\u001b[0m\u001b[1;33m]\u001b[0m\u001b[1;33m\u001b[0m\u001b[1;33m\u001b[0m\u001b[0m\n\u001b[1;32m-> 2009\u001b[1;33m         \u001b[0mnew_mgr_locs\u001b[0m \u001b[1;33m=\u001b[0m \u001b[0mnew_mgr_locs\u001b[0m\u001b[1;33m[\u001b[0m\u001b[0margsort\u001b[0m\u001b[1;33m]\u001b[0m\u001b[1;33m\u001b[0m\u001b[1;33m\u001b[0m\u001b[0m\n\u001b[0m\u001b[0;32m   2010\u001b[0m \u001b[1;33m\u001b[0m\u001b[0m\n",
      "\u001b[1;31mKeyboardInterrupt\u001b[0m: ",
      "\nDuring handling of the above exception, another exception occurred:\n",
      "\u001b[1;31mAttributeError\u001b[0m                            Traceback (most recent call last)",
      "\u001b[1;32m~\\anaconda3\\lib\\site-packages\\IPython\\core\\interactiveshell.py\u001b[0m in \u001b[0;36mshowtraceback\u001b[1;34m(self, exc_tuple, filename, tb_offset, exception_only, running_compiled_code)\u001b[0m\n\u001b[0;32m   2063\u001b[0m                         \u001b[1;31m# in the engines. This should return a list of strings.\u001b[0m\u001b[1;33m\u001b[0m\u001b[1;33m\u001b[0m\u001b[1;33m\u001b[0m\u001b[0m\n\u001b[1;32m-> 2064\u001b[1;33m                         \u001b[0mstb\u001b[0m \u001b[1;33m=\u001b[0m \u001b[0mvalue\u001b[0m\u001b[1;33m.\u001b[0m\u001b[0m_render_traceback_\u001b[0m\u001b[1;33m(\u001b[0m\u001b[1;33m)\u001b[0m\u001b[1;33m\u001b[0m\u001b[1;33m\u001b[0m\u001b[0m\n\u001b[0m\u001b[0;32m   2065\u001b[0m                     \u001b[1;32mexcept\u001b[0m \u001b[0mException\u001b[0m\u001b[1;33m:\u001b[0m\u001b[1;33m\u001b[0m\u001b[1;33m\u001b[0m\u001b[0m\n",
      "\u001b[1;31mAttributeError\u001b[0m: 'KeyboardInterrupt' object has no attribute '_render_traceback_'",
      "\nDuring handling of the above exception, another exception occurred:\n",
      "\u001b[1;31mTypeError\u001b[0m                                 Traceback (most recent call last)",
      "    \u001b[1;31m[... skipping hidden 1 frame]\u001b[0m\n",
      "\u001b[1;32m~\\anaconda3\\lib\\site-packages\\IPython\\core\\interactiveshell.py\u001b[0m in \u001b[0;36mshowtraceback\u001b[1;34m(self, exc_tuple, filename, tb_offset, exception_only, running_compiled_code)\u001b[0m\n\u001b[0;32m   2064\u001b[0m                         \u001b[0mstb\u001b[0m \u001b[1;33m=\u001b[0m \u001b[0mvalue\u001b[0m\u001b[1;33m.\u001b[0m\u001b[0m_render_traceback_\u001b[0m\u001b[1;33m(\u001b[0m\u001b[1;33m)\u001b[0m\u001b[1;33m\u001b[0m\u001b[1;33m\u001b[0m\u001b[0m\n\u001b[0;32m   2065\u001b[0m                     \u001b[1;32mexcept\u001b[0m \u001b[0mException\u001b[0m\u001b[1;33m:\u001b[0m\u001b[1;33m\u001b[0m\u001b[1;33m\u001b[0m\u001b[0m\n\u001b[1;32m-> 2066\u001b[1;33m                         stb = self.InteractiveTB.structured_traceback(etype,\n\u001b[0m\u001b[0;32m   2067\u001b[0m                                             value, tb, tb_offset=tb_offset)\n\u001b[0;32m   2068\u001b[0m \u001b[1;33m\u001b[0m\u001b[0m\n",
      "\u001b[1;32m~\\anaconda3\\lib\\site-packages\\IPython\\core\\ultratb.py\u001b[0m in \u001b[0;36mstructured_traceback\u001b[1;34m(self, etype, value, tb, tb_offset, number_of_lines_of_context)\u001b[0m\n\u001b[0;32m   1365\u001b[0m         \u001b[1;32melse\u001b[0m\u001b[1;33m:\u001b[0m\u001b[1;33m\u001b[0m\u001b[1;33m\u001b[0m\u001b[0m\n\u001b[0;32m   1366\u001b[0m             \u001b[0mself\u001b[0m\u001b[1;33m.\u001b[0m\u001b[0mtb\u001b[0m \u001b[1;33m=\u001b[0m \u001b[0mtb\u001b[0m\u001b[1;33m\u001b[0m\u001b[1;33m\u001b[0m\u001b[0m\n\u001b[1;32m-> 1367\u001b[1;33m         return FormattedTB.structured_traceback(\n\u001b[0m\u001b[0;32m   1368\u001b[0m             self, etype, value, tb, tb_offset, number_of_lines_of_context)\n\u001b[0;32m   1369\u001b[0m \u001b[1;33m\u001b[0m\u001b[0m\n",
      "\u001b[1;32m~\\anaconda3\\lib\\site-packages\\IPython\\core\\ultratb.py\u001b[0m in \u001b[0;36mstructured_traceback\u001b[1;34m(self, etype, value, tb, tb_offset, number_of_lines_of_context)\u001b[0m\n\u001b[0;32m   1265\u001b[0m         \u001b[1;32mif\u001b[0m \u001b[0mmode\u001b[0m \u001b[1;32min\u001b[0m \u001b[0mself\u001b[0m\u001b[1;33m.\u001b[0m\u001b[0mverbose_modes\u001b[0m\u001b[1;33m:\u001b[0m\u001b[1;33m\u001b[0m\u001b[1;33m\u001b[0m\u001b[0m\n\u001b[0;32m   1266\u001b[0m             \u001b[1;31m# Verbose modes need a full traceback\u001b[0m\u001b[1;33m\u001b[0m\u001b[1;33m\u001b[0m\u001b[1;33m\u001b[0m\u001b[0m\n\u001b[1;32m-> 1267\u001b[1;33m             return VerboseTB.structured_traceback(\n\u001b[0m\u001b[0;32m   1268\u001b[0m                 \u001b[0mself\u001b[0m\u001b[1;33m,\u001b[0m \u001b[0metype\u001b[0m\u001b[1;33m,\u001b[0m \u001b[0mvalue\u001b[0m\u001b[1;33m,\u001b[0m \u001b[0mtb\u001b[0m\u001b[1;33m,\u001b[0m \u001b[0mtb_offset\u001b[0m\u001b[1;33m,\u001b[0m \u001b[0mnumber_of_lines_of_context\u001b[0m\u001b[1;33m\u001b[0m\u001b[1;33m\u001b[0m\u001b[0m\n\u001b[0;32m   1269\u001b[0m             )\n",
      "\u001b[1;32m~\\anaconda3\\lib\\site-packages\\IPython\\core\\ultratb.py\u001b[0m in \u001b[0;36mstructured_traceback\u001b[1;34m(self, etype, evalue, etb, tb_offset, number_of_lines_of_context)\u001b[0m\n\u001b[0;32m   1122\u001b[0m         \u001b[1;34m\"\"\"Return a nice text document describing the traceback.\"\"\"\u001b[0m\u001b[1;33m\u001b[0m\u001b[1;33m\u001b[0m\u001b[0m\n\u001b[0;32m   1123\u001b[0m \u001b[1;33m\u001b[0m\u001b[0m\n\u001b[1;32m-> 1124\u001b[1;33m         formatted_exception = self.format_exception_as_a_whole(etype, evalue, etb, number_of_lines_of_context,\n\u001b[0m\u001b[0;32m   1125\u001b[0m                                                                tb_offset)\n\u001b[0;32m   1126\u001b[0m \u001b[1;33m\u001b[0m\u001b[0m\n",
      "\u001b[1;32m~\\anaconda3\\lib\\site-packages\\IPython\\core\\ultratb.py\u001b[0m in \u001b[0;36mformat_exception_as_a_whole\u001b[1;34m(self, etype, evalue, etb, number_of_lines_of_context, tb_offset)\u001b[0m\n\u001b[0;32m   1080\u001b[0m \u001b[1;33m\u001b[0m\u001b[0m\n\u001b[0;32m   1081\u001b[0m \u001b[1;33m\u001b[0m\u001b[0m\n\u001b[1;32m-> 1082\u001b[1;33m         \u001b[0mlast_unique\u001b[0m\u001b[1;33m,\u001b[0m \u001b[0mrecursion_repeat\u001b[0m \u001b[1;33m=\u001b[0m \u001b[0mfind_recursion\u001b[0m\u001b[1;33m(\u001b[0m\u001b[0morig_etype\u001b[0m\u001b[1;33m,\u001b[0m \u001b[0mevalue\u001b[0m\u001b[1;33m,\u001b[0m \u001b[0mrecords\u001b[0m\u001b[1;33m)\u001b[0m\u001b[1;33m\u001b[0m\u001b[1;33m\u001b[0m\u001b[0m\n\u001b[0m\u001b[0;32m   1083\u001b[0m \u001b[1;33m\u001b[0m\u001b[0m\n\u001b[0;32m   1084\u001b[0m         \u001b[0mframes\u001b[0m \u001b[1;33m=\u001b[0m \u001b[0mself\u001b[0m\u001b[1;33m.\u001b[0m\u001b[0mformat_records\u001b[0m\u001b[1;33m(\u001b[0m\u001b[0mrecords\u001b[0m\u001b[1;33m,\u001b[0m \u001b[0mlast_unique\u001b[0m\u001b[1;33m,\u001b[0m \u001b[0mrecursion_repeat\u001b[0m\u001b[1;33m)\u001b[0m\u001b[1;33m\u001b[0m\u001b[1;33m\u001b[0m\u001b[0m\n",
      "\u001b[1;32m~\\anaconda3\\lib\\site-packages\\IPython\\core\\ultratb.py\u001b[0m in \u001b[0;36mfind_recursion\u001b[1;34m(etype, value, records)\u001b[0m\n\u001b[0;32m    380\u001b[0m     \u001b[1;31m# first frame (from in to out) that looks different.\u001b[0m\u001b[1;33m\u001b[0m\u001b[1;33m\u001b[0m\u001b[1;33m\u001b[0m\u001b[0m\n\u001b[0;32m    381\u001b[0m     \u001b[1;32mif\u001b[0m \u001b[1;32mnot\u001b[0m \u001b[0mis_recursion_error\u001b[0m\u001b[1;33m(\u001b[0m\u001b[0metype\u001b[0m\u001b[1;33m,\u001b[0m \u001b[0mvalue\u001b[0m\u001b[1;33m,\u001b[0m \u001b[0mrecords\u001b[0m\u001b[1;33m)\u001b[0m\u001b[1;33m:\u001b[0m\u001b[1;33m\u001b[0m\u001b[1;33m\u001b[0m\u001b[0m\n\u001b[1;32m--> 382\u001b[1;33m         \u001b[1;32mreturn\u001b[0m \u001b[0mlen\u001b[0m\u001b[1;33m(\u001b[0m\u001b[0mrecords\u001b[0m\u001b[1;33m)\u001b[0m\u001b[1;33m,\u001b[0m \u001b[1;36m0\u001b[0m\u001b[1;33m\u001b[0m\u001b[1;33m\u001b[0m\u001b[0m\n\u001b[0m\u001b[0;32m    383\u001b[0m \u001b[1;33m\u001b[0m\u001b[0m\n\u001b[0;32m    384\u001b[0m     \u001b[1;31m# Select filename, lineno, func_name to track frames with\u001b[0m\u001b[1;33m\u001b[0m\u001b[1;33m\u001b[0m\u001b[1;33m\u001b[0m\u001b[0m\n",
      "\u001b[1;31mTypeError\u001b[0m: object of type 'NoneType' has no len()"
     ]
    }
   ],
   "source": [
    "treatment_array = treatment_df.astype('str').to_numpy()\n",
    "ds_array = ds_df.astype('str').to_numpy()\n",
    "np.array_equal(treatment_array, ds_array)"
   ]
  },
  {
   "cell_type": "markdown",
   "id": "beb1bb1d-6775-4eb5-82ee-08ad8d52b4bb",
   "metadata": {},
   "source": [
    "## Verify all entries have the same number of columns"
   ]
  },
  {
   "cell_type": "markdown",
   "id": "c177f3b5-7527-4137-8420-a470f3d5e0f5",
   "metadata": {},
   "source": [
    "This verifies all entry files have the same shape and can be naively unioned."
   ]
  },
  {
   "cell_type": "code",
   "execution_count": 147,
   "id": "954b0d3e-a134-4e48-bcbc-72c09208741d",
   "metadata": {},
   "outputs": [],
   "source": [
    "subject_objs = []\n",
    "for x in subject_dirs:\n",
    "    subject_objs.append(\n",
    "        Subject(x.subject_id, x.path, x.treatments, x.devicestatus, x.entries)\n",
    "    )\n",
    "for x in subject_objs:\n",
    "    shapes = x.get_entries_shapes()\n",
    "    for shape in shapes:\n",
    "        if shape[1] != 2:\n",
    "            print(f\"{x.subject_id} has malconformed shape. {shapes}\")\n",
    "            break "
   ]
  },
  {
   "cell_type": "markdown",
   "id": "c45e414f-9736-405a-8686-5ec4b935c93a",
   "metadata": {},
   "source": [
    "## Check for equivalence of all treatment tables to all device status tables"
   ]
  },
  {
   "cell_type": "code",
   "execution_count": 159,
   "id": "99dc5689-6e09-43d4-9a03-78cbba0d6f9e",
   "metadata": {},
   "outputs": [
    {
     "name": "stdout",
     "output_type": "stream",
     "text": [
      "here\n"
     ]
    }
   ],
   "source": [
    "subject = subject_dirs[3]\n",
    "sub_1 = Subject(subject.subject_id, subject.path, subject.treatments, subject.devicestatus, subject.entries)\n",
    "sub_1.check_equivalence()"
   ]
  },
  {
   "cell_type": "code",
   "execution_count": null,
   "id": "651d2e9c-171c-4410-b875-4669a350b85c",
   "metadata": {},
   "outputs": [],
   "source": [
    "results"
   ]
  }
 ],
 "metadata": {
  "kernelspec": {
   "display_name": "Python 3 (ipykernel)",
   "language": "python",
   "name": "python3"
  },
  "language_info": {
   "codemirror_mode": {
    "name": "ipython",
    "version": 3
   },
   "file_extension": ".py",
   "mimetype": "text/x-python",
   "name": "python",
   "nbconvert_exporter": "python",
   "pygments_lexer": "ipython3",
   "version": "3.8.12"
  }
 },
 "nbformat": 4,
 "nbformat_minor": 5
}
