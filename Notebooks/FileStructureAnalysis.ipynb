{
 "cells": [
  {
   "cell_type": "markdown",
   "id": "35ded861-23c8-41cd-9afd-a54a77f0577a",
   "metadata": {},
   "source": [
    "# Initial Analysis of File Structure\n",
    "author: Spencer Weston "
   ]
  },
  {
   "cell_type": "code",
   "execution_count": 58,
   "id": "cc68615b-4671-4139-bbd8-6b07714ac29d",
   "metadata": {},
   "outputs": [],
   "source": [
    "import seedir as sd\n",
    "import os \n",
    "import json\n",
    "import pandas as pd"
   ]
  },
  {
   "cell_type": "markdown",
   "id": "d5bedd9f-f145-481e-8bdf-889afacfefa2",
   "metadata": {},
   "source": [
    "## Directory Structure "
   ]
  },
  {
   "cell_type": "markdown",
   "id": "f554a58c-90aa-454e-aaae-2d78fa2dcf76",
   "metadata": {},
   "source": [
    "Individual numbers are randomly generated ID's for each subject's ID. The AndroidAPS (Android Artificial Pancreas System) Uploader contains the data uploaded through AndroidAPS. I'm not sure what differences, if any, exist in the AndroidAPS data.\n",
    "\n",
    "*Open Question 1: What differences, if any, exist between AndroidAPS and other data?*\n",
    "* File structure is very different! "
   ]
  },
  {
   "cell_type": "code",
   "execution_count": 14,
   "id": "dd08fe04-583a-40e6-b7ec-7af19390ba12",
   "metadata": {},
   "outputs": [
    {
     "name": "stdout",
     "output_type": "stream",
     "text": [
      "normal directories:  ['00221634', '00309157', '00897741', '01352464', '02033176', '02199852', '04762925', '05274556', '07886752', '12689381'] ...\n",
      "androidAPS directories:  ['01177138', '01739655', '01949240', '10540336', '20777653', '23340371', '23863411', '25401109', '26691577', '27553507'] ...\n",
      "normal directory count: 145, androidAPS directory count: 38, total count: 183\n"
     ]
    }
   ],
   "source": [
    "# My local data is stored in the same directory as the repository root\n",
    "dirs = os.listdir(\"../../n=183_OpenAPS_Data_Commons_August_2021_UNZIPPED\")\n",
    "androidAPS = os.listdir(\"../../n=183_OpenAPS_Data_Commons_August_2021_UNZIPPED/AndroidAPS Uploader\")\n",
    "print(\"normal directories: \", dirs[:10], \"...\")\n",
    "print(\"androidAPS directories: \", androidAPS[:10], \"...\")\n",
    "print(f\"normal directory count: {len(dirs)-1}, androidAPS directory count: {len(androidAPS)}, total count: {len(dirs) + len(androidAPS) -1}\")"
   ]
  },
  {
   "cell_type": "markdown",
   "id": "335b3246-2363-4156-ab54-89f7bdec34ce",
   "metadata": {},
   "source": [
    "Here's the file structure of a normal subjects' data upload:"
   ]
  },
  {
   "cell_type": "code",
   "execution_count": 7,
   "id": "b94d9f0d-ec58-44c7-85e0-5e96e0c71e2b",
   "metadata": {},
   "outputs": [
    {
     "name": "stdout",
     "output_type": "stream",
     "text": [
      "📁 00221634/\n",
      "└─📁 direct-sharing-31/\n",
      "  ├─📄 00221634_devicestatus_2018-03-01_to_2018-08-05.json\n",
      "  ├─📁 00221634_devicestatus_2018-03-01_to_2018-08-05_csv/\n",
      "  │ ├─📄 00221634_devicestatus_2018-03-01_to_2018-08-05_aa.csv\n",
      "  │ ├─📄 00221634_devicestatus_2018-03-01_to_2018-08-05_ab.csv\n",
      "  │ ├─📄 00221634_devicestatus_2018-03-01_to_2018-08-05_ac.csv\n",
      "  │ └─📄 00221634_devicestatus_2018-03-01_to_2018-08-05_ad.csv\n",
      "  ├─📁 00221634_devicestatus_2018-03-01_to_2018-08-05_parts/\n",
      "  │ ├─📄 00221634_devicestatus_2018-03-01_to_2018-08-05_aa\n",
      "  │ ├─📄 00221634_devicestatus_2018-03-01_to_2018-08-05_aa.json\n",
      "  │ ├─📄 00221634_devicestatus_2018-03-01_to_2018-08-05_ab\n",
      "  │ ├─📄 00221634_devicestatus_2018-03-01_to_2018-08-05_ab.json\n",
      "  │ ├─📄 00221634_devicestatus_2018-03-01_to_2018-08-05_ac\n",
      "  │ ├─📄 00221634_devicestatus_2018-03-01_to_2018-08-05_ac.json\n",
      "  │ ├─📄 00221634_devicestatus_2018-03-01_to_2018-08-05_ad\n",
      "  │ └─📄 00221634_devicestatus_2018-03-01_to_2018-08-05_ad.json\n",
      "  ├─📄 00221634_entries_2018-03-01_to_2018-08-05.json\n",
      "  ├─📁 00221634_entries_2018-03-01_to_2018-08-05.json_csv/\n",
      "  │ └─📄 00221634_entries_2018-03-01_to_2018-08-05.json.csv\n",
      "  ├─📄 00221634_profile_2018-03-01_to_2018-08-05.json\n",
      "  ├─📁 00221634_profile_2018-03-01_to_2018-08-05_csv/\n",
      "  │ └─📄 00221634_profile_2018-03-01_to_2018-08-05_aa.csv\n",
      "  ├─📁 00221634_profile_2018-03-01_to_2018-08-05_parts/\n",
      "  │ ├─📄 00221634_profile_2018-03-01_to_2018-08-05_aa\n",
      "  │ └─📄 00221634_profile_2018-03-01_to_2018-08-05_aa.json\n",
      "  ├─📄 00221634_treatments_2018-03-01_to_2018-08-05.json\n",
      "  ├─📁 00221634_treatments_2018-03-01_to_2018-08-05_csv/\n",
      "  │ ├─📄 00221634_treatments_2018-03-01_to_2018-08-05_aa.csv\n",
      "  │ └─📄 00221634_treatments_2018-03-01_to_2018-08-05_ab.csv\n",
      "  ├─📁 00221634_treatments_2018-03-01_to_2018-08-05_parts/\n",
      "  │ ├─📄 00221634_treatments_2018-03-01_to_2018-08-05_aa\n",
      "  │ ├─📄 00221634_treatments_2018-03-01_to_2018-08-05_aa.json\n",
      "  │ ├─📄 00221634_treatments_2018-03-01_to_2018-08-05_ab\n",
      "  │ └─📄 00221634_treatments_2018-03-01_to_2018-08-05_ab.json\n",
      "  ├─📄 devicestatus_2018-03-01_to_2018-08-05.json.gz\n",
      "  ├─📄 entries_2018-03-01_to_2018-08-05.json.gz\n",
      "  ├─📄 profile_2018-03-01_to_2018-08-05.json.gz\n",
      "  └─📄 treatments_2018-03-01_to_2018-08-05.json.gz\n"
     ]
    }
   ],
   "source": [
    "sd.seedir(\"../../n=183_OpenAPS_Data_Commons_August_2021_UNZIPPED/00221634\", style='emoji')"
   ]
  },
  {
   "cell_type": "markdown",
   "id": "8cab10bc-335f-42a9-a637-7141d2b2686f",
   "metadata": {},
   "source": [
    "Here's the file structure of an androidAPS subject:"
   ]
  },
  {
   "cell_type": "code",
   "execution_count": 15,
   "id": "64baac4d-5d5c-422a-8d3d-955a743f8bba",
   "metadata": {},
   "outputs": [
    {
     "name": "stdout",
     "output_type": "stream",
     "text": [
      "📁 01177138/\n",
      "└─📁 direct-sharing-396/\n",
      "  ├─📁 upload-num183-ver1-date20210730T151214-appid6b0354b7367e4decb2afd261ff3b563a/\n",
      "  │ ├─📄 ApplicationInfo.csv\n",
      "  │ ├─📄 ApplicationInfo.json\n",
      "  │ ├─📄 APSData.csv\n",
      "  │ ├─📄 APSData.json\n",
      "  │ ├─📄 BgReadings.csv\n",
      "  │ ├─📄 BgReadings.json\n",
      "  │ ├─📄 CareportalEvents.csv\n",
      "  │ ├─📄 CareportalEvents.json\n",
      "  │ ├─📄 DeviceInfo.csv\n",
      "  │ ├─📄 DeviceInfo.json\n",
      "  │ ├─📄 DisplayInfo.csv\n",
      "  │ ├─📄 DisplayInfo.json\n",
      "  │ ├─📄 Preferences.csv\n",
      "  │ ├─📄 Preferences.json\n",
      "  │ ├─📄 TemporaryBasals.csv\n",
      "  │ ├─📄 TemporaryBasals.json\n",
      "  │ ├─📄 Treatments.csv\n",
      "  │ ├─📄 Treatments.json\n",
      "  │ ├─📄 UploadInfo.csv\n",
      "  │ └─📄 UploadInfo.json\n",
      "  ├─📄 upload-num183-ver1-date20210730T151214-appid6b0354b7367e4decb2afd261ff3b563a.zip\n",
      "  ├─📁 upload-num184-ver1-date20210731T151225-appid6b0354b7367e4decb2afd261ff3b563a/\n",
      "  │ ├─📄 ApplicationInfo.csv\n",
      "  │ ├─📄 ApplicationInfo.json\n",
      "  │ ├─📄 APSData.csv\n",
      "  │ ├─📄 APSData.json\n",
      "  │ ├─📄 BgReadings.csv\n",
      "  │ ├─📄 BgReadings.json\n",
      "  │ ├─📄 CareportalEvents.csv\n",
      "  │ ├─📄 CareportalEvents.json\n",
      "  │ ├─📄 DeviceInfo.csv\n",
      "  │ ├─📄 DeviceInfo.json\n",
      "  │ ├─📄 DisplayInfo.csv\n",
      "  │ ├─📄 DisplayInfo.json\n",
      "  │ ├─📄 Preferences.csv\n",
      "  │ ├─📄 Preferences.json\n",
      "  │ ├─📄 TemporaryBasals.csv\n",
      "  │ ├─📄 TemporaryBasals.json\n",
      "  │ ├─📄 Treatments.csv\n",
      "  │ ├─📄 Treatments.json\n",
      "  │ ├─📄 UploadInfo.csv\n",
      "  │ └─📄 UploadInfo.json\n",
      "  ├─📄 upload-num184-ver1-date20210731T151225-appid6b0354b7367e4decb2afd261ff3b563a.zip\n",
      "  ├─📁 upload-num185-ver1-date20210801T151236-appid6b0354b7367e4decb2afd261ff3b563a/\n",
      "  │ ├─📄 ApplicationInfo.csv\n",
      "  │ ├─📄 ApplicationInfo.json\n",
      "  │ ├─📄 APSData.csv\n",
      "  │ ├─📄 APSData.json\n",
      "  │ ├─📄 BgReadings.csv\n",
      "  │ ├─📄 BgReadings.json\n",
      "  │ ├─📄 CareportalEvents.csv\n",
      "  │ ├─📄 CareportalEvents.json\n",
      "  │ ├─📄 DeviceInfo.csv\n",
      "  │ ├─📄 DeviceInfo.json\n",
      "  │ ├─📄 DisplayInfo.csv\n",
      "  │ ├─📄 DisplayInfo.json\n",
      "  │ ├─📄 Preferences.csv\n",
      "  │ ├─📄 Preferences.json\n",
      "  │ ├─📄 TemporaryBasals.csv\n",
      "  │ ├─📄 TemporaryBasals.json\n",
      "  │ ├─📄 TempTargets.csv\n",
      "  │ ├─📄 TempTargets.json\n",
      "  │ ├─📄 Treatments.csv\n",
      "  │ ├─📄 Treatments.json\n",
      "  │ ├─📄 UploadInfo.csv\n",
      "  │ └─📄 UploadInfo.json\n",
      "  ├─📄 upload-num185-ver1-date20210801T151236-appid6b0354b7367e4decb2afd261ff3b563a.zip\n",
      "  ├─📁 upload-num186-ver1-date20210802T151246-appid6b0354b7367e4decb2afd261ff3b563a/\n",
      "  │ ├─📄 ApplicationInfo.csv\n",
      "  │ ├─📄 ApplicationInfo.json\n",
      "  │ ├─📄 APSData.csv\n",
      "  │ ├─📄 APSData.json\n",
      "  │ ├─📄 BgReadings.csv\n",
      "  │ ├─📄 BgReadings.json\n",
      "  │ ├─📄 CareportalEvents.csv\n",
      "  │ ├─📄 CareportalEvents.json\n",
      "  │ ├─📄 DeviceInfo.csv\n",
      "  │ ├─📄 DeviceInfo.json\n",
      "  │ ├─📄 DisplayInfo.csv\n",
      "  │ ├─📄 DisplayInfo.json\n",
      "  │ ├─📄 Preferences.csv\n",
      "  │ ├─📄 Preferences.json\n",
      "  │ ├─📄 TemporaryBasals.csv\n",
      "  │ ├─📄 TemporaryBasals.json\n",
      "  │ ├─📄 TempTargets.csv\n",
      "  │ ├─📄 TempTargets.json\n",
      "  │ ├─📄 Treatments.csv\n",
      "  │ ├─📄 Treatments.json\n",
      "  │ ├─📄 UploadInfo.csv\n",
      "  │ └─📄 UploadInfo.json\n",
      "  ├─📄 upload-num186-ver1-date20210802T151246-appid6b0354b7367e4decb2afd261ff3b563a.zip\n",
      "  ├─📁 upload-num187-ver1-date20210803T151253-appid6b0354b7367e4decb2afd261ff3b563a/\n",
      "  │ ├─📄 ApplicationInfo.csv\n",
      "  │ ├─📄 ApplicationInfo.json\n",
      "  │ ├─📄 APSData.csv\n",
      "  │ ├─📄 APSData.json\n",
      "  │ ├─📄 BgReadings.csv\n",
      "  │ ├─📄 BgReadings.json\n",
      "  │ ├─📄 DeviceInfo.csv\n",
      "  │ ├─📄 DeviceInfo.json\n",
      "  │ ├─📄 DisplayInfo.csv\n",
      "  │ ├─📄 DisplayInfo.json\n",
      "  │ ├─📄 Preferences.csv\n",
      "  │ ├─📄 Preferences.json\n",
      "  │ ├─📄 TemporaryBasals.csv\n",
      "  │ ├─📄 TemporaryBasals.json\n",
      "  │ ├─📄 TempTargets.csv\n",
      "  │ ├─📄 TempTargets.json\n",
      "  │ ├─📄 Treatments.csv\n",
      "  │ ├─📄 Treatments.json\n",
      "  │ ├─📄 UploadInfo.csv\n",
      "  │ └─📄 UploadInfo.json\n",
      "  ├─📄 upload-num187-ver1-date20210803T151253-appid6b0354b7367e4decb2afd261ff3b563a.zip\n",
      "  ├─📁 upload-num188-ver1-date20210816T183012-appid6b0354b7367e4decb2afd261ff3b563a/\n",
      "  │ ├─📄 ApplicationInfo.csv\n",
      "  │ ├─📄 ApplicationInfo.json\n",
      "  │ ├─📄 APSData.csv\n",
      "  │ ├─📄 APSData.json\n",
      "  │ ├─📄 BgReadings.csv\n",
      "  │ ├─📄 BgReadings.json\n",
      "  │ ├─📄 CareportalEvents.csv\n",
      "  │ ├─📄 CareportalEvents.json\n",
      "  │ ├─📄 DeviceInfo.csv\n",
      "  │ ├─📄 DeviceInfo.json\n",
      "  │ ├─📄 DisplayInfo.csv\n",
      "  │ ├─📄 DisplayInfo.json\n",
      "  │ ├─📄 Preferences.csv\n",
      "  │ ├─📄 Preferences.json\n",
      "  │ ├─📄 TemporaryBasals.csv\n",
      "  │ ├─📄 TemporaryBasals.json\n",
      "  │ ├─📄 Treatments.csv\n",
      "  │ ├─📄 Treatments.json\n",
      "  │ ├─📄 UploadInfo.csv\n",
      "  │ └─📄 UploadInfo.json\n",
      "  ├─📄 upload-num188-ver1-date20210816T183012-appid6b0354b7367e4decb2afd261ff3b563a.zip\n",
      "  ├─📁 upload-num189-ver1-date20210816T183017-appid6b0354b7367e4decb2afd261ff3b563a/\n",
      "  │ ├─📄 ApplicationInfo.csv\n",
      "  │ ├─📄 ApplicationInfo.json\n",
      "  │ ├─📄 BgReadings.csv\n",
      "  │ ├─📄 BgReadings.json\n",
      "  │ ├─📄 DeviceInfo.csv\n",
      "  │ ├─📄 DeviceInfo.json\n",
      "  │ ├─📄 DisplayInfo.csv\n",
      "  │ ├─📄 DisplayInfo.json\n",
      "  │ ├─📄 Preferences.csv\n",
      "  │ ├─📄 Preferences.json\n",
      "  │ ├─📄 UploadInfo.csv\n",
      "  │ └─📄 UploadInfo.json\n",
      "  ├─📄 upload-num189-ver1-date20210816T183017-appid6b0354b7367e4decb2afd261ff3b563a.zip\n",
      "  ├─📁 upload-num190-ver1-date20210816T183018-appid6b0354b7367e4decb2afd261ff3b563a/\n",
      "  │ ├─📄 ApplicationInfo.csv\n",
      "  │ ├─📄 ApplicationInfo.json\n",
      "  │ ├─📄 BgReadings.csv\n",
      "  │ ├─📄 BgReadings.json\n",
      "  │ ├─📄 DeviceInfo.csv\n",
      "  │ ├─📄 DeviceInfo.json\n",
      "  │ ├─📄 DisplayInfo.csv\n",
      "  │ ├─📄 DisplayInfo.json\n",
      "  │ ├─📄 Preferences.csv\n",
      "  │ ├─📄 Preferences.json\n",
      "  │ ├─📄 UploadInfo.csv\n",
      "  │ └─📄 UploadInfo.json\n",
      "  ├─📄 upload-num190-ver1-date20210816T183018-appid6b0354b7367e4decb2afd261ff3b563a.zip\n",
      "  ├─📁 upload-num191-ver1-date20210816T183019-appid6b0354b7367e4decb2afd261ff3b563a/\n",
      "  │ ├─📄 ApplicationInfo.csv\n",
      "  │ ├─📄 ApplicationInfo.json\n",
      "  │ ├─📄 BgReadings.csv\n",
      "  │ ├─📄 BgReadings.json\n",
      "  │ ├─📄 DeviceInfo.csv\n",
      "  │ ├─📄 DeviceInfo.json\n",
      "  │ ├─📄 DisplayInfo.csv\n",
      "  │ ├─📄 DisplayInfo.json\n",
      "  │ ├─📄 Preferences.csv\n",
      "  │ ├─📄 Preferences.json\n",
      "  │ ├─📄 UploadInfo.csv\n",
      "  │ └─📄 UploadInfo.json\n",
      "  ├─📄 upload-num191-ver1-date20210816T183019-appid6b0354b7367e4decb2afd261ff3b563a.zip\n",
      "  ├─📁 upload-num192-ver1-date20210816T183021-appid6b0354b7367e4decb2afd261ff3b563a/\n",
      "  │ ├─📄 ApplicationInfo.csv\n",
      "  │ ├─📄 ApplicationInfo.json\n",
      "  │ ├─📄 BgReadings.csv\n",
      "  │ ├─📄 BgReadings.json\n",
      "  │ ├─📄 DeviceInfo.csv\n",
      "  │ ├─📄 DeviceInfo.json\n",
      "  │ ├─📄 DisplayInfo.csv\n",
      "  │ ├─📄 DisplayInfo.json\n",
      "  │ ├─📄 Preferences.csv\n",
      "  │ ├─📄 Preferences.json\n",
      "  │ ├─📄 UploadInfo.csv\n",
      "  │ └─📄 UploadInfo.json\n",
      "  └─📄 upload-num192-ver1-date20210816T183021-appid6b0354b7367e4decb2afd261ff3b563a.zip\n"
     ]
    }
   ],
   "source": [
    "sd.seedir(\"../../n=183_OpenAPS_Data_Commons_August_2021_UNZIPPED/AndroidAPS Uploader/01177138\", style='emoji')"
   ]
  },
  {
   "cell_type": "markdown",
   "id": "b5ad595d-afae-4afd-9d34-2276c3c3bc50",
   "metadata": {},
   "source": [
    "For both androidAPS and normal uploads, we have a plethora of files. The challenge is figuring out which are necessary for analysis and which can be discarded. [This repo](https://github.com/danamlewis/OpenHumansDataTools) contains many data processing scripts. Reading through the scripts, it appears some of these have already been applied to the data.\n",
    "*  [unzip-split-csvify-OpenHumans-data.sh](https://github.com/danamlewis/OpenHumansDataTools/blob/master/bin/unzip-split-csvify-OpenHumans-data.sh)\n",
    "    * On *normal uploads*, this script unzips files, converts to json, and finally converts to .csv\n",
    "*  [unzip-csvify-AAPS-OpenHumans-data.sh](https://github.com/danamlewis/OpenHumansDataTools/blob/master/bin/unzip-csvify-AAPS-OpenHumans-data.sh)\n",
    "    * On *Android APS uploads*, this script unzips files, converts to json, and finally converts to .csv\n",
    "    \n",
    "Given the presence of .json and .csv files, these two scripts seem to have been run. "
   ]
  },
  {
   "cell_type": "markdown",
   "id": "cff7d796-bcc3-4987-80c8-23fa1df26750",
   "metadata": {},
   "source": [
    "## Normal CSV's"
   ]
  },
  {
   "cell_type": "markdown",
   "id": "aaf97576-8944-4df7-b811-58d0ed72fd8d",
   "metadata": {},
   "source": [
    "Here, one of the intial folders is explored in more detail. First, we can ignore the .gz files as files have already been unzipped. Then, we have `devicestatus`, `entries`, `profile`, and `treatments` folders which end in `_json`, `_csv`, `_parts`. We'll go through each of the `devicestatus`, `entries`, `profile`, and `treatments` to look at their data. Here, we look at subject `00221634`. "
   ]
  },
  {
   "cell_type": "code",
   "execution_count": 46,
   "id": "bbf1e3ae-cda2-444f-8877-08ca6587fa02",
   "metadata": {},
   "outputs": [],
   "source": [
    "subject_id = \"00221634\"\n",
    "folder = f\"..\\\\..\\\\n=183_OpenAPS_Data_Commons_August_2021_UNZIPPED\\\\{subject_id}\\\\direct-sharing-31\""
   ]
  },
  {
   "cell_type": "code",
   "execution_count": 47,
   "id": "6f1f2efd-6c6b-4b80-96ed-291da7bffb0e",
   "metadata": {},
   "outputs": [
    {
     "data": {
      "text/plain": [
       "['00221634_devicestatus_2018-03-01_to_2018-08-05.json',\n",
       " '00221634_devicestatus_2018-03-01_to_2018-08-05_csv',\n",
       " '00221634_devicestatus_2018-03-01_to_2018-08-05_parts',\n",
       " '00221634_entries_2018-03-01_to_2018-08-05.json',\n",
       " '00221634_entries_2018-03-01_to_2018-08-05.json_csv',\n",
       " '00221634_profile_2018-03-01_to_2018-08-05.json',\n",
       " '00221634_profile_2018-03-01_to_2018-08-05_csv',\n",
       " '00221634_profile_2018-03-01_to_2018-08-05_parts',\n",
       " '00221634_treatments_2018-03-01_to_2018-08-05.json',\n",
       " '00221634_treatments_2018-03-01_to_2018-08-05_csv',\n",
       " '00221634_treatments_2018-03-01_to_2018-08-05_parts',\n",
       " 'devicestatus_2018-03-01_to_2018-08-05.json.gz',\n",
       " 'entries_2018-03-01_to_2018-08-05.json.gz',\n",
       " 'profile_2018-03-01_to_2018-08-05.json.gz',\n",
       " 'treatments_2018-03-01_to_2018-08-05.json.gz']"
      ]
     },
     "execution_count": 47,
     "metadata": {},
     "output_type": "execute_result"
    }
   ],
   "source": [
    "os.listdir(folder)"
   ]
  },
  {
   "cell_type": "markdown",
   "id": "f9e9e959-8abc-426e-a483-904b7f2d6c1e",
   "metadata": {},
   "source": [
    "### Device Status"
   ]
  },
  {
   "cell_type": "code",
   "execution_count": 116,
   "id": "8f95eebd-fd06-428b-bebb-2cdd59c2f294",
   "metadata": {},
   "outputs": [],
   "source": [
    "# File locations\n",
    "device_status = \"00221634_devicestatus_2018-03-01_to_2018-08-05\"\n",
    "json_file = f\"{folder}\\\\{device_status}.json\"\n",
    "parts_fold = f\"{folder}\\\\{device_status}_parts\"\n",
    "csv_fold = f\"{folder}\\\\{device_status}_csv\""
   ]
  },
  {
   "cell_type": "markdown",
   "id": "8fc4e778-5f7b-4291-81f4-db947fc068b7",
   "metadata": {},
   "source": [
    "**JSON**"
   ]
  },
  {
   "cell_type": "code",
   "execution_count": 64,
   "id": "18391b2a-ad21-4259-91d7-9dd147a3ca41",
   "metadata": {},
   "outputs": [],
   "source": [
    "with open(json_file) as f:\n",
    "    raw_json = json.load(f)\n",
    "# raw_json looong file"
   ]
  },
  {
   "cell_type": "code",
   "execution_count": 79,
   "id": "0c153c94-c5da-479c-a822-f6eaf9a852be",
   "metadata": {},
   "outputs": [
    {
     "name": "stdout",
     "output_type": "stream",
     "text": [
      "Top level type: <class 'list'>\n",
      "Top level element count: 53877\n",
      "\n",
      "First element: {'NSCLIENT_ID': 1533427185282, '_id': '5b663df1f64f437f0a9d94db', 'created_at': '2018-08-04T23:59:45Z', 'pump': {'extended': {'ActiveProfile': 'MM - v4', 'PumpIOB': 1.37, 'BaseBasalRate': 0.52, 'LastBolus': '05.08.2018 01:01:00', 'Version': '2.0c-dev-04cba772b-2018.08.01-20:34', 'LastBolusAmount': 1}, 'reservoir': 108, 'clock': '2018-08-04T23:59:45Z', 'status': {'timestamp': '2018-08-04T23:59:40Z', 'status': 'normal'}, 'battery': {'percent': 75}}, 'device': 'G6QS5C', 'uploaderBattery': 100}\n",
      "\n",
      "Second element: {'NSCLIENT_ID': 1533425993154, '_id': '5b663949f64f437f0a9d94d5', 'created_at': '2018-08-04T23:39:53Z', 'pump': {'extended': {'ActiveProfile': 'MM - v4', 'PumpIOB': 1.77, 'BaseBasalRate': 0.52, 'LastBolus': '05.08.2018 01:01:00', 'Version': '2.0c-dev-04cba772b-2018.08.01-20:34', 'LastBolusAmount': 1}, 'reservoir': 108, 'clock': '2018-08-04T23:39:53Z', 'status': {'timestamp': '2018-08-04T23:39:53Z', 'status': 'normal'}, 'battery': {'percent': 75}}, 'device': 'G6QS5C', 'uploaderBattery': 100}\n",
      "\n",
      "Top level keys: dict_keys(['NSCLIENT_ID', '_id', 'created_at', 'pump', 'device', 'uploaderBattery'])\n",
      "Pump keys: dict_keys(['extended', 'reservoir', 'clock', 'status', 'battery'])\n",
      "Pump Extended keys: dict_keys(['ActiveProfile', 'PumpIOB', 'BaseBasalRate', 'LastBolus', 'Version', 'LastBolusAmount'])\n"
     ]
    }
   ],
   "source": [
    "print(\"Top level type:\", type(raw_json))\n",
    "print(\"Top level element count:\", len(raw_json))\n",
    "print()\n",
    "print(\"First element:\", raw_json[0])\n",
    "print()\n",
    "print(\"Second element:\", raw_json[1])\n",
    "print()\n",
    "print(\"Top level keys:\", raw_json[0].keys())\n",
    "print(\"Pump keys:\", raw_json[0]['pump'].keys())\n",
    "print(\"Pump Extended keys:\", raw_json[0]['pump']['extended'].keys())"
   ]
  },
  {
   "cell_type": "markdown",
   "id": "06eba029-a870-49c9-bed9-158d0ee30a40",
   "metadata": {},
   "source": [
    "Anyways, I could keep printing out the full JSON structure, but this structure isn't too complex. The element printouts show all the data for each element. We just want to come back to this data in a moment and make sure the downstream files match it."
   ]
  },
  {
   "cell_type": "markdown",
   "id": "40ebfa05-b102-4150-8338-99e8f33cbd99",
   "metadata": {},
   "source": [
    "**Parts**\n",
    "\n",
    "Here's what in the parts folder. The OpenHumansDataTools page indicates that the files are split to ensure each file is a reasonable size which is the source of the ascending `aa`, `ab`,`ac`, etc. series of file endings. "
   ]
  },
  {
   "cell_type": "code",
   "execution_count": 92,
   "id": "d3f0a962-f691-4656-af57-62045a18a5ee",
   "metadata": {},
   "outputs": [
    {
     "data": {
      "text/plain": [
       "['00221634_devicestatus_2018-03-01_to_2018-08-05_aa',\n",
       " '00221634_devicestatus_2018-03-01_to_2018-08-05_aa.json',\n",
       " '00221634_devicestatus_2018-03-01_to_2018-08-05_ab',\n",
       " '00221634_devicestatus_2018-03-01_to_2018-08-05_ab.json',\n",
       " '00221634_devicestatus_2018-03-01_to_2018-08-05_ac',\n",
       " '00221634_devicestatus_2018-03-01_to_2018-08-05_ac.json',\n",
       " '00221634_devicestatus_2018-03-01_to_2018-08-05_ad',\n",
       " '00221634_devicestatus_2018-03-01_to_2018-08-05_ad.json']"
      ]
     },
     "execution_count": 92,
     "metadata": {},
     "output_type": "execute_result"
    }
   ],
   "source": [
    "aa_fold = f\"{parts_fold}\\\\00221634_devicestatus_2018-03-01_to_2018-08-05_aa\"\n",
    "aa_json = f\"{parts_fold}\\\\00221634_devicestatus_2018-03-01_to_2018-08-05_aa.json\"\n",
    "os.listdir(parts_fold)"
   ]
  },
  {
   "cell_type": "markdown",
   "id": "d01d247e-01b8-4225-9089-4f00dc58dc18",
   "metadata": {},
   "source": [
    "Manually checking the files with no file extension shows that they're compressed json files (not conformant with json syntax). Every element of the full json is compressed into a single line of text. Let's compare the `aa` files."
   ]
  },
  {
   "cell_type": "code",
   "execution_count": 94,
   "id": "f192bda8-5f1e-459c-8c8f-8237a8cad2c2",
   "metadata": {},
   "outputs": [
    {
     "name": "stdout",
     "output_type": "stream",
     "text": [
      "{\"NSCLIENT_ID\":1533427185282,\"_id\":\"5b663df1f64f437f0a9d94db\",\"created_at\":\"2018-08-04T23:59:45Z\",\"pump\":{\"extended\":{\"ActiveProfile\":\"MM - v4\",\"PumpIOB\":1.37,\"BaseBasalRate\":0.52,\"LastBolus\":\"05.08.2018 01:01:00\",\"Version\":\"2.0c-dev-04cba772b-2018.08.01-20:34\",\"LastBolusAmount\":1},\"reservoir\":108,\"clock\":\"2018-08-04T23:59:45Z\",\"status\":{\"timestamp\":\"2018-08-04T23:59:40Z\",\"status\":\"normal\"},\"battery\":{\"percent\":75}},\"device\":\"G6QS5C\",\"uploaderBattery\":100}\n",
      "\n",
      "{'NSCLIENT_ID': 1533427185282, '_id': '5b663df1f64f437f0a9d94db', 'created_at': '2018-08-04T23:59:45Z', 'pump': {'extended': {'ActiveProfile': 'MM - v4', 'PumpIOB': 1.37, 'BaseBasalRate': 0.52, 'LastBolus': '05.08.2018 01:01:00', 'Version': '2.0c-dev-04cba772b-2018.08.01-20:34', 'LastBolusAmount': 1}, 'reservoir': 108, 'clock': '2018-08-04T23:59:45Z', 'status': {'timestamp': '2018-08-04T23:59:40Z', 'status': 'normal'}, 'battery': {'percent': 75}}, 'device': 'G6QS5C', 'uploaderBattery': 100}\n"
     ]
    }
   ],
   "source": [
    "with open(aa_fold) as f:\n",
    "    for line in f.readlines():\n",
    "        print(line)\n",
    "        # Save this line for later comparison \n",
    "        first_aa_line = line \n",
    "        break \n",
    "with open(aa_json) as f:\n",
    "    aa_json_obj = json.load(f)\n",
    "print(aa_json_obj[0])"
   ]
  },
  {
   "cell_type": "markdown",
   "id": "7d1afa2b-c51b-48dd-bad2-07ec471698cd",
   "metadata": {},
   "source": [
    "Looking at the above objects, we see that they're equivalent. "
   ]
  },
  {
   "cell_type": "markdown",
   "id": "88aea5e4-1754-4fcd-b114-2d9af82aa1a1",
   "metadata": {},
   "source": [
    "**CSV**\n",
    "\n",
    "Now, let's check the csv's. Like above, we have a series of .csv's with endings such as `ab`. These appear to mirror the parts from above."
   ]
  },
  {
   "cell_type": "code",
   "execution_count": 95,
   "id": "a54a9682-2b27-4567-9eb3-cb081f9b823e",
   "metadata": {},
   "outputs": [
    {
     "data": {
      "text/plain": [
       "['00221634_devicestatus_2018-03-01_to_2018-08-05_aa.csv',\n",
       " '00221634_devicestatus_2018-03-01_to_2018-08-05_ab.csv',\n",
       " '00221634_devicestatus_2018-03-01_to_2018-08-05_ac.csv',\n",
       " '00221634_devicestatus_2018-03-01_to_2018-08-05_ad.csv']"
      ]
     },
     "execution_count": 95,
     "metadata": {},
     "output_type": "execute_result"
    }
   ],
   "source": [
    "os.listdir(csv_fold)"
   ]
  },
  {
   "cell_type": "code",
   "execution_count": 96,
   "id": "788fe382-53c3-47c4-93b9-7299c1c03ca2",
   "metadata": {},
   "outputs": [
    {
     "name": "stderr",
     "output_type": "stream",
     "text": [
      "C:\\Users\\spenc\\anaconda3\\lib\\site-packages\\IPython\\core\\interactiveshell.py:3444: DtypeWarning: Columns (249) have mixed types.Specify dtype option on import or set low_memory=False.\n",
      "  exec(code_obj, self.user_global_ns, self.user_ns)\n"
     ]
    }
   ],
   "source": [
    "df = pd.read_csv(f\"{csv_fold}\\\\00221634_devicestatus_2018-03-01_to_2018-08-05_aa.csv\")"
   ]
  },
  {
   "cell_type": "code",
   "execution_count": 97,
   "id": "67b9d87d-f579-4823-95b7-70829637ea05",
   "metadata": {},
   "outputs": [
    {
     "data": {
      "text/html": [
       "<div>\n",
       "<style scoped>\n",
       "    .dataframe tbody tr th:only-of-type {\n",
       "        vertical-align: middle;\n",
       "    }\n",
       "\n",
       "    .dataframe tbody tr th {\n",
       "        vertical-align: top;\n",
       "    }\n",
       "\n",
       "    .dataframe thead th {\n",
       "        text-align: right;\n",
       "    }\n",
       "</style>\n",
       "<table border=\"1\" class=\"dataframe\">\n",
       "  <thead>\n",
       "    <tr style=\"text-align: right;\">\n",
       "      <th></th>\n",
       "      <th>NSCLIENT_ID</th>\n",
       "      <th>_id</th>\n",
       "      <th>created_at</th>\n",
       "      <th>pump/extended/ActiveProfile</th>\n",
       "      <th>pump/extended/PumpIOB</th>\n",
       "      <th>pump/extended/BaseBasalRate</th>\n",
       "      <th>pump/extended/LastBolus</th>\n",
       "      <th>pump/extended/Version</th>\n",
       "      <th>pump/extended/LastBolusAmount</th>\n",
       "      <th>pump/reservoir</th>\n",
       "      <th>...</th>\n",
       "      <th>openaps/enacted/predBGs/ZT/44</th>\n",
       "      <th>openaps/enacted/predBGs/ZT/45</th>\n",
       "      <th>openaps/enacted/predBGs/ZT/46</th>\n",
       "      <th>openaps/enacted/predBGs/ZT/47</th>\n",
       "      <th>openaps/enacted/predBGs/COB/45</th>\n",
       "      <th>openaps/enacted/predBGs/COB/46</th>\n",
       "      <th>openaps/enacted/predBGs/UAM/47</th>\n",
       "      <th>openaps/enacted/predBGs/COB/47</th>\n",
       "      <th>openaps/suggested/carbsReq</th>\n",
       "      <th>openaps/enacted/carbsReq</th>\n",
       "    </tr>\n",
       "  </thead>\n",
       "  <tbody>\n",
       "    <tr>\n",
       "      <th>0</th>\n",
       "      <td>1.533427e+12</td>\n",
       "      <td>5b663df1f64f437f0a9d94db</td>\n",
       "      <td>2018-08-04T23:59:45Z</td>\n",
       "      <td>MM - v4</td>\n",
       "      <td>1.37</td>\n",
       "      <td>0.52</td>\n",
       "      <td>05.08.2018 01:01:00</td>\n",
       "      <td>2.0c-dev-04cba772b-2018.08.01-20:34</td>\n",
       "      <td>1.0</td>\n",
       "      <td>108.0</td>\n",
       "      <td>...</td>\n",
       "      <td>NaN</td>\n",
       "      <td>NaN</td>\n",
       "      <td>NaN</td>\n",
       "      <td>NaN</td>\n",
       "      <td>NaN</td>\n",
       "      <td>NaN</td>\n",
       "      <td>NaN</td>\n",
       "      <td>NaN</td>\n",
       "      <td>NaN</td>\n",
       "      <td>NaN</td>\n",
       "    </tr>\n",
       "    <tr>\n",
       "      <th>1</th>\n",
       "      <td>1.533426e+12</td>\n",
       "      <td>5b663949f64f437f0a9d94d5</td>\n",
       "      <td>2018-08-04T23:39:53Z</td>\n",
       "      <td>MM - v4</td>\n",
       "      <td>1.77</td>\n",
       "      <td>0.52</td>\n",
       "      <td>05.08.2018 01:01:00</td>\n",
       "      <td>2.0c-dev-04cba772b-2018.08.01-20:34</td>\n",
       "      <td>1.0</td>\n",
       "      <td>108.0</td>\n",
       "      <td>...</td>\n",
       "      <td>NaN</td>\n",
       "      <td>NaN</td>\n",
       "      <td>NaN</td>\n",
       "      <td>NaN</td>\n",
       "      <td>NaN</td>\n",
       "      <td>NaN</td>\n",
       "      <td>NaN</td>\n",
       "      <td>NaN</td>\n",
       "      <td>NaN</td>\n",
       "      <td>NaN</td>\n",
       "    </tr>\n",
       "    <tr>\n",
       "      <th>2</th>\n",
       "      <td>1.533425e+12</td>\n",
       "      <td>5b663496f64f437f0a9d94d0</td>\n",
       "      <td>2018-08-04T23:19:50Z</td>\n",
       "      <td>MM - v4</td>\n",
       "      <td>2.55</td>\n",
       "      <td>0.52</td>\n",
       "      <td>05.08.2018 01:01:00</td>\n",
       "      <td>2.0c-dev-04cba772b-2018.08.01-20:34</td>\n",
       "      <td>1.0</td>\n",
       "      <td>108.0</td>\n",
       "      <td>...</td>\n",
       "      <td>NaN</td>\n",
       "      <td>NaN</td>\n",
       "      <td>NaN</td>\n",
       "      <td>NaN</td>\n",
       "      <td>NaN</td>\n",
       "      <td>NaN</td>\n",
       "      <td>NaN</td>\n",
       "      <td>NaN</td>\n",
       "      <td>NaN</td>\n",
       "      <td>NaN</td>\n",
       "    </tr>\n",
       "    <tr>\n",
       "      <th>3</th>\n",
       "      <td>1.533424e+12</td>\n",
       "      <td>5b663049f64f437f0a9d94cb</td>\n",
       "      <td>2018-08-04T23:01:09Z</td>\n",
       "      <td>MM - v4</td>\n",
       "      <td>2.55</td>\n",
       "      <td>0.52</td>\n",
       "      <td>05.08.2018 01:01:00</td>\n",
       "      <td>2.0c-dev-04cba772b-2018.08.01-20:34</td>\n",
       "      <td>1.0</td>\n",
       "      <td>108.0</td>\n",
       "      <td>...</td>\n",
       "      <td>NaN</td>\n",
       "      <td>NaN</td>\n",
       "      <td>NaN</td>\n",
       "      <td>NaN</td>\n",
       "      <td>NaN</td>\n",
       "      <td>NaN</td>\n",
       "      <td>NaN</td>\n",
       "      <td>NaN</td>\n",
       "      <td>NaN</td>\n",
       "      <td>NaN</td>\n",
       "    </tr>\n",
       "    <tr>\n",
       "      <th>4</th>\n",
       "      <td>1.533424e+12</td>\n",
       "      <td>5b663011f64f437f0a9d94c9</td>\n",
       "      <td>2018-08-04T23:00:33Z</td>\n",
       "      <td>MM - v4</td>\n",
       "      <td>1.57</td>\n",
       "      <td>0.52</td>\n",
       "      <td>05.08.2018 00:10:00</td>\n",
       "      <td>2.0c-dev-04cba772b-2018.08.01-20:34</td>\n",
       "      <td>1.5</td>\n",
       "      <td>109.0</td>\n",
       "      <td>...</td>\n",
       "      <td>NaN</td>\n",
       "      <td>NaN</td>\n",
       "      <td>NaN</td>\n",
       "      <td>NaN</td>\n",
       "      <td>NaN</td>\n",
       "      <td>NaN</td>\n",
       "      <td>NaN</td>\n",
       "      <td>NaN</td>\n",
       "      <td>NaN</td>\n",
       "      <td>NaN</td>\n",
       "    </tr>\n",
       "  </tbody>\n",
       "</table>\n",
       "<p>5 rows × 445 columns</p>\n",
       "</div>"
      ],
      "text/plain": [
       "    NSCLIENT_ID                       _id            created_at  \\\n",
       "0  1.533427e+12  5b663df1f64f437f0a9d94db  2018-08-04T23:59:45Z   \n",
       "1  1.533426e+12  5b663949f64f437f0a9d94d5  2018-08-04T23:39:53Z   \n",
       "2  1.533425e+12  5b663496f64f437f0a9d94d0  2018-08-04T23:19:50Z   \n",
       "3  1.533424e+12  5b663049f64f437f0a9d94cb  2018-08-04T23:01:09Z   \n",
       "4  1.533424e+12  5b663011f64f437f0a9d94c9  2018-08-04T23:00:33Z   \n",
       "\n",
       "  pump/extended/ActiveProfile  pump/extended/PumpIOB  \\\n",
       "0                     MM - v4                   1.37   \n",
       "1                     MM - v4                   1.77   \n",
       "2                     MM - v4                   2.55   \n",
       "3                     MM - v4                   2.55   \n",
       "4                     MM - v4                   1.57   \n",
       "\n",
       "   pump/extended/BaseBasalRate pump/extended/LastBolus  \\\n",
       "0                         0.52     05.08.2018 01:01:00   \n",
       "1                         0.52     05.08.2018 01:01:00   \n",
       "2                         0.52     05.08.2018 01:01:00   \n",
       "3                         0.52     05.08.2018 01:01:00   \n",
       "4                         0.52     05.08.2018 00:10:00   \n",
       "\n",
       "                 pump/extended/Version  pump/extended/LastBolusAmount  \\\n",
       "0  2.0c-dev-04cba772b-2018.08.01-20:34                            1.0   \n",
       "1  2.0c-dev-04cba772b-2018.08.01-20:34                            1.0   \n",
       "2  2.0c-dev-04cba772b-2018.08.01-20:34                            1.0   \n",
       "3  2.0c-dev-04cba772b-2018.08.01-20:34                            1.0   \n",
       "4  2.0c-dev-04cba772b-2018.08.01-20:34                            1.5   \n",
       "\n",
       "   pump/reservoir  ... openaps/enacted/predBGs/ZT/44  \\\n",
       "0           108.0  ...                           NaN   \n",
       "1           108.0  ...                           NaN   \n",
       "2           108.0  ...                           NaN   \n",
       "3           108.0  ...                           NaN   \n",
       "4           109.0  ...                           NaN   \n",
       "\n",
       "  openaps/enacted/predBGs/ZT/45 openaps/enacted/predBGs/ZT/46  \\\n",
       "0                           NaN                           NaN   \n",
       "1                           NaN                           NaN   \n",
       "2                           NaN                           NaN   \n",
       "3                           NaN                           NaN   \n",
       "4                           NaN                           NaN   \n",
       "\n",
       "   openaps/enacted/predBGs/ZT/47 openaps/enacted/predBGs/COB/45  \\\n",
       "0                            NaN                            NaN   \n",
       "1                            NaN                            NaN   \n",
       "2                            NaN                            NaN   \n",
       "3                            NaN                            NaN   \n",
       "4                            NaN                            NaN   \n",
       "\n",
       "   openaps/enacted/predBGs/COB/46  openaps/enacted/predBGs/UAM/47  \\\n",
       "0                             NaN                             NaN   \n",
       "1                             NaN                             NaN   \n",
       "2                             NaN                             NaN   \n",
       "3                             NaN                             NaN   \n",
       "4                             NaN                             NaN   \n",
       "\n",
       "   openaps/enacted/predBGs/COB/47 openaps/suggested/carbsReq  \\\n",
       "0                             NaN                        NaN   \n",
       "1                             NaN                        NaN   \n",
       "2                             NaN                        NaN   \n",
       "3                             NaN                        NaN   \n",
       "4                             NaN                        NaN   \n",
       "\n",
       "   openaps/enacted/carbsReq  \n",
       "0                       NaN  \n",
       "1                       NaN  \n",
       "2                       NaN  \n",
       "3                       NaN  \n",
       "4                       NaN  \n",
       "\n",
       "[5 rows x 445 columns]"
      ]
     },
     "execution_count": 97,
     "metadata": {},
     "output_type": "execute_result"
    }
   ],
   "source": [
    "df.head()"
   ]
  },
  {
   "cell_type": "markdown",
   "id": "7c43b9e9-1df6-4c9c-a0ff-e46edda59834",
   "metadata": {},
   "source": [
    "**Equivalence check**\n",
    "\n",
    "Now, let's check that all the data files we've seen to this point hold equivalent data. Systemically doing this for all rows would be a significant task, so only the first elements will be compared."
   ]
  },
  {
   "cell_type": "code",
   "execution_count": 113,
   "id": "a19f8049-164e-4645-a9aa-7f0b6a7874fa",
   "metadata": {},
   "outputs": [
    {
     "name": "stdout",
     "output_type": "stream",
     "text": [
      "Raw json: \n",
      " {'NSCLIENT_ID': 1533427185282, '_id': '5b663df1f64f437f0a9d94db', 'created_at': '2018-08-04T23:59:45Z', 'pump': {'extended': {'ActiveProfile': 'MM - v4', 'PumpIOB': 1.37, 'BaseBasalRate': 0.52, 'LastBolus': '05.08.2018 01:01:00', 'Version': '2.0c-dev-04cba772b-2018.08.01-20:34', 'LastBolusAmount': 1}, 'reservoir': 108, 'clock': '2018-08-04T23:59:45Z', 'status': {'timestamp': '2018-08-04T23:59:40Z', 'status': 'normal'}, 'battery': {'percent': 75}}, 'device': 'G6QS5C', 'uploaderBattery': 100}\n",
      "\n",
      "Json parts \n",
      " {'NSCLIENT_ID': 1533427185282, '_id': '5b663df1f64f437f0a9d94db', 'created_at': '2018-08-04T23:59:45Z', 'pump': {'extended': {'ActiveProfile': 'MM - v4', 'PumpIOB': 1.37, 'BaseBasalRate': 0.52, 'LastBolus': '05.08.2018 01:01:00', 'Version': '2.0c-dev-04cba772b-2018.08.01-20:34', 'LastBolusAmount': 1}, 'reservoir': 108, 'clock': '2018-08-04T23:59:45Z', 'status': {'timestamp': '2018-08-04T23:59:40Z', 'status': 'normal'}, 'battery': {'percent': 75}}, 'device': 'G6QS5C', 'uploaderBattery': 100}\n",
      "\n",
      "Compressed json file \n",
      " {\"NSCLIENT_ID\":1533427185282,\"_id\":\"5b663df1f64f437f0a9d94db\",\"created_at\":\"2018-08-04T23:59:45Z\",\"pump\":{\"extended\":{\"ActiveProfile\":\"MM - v4\",\"PumpIOB\":1.37,\"BaseBasalRate\":0.52,\"LastBolus\":\"05.08.2018 01:01:00\",\"Version\":\"2.0c-dev-04cba772b-2018.08.01-20:34\",\"LastBolusAmount\":1},\"reservoir\":108,\"clock\":\"2018-08-04T23:59:45Z\",\"status\":{\"timestamp\":\"2018-08-04T23:59:40Z\",\"status\":\"normal\"},\"battery\":{\"percent\":75}},\"device\":\"G6QS5C\",\"uploaderBattery\":100}\n",
      "\n",
      "\n",
      "csv \n",
      " {'NSCLIENT_ID': 1533427185282.0, '_id': '5b663df1f64f437f0a9d94db', 'created_at': '2018-08-04T23:59:45Z', 'pump/extended/ActiveProfile': 'MM - v4', 'pump/extended/PumpIOB': 1.37, 'pump/extended/BaseBasalRate': 0.52, 'pump/extended/LastBolus': '05.08.2018 01:01:00', 'pump/extended/Version': '2.0c-dev-04cba772b-2018.08.01-20:34', 'pump/extended/LastBolusAmount': 1.0, 'pump/reservoir': 108.0, 'pump/clock': '2018-08-04T23:59:45Z', 'pump/status/timestamp': '2018-08-04T23:59:40Z', 'pump/status/status': 'normal', 'pump/battery/percent': 75.0, 'device': 'G6QS5C', 'uploaderBattery': 100.0, 'pump/extended/TempBasalAbsoluteRate': nan, 'pump/extended/TempBasalRemaining': nan, 'pump/extended/TempBasalStart': nan, 'uploader/battery': nan}\n"
     ]
    }
   ],
   "source": [
    "print(\"Raw json: \\n\", raw_json[0])\n",
    "print()\n",
    "print(\"Json parts \\n\", aa_json_obj[0])\n",
    "print()\n",
    "print(\"Compressed json file \\n\", first_aa_line)\n",
    "print()\n",
    "print(\"csv \\n\", df.iloc[0,0:20].to_dict())"
   ]
  },
  {
   "cell_type": "code",
   "execution_count": 115,
   "id": "1f56a5cf-5bc7-4a94-a90c-6ec247590700",
   "metadata": {},
   "outputs": [
    {
     "data": {
      "text/plain": [
       "445"
      ]
     },
     "execution_count": 115,
     "metadata": {},
     "output_type": "execute_result"
    }
   ],
   "source": [
    "len(df.columns)"
   ]
  },
  {
   "cell_type": "markdown",
   "id": "4b23ad9a-d1e5-4e62-8e3f-c4984e120b9c",
   "metadata": {},
   "source": [
    "The CSV takes a different format than the prior files. However, it contains the same information. Note that the csv has 445 columns. Most of these appear mostly null, but this will need to be analyzed further. If we look at the first ~20 columns, the number of elements in the json's, we see equivalent data is stored. Note that there are some amiguities. For example, the column `uploaderBattery` has the correct value of 100 while `uploader/battery` is null. \n",
    "\n",
    "The main conclusion here is that the .csv files hold all of the pertinent information for the normal file uploads. This means much of the data we have can be di"
   ]
  },
  {
   "cell_type": "markdown",
   "id": "18145f78-db07-493c-9c6b-fadc0878e332",
   "metadata": {},
   "source": [
    "## Android APS models"
   ]
  }
 ],
 "metadata": {
  "kernelspec": {
   "display_name": "Python 3 (ipykernel)",
   "language": "python",
   "name": "python3"
  },
  "language_info": {
   "codemirror_mode": {
    "name": "ipython",
    "version": 3
   },
   "file_extension": ".py",
   "mimetype": "text/x-python",
   "name": "python",
   "nbconvert_exporter": "python",
   "pygments_lexer": "ipython3",
   "version": "3.8.12"
  }
 },
 "nbformat": 4,
 "nbformat_minor": 5
}
