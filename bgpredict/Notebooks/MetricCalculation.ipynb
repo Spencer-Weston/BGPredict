{
 "cells": [
  {
   "cell_type": "markdown",
   "id": "3a77f6c9",
   "metadata": {},
   "source": [
    "# Metric Calculation\n",
    "Calculate metrics for models run on the full dataset"
   ]
  },
  {
   "cell_type": "code",
   "execution_count": 96,
   "id": "caccfaa6",
   "metadata": {},
   "outputs": [],
   "source": [
    "import xgboost\n",
    "from xgboost import plot_importance\n",
    "from bgpredict.helpers import S3Connection\n",
    "from dotenv import load_dotenv\n",
    "import multiprocessing\n",
    "import json\n",
    "import os\n",
    "import numpy as np\n",
    "import pandas as pd\n",
    "from dotenv import load_dotenv\n",
    "from sklearn.model_selection import RandomizedSearchCV, GridSearchCV\n",
    "from sklearn.metrics import mean_squared_error\n",
    "from sklearn.metrics import mean_absolute_error\n",
    "from sklearn.metrics import mean_absolute_percentage_error\n",
    "import sqlalchemy\n",
    "from sqlalchemy import create_engine\n",
    "from datetime import datetime\n",
    "from skopt import BayesSearchCV, dump, load\n",
    "from skopt.plots import plot_objective, plot_histogram\n",
    "import matplotlib.pyplot as plt "
   ]
  },
  {
   "cell_type": "code",
   "execution_count": 9,
   "id": "cc062563",
   "metadata": {},
   "outputs": [],
   "source": [
    "os.chdir('../')\n",
    "load_dotenv()\n",
    "os.chdir('./Baseline')"
   ]
  },
  {
   "cell_type": "code",
   "execution_count": 97,
   "id": "7cf2eee5",
   "metadata": {},
   "outputs": [],
   "source": [
    "def clean_data(df):\n",
    "    # Drop rows with no Y value\n",
    "    df = df.dropna(subset='bg')\n",
    "\n",
    "    # Fill nulls (lag BG values) with 0 to indicate data is unavailable\n",
    "    print(f\"Null values to be filled by column:\")\n",
    "    nulls = df.isna().sum()\n",
    "    null_idx = list(nulls.index)\n",
    "    vals = list(nulls)\n",
    "    for col, val in list(zip(null_idx, vals)):\n",
    "        if val > 0:\n",
    "            print(col, val)\n",
    "    df = df.fillna(0)\n",
    "\n",
    "    # Sort by timestamp\n",
    "    current_len = len(df)\n",
    "    df = df.loc[~(df['timestamp_clean'].apply(type) == int), :]\n",
    "    print(f\"Dropping {current_len - len(df)} invalid timestamps\")\n",
    "    df = df.sort_values(by=\"timestamp_clean\")\n",
    "\n",
    "    # Set index to time_stamp_clean\n",
    "    df.index = df['timestamp_clean']\n",
    "    df = df.drop(labels=['timestamp_clean'], axis=1)\n",
    "\n",
    "    # Drop first row by subject which has data quality issues\n",
    "    df = df[df.groupby('subjectid').cumcount() > 0]\n",
    "\n",
    "    # Drop columns that are indices, irrelevant, or capture in OHE variables\n",
    "    drop_cols = ['timestamp', 'date', 'time']\n",
    "    df = df.drop(labels=drop_cols, axis=1)\n",
    "\n",
    "    # One hot Encode Weekdays\n",
    "    weekdays = np.unique(df['weekday'])\n",
    "    ohe_weekdays = [f\"ohe_{day}\" for day in weekdays]\n",
    "    df[ohe_weekdays] = pd.get_dummies(df.weekday)\n",
    "    df = df.drop(labels=\"weekday\", axis=1)\n",
    "\n",
    "    return df"
   ]
  },
  {
   "cell_type": "code",
   "execution_count": 98,
   "id": "c19912ce",
   "metadata": {},
   "outputs": [
    {
     "name": "stdout",
     "output_type": "stream",
     "text": [
      "Null values to be filled by column:\n",
      "bg_lag_1 6593\n",
      "bg_lag_2 6449\n",
      "bg_lag_3 6420\n",
      "bg_lag_4 6548\n",
      "bg_lag_5 6614\n",
      "bg_lag_6 6577\n",
      "bg_lag_7 6653\n",
      "bg_lag_8 6720\n",
      "bg_lag_9 6683\n",
      "bg_lag_10 6694\n",
      "bg_lag_11 6746\n",
      "bg_lag_12 6758\n",
      "Dropping 0 invalid timestamps\n"
     ]
    }
   ],
   "source": [
    "location = f\"postgresql://postgres:{os.environ.get('db_password')}@{os.environ.get('db_location')}\"\n",
    "engine = create_engine(location)\n",
    "conn = engine.connect()\n",
    "raw_df = pd.read_sql(\"select * from public.vw_final_dataset where test_set = 1\", conn)\n",
    "clean_df = clean_data(raw_df)"
   ]
  },
  {
   "cell_type": "code",
   "execution_count": 7,
   "id": "10e3eb18",
   "metadata": {},
   "outputs": [],
   "source": [
    "s3_conn = S3Connection()"
   ]
  },
  {
   "cell_type": "markdown",
   "id": "db95eea1",
   "metadata": {},
   "source": [
    "## Arima"
   ]
  },
  {
   "cell_type": "code",
   "execution_count": 20,
   "id": "1fd84a53",
   "metadata": {},
   "outputs": [
    {
     "data": {
      "text/html": [
       "<div>\n",
       "<style scoped>\n",
       "    .dataframe tbody tr th:only-of-type {\n",
       "        vertical-align: middle;\n",
       "    }\n",
       "\n",
       "    .dataframe tbody tr th {\n",
       "        vertical-align: top;\n",
       "    }\n",
       "\n",
       "    .dataframe thead th {\n",
       "        text-align: right;\n",
       "    }\n",
       "</style>\n",
       "<table border=\"1\" class=\"dataframe\">\n",
       "  <thead>\n",
       "    <tr style=\"text-align: right;\">\n",
       "      <th></th>\n",
       "      <th>subjectid</th>\n",
       "      <th>entryid</th>\n",
       "      <th>y</th>\n",
       "      <th>y_hat</th>\n",
       "    </tr>\n",
       "  </thead>\n",
       "  <tbody>\n",
       "    <tr>\n",
       "      <th>0</th>\n",
       "      <td>12689381</td>\n",
       "      <td>575</td>\n",
       "      <td>154.0</td>\n",
       "      <td>145.398916</td>\n",
       "    </tr>\n",
       "    <tr>\n",
       "      <th>1</th>\n",
       "      <td>12689381</td>\n",
       "      <td>574</td>\n",
       "      <td>147.0</td>\n",
       "      <td>147.389779</td>\n",
       "    </tr>\n",
       "    <tr>\n",
       "      <th>2</th>\n",
       "      <td>12689381</td>\n",
       "      <td>573</td>\n",
       "      <td>140.0</td>\n",
       "      <td>148.096161</td>\n",
       "    </tr>\n",
       "    <tr>\n",
       "      <th>3</th>\n",
       "      <td>12689381</td>\n",
       "      <td>572</td>\n",
       "      <td>134.0</td>\n",
       "      <td>147.715828</td>\n",
       "    </tr>\n",
       "    <tr>\n",
       "      <th>4</th>\n",
       "      <td>12689381</td>\n",
       "      <td>571</td>\n",
       "      <td>130.0</td>\n",
       "      <td>146.491036</td>\n",
       "    </tr>\n",
       "  </tbody>\n",
       "</table>\n",
       "</div>"
      ],
      "text/plain": [
       "   subjectid  entryid      y       y_hat\n",
       "0   12689381      575  154.0  145.398916\n",
       "1   12689381      574  147.0  147.389779\n",
       "2   12689381      573  140.0  148.096161\n",
       "3   12689381      572  134.0  147.715828\n",
       "4   12689381      571  130.0  146.491036"
      ]
     },
     "execution_count": 20,
     "metadata": {},
     "output_type": "execute_result"
    }
   ],
   "source": [
    "arima_locs = s3_conn.s3_client.list_objects_v2(Bucket=s3_conn.bucket_name, Prefix=\"models/arima/\")\n",
    "arima_locs['Contents']\n",
    "result_uris = []\n",
    "for x in arima_locs[\"Contents\"]:\n",
    "    path = x['Key']\n",
    "    if \"results\" in path:\n",
    "        uri = f\"s3://{s3_conn.bucket_name}/{path}\"\n",
    "        result_uris.append(uri)\n",
    "result_dfs= []\n",
    "for uri in result_uris:\n",
    "    df = pd.read_csv(uri)\n",
    "    df.columns = ['subjectid', 'entryid', 'y', 'y_hat']\n",
    "    result_dfs.append(df)\n",
    "result_dfs[0].head()"
   ]
  },
  {
   "cell_type": "code",
   "execution_count": 52,
   "id": "4b932394",
   "metadata": {},
   "outputs": [
    {
     "name": "stdout",
     "output_type": "stream",
     "text": [
      "(1253986, 4)\n"
     ]
    },
    {
     "data": {
      "text/html": [
       "<div>\n",
       "<style scoped>\n",
       "    .dataframe tbody tr th:only-of-type {\n",
       "        vertical-align: middle;\n",
       "    }\n",
       "\n",
       "    .dataframe tbody tr th {\n",
       "        vertical-align: top;\n",
       "    }\n",
       "\n",
       "    .dataframe thead th {\n",
       "        text-align: right;\n",
       "    }\n",
       "</style>\n",
       "<table border=\"1\" class=\"dataframe\">\n",
       "  <thead>\n",
       "    <tr style=\"text-align: right;\">\n",
       "      <th></th>\n",
       "      <th>subjectid</th>\n",
       "      <th>entryid</th>\n",
       "      <th>y</th>\n",
       "      <th>y_hat</th>\n",
       "    </tr>\n",
       "  </thead>\n",
       "  <tbody>\n",
       "    <tr>\n",
       "      <th>0</th>\n",
       "      <td>12689381</td>\n",
       "      <td>575</td>\n",
       "      <td>154.0</td>\n",
       "      <td>145.398916</td>\n",
       "    </tr>\n",
       "    <tr>\n",
       "      <th>1</th>\n",
       "      <td>12689381</td>\n",
       "      <td>574</td>\n",
       "      <td>147.0</td>\n",
       "      <td>147.389779</td>\n",
       "    </tr>\n",
       "    <tr>\n",
       "      <th>2</th>\n",
       "      <td>12689381</td>\n",
       "      <td>573</td>\n",
       "      <td>140.0</td>\n",
       "      <td>148.096161</td>\n",
       "    </tr>\n",
       "    <tr>\n",
       "      <th>3</th>\n",
       "      <td>12689381</td>\n",
       "      <td>572</td>\n",
       "      <td>134.0</td>\n",
       "      <td>147.715828</td>\n",
       "    </tr>\n",
       "    <tr>\n",
       "      <th>4</th>\n",
       "      <td>12689381</td>\n",
       "      <td>571</td>\n",
       "      <td>130.0</td>\n",
       "      <td>146.491036</td>\n",
       "    </tr>\n",
       "  </tbody>\n",
       "</table>\n",
       "</div>"
      ],
      "text/plain": [
       "   subjectid  entryid      y       y_hat\n",
       "0   12689381      575  154.0  145.398916\n",
       "1   12689381      574  147.0  147.389779\n",
       "2   12689381      573  140.0  148.096161\n",
       "3   12689381      572  134.0  147.715828\n",
       "4   12689381      571  130.0  146.491036"
      ]
     },
     "execution_count": 52,
     "metadata": {},
     "output_type": "execute_result"
    }
   ],
   "source": [
    "arima_df = pd.concat(result_dfs)\n",
    "\n",
    "# There are 162 rows where y == 0 which artificially inflates MAPE\n",
    "arima_df = arima_df.loc[arima_df['y'] != 0,:]\n",
    "print(arima_df.shape)\n",
    "arima_df.head()"
   ]
  },
  {
   "cell_type": "code",
   "execution_count": 73,
   "id": "b06697a9",
   "metadata": {},
   "outputs": [
    {
     "name": "stdout",
     "output_type": "stream",
     "text": [
      "93839818\n"
     ]
    },
    {
     "data": {
      "text/html": [
       "<div>\n",
       "<style scoped>\n",
       "    .dataframe tbody tr th:only-of-type {\n",
       "        vertical-align: middle;\n",
       "    }\n",
       "\n",
       "    .dataframe tbody tr th {\n",
       "        vertical-align: top;\n",
       "    }\n",
       "\n",
       "    .dataframe thead th {\n",
       "        text-align: right;\n",
       "    }\n",
       "</style>\n",
       "<table border=\"1\" class=\"dataframe\">\n",
       "  <thead>\n",
       "    <tr style=\"text-align: right;\">\n",
       "      <th></th>\n",
       "      <th>subjectid</th>\n",
       "      <th>entryid</th>\n",
       "      <th>y</th>\n",
       "      <th>y_hat</th>\n",
       "    </tr>\n",
       "  </thead>\n",
       "  <tbody>\n",
       "    <tr>\n",
       "      <th>count</th>\n",
       "      <td>13508.0</td>\n",
       "      <td>13508.000000</td>\n",
       "      <td>13508.000000</td>\n",
       "      <td>13508.000000</td>\n",
       "    </tr>\n",
       "    <tr>\n",
       "      <th>mean</th>\n",
       "      <td>93839818.0</td>\n",
       "      <td>201722.300933</td>\n",
       "      <td>120.995114</td>\n",
       "      <td>1932.249169</td>\n",
       "    </tr>\n",
       "    <tr>\n",
       "      <th>std</th>\n",
       "      <td>0.0</td>\n",
       "      <td>8532.815657</td>\n",
       "      <td>54.468599</td>\n",
       "      <td>538.248621</td>\n",
       "    </tr>\n",
       "    <tr>\n",
       "      <th>min</th>\n",
       "      <td>93839818.0</td>\n",
       "      <td>187136.000000</td>\n",
       "      <td>38.000000</td>\n",
       "      <td>1000.078731</td>\n",
       "    </tr>\n",
       "    <tr>\n",
       "      <th>25%</th>\n",
       "      <td>93839818.0</td>\n",
       "      <td>194159.500000</td>\n",
       "      <td>83.000000</td>\n",
       "      <td>1466.163950</td>\n",
       "    </tr>\n",
       "    <tr>\n",
       "      <th>50%</th>\n",
       "      <td>93839818.0</td>\n",
       "      <td>202201.000000</td>\n",
       "      <td>110.000000</td>\n",
       "      <td>1932.249169</td>\n",
       "    </tr>\n",
       "    <tr>\n",
       "      <th>75%</th>\n",
       "      <td>93839818.0</td>\n",
       "      <td>209226.500000</td>\n",
       "      <td>147.000000</td>\n",
       "      <td>2398.334388</td>\n",
       "    </tr>\n",
       "    <tr>\n",
       "      <th>max</th>\n",
       "      <td>93839818.0</td>\n",
       "      <td>216135.000000</td>\n",
       "      <td>400.000000</td>\n",
       "      <td>2864.419607</td>\n",
       "    </tr>\n",
       "  </tbody>\n",
       "</table>\n",
       "</div>"
      ],
      "text/plain": [
       "        subjectid        entryid             y         y_hat\n",
       "count     13508.0   13508.000000  13508.000000  13508.000000\n",
       "mean   93839818.0  201722.300933    120.995114   1932.249169\n",
       "std           0.0    8532.815657     54.468599    538.248621\n",
       "min    93839818.0  187136.000000     38.000000   1000.078731\n",
       "25%    93839818.0  194159.500000     83.000000   1466.163950\n",
       "50%    93839818.0  202201.000000    110.000000   1932.249169\n",
       "75%    93839818.0  209226.500000    147.000000   2398.334388\n",
       "max    93839818.0  216135.000000    400.000000   2864.419607"
      ]
     },
     "execution_count": 73,
     "metadata": {},
     "output_type": "execute_result"
    }
   ],
   "source": [
    "test = arima_df.loc[arima_df['y_hat'] > 1000, :]\n",
    "erroneous_subject =np.unique(test['subjectid'])[0]\n",
    "print(erroneous_subject)\n",
    "test.describe()"
   ]
  },
  {
   "cell_type": "markdown",
   "id": "0f1e0746",
   "metadata": {},
   "source": [
    "Subject 93839818's predictions are erroneous. Drop this subject when evaluating ARIMA metrics."
   ]
  },
  {
   "cell_type": "code",
   "execution_count": 74,
   "id": "9d563895",
   "metadata": {},
   "outputs": [],
   "source": [
    "arima_df = arima_df.loc[arima_df['subjectid'] != erroneous_subject]"
   ]
  },
  {
   "cell_type": "code",
   "execution_count": 110,
   "id": "4d5a7372",
   "metadata": {},
   "outputs": [
    {
     "name": "stdout",
     "output_type": "stream",
     "text": [
      "MSE: 8117.6496236625935\n",
      "RMSE: 53.574637424497695\n",
      "MAE: 57.78072210054919\n",
      "MAPE: 0.5339585423736942\n"
     ]
    }
   ],
   "source": [
    "full_mse = mean_squared_error(arima_df['y'], arima_df['y_hat'])\n",
    "full_rmse = np.sqrt(mse)\n",
    "full_mae = mean_absolute_error(arima_df['y'], arima_df['y_hat'])\n",
    "full_mape = mean_absolute_percentage_error(arima_df['y'], arima_df['y_hat'])\n",
    "print(f'MSE: {full_mse}')\n",
    "print(f'RMSE: {full_rmse}')\n",
    "print(f'MAE: {full_mae}')\n",
    "print(f'MAPE: {full_mape}')\n",
    "full_metrics = {'rmse':full_rmse, \"mae\": full_mae, \"mape\": full_mape}"
   ]
  },
  {
   "cell_type": "code",
   "execution_count": 121,
   "id": "8ff5a785",
   "metadata": {},
   "outputs": [],
   "source": [
    "metrics = {'rmse':[], \"mae\": [], \"mape\": []}\n",
    "grouped = arima_df.groupby('subjectid')\n",
    "for name, group in grouped:\n",
    "    mse = mean_squared_error(group['y'], group['y_hat'])\n",
    "    rmse = np.sqrt(mse)\n",
    "    mae = mean_absolute_error(group['y'], group['y_hat'])\n",
    "    mape = mean_absolute_percentage_error(group['y'], group['y_hat'])\n",
    "    metrics['rmse'].append(rmse)\n",
    "    metrics['mae'].append(mae)\n",
    "    metrics['mape'].append(mape)"
   ]
  },
  {
   "cell_type": "code",
   "execution_count": 96,
   "id": "76367559",
   "metadata": {},
   "outputs": [
    {
     "data": {
      "image/png": "[encoded data removed]",
      "text/plain": [
       "<Figure size 432x288 with 1 Axes>"
      ]
     },
     "metadata": {
      "needs_background": "light"
     },
     "output_type": "display_data"
    }
   ],
   "source": [
    "_= plt.hist(metrics['mape'], bins=75)"
   ]
  },
  {
   "cell_type": "code",
   "execution_count": 122,
   "id": "e448179c",
   "metadata": {},
   "outputs": [
    {
     "name": "stdout",
     "output_type": "stream",
     "text": [
      "0 rmse\n",
      "1 mae\n",
      "2 mape\n"
     ]
    }
   ],
   "source": [
    "for i, j in enumerate(metrics):\n",
    "    print(i,j)"
   ]
  },
  {
   "cell_type": "code",
   "execution_count": 178,
   "id": "bf9795cb",
   "metadata": {},
   "outputs": [
    {
     "data": {
      "image/png": "[encoded data removed]",
      "text/plain": [
       "<Figure size 1080x216 with 3 Axes>"
      ]
     },
     "metadata": {
      "needs_background": "light"
     },
     "output_type": "display_data"
    }
   ],
   "source": [
    "fig, axs = plt.subplots(1,3, sharey=True, figsize=(15,3))\n",
    "\n",
    "indices = [(0,0), (0,1),(0,2)]\n",
    "for idx, key in enumerate(metrics):\n",
    "    ax = axs[idx]\n",
    "    ax.hist(metrics[key], bins=100)\n",
    "    ax.set_title(f\"{key.upper()}\")\n",
    "    ax.axvline(full_metrics[key], color='red', label=f'Test Set {key.upper()}')\n",
    "    ax.legend()\n",
    "_ = plt.suptitle('ARIMA Evaluation Metrics by Subject', y=1.15, fontsize=15)\n",
    "_ = plt.title('Root Mean Square Error (RMSE), Mean Absolute Error (MAE), and Mean Absolute Prediction Error (MAPE)',\n",
    "              x=0.5, transform=fig.transFigure, fontsize=12)"
   ]
  },
  {
   "cell_type": "code",
   "execution_count": 182,
   "id": "4d319d60",
   "metadata": {},
   "outputs": [
    {
     "data": {
      "text/plain": [
       "(-100.0, 600.0)"
      ]
     },
     "execution_count": 182,
     "metadata": {},
     "output_type": "execute_result"
    },
    {
     "data": {
      "image/png": "[encoded data removed]",
      "text/plain": [
       "<Figure size 432x288 with 1 Axes>"
      ]
     },
     "metadata": {
      "needs_background": "light"
     },
     "output_type": "display_data"
    }
   ],
   "source": [
    "# _ = plt.hist(arima_df['y_hat'], bins=20, color='red')\n",
    "_ = plt.hist([arima_df['y'], arima_df['y_hat']], bins=20, label = ['y', 'y_hat'])\n",
    "plt.legend(loc=\"upper left\")\n",
    "plt.xlim(-100, 600)"
   ]
  },
  {
   "cell_type": "code",
   "execution_count": 176,
   "id": "9ae39ddb",
   "metadata": {},
   "outputs": [
    {
     "data": {
      "text/plain": [
       "y        0\n",
       "y_hat    0\n",
       "dtype: int64"
      ]
     },
     "execution_count": 176,
     "metadata": {},
     "output_type": "execute_result"
    }
   ],
   "source": [
    "arima_df[['y', 'y_hat']]"
   ]
  },
  {
   "cell_type": "markdown",
   "id": "3204ffb0",
   "metadata": {},
   "source": [
    "## XGBoost"
   ]
  },
  {
   "cell_type": "markdown",
   "id": "f4729a1f",
   "metadata": {},
   "source": [
    "### XGBoost Load"
   ]
  },
  {
   "cell_type": "code",
   "execution_count": 4,
   "id": "bb848a47",
   "metadata": {},
   "outputs": [],
   "source": [
    "model_loc =  \"models/xgboost/02.11.36.475845_L4607592\"\n",
    "# model_json = s3_conn.s3_client.get_object(Bucket=s3_conn.bucket_name, Key=estimator_loc)\n",
    "# model_bytes = model_json['Body']\n",
    "# type(model_txt)"
   ]
  },
  {
   "cell_type": "code",
   "execution_count": 5,
   "id": "a7c8e647",
   "metadata": {},
   "outputs": [],
   "source": [
    "from s3fs.core import S3FileSystem"
   ]
  },
  {
   "cell_type": "code",
   "execution_count": 10,
   "id": "329b3002",
   "metadata": {},
   "outputs": [],
   "source": [
    "fs = S3FileSystem()\n",
    "bst = xgboost.XGBRegressor()\n",
    "\n",
    "path = \"./model.json\"\n",
    "with fs.open(f\"bgpredict/{model_loc}\", 'rb') as f:\n",
    "    bst.load_model(bytearray(f.read()))"
   ]
  },
  {
   "cell_type": "markdown",
   "id": "7b4d1f7c",
   "metadata": {},
   "source": [
    "### XGBoost Feature Importance"
   ]
  },
  {
   "cell_type": "code",
   "execution_count": 72,
   "id": "b91af333",
   "metadata": {},
   "outputs": [],
   "source": [
    "gain = bst.get_booster().get_score(importance_type='gain')\n",
    "covers = bst.get_booster().get_score(importance_type='cover')\n",
    "freq = bst.get_booster().get_score(importance_type='weight')"
   ]
  },
  {
   "cell_type": "code",
   "execution_count": 94,
   "id": "99e1989f",
   "metadata": {},
   "outputs": [],
   "source": [
    "importances = list(zip(bst.feature_names_in_, bst.feature_importances_))\n",
    "weekday = 0\n",
    "subjectid = 0 \n",
    "other = []\n",
    "for x in importances:\n",
    "    if 'ohe' in x[0]:\n",
    "        indicator = x[0].split(\"_\")[1]\n",
    "        try:\n",
    "            int(indicator)\n",
    "            subjectid += x[1]\n",
    "        except:\n",
    "            weekday += x[1]\n",
    "    else:\n",
    "        key = x[0]\n",
    "        if key == \"normalized_carbs_datapercentile\":\n",
    "            k = \"Carb Data Rank\"\n",
    "        elif key == \"normalized_insulin_datapercentile\":\n",
    "            k = \"Insulin Data Rank\"\n",
    "        elif key == \"carbs_datacount\":\n",
    "            k = \"Recorded Carb Count\"\n",
    "        elif key == \"insulin_datacount\":\n",
    "            k = \"Recorded Insulin Count\"\n",
    "        elif key == \"datediff_currentbg_lastbg_inseconds\":\n",
    "            k = \"Time Since Last BG\"\n",
    "        else:\n",
    "            k = key.replace(\"_\", \" \")\n",
    "        \n",
    "        other.append((k, x[1]))\n",
    "other.append((\"Weekday Effects\", weekday))\n",
    "other.append((\"Subject Effects\", subjectid))\n",
    "other.sort(key=lambda x: x[1])\n",
    "# other"
   ]
  },
  {
   "cell_type": "code",
   "execution_count": 95,
   "id": "aea693bd",
   "metadata": {},
   "outputs": [
    {
     "data": {
      "text/plain": [
       "Text(0.5, 1.0, 'XGBoost Feature Importance')"
      ]
     },
     "execution_count": 95,
     "metadata": {},
     "output_type": "execute_result"
    },
    {
     "data": {
      "image/png": "[encoded data removed]",
      "text/plain": [
       "<Figure size 360x720 with 1 Axes>"
      ]
     },
     "metadata": {
      "needs_background": "light"
     },
     "output_type": "display_data"
    }
   ],
   "source": [
    "fig, ax = plt.subplots(figsize=(5, 10))\n",
    "ax.barh(y=[x[0] for x in other], width=[x[1] for x in other])\n",
    "plt.title(\"XGBoost Feature Importance\")"
   ]
  },
  {
   "cell_type": "markdown",
   "id": "578b8635",
   "metadata": {},
   "source": [
    "### XGBoost Metrics"
   ]
  },
  {
   "cell_type": "code",
   "execution_count": 104,
   "id": "7614edd1",
   "metadata": {},
   "outputs": [
    {
     "name": "stdout",
     "output_type": "stream",
     "text": [
      "subjectid\n",
      "entryid\n",
      "train_set\n",
      "test_set\n",
      "validation_set\n",
      "bg\n"
     ]
    }
   ],
   "source": [
    "clean_cols = list(clean_df.columns)\n",
    "features = bst.feature_names_in_\n",
    "for i in clean_cols:\n",
    "    if i not in features:\n",
    "        print(i)"
   ]
  },
  {
   "cell_type": "code",
   "execution_count": 105,
   "id": "d1d3f9bd",
   "metadata": {},
   "outputs": [],
   "source": [
    "drop_cols = ['train_set', 'validation_set', 'test_set', 'subjectid', 'entryid', 'bg']\n",
    "pred_df = clean_df.drop(drop_cols, axis=1)\n",
    "preds = bst.predict(pred_df)"
   ]
  },
  {
   "cell_type": "code",
   "execution_count": 116,
   "id": "e7a7f34c",
   "metadata": {},
   "outputs": [
    {
     "data": {
      "text/plain": [
       "0          182.471954\n",
       "1          192.619751\n",
       "2          191.927048\n",
       "3          177.449188\n",
       "4          172.775406\n",
       "              ...    \n",
       "1305550    135.278976\n",
       "1305551    130.335175\n",
       "1305552    126.889259\n",
       "1305553    120.187225\n",
       "1305554    117.611771\n",
       "Name: y_hat, Length: 1305555, dtype: float32"
      ]
     },
     "execution_count": 116,
     "metadata": {},
     "output_type": "execute_result"
    }
   ],
   "source": []
  },
  {
   "cell_type": "code",
   "execution_count": 118,
   "id": "00594a3c",
   "metadata": {},
   "outputs": [
    {
     "data": {
      "text/html": [
       "<div>\n",
       "<style scoped>\n",
       "    .dataframe tbody tr th:only-of-type {\n",
       "        vertical-align: middle;\n",
       "    }\n",
       "\n",
       "    .dataframe tbody tr th {\n",
       "        vertical-align: top;\n",
       "    }\n",
       "\n",
       "    .dataframe thead th {\n",
       "        text-align: right;\n",
       "    }\n",
       "</style>\n",
       "<table border=\"1\" class=\"dataframe\">\n",
       "  <thead>\n",
       "    <tr style=\"text-align: right;\">\n",
       "      <th></th>\n",
       "      <th>subjectid</th>\n",
       "      <th>entryid</th>\n",
       "      <th>bg</th>\n",
       "    </tr>\n",
       "    <tr>\n",
       "      <th>timestamp_clean</th>\n",
       "      <th></th>\n",
       "      <th></th>\n",
       "      <th></th>\n",
       "    </tr>\n",
       "  </thead>\n",
       "  <tbody>\n",
       "    <tr>\n",
       "      <th>2016-08-10 00:43:50.664</th>\n",
       "      <td>68267781</td>\n",
       "      <td>43948</td>\n",
       "      <td>196.0</td>\n",
       "    </tr>\n",
       "    <tr>\n",
       "      <th>2016-08-10 00:48:51.032</th>\n",
       "      <td>68267781</td>\n",
       "      <td>43947</td>\n",
       "      <td>197.0</td>\n",
       "    </tr>\n",
       "    <tr>\n",
       "      <th>2016-08-10 01:13:49.950</th>\n",
       "      <td>68267781</td>\n",
       "      <td>43942</td>\n",
       "      <td>184.0</td>\n",
       "    </tr>\n",
       "    <tr>\n",
       "      <th>2016-08-10 01:23:49.686</th>\n",
       "      <td>68267781</td>\n",
       "      <td>43940</td>\n",
       "      <td>179.0</td>\n",
       "    </tr>\n",
       "    <tr>\n",
       "      <th>2016-08-10 01:33:50.462</th>\n",
       "      <td>68267781</td>\n",
       "      <td>43938</td>\n",
       "      <td>162.0</td>\n",
       "    </tr>\n",
       "    <tr>\n",
       "      <th>...</th>\n",
       "      <td>...</td>\n",
       "      <td>...</td>\n",
       "      <td>...</td>\n",
       "    </tr>\n",
       "    <tr>\n",
       "      <th>2021-03-18 23:36:58.983</th>\n",
       "      <td>56958831</td>\n",
       "      <td>29697</td>\n",
       "      <td>132.0</td>\n",
       "    </tr>\n",
       "    <tr>\n",
       "      <th>2021-03-18 23:41:59.650</th>\n",
       "      <td>56958831</td>\n",
       "      <td>29696</td>\n",
       "      <td>129.0</td>\n",
       "    </tr>\n",
       "    <tr>\n",
       "      <th>2021-03-18 23:46:58.908</th>\n",
       "      <td>56958831</td>\n",
       "      <td>29695</td>\n",
       "      <td>122.0</td>\n",
       "    </tr>\n",
       "    <tr>\n",
       "      <th>2021-03-18 23:51:59.718</th>\n",
       "      <td>56958831</td>\n",
       "      <td>29694</td>\n",
       "      <td>120.0</td>\n",
       "    </tr>\n",
       "    <tr>\n",
       "      <th>2021-03-18 23:57:00.537</th>\n",
       "      <td>56958831</td>\n",
       "      <td>29693</td>\n",
       "      <td>117.0</td>\n",
       "    </tr>\n",
       "  </tbody>\n",
       "</table>\n",
       "<p>1305555 rows × 3 columns</p>\n",
       "</div>"
      ],
      "text/plain": [
       "                         subjectid  entryid     bg\n",
       "timestamp_clean                                   \n",
       "2016-08-10 00:43:50.664   68267781    43948  196.0\n",
       "2016-08-10 00:48:51.032   68267781    43947  197.0\n",
       "2016-08-10 01:13:49.950   68267781    43942  184.0\n",
       "2016-08-10 01:23:49.686   68267781    43940  179.0\n",
       "2016-08-10 01:33:50.462   68267781    43938  162.0\n",
       "...                            ...      ...    ...\n",
       "2021-03-18 23:36:58.983   56958831    29697  132.0\n",
       "2021-03-18 23:41:59.650   56958831    29696  129.0\n",
       "2021-03-18 23:46:58.908   56958831    29695  122.0\n",
       "2021-03-18 23:51:59.718   56958831    29694  120.0\n",
       "2021-03-18 23:57:00.537   56958831    29693  117.0\n",
       "\n",
       "[1305555 rows x 3 columns]"
      ]
     },
     "execution_count": 118,
     "metadata": {},
     "output_type": "execute_result"
    }
   ],
   "source": [
    "clean_df.loc[: , ['subjectid', 'entryid', 'bg']].reset_index()"
   ]
  },
  {
   "cell_type": "code",
   "execution_count": 145,
   "id": "7a45b8d8",
   "metadata": {},
   "outputs": [
    {
     "data": {
      "text/html": [
       "<div>\n",
       "<style scoped>\n",
       "    .dataframe tbody tr th:only-of-type {\n",
       "        vertical-align: middle;\n",
       "    }\n",
       "\n",
       "    .dataframe tbody tr th {\n",
       "        vertical-align: top;\n",
       "    }\n",
       "\n",
       "    .dataframe thead th {\n",
       "        text-align: right;\n",
       "    }\n",
       "</style>\n",
       "<table border=\"1\" class=\"dataframe\">\n",
       "  <thead>\n",
       "    <tr style=\"text-align: right;\">\n",
       "      <th></th>\n",
       "      <th>subjectid</th>\n",
       "      <th>entryid</th>\n",
       "      <th>y</th>\n",
       "      <th>y_hat</th>\n",
       "    </tr>\n",
       "  </thead>\n",
       "  <tbody>\n",
       "    <tr>\n",
       "      <th>0</th>\n",
       "      <td>68267781</td>\n",
       "      <td>43948</td>\n",
       "      <td>196.0</td>\n",
       "      <td>182.471954</td>\n",
       "    </tr>\n",
       "    <tr>\n",
       "      <th>1</th>\n",
       "      <td>68267781</td>\n",
       "      <td>43947</td>\n",
       "      <td>197.0</td>\n",
       "      <td>192.619751</td>\n",
       "    </tr>\n",
       "    <tr>\n",
       "      <th>2</th>\n",
       "      <td>68267781</td>\n",
       "      <td>43942</td>\n",
       "      <td>184.0</td>\n",
       "      <td>191.927048</td>\n",
       "    </tr>\n",
       "    <tr>\n",
       "      <th>3</th>\n",
       "      <td>68267781</td>\n",
       "      <td>43940</td>\n",
       "      <td>179.0</td>\n",
       "      <td>177.449188</td>\n",
       "    </tr>\n",
       "    <tr>\n",
       "      <th>4</th>\n",
       "      <td>68267781</td>\n",
       "      <td>43938</td>\n",
       "      <td>162.0</td>\n",
       "      <td>172.775406</td>\n",
       "    </tr>\n",
       "  </tbody>\n",
       "</table>\n",
       "</div>"
      ],
      "text/plain": [
       "   subjectid  entryid      y       y_hat\n",
       "0   68267781    43948  196.0  182.471954\n",
       "1   68267781    43947  197.0  192.619751\n",
       "2   68267781    43942  184.0  191.927048\n",
       "3   68267781    43940  179.0  177.449188\n",
       "4   68267781    43938  162.0  172.775406"
      ]
     },
     "execution_count": 145,
     "metadata": {},
     "output_type": "execute_result"
    }
   ],
   "source": [
    "y_hat = pd.Series(preds, name='y_hat')\n",
    "dfs = [clean_df.loc[:, ['subjectid', 'entryid', 'bg']].reset_index(drop=True), y_hat]\n",
    "xgboost_df = pd.concat(dfs, axis=1, ignore_index=True)\n",
    "xgboost_df.columns = [\"subjectid\", \"entryid\", \"y\", \"y_hat\"]\n",
    "# Drop 162 0 values which artificially inflate MAPE \n",
    "xgboost_df = xgboost_df.loc[ xgboost_df['y'] !=0, :]\n",
    "xgboost_df.head()"
   ]
  },
  {
   "cell_type": "code",
   "execution_count": 146,
   "id": "6d417db8",
   "metadata": {},
   "outputs": [
    {
     "name": "stdout",
     "output_type": "stream",
     "text": [
      "MSE: 129.37372673948317\n",
      "RMSE: 11.374257195064791\n",
      "MAE: 5.166898947717827\n",
      "MAPE: 0.05514040372229424\n"
     ]
    }
   ],
   "source": [
    "full_mse = mean_squared_error(xgboost_df['y'], xgboost_df['y_hat'])\n",
    "full_rmse = np.sqrt(full_mse)\n",
    "full_mae = mean_absolute_error(xgboost_df['y'], xgboost_df['y_hat'])\n",
    "full_mape = mean_absolute_percentage_error(xgboost_df['y'], xgboost_df['y_hat'])\n",
    "print(f'MSE: {full_mse}')\n",
    "print(f'RMSE: {full_rmse}')\n",
    "print(f'MAE: {full_mae}')\n",
    "print(f'MAPE: {full_mape}')\n",
    "full_metrics = {'rmse':full_rmse, \"mae\": full_mae, \"mape\": full_mape}"
   ]
  },
  {
   "cell_type": "code",
   "execution_count": 147,
   "id": "31e57bc7",
   "metadata": {},
   "outputs": [],
   "source": [
    "metrics = {'rmse':[], \"mae\": [], \"mape\": []}\n",
    "grouped = xgboost_df.groupby('subjectid')\n",
    "for name, group in grouped:\n",
    "    mse = mean_squared_error(group['y'], group['y_hat'])\n",
    "    rmse = np.sqrt(mse)\n",
    "    mae = mean_absolute_error(group['y'], group['y_hat'])\n",
    "    mape = mean_absolute_percentage_error(group['y'], group['y_hat'])\n",
    "    if mape >1000:\n",
    "        print(group['subjectid'].iloc[0])\n",
    "    metrics['rmse'].append(rmse)\n",
    "    metrics['mae'].append(mae)\n",
    "    metrics['mape'].append(mape)"
   ]
  },
  {
   "cell_type": "code",
   "execution_count": 149,
   "id": "b1b8176c",
   "metadata": {},
   "outputs": [
    {
     "data": {
      "image/png": "[encoded data removed]",
      "text/plain": [
       "<Figure size 1080x216 with 3 Axes>"
      ]
     },
     "metadata": {
      "needs_background": "light"
     },
     "output_type": "display_data"
    }
   ],
   "source": [
    "fig, axs = plt.subplots(1,3, sharey=False, figsize=(15,3))\n",
    "\n",
    "indices = [(0,0), (0,1),(0,2)]\n",
    "for idx, key in enumerate(metrics):\n",
    "    ax = axs[idx]\n",
    "    ax.hist(metrics[key], bins=100)\n",
    "    ax.set_title(f\"{key.upper()}\")\n",
    "    ax.axvline(full_metrics[key], color='red', label=f'Test Set {key.upper()}')\n",
    "    ax.legend()\n",
    "_ = plt.suptitle('XGBoost Evaluation Metrics by Subject in Test Set', y=1.15, fontsize=15)\n",
    "_ = plt.title('Root Mean Square Error (RMSE), Mean Absolute Error (MAE), and Mean Absolute Prediction Error (MAPE)',\n",
    "              x=0.5, transform=fig.transFigure, fontsize=12)"
   ]
  },
  {
   "cell_type": "code",
   "execution_count": 157,
   "id": "b134e4ab",
   "metadata": {},
   "outputs": [],
   "source": [
    "test = []\n",
    "for name, group in grouped:\n",
    "    mse = mean_squared_error(group['y'], group['y_hat'])\n",
    "    rmse = np.sqrt(mse)\n",
    "#     mae = mean_absolute_error(group['y'], group['y_hat'])\n",
    "#     mape = mean_absolute_percentage_error(group['y'], group['y_hat'])\n",
    "    std_dev = np.std(group['y'])\n",
    "#     print(std_dev)\n",
    "    test.append((rmse, std_dev))\n",
    "    "
   ]
  },
  {
   "cell_type": "code",
   "execution_count": 156,
   "id": "a97ba7fd",
   "metadata": {},
   "outputs": [
    {
     "data": {
      "text/plain": [
       "<matplotlib.collections.PathCollection at 0x7f8c661b6ef0>"
      ]
     },
     "execution_count": 156,
     "metadata": {},
     "output_type": "execute_result"
    },
    {
     "data": {
      "image/png": "[encoded data removed]",
      "text/plain": [
       "<Figure size 432x288 with 1 Axes>"
      ]
     },
     "metadata": {
      "needs_background": "light"
     },
     "output_type": "display_data"
    }
   ],
   "source": [
    "plt.scatter([x[0] for x in test], [x[1] for x in test])"
   ]
  },
  {
   "cell_type": "markdown",
   "id": "c509107c",
   "metadata": {},
   "source": [
    "## LSTM"
   ]
  }
 ],
 "metadata": {
  "kernelspec": {
   "display_name": "Python 3 (ipykernel)",
   "language": "python",
   "name": "python3"
  },
  "language_info": {
   "codemirror_mode": {
    "name": "ipython",
    "version": 3
   },
   "file_extension": ".py",
   "mimetype": "text/x-python",
   "name": "python",
   "nbconvert_exporter": "python",
   "pygments_lexer": "ipython3",
   "version": "3.10.5"
  }
 },
 "nbformat": 4,
 "nbformat_minor": 5
}
