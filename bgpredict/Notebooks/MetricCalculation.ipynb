{
 "cells": [
  {
   "cell_type": "markdown",
   "id": "3a77f6c9",
   "metadata": {},
   "source": [
    "# Metric Calculation\n",
    "Calculate metrics for models run on the full dataset"
   ]
  },
  {
   "cell_type": "markdown",
   "id": "39af0647",
   "metadata": {},
   "source": [
    "## Imports and Data Loading"
   ]
  },
  {
   "cell_type": "code",
   "execution_count": 180,
   "id": "caccfaa6",
   "metadata": {},
   "outputs": [],
   "source": [
    "import xgboost\n",
    "from xgboost import plot_importance\n",
    "from bgpredict.helpers import S3Connection\n",
    "from dotenv import load_dotenv\n",
    "import multiprocessing\n",
    "import json\n",
    "import os\n",
    "import numpy as np\n",
    "from numpy.random import default_rng\n",
    "import pandas as pd\n",
    "from dotenv import load_dotenv\n",
    "from sklearn.model_selection import RandomizedSearchCV, GridSearchCV\n",
    "from sklearn.metrics import mean_squared_error, mean_absolute_error, mean_absolute_percentage_error, r2_score\n",
    "import sqlalchemy\n",
    "from sqlalchemy import create_engine\n",
    "from datetime import datetime\n",
    "from skopt import BayesSearchCV, dump, load\n",
    "from skopt.plots import plot_objective, plot_histogram\n",
    "import s3fs\n",
    "import matplotlib.pyplot as plt \n",
    "import torch\n",
    "from torch import nn"
   ]
  },
  {
   "cell_type": "code",
   "execution_count": 96,
   "id": "cc062563",
   "metadata": {},
   "outputs": [],
   "source": [
    "os.chdir('../')\n",
    "load_dotenv()\n",
    "os.chdir('./Notebooks')"
   ]
  },
  {
   "cell_type": "code",
   "execution_count": 181,
   "id": "7cf2eee5",
   "metadata": {},
   "outputs": [],
   "source": [
    "def clean_data(df, drop_cols = [\"timestamp\", \"date\", \"time\"]):\n",
    "    # Drop rows with no Y value\n",
    "    df = df.dropna(subset='bg')\n",
    "\n",
    "    # Fill nulls (lag BG values) with 0 to indicate data is unavailable\n",
    "    print(f\"Null values to be filled by column:\")\n",
    "    nulls = df.isna().sum()\n",
    "    null_idx = list(nulls.index)\n",
    "    vals = list(nulls)\n",
    "    for col, val in list(zip(null_idx, vals)):\n",
    "        if val > 0:\n",
    "            print(col, val)\n",
    "    df = df.fillna(0)\n",
    "\n",
    "    # Sort by timestamp\n",
    "    current_len = len(df)\n",
    "    df = df.loc[~(df['timestamp_clean'].apply(type) == int), :]\n",
    "    print(f\"Dropping {current_len - len(df)} invalid timestamps\")\n",
    "    df = df.sort_values(by=\"timestamp_clean\")\n",
    "\n",
    "    # Set index to time_stamp_clean\n",
    "    df.index = df['timestamp_clean']\n",
    "    df = df.drop(labels=['timestamp_clean'], axis=1)\n",
    "\n",
    "    # Drop first row by subject which has data quality issues\n",
    "    df = df[df.groupby('subjectid').cumcount() > 0]\n",
    "\n",
    "    # Drop columns that are indices, irrelevant, or capture in OHE variables\n",
    "#     drop_cols = ['timestamp', 'date', 'time']\n",
    "    df = df.drop(labels=drop_cols, axis=1)\n",
    "\n",
    "    # One hot Encode Weekdays\n",
    "    weekdays = np.unique(df['weekday'])\n",
    "    ohe_weekdays = [f\"ohe_{day}\" for day in weekdays]\n",
    "    df[ohe_weekdays] = pd.get_dummies(df.weekday)\n",
    "    df = df.drop(labels=\"weekday\", axis=1)\n",
    "\n",
    "    return df"
   ]
  },
  {
   "cell_type": "code",
   "execution_count": 187,
   "id": "c19912ce",
   "metadata": {},
   "outputs": [
    {
     "name": "stdout",
     "output_type": "stream",
     "text": [
      "Null values to be filled by column:\n",
      "bg_lag_1 6593\n",
      "bg_lag_2 6449\n",
      "bg_lag_3 6420\n",
      "bg_lag_4 6548\n",
      "bg_lag_5 6614\n",
      "bg_lag_6 6577\n",
      "bg_lag_7 6653\n",
      "bg_lag_8 6720\n",
      "bg_lag_9 6683\n",
      "bg_lag_10 6694\n",
      "bg_lag_11 6746\n",
      "bg_lag_12 6758\n",
      "Dropping 0 invalid timestamps\n"
     ]
    }
   ],
   "source": [
    "location = f\"postgresql://postgres:{os.environ.get('db_password')}@{os.environ.get('db_location')}\"\n",
    "engine = create_engine(location)\n",
    "conn = engine.connect()\n",
    "raw_df = pd.read_sql(\"select * from public.tb_final_dataset where test_set = 1\", conn)\n",
    "clean_df = clean_data(raw_df)"
   ]
  },
  {
   "cell_type": "code",
   "execution_count": 188,
   "id": "10e3eb18",
   "metadata": {},
   "outputs": [],
   "source": [
    "s3_conn = S3Connection()"
   ]
  },
  {
   "cell_type": "markdown",
   "id": "1b3be6d9",
   "metadata": {},
   "source": [
    "## Helper Funcs"
   ]
  },
  {
   "cell_type": "code",
   "execution_count": 26,
   "id": "961aa868",
   "metadata": {},
   "outputs": [],
   "source": [
    "def graph_metrics(model_type, overall_metrics, by_subject_metrics, text_y):\n",
    "    fig, axs = plt.subplots(1,3, sharey=True, figsize=(15,3))\n",
    "    for idx, key in enumerate(by_subject_metrics):\n",
    "        ax = axs[idx]\n",
    "        ax.hist(by_subject_metrics[key], bins=100)\n",
    "        ax.set_title(f\"{key.upper()}\")\n",
    "        overall_metric = overall_metrics[key]\n",
    "        vertical_line = ax.axvline(overall_metric, color='red', label=f'Test {key.upper()}')\n",
    "        ax.text(x = overall_metric+ 0.01 * ax.get_xlim()[1], y=text_y, s=np.round(overall_metric, 2))\n",
    "        x_coord = vertical_line.get_xdata()[1]\n",
    "        ax.legend()\n",
    "        ax.set_xlabel(f\"{key.upper()}\")\n",
    "        plt.suptitle(f'{model_type} Evaluation Metrics by Subject', y=1.15, fontsize=15)\n",
    "        plt.title('Root Mean Square Error (RMSE), Mean Absolute Error (MAE), and Mean Absolute Prediction Error (MAPE)',\n",
    "                  x=0.5, transform=fig.transFigure, fontsize=12)\n",
    "        fig.supylabel(\"Subject Count\", x=0.08)"
   ]
  },
  {
   "cell_type": "markdown",
   "id": "db95eea1",
   "metadata": {},
   "source": [
    "## Arima"
   ]
  },
  {
   "cell_type": "code",
   "execution_count": 63,
   "id": "1fd84a53",
   "metadata": {},
   "outputs": [
    {
     "data": {
      "text/html": [
       "<div>\n",
       "<style scoped>\n",
       "    .dataframe tbody tr th:only-of-type {\n",
       "        vertical-align: middle;\n",
       "    }\n",
       "\n",
       "    .dataframe tbody tr th {\n",
       "        vertical-align: top;\n",
       "    }\n",
       "\n",
       "    .dataframe thead th {\n",
       "        text-align: right;\n",
       "    }\n",
       "</style>\n",
       "<table border=\"1\" class=\"dataframe\">\n",
       "  <thead>\n",
       "    <tr style=\"text-align: right;\">\n",
       "      <th></th>\n",
       "      <th>subjectid</th>\n",
       "      <th>entryid</th>\n",
       "      <th>y</th>\n",
       "      <th>y_hat</th>\n",
       "    </tr>\n",
       "  </thead>\n",
       "  <tbody>\n",
       "    <tr>\n",
       "      <th>0</th>\n",
       "      <td>12689381</td>\n",
       "      <td>575</td>\n",
       "      <td>154.0</td>\n",
       "      <td>145.398916</td>\n",
       "    </tr>\n",
       "    <tr>\n",
       "      <th>1</th>\n",
       "      <td>12689381</td>\n",
       "      <td>574</td>\n",
       "      <td>147.0</td>\n",
       "      <td>147.389779</td>\n",
       "    </tr>\n",
       "    <tr>\n",
       "      <th>2</th>\n",
       "      <td>12689381</td>\n",
       "      <td>573</td>\n",
       "      <td>140.0</td>\n",
       "      <td>148.096161</td>\n",
       "    </tr>\n",
       "    <tr>\n",
       "      <th>3</th>\n",
       "      <td>12689381</td>\n",
       "      <td>572</td>\n",
       "      <td>134.0</td>\n",
       "      <td>147.715828</td>\n",
       "    </tr>\n",
       "    <tr>\n",
       "      <th>4</th>\n",
       "      <td>12689381</td>\n",
       "      <td>571</td>\n",
       "      <td>130.0</td>\n",
       "      <td>146.491036</td>\n",
       "    </tr>\n",
       "  </tbody>\n",
       "</table>\n",
       "</div>"
      ],
      "text/plain": [
       "   subjectid  entryid      y       y_hat\n",
       "0   12689381      575  154.0  145.398916\n",
       "1   12689381      574  147.0  147.389779\n",
       "2   12689381      573  140.0  148.096161\n",
       "3   12689381      572  134.0  147.715828\n",
       "4   12689381      571  130.0  146.491036"
      ]
     },
     "execution_count": 63,
     "metadata": {},
     "output_type": "execute_result"
    }
   ],
   "source": [
    "arima_locs = s3_conn.s3_client.list_objects_v2(Bucket=s3_conn.bucket_name, Prefix=\"models/arima/\")\n",
    "arima_locs['Contents']\n",
    "result_uris = []\n",
    "for x in arima_locs[\"Contents\"]:\n",
    "    path = x['Key']\n",
    "    if \"results\" in path:\n",
    "        uri = f\"s3://{s3_conn.bucket_name}/{path}\"\n",
    "        result_uris.append(uri)\n",
    "result_dfs= []\n",
    "for uri in result_uris:\n",
    "    df = pd.read_csv(uri)\n",
    "    df.columns = ['subjectid', 'entryid', 'y', 'y_hat']\n",
    "    result_dfs.append(df)\n",
    "result_dfs[0].head()"
   ]
  },
  {
   "cell_type": "code",
   "execution_count": 64,
   "id": "4b932394",
   "metadata": {},
   "outputs": [
    {
     "name": "stdout",
     "output_type": "stream",
     "text": [
      "(1253986, 4)\n"
     ]
    }
   ],
   "source": [
    "arima_df = pd.concat(result_dfs)\n",
    "\n",
    "# There are 162 rows where y == 0 which artificially inflates MAPE\n",
    "arima_df = arima_df.loc[arima_df['y'] != 0,:]\n",
    "print(arima_df.shape)"
   ]
  },
  {
   "cell_type": "code",
   "execution_count": 65,
   "id": "b06697a9",
   "metadata": {},
   "outputs": [
    {
     "name": "stdout",
     "output_type": "stream",
     "text": [
      "93839818\n"
     ]
    },
    {
     "data": {
      "text/html": [
       "<div>\n",
       "<style scoped>\n",
       "    .dataframe tbody tr th:only-of-type {\n",
       "        vertical-align: middle;\n",
       "    }\n",
       "\n",
       "    .dataframe tbody tr th {\n",
       "        vertical-align: top;\n",
       "    }\n",
       "\n",
       "    .dataframe thead th {\n",
       "        text-align: right;\n",
       "    }\n",
       "</style>\n",
       "<table border=\"1\" class=\"dataframe\">\n",
       "  <thead>\n",
       "    <tr style=\"text-align: right;\">\n",
       "      <th></th>\n",
       "      <th>subjectid</th>\n",
       "      <th>entryid</th>\n",
       "      <th>y</th>\n",
       "      <th>y_hat</th>\n",
       "    </tr>\n",
       "  </thead>\n",
       "  <tbody>\n",
       "    <tr>\n",
       "      <th>count</th>\n",
       "      <td>13508.0</td>\n",
       "      <td>13508.000000</td>\n",
       "      <td>13508.000000</td>\n",
       "      <td>13508.000000</td>\n",
       "    </tr>\n",
       "    <tr>\n",
       "      <th>mean</th>\n",
       "      <td>93839818.0</td>\n",
       "      <td>201722.300933</td>\n",
       "      <td>120.995114</td>\n",
       "      <td>1932.249169</td>\n",
       "    </tr>\n",
       "    <tr>\n",
       "      <th>std</th>\n",
       "      <td>0.0</td>\n",
       "      <td>8532.815657</td>\n",
       "      <td>54.468599</td>\n",
       "      <td>538.248621</td>\n",
       "    </tr>\n",
       "    <tr>\n",
       "      <th>min</th>\n",
       "      <td>93839818.0</td>\n",
       "      <td>187136.000000</td>\n",
       "      <td>38.000000</td>\n",
       "      <td>1000.078731</td>\n",
       "    </tr>\n",
       "    <tr>\n",
       "      <th>25%</th>\n",
       "      <td>93839818.0</td>\n",
       "      <td>194159.500000</td>\n",
       "      <td>83.000000</td>\n",
       "      <td>1466.163950</td>\n",
       "    </tr>\n",
       "    <tr>\n",
       "      <th>50%</th>\n",
       "      <td>93839818.0</td>\n",
       "      <td>202201.000000</td>\n",
       "      <td>110.000000</td>\n",
       "      <td>1932.249169</td>\n",
       "    </tr>\n",
       "    <tr>\n",
       "      <th>75%</th>\n",
       "      <td>93839818.0</td>\n",
       "      <td>209226.500000</td>\n",
       "      <td>147.000000</td>\n",
       "      <td>2398.334388</td>\n",
       "    </tr>\n",
       "    <tr>\n",
       "      <th>max</th>\n",
       "      <td>93839818.0</td>\n",
       "      <td>216135.000000</td>\n",
       "      <td>400.000000</td>\n",
       "      <td>2864.419607</td>\n",
       "    </tr>\n",
       "  </tbody>\n",
       "</table>\n",
       "</div>"
      ],
      "text/plain": [
       "        subjectid        entryid             y         y_hat\n",
       "count     13508.0   13508.000000  13508.000000  13508.000000\n",
       "mean   93839818.0  201722.300933    120.995114   1932.249169\n",
       "std           0.0    8532.815657     54.468599    538.248621\n",
       "min    93839818.0  187136.000000     38.000000   1000.078731\n",
       "25%    93839818.0  194159.500000     83.000000   1466.163950\n",
       "50%    93839818.0  202201.000000    110.000000   1932.249169\n",
       "75%    93839818.0  209226.500000    147.000000   2398.334388\n",
       "max    93839818.0  216135.000000    400.000000   2864.419607"
      ]
     },
     "execution_count": 65,
     "metadata": {},
     "output_type": "execute_result"
    }
   ],
   "source": [
    "test = arima_df.loc[arima_df['y_hat'] > 1000, :]\n",
    "erroneous_subject =np.unique(test['subjectid'])[0]\n",
    "print(erroneous_subject)\n",
    "test.describe()"
   ]
  },
  {
   "cell_type": "markdown",
   "id": "0f1e0746",
   "metadata": {},
   "source": [
    "Subject 93839818's predictions are erroneous. Drop this subject when evaluating ARIMA metrics."
   ]
  },
  {
   "cell_type": "code",
   "execution_count": 66,
   "id": "9d563895",
   "metadata": {},
   "outputs": [],
   "source": [
    "arima_df = arima_df.loc[arima_df['subjectid'] != erroneous_subject]"
   ]
  },
  {
   "cell_type": "code",
   "execution_count": 67,
   "id": "4d5a7372",
   "metadata": {},
   "outputs": [
    {
     "name": "stdout",
     "output_type": "stream",
     "text": [
      "MSE: 8117.6496236625935\n",
      "RMSE: 90.09800010911782\n",
      "MAE: 57.78072210054919\n",
      "MAPE: 0.5339585423736942\n"
     ]
    }
   ],
   "source": [
    "full_mse = mean_squared_error(arima_df['y'], arima_df['y_hat'])\n",
    "full_rmse = np.sqrt(full_mse)\n",
    "full_mae = mean_absolute_error(arima_df['y'], arima_df['y_hat'])\n",
    "full_mape = mean_absolute_percentage_error(arima_df['y'], arima_df['y_hat'])\n",
    "print(f'MSE: {full_mse}')\n",
    "print(f'RMSE: {full_rmse}')\n",
    "print(f'MAE: {full_mae}')\n",
    "print(f'MAPE: {full_mape}')\n",
    "full_metrics = {'rmse':full_rmse, \"mae\": full_mae, \"mape\": full_mape}"
   ]
  },
  {
   "cell_type": "code",
   "execution_count": 68,
   "id": "8ff5a785",
   "metadata": {},
   "outputs": [],
   "source": [
    "metrics = {'rmse':[], \"mae\": [], \"mape\": []}\n",
    "grouped = arima_df.groupby('subjectid')\n",
    "for name, group in grouped:\n",
    "    mse = mean_squared_error(group['y'], group['y_hat'])\n",
    "    rmse = np.sqrt(mse)\n",
    "    mae = mean_absolute_error(group['y'], group['y_hat'])\n",
    "    mape = mean_absolute_percentage_error(group['y'], group['y_hat'])\n",
    "    metrics['rmse'].append(rmse)\n",
    "    metrics['mae'].append(mae)\n",
    "    metrics['mape'].append(mape)"
   ]
  },
  {
   "cell_type": "code",
   "execution_count": 69,
   "id": "73b94e39",
   "metadata": {},
   "outputs": [],
   "source": [
    "def graph_metrics(model_type, overall_metrics, by_subject_metrics, text_y):\n",
    "    fig, axs = plt.subplots(1,3, sharey=True, figsize=(15,3))\n",
    "    for idx, key in enumerate(by_subject_metrics):\n",
    "        ax = axs[idx]\n",
    "        ax.hist(by_subject_metrics[key], bins=100)\n",
    "        ax.set_title(f\"{key.upper()}\")\n",
    "        overall_metric = overall_metrics[key]\n",
    "        vertical_line = ax.axvline(overall_metric, color='red', label=f'Test {key.upper()}')\n",
    "        ax.text(x = overall_metric+ 0.01 * ax.get_xlim()[1], y=text_y, s=np.round(overall_metric, 2))\n",
    "        x_coord = vertical_line.get_xdata()[1]\n",
    "        ax.legend()\n",
    "        ax.set_xlabel(f\"{key.upper()}\")\n",
    "    _ = plt.suptitle('ARIMA Evaluation Metrics by Subject', y=1.15, fontsize=15)\n",
    "    _ = plt.title('Root Mean Square Error (RMSE), Mean Absolute Error (MAE), and Mean Absolute Prediction Error (MAPE)',\n",
    "                  x=0.5, transform=fig.transFigure, fontsize=12)\n",
    "    _ = fig.supylabel(\"Subject Count\", x=0.08)"
   ]
  },
  {
   "cell_type": "code",
   "execution_count": 71,
   "id": "5fbb1724",
   "metadata": {},
   "outputs": [
    {
     "data": {
      "image/png": "[encoded data removed]",
      "text/plain": [
       "<Figure size 1080x216 with 3 Axes>"
      ]
     },
     "metadata": {
      "needs_background": "light"
     },
     "output_type": "display_data"
    }
   ],
   "source": [
    "graph_metrics(\"ARIMA\", full_metrics, metrics, 15)"
   ]
  },
  {
   "cell_type": "code",
   "execution_count": 17,
   "id": "4d319d60",
   "metadata": {},
   "outputs": [
    {
     "data": {
      "text/plain": [
       "(-100.0, 600.0)"
      ]
     },
     "execution_count": 17,
     "metadata": {},
     "output_type": "execute_result"
    },
    {
     "data": {
      "image/png": "[encoded data removed]",
      "text/plain": [
       "<Figure size 432x288 with 1 Axes>"
      ]
     },
     "metadata": {
      "needs_background": "light"
     },
     "output_type": "display_data"
    }
   ],
   "source": [
    "# _ = plt.hist(arima_df['y_hat'], bins=20, color='red')\n",
    "_ = plt.hist([arima_df['y'], arima_df['y_hat']], bins=20, label = ['y', 'y_hat'])\n",
    "plt.legend(loc=\"upper left\")\n",
    "plt.xlim(-100, 600)"
   ]
  },
  {
   "cell_type": "markdown",
   "id": "3204ffb0",
   "metadata": {},
   "source": [
    "## XGBoost"
   ]
  },
  {
   "cell_type": "markdown",
   "id": "f4729a1f",
   "metadata": {},
   "source": [
    "### XGBoost Load"
   ]
  },
  {
   "cell_type": "code",
   "execution_count": 182,
   "id": "bb848a47",
   "metadata": {},
   "outputs": [],
   "source": [
    "# model_loc =  \"models/xgboost/02.11.36.475845_L4607592\"\n",
    "model_loc = 'models/xgboost/11.21.42.393804_L4169251'"
   ]
  },
  {
   "cell_type": "code",
   "execution_count": 185,
   "id": "329b3002",
   "metadata": {},
   "outputs": [],
   "source": [
    "fs = s3fs.S3FileSystem()\n",
    "bst = xgboost.XGBRegressor()\n",
    "\n",
    "path = \"./model.json\"\n",
    "with fs.open(f\"bgpredict/{model_loc}\", 'rb') as f:\n",
    "    bst.load_model(bytearray(f.read()))"
   ]
  },
  {
   "cell_type": "markdown",
   "id": "7b4d1f7c",
   "metadata": {},
   "source": [
    "### XGBoost Feature Importance"
   ]
  },
  {
   "cell_type": "code",
   "execution_count": 14,
   "id": "b91af333",
   "metadata": {},
   "outputs": [],
   "source": [
    "gain = bst.get_booster().get_score(importance_type='gain')\n",
    "covers = bst.get_booster().get_score(importance_type='cover')\n",
    "freq = bst.get_booster().get_score(importance_type='weight')"
   ]
  },
  {
   "cell_type": "code",
   "execution_count": 13,
   "id": "99e1989f",
   "metadata": {},
   "outputs": [],
   "source": [
    "importances = list(zip(bst.feature_names_in_, bst.feature_importances_))\n",
    "weekday = 0\n",
    "subjectid = 0 \n",
    "other = []\n",
    "for x in importances:\n",
    "    if 'ohe' in x[0]:\n",
    "        indicator = x[0].split(\"_\")[1]\n",
    "        try:\n",
    "            int(indicator)\n",
    "            subjectid += x[1]\n",
    "        except:\n",
    "            weekday += x[1]\n",
    "    else:\n",
    "        key = x[0]\n",
    "        if key == \"normalized_carbs_datapercentile\":\n",
    "            k = \"Carb Data Rank\"\n",
    "        elif key == \"normalized_insulin_datapercentile\":\n",
    "            k = \"Insulin Data Rank\"\n",
    "        elif key == \"carbs_datacount\":\n",
    "            k = \"Recorded Carb Count\"\n",
    "        elif key == \"insulin_datacount\":\n",
    "            k = \"Recorded Insulin Count\"\n",
    "        elif key == \"datediff_currentbg_lastbg_inseconds\":\n",
    "            k = \"Time Since Last BG\"\n",
    "        else:\n",
    "            k = key.replace(\"_\", \" \")\n",
    "        \n",
    "        other.append((k, x[1]))\n",
    "other.append((\"Weekday Effects\", weekday))\n",
    "other.append((\"Subject ID\", subjectid))\n",
    "other.sort(key=lambda x: x[1])\n",
    "# other"
   ]
  },
  {
   "cell_type": "code",
   "execution_count": 14,
   "id": "aea693bd",
   "metadata": {},
   "outputs": [
    {
     "data": {
      "text/plain": [
       "Text(0.5, 1.0, 'XGBoost Feature Importance')"
      ]
     },
     "execution_count": 14,
     "metadata": {},
     "output_type": "execute_result"
    },
    {
     "data": {
      "image/png": "[encoded data removed]",
      "text/plain": [
       "<Figure size 360x720 with 1 Axes>"
      ]
     },
     "metadata": {
      "needs_background": "light"
     },
     "output_type": "display_data"
    }
   ],
   "source": [
    "fig, ax = plt.subplots(figsize=(5, 10))\n",
    "ax.barh(y=[x[0] for x in other], width=[x[1] for x in other])\n",
    "plt.title(\"XGBoost Feature Importance\")"
   ]
  },
  {
   "cell_type": "markdown",
   "id": "578b8635",
   "metadata": {},
   "source": [
    "### XGBoost Metrics"
   ]
  },
  {
   "cell_type": "code",
   "execution_count": 189,
   "id": "d1d3f9bd",
   "metadata": {},
   "outputs": [],
   "source": [
    "drop_cols = ['train_set', 'validation_set', 'test_set', 'subjectid', 'entryid', 'bg']\n",
    "pred_df = clean_df.drop(drop_cols, axis=1)\n",
    "preds = bst.predict(pred_df)"
   ]
  },
  {
   "cell_type": "code",
   "execution_count": 18,
   "id": "00594a3c",
   "metadata": {},
   "outputs": [
    {
     "data": {
      "text/html": [
       "<div>\n",
       "<style scoped>\n",
       "    .dataframe tbody tr th:only-of-type {\n",
       "        vertical-align: middle;\n",
       "    }\n",
       "\n",
       "    .dataframe tbody tr th {\n",
       "        vertical-align: top;\n",
       "    }\n",
       "\n",
       "    .dataframe thead th {\n",
       "        text-align: right;\n",
       "    }\n",
       "</style>\n",
       "<table border=\"1\" class=\"dataframe\">\n",
       "  <thead>\n",
       "    <tr style=\"text-align: right;\">\n",
       "      <th></th>\n",
       "      <th>timestamp_clean</th>\n",
       "      <th>subjectid</th>\n",
       "      <th>entryid</th>\n",
       "      <th>bg</th>\n",
       "    </tr>\n",
       "  </thead>\n",
       "  <tbody>\n",
       "    <tr>\n",
       "      <th>0</th>\n",
       "      <td>2016-08-10 00:43:50.664</td>\n",
       "      <td>68267781</td>\n",
       "      <td>43948</td>\n",
       "      <td>196.0</td>\n",
       "    </tr>\n",
       "    <tr>\n",
       "      <th>1</th>\n",
       "      <td>2016-08-10 00:48:51.032</td>\n",
       "      <td>68267781</td>\n",
       "      <td>43947</td>\n",
       "      <td>197.0</td>\n",
       "    </tr>\n",
       "    <tr>\n",
       "      <th>2</th>\n",
       "      <td>2016-08-10 01:13:49.950</td>\n",
       "      <td>68267781</td>\n",
       "      <td>43942</td>\n",
       "      <td>184.0</td>\n",
       "    </tr>\n",
       "    <tr>\n",
       "      <th>3</th>\n",
       "      <td>2016-08-10 01:23:49.686</td>\n",
       "      <td>68267781</td>\n",
       "      <td>43940</td>\n",
       "      <td>179.0</td>\n",
       "    </tr>\n",
       "    <tr>\n",
       "      <th>4</th>\n",
       "      <td>2016-08-10 01:33:50.462</td>\n",
       "      <td>68267781</td>\n",
       "      <td>43938</td>\n",
       "      <td>162.0</td>\n",
       "    </tr>\n",
       "    <tr>\n",
       "      <th>...</th>\n",
       "      <td>...</td>\n",
       "      <td>...</td>\n",
       "      <td>...</td>\n",
       "      <td>...</td>\n",
       "    </tr>\n",
       "    <tr>\n",
       "      <th>1305550</th>\n",
       "      <td>2021-03-18 23:36:58.983</td>\n",
       "      <td>56958831</td>\n",
       "      <td>29697</td>\n",
       "      <td>132.0</td>\n",
       "    </tr>\n",
       "    <tr>\n",
       "      <th>1305551</th>\n",
       "      <td>2021-03-18 23:41:59.650</td>\n",
       "      <td>56958831</td>\n",
       "      <td>29696</td>\n",
       "      <td>129.0</td>\n",
       "    </tr>\n",
       "    <tr>\n",
       "      <th>1305552</th>\n",
       "      <td>2021-03-18 23:46:58.908</td>\n",
       "      <td>56958831</td>\n",
       "      <td>29695</td>\n",
       "      <td>122.0</td>\n",
       "    </tr>\n",
       "    <tr>\n",
       "      <th>1305553</th>\n",
       "      <td>2021-03-18 23:51:59.718</td>\n",
       "      <td>56958831</td>\n",
       "      <td>29694</td>\n",
       "      <td>120.0</td>\n",
       "    </tr>\n",
       "    <tr>\n",
       "      <th>1305554</th>\n",
       "      <td>2021-03-18 23:57:00.537</td>\n",
       "      <td>56958831</td>\n",
       "      <td>29693</td>\n",
       "      <td>117.0</td>\n",
       "    </tr>\n",
       "  </tbody>\n",
       "</table>\n",
       "<p>1305555 rows × 4 columns</p>\n",
       "</div>"
      ],
      "text/plain": [
       "                timestamp_clean  subjectid  entryid     bg\n",
       "0       2016-08-10 00:43:50.664   68267781    43948  196.0\n",
       "1       2016-08-10 00:48:51.032   68267781    43947  197.0\n",
       "2       2016-08-10 01:13:49.950   68267781    43942  184.0\n",
       "3       2016-08-10 01:23:49.686   68267781    43940  179.0\n",
       "4       2016-08-10 01:33:50.462   68267781    43938  162.0\n",
       "...                         ...        ...      ...    ...\n",
       "1305550 2021-03-18 23:36:58.983   56958831    29697  132.0\n",
       "1305551 2021-03-18 23:41:59.650   56958831    29696  129.0\n",
       "1305552 2021-03-18 23:46:58.908   56958831    29695  122.0\n",
       "1305553 2021-03-18 23:51:59.718   56958831    29694  120.0\n",
       "1305554 2021-03-18 23:57:00.537   56958831    29693  117.0\n",
       "\n",
       "[1305555 rows x 4 columns]"
      ]
     },
     "execution_count": 18,
     "metadata": {},
     "output_type": "execute_result"
    }
   ],
   "source": [
    "clean_df.loc[: , ['subjectid', 'entryid', 'bg']].reset_index()"
   ]
  },
  {
   "cell_type": "code",
   "execution_count": 190,
   "id": "61505435",
   "metadata": {},
   "outputs": [],
   "source": [
    "# rng = default_rng(46)\n",
    "# subjects = clean_df.groupby(\"subjectid\")['entryid'].count().sort_values()\n",
    "# subjects = list(subjects.loc[subjects > 1000].index)\n",
    "# drop_subjects = rng.choice(subjects, 14)\n",
    "# drop_subjects\n",
    "held_out_subjects = [60844515, 41131654, 40997757, 94200862, 91161972, 28608066,\n",
    "       76817975, 37875431, 63047517, 72492570, 80796147, 87770486,\n",
    "       95851255, 70454270]"
   ]
  },
  {
   "cell_type": "code",
   "execution_count": 191,
   "id": "7a45b8d8",
   "metadata": {},
   "outputs": [
    {
     "data": {
      "text/html": [
       "<div>\n",
       "<style scoped>\n",
       "    .dataframe tbody tr th:only-of-type {\n",
       "        vertical-align: middle;\n",
       "    }\n",
       "\n",
       "    .dataframe tbody tr th {\n",
       "        vertical-align: top;\n",
       "    }\n",
       "\n",
       "    .dataframe thead th {\n",
       "        text-align: right;\n",
       "    }\n",
       "</style>\n",
       "<table border=\"1\" class=\"dataframe\">\n",
       "  <thead>\n",
       "    <tr style=\"text-align: right;\">\n",
       "      <th></th>\n",
       "      <th>subjectid</th>\n",
       "      <th>entryid</th>\n",
       "      <th>y</th>\n",
       "      <th>y_hat</th>\n",
       "    </tr>\n",
       "  </thead>\n",
       "  <tbody>\n",
       "    <tr>\n",
       "      <th>0</th>\n",
       "      <td>68267781</td>\n",
       "      <td>43948</td>\n",
       "      <td>196.0</td>\n",
       "      <td>195.525818</td>\n",
       "    </tr>\n",
       "    <tr>\n",
       "      <th>1</th>\n",
       "      <td>68267781</td>\n",
       "      <td>43947</td>\n",
       "      <td>197.0</td>\n",
       "      <td>200.001999</td>\n",
       "    </tr>\n",
       "    <tr>\n",
       "      <th>2</th>\n",
       "      <td>68267781</td>\n",
       "      <td>43942</td>\n",
       "      <td>184.0</td>\n",
       "      <td>195.169403</td>\n",
       "    </tr>\n",
       "    <tr>\n",
       "      <th>3</th>\n",
       "      <td>68267781</td>\n",
       "      <td>43940</td>\n",
       "      <td>179.0</td>\n",
       "      <td>184.083710</td>\n",
       "    </tr>\n",
       "    <tr>\n",
       "      <th>4</th>\n",
       "      <td>68267781</td>\n",
       "      <td>43938</td>\n",
       "      <td>162.0</td>\n",
       "      <td>174.461395</td>\n",
       "    </tr>\n",
       "  </tbody>\n",
       "</table>\n",
       "</div>"
      ],
      "text/plain": [
       "   subjectid  entryid      y       y_hat\n",
       "0   68267781    43948  196.0  195.525818\n",
       "1   68267781    43947  197.0  200.001999\n",
       "2   68267781    43942  184.0  195.169403\n",
       "3   68267781    43940  179.0  184.083710\n",
       "4   68267781    43938  162.0  174.461395"
      ]
     },
     "execution_count": 191,
     "metadata": {},
     "output_type": "execute_result"
    }
   ],
   "source": [
    "y_hat = pd.Series(preds, name='y_hat')\n",
    "dfs = [clean_df.loc[:, ['subjectid', 'entryid', 'bg']].reset_index(drop=True), y_hat]\n",
    "xgboost_df = pd.concat(dfs, axis=1, ignore_index=True)\n",
    "xgboost_df.columns = [\"subjectid\", \"entryid\", \"y\", \"y_hat\"]\n",
    "# Drop 162 0 values which artificially inflate MAPE \n",
    "xgboost_df = xgboost_df.loc[ xgboost_df['y'] !=0, :]\n",
    "xgboost_df.head()"
   ]
  },
  {
   "cell_type": "code",
   "execution_count": 21,
   "id": "388ac917",
   "metadata": {},
   "outputs": [],
   "source": [
    "hold_out_df = xgboost_df.loc[xgboost_df.subjectid.isin(held_out_subjects), :]\n",
    "in_sample_df = xgboost_df.loc[~xgboost_df.subjectid.isin(held_out_subjects), :]"
   ]
  },
  {
   "cell_type": "code",
   "execution_count": 22,
   "id": "def0c04a",
   "metadata": {},
   "outputs": [
    {
     "name": "stdout",
     "output_type": "stream",
     "text": [
      "MSE: 155.81821034978262\n",
      "RMSE: 12.482716465168254\n",
      "MAE: 6.063082698130701\n",
      "MAPE: 0.06385485558665073\n"
     ]
    }
   ],
   "source": [
    "full_mse = mean_squared_error(in_sample_df['y'], in_sample_df['y_hat'])\n",
    "full_rmse = np.sqrt(full_mse)\n",
    "full_mae = mean_absolute_error(in_sample_df['y'], in_sample_df['y_hat'])\n",
    "full_mape = mean_absolute_percentage_error(in_sample_df['y'], in_sample_df['y_hat'])\n",
    "print(f'MSE: {full_mse}')\n",
    "print(f'RMSE: {full_rmse}')\n",
    "print(f'MAE: {full_mae}')\n",
    "print(f'MAPE: {full_mape}')\n",
    "full_metrics = {'rmse':full_rmse, \"mae\": full_mae, \"mape\": full_mape}"
   ]
  },
  {
   "cell_type": "code",
   "execution_count": 23,
   "id": "6d417db8",
   "metadata": {},
   "outputs": [
    {
     "name": "stdout",
     "output_type": "stream",
     "text": [
      "MSE: 179.64949186231453\n",
      "RMSE: 13.403338832631015\n",
      "MAE: 6.0331813809360755\n",
      "MAPE: 0.06675165869624046\n"
     ]
    }
   ],
   "source": [
    "full_mse = mean_squared_error(hold_out_df['y'], hold_out_df['y_hat'])\n",
    "full_rmse = np.sqrt(full_mse)\n",
    "full_mae = mean_absolute_error(hold_out_df['y'], hold_out_df['y_hat'])\n",
    "full_mape = mean_absolute_percentage_error(hold_out_df['y'], hold_out_df['y_hat'])\n",
    "print(f'MSE: {full_mse}')\n",
    "print(f'RMSE: {full_rmse}')\n",
    "print(f'MAE: {full_mae}')\n",
    "print(f'MAPE: {full_mape}')\n",
    "full_metrics = {'rmse':full_rmse, \"mae\": full_mae, \"mape\": full_mape}"
   ]
  },
  {
   "cell_type": "code",
   "execution_count": 24,
   "id": "31e57bc7",
   "metadata": {},
   "outputs": [],
   "source": [
    "metrics = {'rmse':[], \"mae\": [], \"mape\": []}\n",
    "grouped = xgboost_df.groupby('subjectid')\n",
    "for name, group in grouped:\n",
    "    mse = mean_squared_error(group['y'], group['y_hat'])\n",
    "    rmse = np.sqrt(mse)\n",
    "    mae = mean_absolute_error(group['y'], group['y_hat'])\n",
    "    mape = mean_absolute_percentage_error(group['y'], group['y_hat'])\n",
    "    if mape >1000:\n",
    "        print(group['subjectid'].iloc[0])\n",
    "    metrics['rmse'].append(rmse)\n",
    "    metrics['mae'].append(mae)\n",
    "    metrics['mape'].append(mape)"
   ]
  },
  {
   "cell_type": "code",
   "execution_count": 62,
   "id": "726f77e6",
   "metadata": {},
   "outputs": [
    {
     "data": {
      "image/png": "[encoded data removed]",
      "text/plain": [
       "<Figure size 1080x216 with 3 Axes>"
      ]
     },
     "metadata": {
      "needs_background": "light"
     },
     "output_type": "display_data"
    }
   ],
   "source": [
    "graph_metrics(\"XGBoost\", full_metrics, metrics, 12)"
   ]
  },
  {
   "cell_type": "code",
   "execution_count": 40,
   "id": "b134e4ab",
   "metadata": {},
   "outputs": [],
   "source": [
    "test = []\n",
    "for name, group in grouped:\n",
    "    mse = mean_squared_error(group['y'], group['y_hat'])\n",
    "    rmse = np.sqrt(mse)\n",
    "#     mae = mean_absolute_error(group['y'], group['y_hat'])\n",
    "#     mape = mean_absolute_percentage_error(group['y'], group['y_hat'])\n",
    "    std_dev = np.std(group['y'])\n",
    "#     print(std_dev)\n",
    "    test.append((rmse, std_dev))\n",
    "    "
   ]
  },
  {
   "cell_type": "code",
   "execution_count": 41,
   "id": "e61e01ac",
   "metadata": {},
   "outputs": [],
   "source": [
    "from sklearn.linear_model import LinearRegression"
   ]
  },
  {
   "cell_type": "code",
   "execution_count": 42,
   "id": "db282c59",
   "metadata": {},
   "outputs": [],
   "source": [
    "rmse = np.array([x[0] for x in test])\n",
    "std_dev = np.array([x[1] for x in test]).reshape(-1,1)\n",
    "regressor = LinearRegression()\n",
    "regressor.fit(X=std_dev, y=rmse)\n",
    "preds = regressor.predict(std_dev)"
   ]
  },
  {
   "cell_type": "code",
   "execution_count": 43,
   "id": "44bf9f21",
   "metadata": {},
   "outputs": [],
   "source": [
    "regression_line = [float(regressor.intercept_ + i * regressor.coef_) for i in range(90)]"
   ]
  },
  {
   "cell_type": "code",
   "execution_count": 44,
   "id": "fa6dc47b",
   "metadata": {},
   "outputs": [
    {
     "data": {
      "text/plain": [
       "0.1630668785173628"
      ]
     },
     "execution_count": 44,
     "metadata": {},
     "output_type": "execute_result"
    }
   ],
   "source": [
    "r_sq = r2_score(rmse, preds)\n",
    "r_sq"
   ]
  },
  {
   "cell_type": "code",
   "execution_count": 45,
   "id": "a97ba7fd",
   "metadata": {},
   "outputs": [
    {
     "data": {
      "text/plain": [
       "Text(0.5, 1.0, 'R^2 = 0.16')"
      ]
     },
     "execution_count": 45,
     "metadata": {},
     "output_type": "execute_result"
    },
    {
     "data": {
      "image/png": "[encoded data removed]",
      "text/plain": [
       "<Figure size 432x288 with 1 Axes>"
      ]
     },
     "metadata": {
      "needs_background": "light"
     },
     "output_type": "display_data"
    }
   ],
   "source": [
    "plt.scatter([x[1] for x in test], [x[0] for x in test])\n",
    "plt.ylabel(\"RMSE\")\n",
    "plt.xlabel(\"Standard Deviation by User\")\n",
    "plt.plot(regression_line)\n",
    "plt.suptitle(\"RMSE and Blood Glucose Standard Deviation by Subject \\n (XGBoost)\", y=1.05)\n",
    "plt.title(f\"R^2 = {np.round(r_sq, 2)}\")"
   ]
  },
  {
   "cell_type": "code",
   "execution_count": 192,
   "id": "7a6b2184",
   "metadata": {},
   "outputs": [
    {
     "data": {
      "text/html": [
       "<div>\n",
       "<style scoped>\n",
       "    .dataframe tbody tr th:only-of-type {\n",
       "        vertical-align: middle;\n",
       "    }\n",
       "\n",
       "    .dataframe tbody tr th {\n",
       "        vertical-align: top;\n",
       "    }\n",
       "\n",
       "    .dataframe thead th {\n",
       "        text-align: right;\n",
       "    }\n",
       "</style>\n",
       "<table border=\"1\" class=\"dataframe\">\n",
       "  <thead>\n",
       "    <tr style=\"text-align: right;\">\n",
       "      <th></th>\n",
       "      <th>subjectid</th>\n",
       "      <th>entryid</th>\n",
       "      <th>y</th>\n",
       "      <th>y_hat</th>\n",
       "    </tr>\n",
       "  </thead>\n",
       "  <tbody>\n",
       "    <tr>\n",
       "      <th>0</th>\n",
       "      <td>68267781</td>\n",
       "      <td>43948</td>\n",
       "      <td>196.0</td>\n",
       "      <td>195.525818</td>\n",
       "    </tr>\n",
       "    <tr>\n",
       "      <th>1</th>\n",
       "      <td>68267781</td>\n",
       "      <td>43947</td>\n",
       "      <td>197.0</td>\n",
       "      <td>200.001999</td>\n",
       "    </tr>\n",
       "    <tr>\n",
       "      <th>2</th>\n",
       "      <td>68267781</td>\n",
       "      <td>43942</td>\n",
       "      <td>184.0</td>\n",
       "      <td>195.169403</td>\n",
       "    </tr>\n",
       "    <tr>\n",
       "      <th>3</th>\n",
       "      <td>68267781</td>\n",
       "      <td>43940</td>\n",
       "      <td>179.0</td>\n",
       "      <td>184.083710</td>\n",
       "    </tr>\n",
       "    <tr>\n",
       "      <th>4</th>\n",
       "      <td>68267781</td>\n",
       "      <td>43938</td>\n",
       "      <td>162.0</td>\n",
       "      <td>174.461395</td>\n",
       "    </tr>\n",
       "  </tbody>\n",
       "</table>\n",
       "</div>"
      ],
      "text/plain": [
       "   subjectid  entryid      y       y_hat\n",
       "0   68267781    43948  196.0  195.525818\n",
       "1   68267781    43947  197.0  200.001999\n",
       "2   68267781    43942  184.0  195.169403\n",
       "3   68267781    43940  179.0  184.083710\n",
       "4   68267781    43938  162.0  174.461395"
      ]
     },
     "execution_count": 192,
     "metadata": {},
     "output_type": "execute_result"
    }
   ],
   "source": [
    "xgboost_df.head()"
   ]
  },
  {
   "cell_type": "code",
   "execution_count": 203,
   "id": "83be4399",
   "metadata": {},
   "outputs": [
    {
     "data": {
      "text/plain": [
       "11942"
      ]
     },
     "execution_count": 203,
     "metadata": {},
     "output_type": "execute_result"
    }
   ],
   "source": [
    "plot_df = xgboost_df.loc[xgboost_df.subjectid==309157, :]\n",
    "len(plot_df.reset_index())"
   ]
  },
  {
   "cell_type": "code",
   "execution_count": 200,
   "id": "afb14db9",
   "metadata": {},
   "outputs": [
    {
     "data": {
      "image/png": "[encoded data removed]",
      "text/plain": [
       "<Figure size 576x360 with 1 Axes>"
      ]
     },
     "metadata": {
      "needs_background": "light"
     },
     "output_type": "display_data"
    }
   ],
   "source": [
    "plt.rcParams[\"figure.figsize\"] = (8,5)\n",
    "plt.plot(plot_df['y'], color='blue', label=\"Actual BG\")\n",
    "plt.plot(plot_df['y_hat'], color='purple', label=\"Predicted BG (XGBoost)\")\n",
    "plt.title('Predicted and Actual Blood Glucose Levels')\n",
    "plt.xlabel('Sample Number')\n",
    "plt.ylabel('BG Level')\n",
    "plt.ylim(40, 250)\n",
    "plt.legend(loc=\"upper right\")\n",
    "plt.show()\n"
   ]
  },
  {
   "cell_type": "markdown",
   "id": "c638904c",
   "metadata": {},
   "source": [
    "## Predict Forward"
   ]
  },
  {
   "cell_type": "markdown",
   "id": "794ead2f",
   "metadata": {},
   "source": [
    "### Future X"
   ]
  },
  {
   "cell_type": "code",
   "execution_count": 15,
   "id": "a9f81f5e",
   "metadata": {},
   "outputs": [],
   "source": [
    "## Column Prep\n",
    "\n",
    "# constant_columns = []\n",
    "# for column in test.columns:\n",
    "#     if np.isclose(np.std(test[column]), 0):\n",
    "#         constant_columns.append(column)\n",
    "# mutable_columns = list(test.columns.difference(constant_columns))\n",
    "\n",
    "# I'm being exceptionally explicit with the mutable/constant columns. The above code *should*\n",
    "# compute this list for any data passed into it. However, I worry edge cases could break break it. \n",
    "\n",
    "mutable_columns = ['bg_lag_1', 'bg_lag_10', 'bg_lag_11', 'bg_lag_12', 'bg_lag_2', 'bg_lag_3', 'bg_lag_4', 'bg_lag_5',\n",
    "                   'bg_lag_6', 'bg_lag_7', 'bg_lag_8', 'bg_lag_9', 'carbs', 'datediff_currentbg_lastbg_inseconds',\n",
    "                   'federal_holiday', 'hour', 'insulin', 'minute', 'ohe_Friday', 'ohe_Monday', 'ohe_Saturday',\n",
    "                   'ohe_Sunday', 'ohe_Thursday', 'ohe_Tuesday', 'ohe_Wednesday']\n",
    "constant_columns = ['ohe_221634', 'ohe_309157', 'ohe_897741', 'ohe_1352464', 'ohe_2033176', 'ohe_2199852', 'ohe_4762925',\n",
    "                    'ohe_5274556', 'ohe_7886752', 'ohe_12689381', 'ohe_13029224', 'ohe_13484299', 'ohe_13783771',\n",
    "                    'ohe_14092221', 'ohe_15558575', 'ohe_15634563', 'ohe_16975609', 'ohe_17161370', 'ohe_18991425',\n",
    "                    'ohe_19626656', 'ohe_20216809', 'ohe_20396154', 'ohe_20649783', 'ohe_21946407', 'ohe_22961398',\n",
    "                    'ohe_23428091', 'ohe_24448124', 'ohe_25692073', 'ohe_26856617', 'ohe_27526291', 'ohe_27819368',\n",
    "                    'ohe_28176124', 'ohe_28608066', 'ohe_28756888', 'ohe_28768536', 'ohe_32407882', 'ohe_32997134',\n",
    "                    'ohe_33470634', 'ohe_33831564', 'ohe_33962890', 'ohe_35533061', 'ohe_35719805', 'ohe_37764532',\n",
    "                    'ohe_37875431', 'ohe_37948668', 'ohe_37998755', 'ohe_38110191', 'ohe_39986716', 'ohe_40237051',\n",
    "                    'ohe_40634871', 'ohe_40997757', 'ohe_41131654', 'ohe_41663654', 'ohe_42052178', 'ohe_43589707',\n",
    "                    'ohe_45120081', 'ohe_46253612', 'ohe_47323535', 'ohe_47750728', 'ohe_48509634', 'ohe_48540630',\n",
    "                    'ohe_49551394', 'ohe_49796612', 'ohe_50311906', 'ohe_51968000', 'ohe_54280576', 'ohe_56568290',\n",
    "                    'ohe_56958831', 'ohe_57176789', 'ohe_60844515', 'ohe_61179686', 'ohe_62345070', 'ohe_62401782',\n",
    "                    'ohe_63047517', 'ohe_63725802', 'ohe_64024750', 'ohe_64406000', 'ohe_65143138', 'ohe_66019205',\n",
    "                    'ohe_66773091', 'ohe_66836068', 'ohe_66937570', 'ohe_67167655', 'ohe_67208817', 'ohe_67359234',\n",
    "                    'ohe_68026248', 'ohe_68267781', 'ohe_69587086', 'ohe_69739062', 'ohe_69965708', 'ohe_70454270',\n",
    "                    'ohe_70811987', 'ohe_71236754', 'ohe_71397255', 'ohe_71618088', 'ohe_72492570', 'ohe_73398408',\n",
    "                    'ohe_73521474', 'ohe_74077367', 'ohe_76817975', 'ohe_77104076', 'ohe_77411181', 'ohe_78420229',\n",
    "                    'ohe_79526193', 'ohe_80373992', 'ohe_80501215', 'ohe_80625186', 'ohe_80796147', 'ohe_81099003',\n",
    "                    'ohe_81680176', 'ohe_84109428', 'ohe_84589080', 'ohe_84984656', 'ohe_85199788', 'ohe_85653830',\n",
    "                    'ohe_86025410', 'ohe_86286077', 'ohe_86323903', 'ohe_87770486', 'ohe_88004055', 'ohe_88252802',\n",
    "                    'ohe_89032650', 'ohe_89710417', 'ohe_89727223', 'ohe_90398368', 'ohe_91161972', 'ohe_93606058',\n",
    "                    'ohe_93839818', 'ohe_94200862', 'ohe_95614431', 'ohe_95851255', 'ohe_96254963', 'ohe_96805916',\n",
    "                    'ohe_97417885', 'ohe_97872409', 'ohe_98340749', 'ohe_98974339', 'ohe_99296581', 'ohe_99712241',\n",
    "                    'ohe_99848889', 'ohe_99908129', 'observations', 'insulin_datacount', 'carbs_datacount',\n",
    "                    'normalized_carbs_datapercentile', 'normalized_insulin_datapercentile']\n",
    "\n",
    "# We don't know future carbs or insulin, so we set this value to zero \n",
    "for i in ['carbs', 'insulin']:\n",
    "    mutable_columns.pop(mutable_columns.index(i))\n",
    "    constant_columns.append(i)\n",
    "\n",
    "# Extract Lag columns to modify\n",
    "lag_columns = []\n",
    "for i in range(1,13):\n",
    "    idx = mutable_columns.index(f\"bg_lag_{i}\")\n",
    "    lag_columns.append(mutable_columns.pop(idx))\n",
    "# Expeted input order\n",
    "ordered_features = bst.feature_names_in_\n",
    "\n",
    "col_info = {\"mutable\": mutable_columns,\n",
    "           \"constant\": constant_columns,\n",
    "           \"lag\": lag_columns, \n",
    "           \"order\": ordered_features}"
   ]
  },
  {
   "cell_type": "code",
   "execution_count": 22,
   "id": "625e2e93",
   "metadata": {},
   "outputs": [],
   "source": [
    "def create_future_y(group):\n",
    "    \"\"\"Take a group of subject data and return the future y dataframe\"\"\"\n",
    "    group_df = group.sort_index()\n",
    "    group_df = group_df.reset_index()\n",
    "    original = group_df[[\"subjectid\", \"entryid\", 'bg']]\n",
    "    shifts = pd.DataFrame({f\"bg_future_{i}\": original['bg'].shift(-i) for i in range(1,13)})\n",
    "    preds = pd.DataFrame({f\"bg_pred_{i}\": [None for _ in range(len(original))] for i in range(0,13)} )\n",
    "    merged = original.merge(shifts, left_index=True, right_index=True)\n",
    "    merged = pd.concat([merged, preds], axis=1)\n",
    "    return merged\n",
    "\n",
    "def create_future_mutables(mutable):\n",
    "    \"\"\"Take mutable variables,apply a -1 shift, and drop end NA's\"\"\"\n",
    "    # Each row now contains the data of the suceeding row\n",
    "    shift = mutable.shift(-1)\n",
    "    # Len(shift) = max(idx)+1, len(shift)-1 = max(idx), len(shift-2) = location of Null row\n",
    "    shift = shift.loc[0:len(shift)-2, :]\n",
    "    return shift\n",
    "\n",
    "def create_future_lags(lag_df, preds):\n",
    "    \"\"\"Take lag variables and predictions and apply a shift\"\"\"\n",
    "\n",
    "    # Shift lags\n",
    "    for j in range(12, 0, -1):\n",
    "        if j == 1:\n",
    "            current_column = f\"bg_lag_{j}\" # lag_bg_1\n",
    "            lag_df.loc[:, current_column] = pd.to_numeric(preds)\n",
    "        else:\n",
    "            current_column = f\"bg_lag_{j}\"\n",
    "            prev_column = f\"bg_lag_{j-1}\"\n",
    "            lag_df.loc[:, current_column] = lag_df[prev_column].values \n",
    "    return lag_df\n",
    "\n",
    "    # Create new df\n",
    "    new_df = pd.concat([mutable_df, constant_df, lag_df], axis=1)\n",
    "    new_df = new_df.reindex(columns=col_info['order'])\n",
    "    \n",
    "def compute_future_predictions(group):\n",
    "    \n",
    "    # Create Future y dataframe\n",
    "    future_y_df = create_future_y(group)\n",
    "\n",
    "    # Create X subset dataframes\n",
    "    drop_cols = ['subjectid', 'entryid', 'train_set', 'validation_set', 'test_set', 'bg', 'timestamp_clean']\n",
    "    group = group.sort_index()    \n",
    "    group = group.reset_index()\n",
    "    group = group.drop(drop_cols, axis=1)\n",
    "    mutable_df = group[col_info['mutable']]\n",
    "    constant_df = group[col_info['constant']]\n",
    "    lag_df = group[col_info['lag']]\n",
    "    \n",
    "    # Generate initial prediction \n",
    "    train_X = pd.concat([mutable_df, constant_df, lag_df], axis=1)\n",
    "    train_X = train_X.reindex(columns = col_info['order'])\n",
    "    init_preds = bst.predict(train_X)\n",
    "    if np.isnan(init_preds).any():\n",
    "        raise Exception() \n",
    "    future_y_df['bg_pred_0'] = init_preds\n",
    "\n",
    "    constant_df.loc[:, 'carbs'] = 0\n",
    "    constant_df.loc[:, 'insulin'] = 0\n",
    "    \n",
    "    # Predict forward\n",
    "    for i in range(13):\n",
    "        mutable_df = create_future_mutables(mutable_df)\n",
    "        if i == 0:\n",
    "            lag_df = create_future_lags(lag_df, init_preds)\n",
    "        else:\n",
    "            lag_df = create_future_lags(lag_df, preds)\n",
    "        train_X = pd.concat([mutable_df, lag_df, constant_df], axis=1)\n",
    "        train_X = train_X.dropna()\n",
    "        train_X = train_X.reindex(columns = col_info['order'])\n",
    "        preds = bst.predict(train_X)\n",
    "        \n",
    "        if np.isnan(init_preds).any():\n",
    "            raise Exception() \n",
    "        \n",
    "        # As we move forward, we lose data to predict against, so we augment with nulls to get matching indices\n",
    "        augment_size = len(future_y_df) - len(preds)\n",
    "        \n",
    "        preds = np.concatenate( (preds, [None for _ in range(augment_size)]) ) \n",
    "\n",
    "        future_y_df[f'bg_pred_{i}'] = preds\n",
    "    \n",
    "    loss = {f'future_{i}': None for i in range(1,13)}\n",
    "    for i in range(1,13):\n",
    "        pred = future_y_df[f'bg_pred_{i}'].dropna()\n",
    "        true = future_y_df.loc[:,f'bg_future_{i}'].dropna()\n",
    "        if len(pred) < len(true):\n",
    "            true = true.loc[0:len(pred)-1]\n",
    "#             print(pred.shape, true.shape)\n",
    "        elif len(pred) > len(true):\n",
    "            pred = pred.loc[0:len(true)-1]\n",
    "            \n",
    "        loss[f'future_{i}'] = true - pred\n",
    "        mse = mean_squared_error(true, pred)\n",
    "        \n",
    "    return future_y_df, loss"
   ]
  },
  {
   "cell_type": "code",
   "execution_count": 28,
   "id": "83ee32d7",
   "metadata": {},
   "outputs": [],
   "source": [
    "# Because we continually split and recombine the data, we receive warnings about setting values on copies\n",
    "# This line suppresses those warnings\n",
    "pd.options.mode.chained_assignment = None"
   ]
  },
  {
   "cell_type": "code",
   "execution_count": 27,
   "id": "00bdb45d",
   "metadata": {},
   "outputs": [],
   "source": [
    "results = [] \n",
    "losses = []\n",
    "nas ={}\n",
    "held_out_subjects = [60844515, 41131654, 40997757, 94200862, 91161972, 28608066,\n",
    "       76817975, 37875431, 63047517, 72492570, 80796147, 87770486,\n",
    "       95851255, 70454270]\n",
    "groups = clean_df.groupby(by='subjectid')\n",
    "for name, group in groups:\n",
    "    if name in held_out_subjects:\n",
    "        pass\n",
    "    else:\n",
    "        result_df, loss = compute_future_predictions(group)\n",
    "        results.append(result_df)\n",
    "        losses.append(loss)\n",
    "        nas.update({name: result_df.isna().sum()})"
   ]
  },
  {
   "cell_type": "code",
   "execution_count": 37,
   "id": "19e42337",
   "metadata": {},
   "outputs": [
    {
     "data": {
      "text/plain": [
       "{1: 17.53553176309449,\n",
       " 2: 21.473195757351224,\n",
       " 3: 24.911529784866666,\n",
       " 4: 28.005459564469042,\n",
       " 5: 30.774975031048406,\n",
       " 6: 33.28725092873834,\n",
       " 7: 35.558881522175966,\n",
       " 8: 37.62978683749566,\n",
       " 9: 39.53001614021824,\n",
       " 10: 41.27404396860191,\n",
       " 11: 42.88341542109852,\n",
       " 12: 44.364490044383665}"
      ]
     },
     "execution_count": 37,
     "metadata": {},
     "output_type": "execute_result"
    }
   ],
   "source": [
    "loss_dfs = [pd.DataFrame(loss) for loss in losses]\n",
    "loss_df = pd.concat(loss_dfs)\n",
    "loss_df.head()\n",
    "rmse_dict= {}\n",
    "for idx, c in enumerate(loss_df.columns):\n",
    "    n = len(loss_df)\n",
    "    squared_loss = (loss_df[c] ** 2).sum()\n",
    "    rmse = np.sqrt(squared_loss/n) \n",
    "    rmse_dict.update({idx+1:rmse})\n",
    "rmse_dict"
   ]
  },
  {
   "cell_type": "markdown",
   "id": "c509107c",
   "metadata": {},
   "source": [
    "## LSTM\n",
    "### Load Model and Data"
   ]
  },
  {
   "cell_type": "code",
   "execution_count": 63,
   "id": "ae5381a9",
   "metadata": {},
   "outputs": [],
   "source": [
    "class Net(nn.Module):\n",
    "    \n",
    "    def __init__(self, input_size=30, hidden_size=8, num_lstm_layers=1, dropout=0):\n",
    "        super().__init__()\n",
    "        if num_lstm_layers == 1:\n",
    "            dropout = 0\n",
    "        self.lstm = nn.LSTM(input_size=input_size,\n",
    "                            hidden_size=hidden_size,\n",
    "                            num_layers=num_lstm_layers,\n",
    "                            dropout=dropout, batch_first=True)\n",
    "        self.fc1 = nn.Linear(hidden_size, 1)\n",
    "        \n",
    "    def forward(self, x):\n",
    "        lstm_out, _ = self.lstm(x)\n",
    "        x = self.fc1(lstm_out)\n",
    "        return x"
   ]
  },
  {
   "cell_type": "code",
   "execution_count": 64,
   "id": "837b43a5",
   "metadata": {},
   "outputs": [],
   "source": [
    "s3 = s3fs.S3FileSystem()\n",
    "lstm_folder = \"s3://bgpredict/models/lstm\"\n",
    "model_src = f\"{lstm_folder}/best_model/best_opt_state_net_state\""
   ]
  },
  {
   "cell_type": "code",
   "execution_count": 65,
   "id": "560e9645",
   "metadata": {},
   "outputs": [],
   "source": [
    "with s3.open(model_src, 'rb') as f:\n",
    "    # This file contains (network_state, optimizer_state) in a tuple. Use [0] to get network-state\n",
    "    state_dict = torch.load(f, map_location=torch.device('cpu'))[0]"
   ]
  },
  {
   "cell_type": "code",
   "execution_count": 66,
   "id": "53d504cf",
   "metadata": {},
   "outputs": [
    {
     "data": {
      "text/plain": [
       "<All keys matched successfully>"
      ]
     },
     "execution_count": 66,
     "metadata": {},
     "output_type": "execute_result"
    }
   ],
   "source": [
    "# Best parameters from LSTM/LSTM_prod.ipynb\n",
    "parameters= {\"input_size\": 30, \"hidden_size\": 64, \"num_lstm_layers\": 2, \"dropout\": 0.1}\n",
    "net = Net(**parameters)\n",
    "net.load_state_dict(state_dict)"
   ]
  },
  {
   "cell_type": "code",
   "execution_count": 67,
   "id": "ad6db68f",
   "metadata": {},
   "outputs": [],
   "source": [
    "local_test_X = \"./test_X.pt\"\n",
    "remote_test_X = f\"{lstm_folder}/tensors/test_X.pt\"\n",
    "if os.path.exists(local_test_X):\n",
    "    with open(local_test_X, 'rb') as f:\n",
    "        test_X = torch.load(f)\n",
    "else:\n",
    "    with s3.open(remote_test_X, 'rb') as f:\n",
    "        test_X = torch.load(f)\n",
    "    with open(local_test_X, 'wb') as f:\n",
    "        torch.save(test_X, f)"
   ]
  },
  {
   "cell_type": "code",
   "execution_count": 68,
   "id": "4b54a564",
   "metadata": {},
   "outputs": [],
   "source": [
    "local_test_y = \"./test_y.pt\"\n",
    "remote_test_y = f\"{lstm_folder}/tensors/test_y.pt\"\n",
    "if os.path.exists(local_test_y):\n",
    "    with open(local_test_y, 'rb') as f:\n",
    "        test_y = torch.load(f)\n",
    "else:\n",
    "    with s3.open(remote_test_y, 'rb') as f:\n",
    "        test_y = torch.load(f)\n",
    "    with open(local_test_y, 'wb') as f:\n",
    "        torch.save(test_y, f)"
   ]
  },
  {
   "cell_type": "code",
   "execution_count": 69,
   "id": "1c832bc2",
   "metadata": {},
   "outputs": [],
   "source": [
    "local_test_y = \"./test_y_augmented.pt\"\n",
    "remote_test_y = f\"{lstm_folder}/tensors/test_y_augmented.pt\"\n",
    "if os.path.exists(local_test_y):\n",
    "    with open(local_test_y, 'rb') as f:\n",
    "        test_y = torch.load(f)\n",
    "else:\n",
    "    with s3.open(remote_test_y, 'rb') as f:\n",
    "        test_y = torch.load(f)\n",
    "    with open(local_test_y, 'wb') as f:\n",
    "        torch.save(test_y, f)"
   ]
  },
  {
   "cell_type": "markdown",
   "id": "f80f30e0",
   "metadata": {},
   "source": [
    "### Metrics"
   ]
  },
  {
   "cell_type": "code",
   "execution_count": 71,
   "id": "e350291d",
   "metadata": {},
   "outputs": [],
   "source": [
    "net.eval()\n",
    "with torch.no_grad():\n",
    "    out_seq = net(test_X)\n",
    "    first_dim, second_dim, _ = out_seq.shape\n",
    "    pred = out_seq.view(first_dim, second_dim)[:, -1]"
   ]
  },
  {
   "cell_type": "code",
   "execution_count": 72,
   "id": "499f2483",
   "metadata": {},
   "outputs": [],
   "source": [
    "pred_array = pred.cpu().detach().numpy()\n",
    "y = test_y[:, 0].detach().numpy()\n",
    "df = pd.DataFrame({\"y_true\":y, \"y_hat\": pred_array})\n",
    "df = df.loc[df['y_true'] != 0, :]"
   ]
  },
  {
   "cell_type": "code",
   "execution_count": 73,
   "id": "77b64017",
   "metadata": {},
   "outputs": [
    {
     "name": "stdout",
     "output_type": "stream",
     "text": [
      "8.5973625\n"
     ]
    }
   ],
   "source": [
    "mse = mean_squared_error(df[\"y_true\"], df[\"y_hat\"])\n",
    "print(np.sqrt(mse))"
   ]
  },
  {
   "cell_type": "markdown",
   "id": "7e431b8f",
   "metadata": {},
   "source": [
    "### Cross Validation Results"
   ]
  },
  {
   "cell_type": "code",
   "execution_count": 31,
   "id": "04701352",
   "metadata": {},
   "outputs": [],
   "source": [
    "response = s3_conn.s3_client.list_objects_v2(Bucket='bgpredict', Prefix=\"models/lstm/best_trial_dfs/\")\n",
    "dfs = []\n",
    "for obj in response['Contents']:\n",
    "    df = pd.read_csv(f\"s3://bgpredict/{obj['Key']}\")\n",
    "    dfs.append(df)"
   ]
  },
  {
   "cell_type": "code",
   "execution_count": 50,
   "id": "b3f2001d",
   "metadata": {},
   "outputs": [
    {
     "data": {
      "text/plain": [
       "Text(0.5, 1.0, '(N = 100, Minimum Number of Epochs Per Model = 3)')"
      ]
     },
     "execution_count": 50,
     "metadata": {},
     "output_type": "execute_result"
    },
    {
     "data": {
      "image/png": "[encoded data removed]",
      "text/plain": [
       "<Figure size 720x864 with 1 Axes>"
      ]
     },
     "metadata": {
      "needs_background": "light"
     },
     "output_type": "display_data"
    }
   ],
   "source": [
    "ax = None  # This plots everything on the same plot\n",
    "for d in dfs:\n",
    "    ax = d.loc[d['training_iteration'] <= 25, \"val_loss\"].plot(ax=ax, legend=False, figsize=(10,12))\n",
    "plt.xlabel(\"Training Epoch\")\n",
    "plt.ylabel(\"Validation Loss\")\n",
    "plt.suptitle(\"Validation Loss By Hyperparameter Configuration\", size=22, y=0.95)\n",
    "plt.title(\"(N = 100, Minimum Number of Epochs Per Model = 3)\")"
   ]
  },
  {
   "cell_type": "markdown",
   "id": "b5cedccd",
   "metadata": {},
   "source": [
    "### Visual Plots"
   ]
  },
  {
   "cell_type": "code",
   "execution_count": 80,
   "id": "876a5f87",
   "metadata": {},
   "outputs": [
    {
     "data": {
      "text/html": [
       "<div>\n",
       "<style scoped>\n",
       "    .dataframe tbody tr th:only-of-type {\n",
       "        vertical-align: middle;\n",
       "    }\n",
       "\n",
       "    .dataframe tbody tr th {\n",
       "        vertical-align: top;\n",
       "    }\n",
       "\n",
       "    .dataframe thead th {\n",
       "        text-align: right;\n",
       "    }\n",
       "</style>\n",
       "<table border=\"1\" class=\"dataframe\">\n",
       "  <thead>\n",
       "    <tr style=\"text-align: right;\">\n",
       "      <th></th>\n",
       "      <th>Actual</th>\n",
       "      <th>subjectid</th>\n",
       "      <th>entryid</th>\n",
       "      <th>Predicted</th>\n",
       "    </tr>\n",
       "  </thead>\n",
       "  <tbody>\n",
       "    <tr>\n",
       "      <th>0</th>\n",
       "      <td>196.0</td>\n",
       "      <td>68267784.0</td>\n",
       "      <td>43955.0</td>\n",
       "      <td>192.330185</td>\n",
       "    </tr>\n",
       "    <tr>\n",
       "      <th>1</th>\n",
       "      <td>196.0</td>\n",
       "      <td>68267784.0</td>\n",
       "      <td>43948.0</td>\n",
       "      <td>190.238388</td>\n",
       "    </tr>\n",
       "    <tr>\n",
       "      <th>2</th>\n",
       "      <td>197.0</td>\n",
       "      <td>68267784.0</td>\n",
       "      <td>43947.0</td>\n",
       "      <td>189.647964</td>\n",
       "    </tr>\n",
       "    <tr>\n",
       "      <th>3</th>\n",
       "      <td>184.0</td>\n",
       "      <td>68267784.0</td>\n",
       "      <td>43942.0</td>\n",
       "      <td>182.330475</td>\n",
       "    </tr>\n",
       "    <tr>\n",
       "      <th>4</th>\n",
       "      <td>179.0</td>\n",
       "      <td>68267784.0</td>\n",
       "      <td>43940.0</td>\n",
       "      <td>172.109528</td>\n",
       "    </tr>\n",
       "    <tr>\n",
       "      <th>...</th>\n",
       "      <td>...</td>\n",
       "      <td>...</td>\n",
       "      <td>...</td>\n",
       "      <td>...</td>\n",
       "    </tr>\n",
       "    <tr>\n",
       "      <th>1171251</th>\n",
       "      <td>266.0</td>\n",
       "      <td>56958832.0</td>\n",
       "      <td>29733.0</td>\n",
       "      <td>267.181061</td>\n",
       "    </tr>\n",
       "    <tr>\n",
       "      <th>1171252</th>\n",
       "      <td>275.0</td>\n",
       "      <td>56958832.0</td>\n",
       "      <td>29731.0</td>\n",
       "      <td>272.622162</td>\n",
       "    </tr>\n",
       "    <tr>\n",
       "      <th>1171253</th>\n",
       "      <td>276.0</td>\n",
       "      <td>56958832.0</td>\n",
       "      <td>29729.0</td>\n",
       "      <td>273.205536</td>\n",
       "    </tr>\n",
       "    <tr>\n",
       "      <th>1171254</th>\n",
       "      <td>275.0</td>\n",
       "      <td>56958832.0</td>\n",
       "      <td>29727.0</td>\n",
       "      <td>270.786407</td>\n",
       "    </tr>\n",
       "    <tr>\n",
       "      <th>1171255</th>\n",
       "      <td>275.0</td>\n",
       "      <td>56958832.0</td>\n",
       "      <td>29725.0</td>\n",
       "      <td>271.308746</td>\n",
       "    </tr>\n",
       "  </tbody>\n",
       "</table>\n",
       "<p>1171256 rows × 4 columns</p>\n",
       "</div>"
      ],
      "text/plain": [
       "         Actual   subjectid  entryid   Predicted\n",
       "0         196.0  68267784.0  43955.0  192.330185\n",
       "1         196.0  68267784.0  43948.0  190.238388\n",
       "2         197.0  68267784.0  43947.0  189.647964\n",
       "3         184.0  68267784.0  43942.0  182.330475\n",
       "4         179.0  68267784.0  43940.0  172.109528\n",
       "...         ...         ...      ...         ...\n",
       "1171251   266.0  56958832.0  29733.0  267.181061\n",
       "1171252   275.0  56958832.0  29731.0  272.622162\n",
       "1171253   276.0  56958832.0  29729.0  273.205536\n",
       "1171254   275.0  56958832.0  29727.0  270.786407\n",
       "1171255   275.0  56958832.0  29725.0  271.308746\n",
       "\n",
       "[1171256 rows x 4 columns]"
      ]
     },
     "execution_count": 80,
     "metadata": {},
     "output_type": "execute_result"
    }
   ],
   "source": [
    "test_y_arr = test_y.detach().numpy()\n",
    "test_y_df =pd.DataFrame(test_y_arr, columns = [\"Actual\", 'subjectid', 'entryid'])\n",
    "test_y_df['Predicted'] = pred_array\n",
    "test_y_df"
   ]
  },
  {
   "cell_type": "code",
   "execution_count": 86,
   "id": "a5a85a78",
   "metadata": {},
   "outputs": [
    {
     "data": {
      "text/plain": [
       "24448124.0"
      ]
     },
     "execution_count": 86,
     "metadata": {},
     "output_type": "execute_result"
    }
   ],
   "source": [
    "test_groups = test_y_df.groupby('subjectid')\n",
    "subjects = test_y_df.subjectid.values\n",
    "subj = np.random.choice(subjects)\n",
    "subj"
   ]
  },
  {
   "cell_type": "code",
   "execution_count": 120,
   "id": "6abd5407",
   "metadata": {},
   "outputs": [
    {
     "data": {
      "text/html": [
       "<div>\n",
       "<style scoped>\n",
       "    .dataframe tbody tr th:only-of-type {\n",
       "        vertical-align: middle;\n",
       "    }\n",
       "\n",
       "    .dataframe tbody tr th {\n",
       "        vertical-align: top;\n",
       "    }\n",
       "\n",
       "    .dataframe thead th {\n",
       "        text-align: right;\n",
       "    }\n",
       "</style>\n",
       "<table border=\"1\" class=\"dataframe\">\n",
       "  <thead>\n",
       "    <tr style=\"text-align: right;\">\n",
       "      <th></th>\n",
       "      <th>Actual</th>\n",
       "      <th>subjectid</th>\n",
       "      <th>entryid</th>\n",
       "      <th>Predicted</th>\n",
       "    </tr>\n",
       "  </thead>\n",
       "  <tbody>\n",
       "    <tr>\n",
       "      <th>818082</th>\n",
       "      <td>152.0</td>\n",
       "      <td>24448124.0</td>\n",
       "      <td>220006.0</td>\n",
       "      <td>146.478683</td>\n",
       "    </tr>\n",
       "    <tr>\n",
       "      <th>818085</th>\n",
       "      <td>147.0</td>\n",
       "      <td>24448124.0</td>\n",
       "      <td>220004.0</td>\n",
       "      <td>142.154724</td>\n",
       "    </tr>\n",
       "    <tr>\n",
       "      <th>818090</th>\n",
       "      <td>144.0</td>\n",
       "      <td>24448124.0</td>\n",
       "      <td>220002.0</td>\n",
       "      <td>137.602951</td>\n",
       "    </tr>\n",
       "    <tr>\n",
       "      <th>818098</th>\n",
       "      <td>135.0</td>\n",
       "      <td>24448124.0</td>\n",
       "      <td>220000.0</td>\n",
       "      <td>130.863129</td>\n",
       "    </tr>\n",
       "    <tr>\n",
       "      <th>818101</th>\n",
       "      <td>119.0</td>\n",
       "      <td>24448124.0</td>\n",
       "      <td>219999.0</td>\n",
       "      <td>115.723747</td>\n",
       "    </tr>\n",
       "  </tbody>\n",
       "</table>\n",
       "</div>"
      ],
      "text/plain": [
       "        Actual   subjectid   entryid   Predicted\n",
       "818082   152.0  24448124.0  220006.0  146.478683\n",
       "818085   147.0  24448124.0  220004.0  142.154724\n",
       "818090   144.0  24448124.0  220002.0  137.602951\n",
       "818098   135.0  24448124.0  220000.0  130.863129\n",
       "818101   119.0  24448124.0  219999.0  115.723747"
      ]
     },
     "execution_count": 120,
     "metadata": {},
     "output_type": "execute_result"
    }
   ],
   "source": [
    "for name, df in test_groups:\n",
    "    if name == subj:\n",
    "        out =df.reset_index(drop=True)\n",
    "        break\n",
    "\n",
    "df.head()"
   ]
  },
  {
   "cell_type": "code",
   "execution_count": 121,
   "id": "24f5235e",
   "metadata": {},
   "outputs": [
    {
     "name": "stdout",
     "output_type": "stream",
     "text": [
      "Null values to be filled by column:\n",
      "bg_lag_1 6593\n",
      "bg_lag_2 6449\n",
      "bg_lag_3 6420\n",
      "bg_lag_4 6548\n",
      "bg_lag_5 6614\n",
      "bg_lag_6 6577\n",
      "bg_lag_7 6653\n",
      "bg_lag_8 6720\n",
      "bg_lag_9 6683\n",
      "bg_lag_10 6694\n",
      "bg_lag_11 6746\n",
      "bg_lag_12 6758\n",
      "Dropping 0 invalid timestamps\n"
     ]
    }
   ],
   "source": [
    "clean_df = clean_data(raw_df, drop_cols=['timestamp'])"
   ]
  },
  {
   "cell_type": "code",
   "execution_count": 135,
   "id": "6bd52fa7",
   "metadata": {},
   "outputs": [],
   "source": [
    "from datetime import date"
   ]
  },
  {
   "cell_type": "code",
   "execution_count": 140,
   "id": "b76eaaf8",
   "metadata": {},
   "outputs": [
    {
     "data": {
      "text/plain": [
       "datetime.date(2019, 2, 4)"
      ]
     },
     "execution_count": 140,
     "metadata": {},
     "output_type": "execute_result"
    }
   ],
   "source": []
  },
  {
   "cell_type": "code",
   "execution_count": 157,
   "id": "b8826a27",
   "metadata": {},
   "outputs": [],
   "source": [
    "merged = df.merge(clean_df.reset_index(), how='left', left_on='entryid', right_on='entryid')\n",
    "subset = merged.loc[(merged.date.astype(str) == \"2019-02-04\"), :]"
   ]
  },
  {
   "cell_type": "code",
   "execution_count": 177,
   "id": "847a4048",
   "metadata": {},
   "outputs": [
    {
     "data": {
      "text/plain": [
       "<matplotlib.legend.Legend at 0x7f1a04e35810>"
      ]
     },
     "execution_count": 177,
     "metadata": {},
     "output_type": "execute_result"
    },
    {
     "data": {
      "image/png": "[encoded data removed]",
      "text/plain": [
       "<Figure size 1440x720 with 1 Axes>"
      ]
     },
     "metadata": {
      "needs_background": "light"
     },
     "output_type": "display_data"
    }
   ],
   "source": [
    "fig, ax = plt.subplots(figsize=(20,10))\n",
    "ax.plot(subset['timestamp_clean'], subset[\"Actual\"], label=\"Actual\")\n",
    "ax.plot(subset['timestamp_clean'], subset[\"Predicted\"], label=\"Predicted\")\n",
    "ax.bar(x=subset['timestamp_clean'], height=subset['carbs'], width=0.01, label=\"Carbs Recorded\")\n",
    "ax.bar(x=subset['timestamp_clean'], height=subset['insulin'], width=0.01, label=\"Insulin Recorded\")\n",
    "plt.legend()"
   ]
  },
  {
   "cell_type": "code",
   "execution_count": 171,
   "id": "936f43be",
   "metadata": {},
   "outputs": [],
   "source": [
    "\n",
    "fig.show()"
   ]
  }
 ],
 "metadata": {
  "kernelspec": {
   "display_name": "Python 3 (ipykernel)",
   "language": "python",
   "name": "python3"
  },
  "language_info": {
   "codemirror_mode": {
    "name": "ipython",
    "version": 3
   },
   "file_extension": ".py",
   "mimetype": "text/x-python",
   "name": "python",
   "nbconvert_exporter": "python",
   "pygments_lexer": "ipython3",
   "version": "3.10.5"
  }
 },
 "nbformat": 4,
 "nbformat_minor": 5
}
