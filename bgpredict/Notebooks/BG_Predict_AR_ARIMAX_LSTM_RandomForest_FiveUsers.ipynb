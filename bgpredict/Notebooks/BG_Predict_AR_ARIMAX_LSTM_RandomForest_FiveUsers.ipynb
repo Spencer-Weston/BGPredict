{
 "cells": [
  {
   "cell_type": "code",
   "execution_count": 1,
   "id": "fe987677",
   "metadata": {},
   "outputs": [
    {
     "name": "stderr",
     "output_type": "stream",
     "text": [
      "C:\\ProgramData\\Anaconda3\\lib\\site-packages\\scipy\\__init__.py:138: UserWarning: A NumPy version >=1.16.5 and <1.23.0 is required for this version of SciPy (detected version 1.23.1)\n",
      "  warnings.warn(f\"A NumPy version >={np_minversion} and <{np_maxversion} is required for this version of \"\n"
     ]
    }
   ],
   "source": [
    "# Need to reverse the sequence because most recent apears first and oldest appears last\n",
    "\n",
    "#!pip install tensorflow\n",
    "\n",
    "import pandas as pd\n",
    "import numpy as np\n",
    "import matplotlib.pyplot as plt\n",
    "import seaborn as sns\n",
    "\n",
    "\n",
    "from pandas import read_csv\n",
    "from pandas import concat\n",
    "\n",
    "from matplotlib import pyplot as plt\n",
    "\n",
    "from pandas.plotting import autocorrelation_plot\n",
    "from pandas.plotting import lag_plot\n",
    "from pandas.plotting import autocorrelation_plot\n",
    "\n",
    "\n",
    "from numpy import sqrt \n",
    "\n",
    "\n",
    "from statsmodels.tsa.ar_model import AutoReg\n",
    "from random import random\n",
    "\n",
    "from pandas import DataFrame\n",
    "\n",
    "\n",
    "from sklearn.metrics import mean_squared_error\n",
    "from sklearn.metrics import mean_absolute_error\n",
    "from sklearn.metrics import mean_absolute_percentage_error\n",
    "\n",
    "\n",
    "from pmdarima.arima import auto_arima\n",
    "\n",
    "\n",
    "from tensorflow.keras.models import Sequential\n",
    "from tensorflow.keras.layers import LSTM\n",
    "from tensorflow.keras.layers import Dense, Dropout\n",
    "\n",
    "\n",
    "from sklearn.preprocessing import StandardScaler\n",
    "\n"
   ]
  },
  {
   "cell_type": "code",
   "execution_count": 2,
   "id": "601dcbf5",
   "metadata": {},
   "outputs": [],
   "source": [
    "rmse_AR = np.array([0.0, 0.0, 0.0, 0.0, 0.0])\n",
    "mae_AR = np.array([0.0, 0.0, 0.0, 0.0, 0.0])\n",
    "mape_AR = np.array([0.0, 0.0, 0.0, 0.0, 0.0])\n",
    "\n",
    "rmse_ARIMAX = np.array([0.0, 0.0, 0.0, 0.0, 0.0])\n",
    "mae_ARIMAX = np.array([0.0, 0.0, 0.0, 0.0, 0.0])\n",
    "mape_ARIMAX = np.array([0.0, 0.0, 0.0, 0.0, 0.0])\n",
    "\n",
    "rmse_LSTM = np.array([0.0, 0.0, 0.0, 0.0, 0.0])\n",
    "mae_LSTM = np.array([0.0, 0.0, 0.0, 0.0, 0.0])\n",
    "mape_LSTM = np.array([0.0, 0.0, 0.0, 0.0, 0.0])\n",
    "\n",
    "rmse_RF = np.array([0.0, 0.0, 0.0, 0.0, 0.0])\n",
    "mae_RF = np.array([0.0, 0.0, 0.0, 0.0, 0.0])\n",
    "mape_RF = np.array([0.0, 0.0, 0.0, 0.0, 0.0])"
   ]
  },
  {
   "cell_type": "code",
   "execution_count": 3,
   "id": "10541e74",
   "metadata": {},
   "outputs": [],
   "source": [
    "# Define global variables for training and testing\n",
    "\n",
    "num_past_samples=12\n",
    "\n",
    "num_train_samples=12000 + num_past_samples\n",
    "# Train using 1000 hours\n",
    "\n",
    "num_test_samples=96 + num_past_samples -1\n",
    "# Predict 8 hours in future\n"
   ]
  },
  {
   "cell_type": "code",
   "execution_count": 4,
   "id": "8932f1d0",
   "metadata": {},
   "outputs": [
    {
     "name": "stdout",
     "output_type": "stream",
     "text": [
      "(59399, 4)\n",
      "(59061, 4)\n",
      "Endogenous Data (BG)...\n",
      "<bound method NDFrame.head of          bg\n",
      "0        69\n",
      "1       199\n",
      "2       204\n",
      "3       208\n",
      "4       215\n",
      "...     ...\n",
      "59394   126\n",
      "59395   127\n",
      "59396   128\n",
      "59397   128\n",
      "59398    85\n",
      "\n",
      "[59061 rows x 1 columns]>\n",
      "Exogenous Data (insulin and carbs)...\n",
      "<bound method NDFrame.head of        insulin  carbs\n",
      "0          0.0    0.0\n",
      "1          0.0    0.0\n",
      "2          0.0    0.0\n",
      "3          0.0    0.0\n",
      "4          0.0    0.0\n",
      "...        ...    ...\n",
      "59394      0.0    0.0\n",
      "59395      0.0    0.0\n",
      "59396      0.0    0.0\n",
      "59397      0.0    1.0\n",
      "59398      0.0    0.0\n",
      "\n",
      "[59061 rows x 2 columns]>\n"
     ]
    }
   ],
   "source": [
    "# Updated datafile processing\n",
    "# Run this cell and the cells below for different users to collect performance metrics\n",
    "\n",
    "file = \"309157.csv\"\n",
    "user_index=0\n",
    "\n",
    "# file = \"221634.csv\"\n",
    "# user_index=1\n",
    "\n",
    "#file = \"1352464.csv\"\n",
    "#user_index=2\n",
    "\n",
    "#file = \"2033176.csv\"\n",
    "#user_index=3\n",
    "\n",
    "#file = \"72492570.csv\"\n",
    "#user_index=4\n",
    "\n",
    "df = pd.read_csv(file, low_memory=False)\n",
    "df = df[['timestamp', 'bg', 'insulin', 'carbs']]\n",
    "\n",
    "print(df.shape)\n",
    "df.head()\n",
    "df = df.loc[df.bg!=\" null\", :]\n",
    "print(df.shape)\n",
    "\n",
    "# Remove all columns except BG to keep only endogenous variable BG: \n",
    "df_endogenous = df.drop(['timestamp', 'insulin', 'carbs'], axis=1)\n",
    "\n",
    "print('Endogenous Data (BG)...')\n",
    "print(df_endogenous.head)\n",
    "\n",
    "\n",
    "df_exogenous = df.drop(['timestamp', 'bg'], axis=1)\n",
    "print('Exogenous Data (insulin and carbs)...')\n",
    "print(df_exogenous.head)\n"
   ]
  },
  {
   "cell_type": "code",
   "execution_count": 5,
   "id": "cd737be7",
   "metadata": {},
   "outputs": [
    {
     "data": {
      "image/png": "[encoded data removed]",
      "text/plain": [
       "<Figure size 432x288 with 1 Axes>"
      ]
     },
     "metadata": {
      "needs_background": "light"
     },
     "output_type": "display_data"
    },
    {
     "data": {
      "image/png": "[encoded data removed]",
      "text/plain": [
       "<Figure size 432x288 with 1 Axes>"
      ]
     },
     "metadata": {
      "needs_background": "light"
     },
     "output_type": "display_data"
    }
   ],
   "source": [
    "\n",
    "# Select first N entries for training and testing\n",
    "N = 50000\n",
    "# N = 59000\n",
    "\n",
    "df_endogenous_numeric = df_endogenous.apply(pd.to_numeric, errors='coerce')\n",
    "df_endogenous_numeric_selected=df_endogenous_numeric.head(N)\n",
    "df_endogenous_numeric_selected.plot()\n",
    "plt.show()\n",
    "\n",
    "df_exogenous_numeric = df_exogenous.apply(pd.to_numeric, errors='coerce')\n",
    "df_exogenous_numeric_selected=df_exogenous_numeric.head(N)\n",
    "\n",
    "\n",
    "autocorrelation_plot(df_endogenous_numeric_selected)\n",
    "#pyplot.xlim(1,50)\n",
    "#pyplot.show()\n",
    "\n",
    "plt.xlim(1,50)\n",
    "plt.show()\n",
    "\n",
    "\n",
    "# Try selected BG samples of a user\n",
    "# data_endogenous = numpy.array(df_endogenous_numeric_selected)\n",
    "# data_exogenous = numpy.array(df_exogenous_numeric_selected)\n",
    "\n",
    "data_endogenous = np.array(df_endogenous_numeric_selected)\n",
    "data_exogenous = np.array(df_exogenous_numeric_selected)\n",
    "\n",
    "df_for_training=df_endogenous.iloc[0:num_train_samples,:]\n",
    "df_for_testing=df_endogenous.iloc[num_train_samples:num_train_samples+num_test_samples+1,:]\n",
    "\n",
    "# num_test_samples=8000\n",
    "train_endogenous, test_endogenous = data_endogenous[0:num_train_samples], data_endogenous[num_train_samples:num_train_samples+num_test_samples+1]\n",
    "train_exogenous, test_exogenous = data_exogenous[0:num_train_samples], data_exogenous[num_train_samples:num_train_samples+num_test_samples+1]\n"
   ]
  },
  {
   "cell_type": "code",
   "execution_count": 6,
   "id": "a8d0a874",
   "metadata": {},
   "outputs": [
    {
     "name": "stdout",
     "output_type": "stream",
     "text": [
      "train_endogenous shape == (12012, 1).\n",
      "test_endogenous shape == (108, 1).\n"
     ]
    }
   ],
   "source": [
    "print('train_endogenous shape == {}.'.format(train_endogenous.shape))\n",
    "print('test_endogenous shape == {}.'.format(test_endogenous.shape))"
   ]
  },
  {
   "cell_type": "code",
   "execution_count": 7,
   "id": "93a5bdfb",
   "metadata": {},
   "outputs": [
    {
     "name": "stdout",
     "output_type": "stream",
     "text": [
      "Performing stepwise search to minimize aic\n",
      " ARIMA(2,0,2)(0,0,0)[0] intercept   : AIC=105343.266, Time=8.09 sec\n",
      " ARIMA(0,0,0)(0,0,0)[0] intercept   : AIC=132852.606, Time=0.16 sec\n",
      " ARIMA(1,0,0)(0,0,0)[0] intercept   : AIC=107494.407, Time=0.47 sec\n",
      " ARIMA(0,0,1)(0,0,0)[0] intercept   : AIC=122719.224, Time=1.58 sec\n",
      " ARIMA(0,0,0)(0,0,0)[0]             : AIC=156463.305, Time=0.10 sec\n",
      " ARIMA(1,0,2)(0,0,0)[0] intercept   : AIC=105389.935, Time=4.38 sec\n",
      " ARIMA(2,0,1)(0,0,0)[0] intercept   : AIC=105408.995, Time=4.41 sec\n",
      " ARIMA(3,0,2)(0,0,0)[0] intercept   : AIC=105293.778, Time=4.14 sec\n",
      " ARIMA(3,0,1)(0,0,0)[0] intercept   : AIC=105302.240, Time=8.45 sec\n",
      " ARIMA(4,0,2)(0,0,0)[0] intercept   : AIC=105296.298, Time=13.50 sec\n",
      " ARIMA(3,0,3)(0,0,0)[0] intercept   : AIC=105295.807, Time=3.78 sec\n",
      " ARIMA(2,0,3)(0,0,0)[0] intercept   : AIC=105299.328, Time=10.14 sec\n",
      " ARIMA(4,0,1)(0,0,0)[0] intercept   : AIC=105292.338, Time=15.54 sec\n",
      " ARIMA(4,0,0)(0,0,0)[0] intercept   : AIC=105301.009, Time=2.74 sec\n",
      " ARIMA(5,0,1)(0,0,0)[0] intercept   : AIC=105295.129, Time=8.55 sec\n",
      " ARIMA(3,0,0)(0,0,0)[0] intercept   : AIC=105304.209, Time=3.83 sec\n",
      " ARIMA(5,0,0)(0,0,0)[0] intercept   : AIC=105293.067, Time=5.82 sec\n",
      " ARIMA(5,0,2)(0,0,0)[0] intercept   : AIC=105288.997, Time=29.63 sec\n",
      " ARIMA(5,0,3)(0,0,0)[0] intercept   : AIC=105298.771, Time=24.74 sec\n",
      " ARIMA(4,0,3)(0,0,0)[0] intercept   : AIC=105298.522, Time=22.20 sec\n",
      " ARIMA(5,0,2)(0,0,0)[0]             : AIC=105395.407, Time=10.51 sec\n",
      "\n",
      "Best model:  ARIMA(5,0,2)(0,0,0)[0] intercept\n",
      "Total fit time: 182.974 seconds\n"
     ]
    }
   ],
   "source": [
    "# from pmdarima.arima import auto_arima\n",
    "\n",
    "#model_ARIMAX = auto_arima(train_endogenous, exogenous=train_exogenous, trace=True, error_action=\"ignore\", suppress_warnings=True)\n",
    "model_ARIMAX = auto_arima(train_endogenous, xreg=train_exogenous, trace=True, error_action=\"ignore\", suppress_warnings=True)\n",
    "\n",
    "model_ARIMAX.fit(train_endogenous, xreg=train_exogenous)\n",
    "\n",
    "forecast_ARIMAX = model_ARIMAX.predict(n_periods=num_test_samples+1, xreg=test_exogenous)\n"
   ]
  },
  {
   "cell_type": "code",
   "execution_count": 8,
   "id": "d912c702",
   "metadata": {},
   "outputs": [
    {
     "name": "stdout",
     "output_type": "stream",
     "text": [
      "shape of forecast_ARIMAX: (108,)\n"
     ]
    }
   ],
   "source": [
    "print(\"shape of forecast_ARIMAX:\", forecast_ARIMAX.shape)"
   ]
  },
  {
   "cell_type": "code",
   "execution_count": 58,
   "id": "a29aa243",
   "metadata": {},
   "outputs": [
    {
     "name": "stdout",
     "output_type": "stream",
     "text": [
      "shape of forecast_ARIMAX_uniform: (96,)\n"
     ]
    }
   ],
   "source": [
    "forecast_ARIMAX_uniform = forecast_ARIMAX[num_past_samples:]\n",
    "print(\"shape of forecast_ARIMAX_uniform:\", forecast_ARIMAX_uniform.shape)"
   ]
  },
  {
   "cell_type": "code",
   "execution_count": 9,
   "id": "e05be281",
   "metadata": {},
   "outputs": [
    {
     "data": {
      "image/png": "[encoded data removed]",
      "text/plain": [
       "<Figure size 432x288 with 1 Axes>"
      ]
     },
     "metadata": {
      "needs_background": "light"
     },
     "output_type": "display_data"
    },
    {
     "name": "stdout",
     "output_type": "stream",
     "text": [
      "Results for the ARIMAX Model...\n",
      "rmse_test_dataset_ARIMAX: 35.69395972848119\n",
      "mae_test_dataset_ARIMAX: 26.18053676659292\n",
      "mape_test_dataset_ARIMAX: 0.30485460369438544\n"
     ]
    }
   ],
   "source": [
    "#plot the predictions for the test set\n",
    "plt.plot(test_endogenous[0:99], label='Test (Desired Output)', color='blue')\n",
    "plt.plot(forecast_ARIMAX[0:99], label='Prediction (Forecast)', color='red')\n",
    "plt.show()\n",
    "\n",
    "print('Results for the ARIMAX Model...')\n",
    "\n",
    "rmse_test_dataset_ARIMAX = sqrt(mean_squared_error(test_endogenous, forecast_ARIMAX))\n",
    "print('rmse_test_dataset_ARIMAX:', rmse_test_dataset_ARIMAX)\n",
    "\n",
    "mae_test_dataset_ARIMAX= mean_absolute_error(test_endogenous, forecast_ARIMAX)\n",
    "print('mae_test_dataset_ARIMAX:', mae_test_dataset_ARIMAX)\n",
    "\n",
    "mape_test_dataset_ARIMAX= mean_absolute_percentage_error(test_endogenous, forecast_ARIMAX)\n",
    "print('mape_test_dataset_ARIMAX:', mape_test_dataset_ARIMAX)\n",
    "\n",
    "rmse_ARIMAX[user_index]=rmse_test_dataset_ARIMAX\n",
    "mae_ARIMAX[user_index]=mae_test_dataset_ARIMAX\n",
    "mape_ARIMAX[user_index]=mape_test_dataset_ARIMAX\n",
    "\n"
   ]
  },
  {
   "cell_type": "code",
   "execution_count": 10,
   "id": "ad078288",
   "metadata": {},
   "outputs": [
    {
     "data": {
      "image/png": "[encoded data removed]",
      "text/plain": [
       "<Figure size 432x288 with 1 Axes>"
      ]
     },
     "metadata": {
      "needs_background": "light"
     },
     "output_type": "display_data"
    }
   ],
   "source": [
    "# Plot ARIMAX results\n",
    "plt.plot(test_endogenous, color='blue', label=\"Actual BG\")\n",
    "plt.plot(forecast_ARIMAX, color='red', label=\"Predicted BG (ARIMAX)\")\n",
    "plt.title('Predicted and Actual Blood Glucose Levels')\n",
    "plt.xlabel('Sample Number')\n",
    "plt.ylabel('BG Level')\n",
    "plt.ylim(40, 250)\n",
    "plt.legend(loc=\"upper left\")\n",
    "plt.show()"
   ]
  },
  {
   "cell_type": "code",
   "execution_count": 11,
   "id": "a6b90ad0",
   "metadata": {},
   "outputs": [
    {
     "name": "stderr",
     "output_type": "stream",
     "text": [
      "C:\\ProgramData\\Anaconda3\\lib\\site-packages\\statsmodels\\tsa\\ar_model.py:248: FutureWarning: The parameter names will change after 0.12 is released. Set old_names to False to use the new names now. Set old_names to True to use the old names. \n",
      "  warnings.warn(\n"
     ]
    },
    {
     "name": "stdout",
     "output_type": "stream",
     "text": [
      "shape of forecast_AR: (108,)\n",
      "Results for the AR Model...\n",
      "rmse_test_dataset_AR: 34.40932684073273\n",
      "mae_test_dataset_AR: 25.29132546727023\n",
      "mape_test_dataset_AR: 0.29312887741842214\n"
     ]
    }
   ],
   "source": [
    "# AutoRegressive Model for this new data set\n",
    "\n",
    "# fit model\n",
    "# 12\n",
    "target_lags=12\n",
    "model_AR = AutoReg(train_endogenous, lags=target_lags)\n",
    "model_AR_fit = model_AR.fit()\n",
    "# let's make prediction\n",
    "# forecast_AR = model_AR_fit.predict(len(train_endogenous), len(train_endogenous)+num_test_samples-1)\n",
    "forecast_AR = model_AR_fit.predict(len(train_endogenous), len(train_endogenous)+num_test_samples)\n",
    "#print(forecast)\n",
    "\n",
    "print(\"shape of forecast_AR:\", forecast_AR.shape)\n",
    "\n",
    "\n",
    "print('Results for the AR Model...')\n",
    "\n",
    "rmse_test_dataset_AR = sqrt(mean_squared_error(test_endogenous, forecast_AR))\n",
    "print('rmse_test_dataset_AR:', rmse_test_dataset_AR)\n",
    "\n",
    "mae_test_dataset_AR= mean_absolute_error(test_endogenous, forecast_AR)\n",
    "print('mae_test_dataset_AR:', mae_test_dataset_AR)\n",
    "\n",
    "mape_test_dataset_AR= mean_absolute_percentage_error(test_endogenous, forecast_AR)\n",
    "print('mape_test_dataset_AR:', mape_test_dataset_AR)\n",
    "\n",
    "rmse_AR[user_index]=rmse_test_dataset_AR\n",
    "mae_AR[user_index]=mae_test_dataset_AR\n",
    "mape_AR[user_index]=mape_test_dataset_AR\n"
   ]
  },
  {
   "cell_type": "code",
   "execution_count": 12,
   "id": "c59e5ed7",
   "metadata": {},
   "outputs": [
    {
     "data": {
      "image/png": "[encoded data removed]",
      "text/plain": [
       "<Figure size 432x288 with 1 Axes>"
      ]
     },
     "metadata": {
      "needs_background": "light"
     },
     "output_type": "display_data"
    }
   ],
   "source": [
    "# Plot AR and ARIMAX results\n",
    "plt.plot(test_endogenous, color='blue', label=\"Actual BG\")\n",
    "plt.plot(forecast_AR, color='green', label=\"Predicted BG (AR)\")\n",
    "plt.plot(forecast_ARIMAX, color='red', label=\"Predicted BG (ARIMAX)\")\n",
    "plt.title('Predicted and Actual Blood Glucose Levels')\n",
    "plt.xlabel('Sample Number')\n",
    "plt.ylabel('BG Level')\n",
    "plt.ylim(40, 250)\n",
    "plt.legend(loc=\"upper left\")\n",
    "plt.show()"
   ]
  },
  {
   "cell_type": "code",
   "execution_count": 59,
   "id": "0b85b707",
   "metadata": {},
   "outputs": [
    {
     "name": "stdout",
     "output_type": "stream",
     "text": [
      "shape of forecast_ARI_uniform: (96,)\n"
     ]
    }
   ],
   "source": [
    "forecast_AR_uniform = forecast_AR[num_past_samples:]\n",
    "print(\"shape of forecast_ARI_uniform:\", forecast_AR_uniform.shape)"
   ]
  },
  {
   "cell_type": "code",
   "execution_count": 13,
   "id": "c88dbb4a",
   "metadata": {
    "scrolled": true
   },
   "outputs": [],
   "source": [
    "\n",
    "df_for_training=df_endogenous.iloc[0:num_train_samples,:]\n",
    "df_for_testing=df_endogenous.iloc[num_train_samples:num_train_samples+num_test_samples+1,:]\n"
   ]
  },
  {
   "cell_type": "code",
   "execution_count": 14,
   "id": "d9584845",
   "metadata": {},
   "outputs": [
    {
     "name": "stdout",
     "output_type": "stream",
     "text": [
      "     bg\n",
      "0    69\n",
      "1   199\n",
      "2   204\n",
      "3   208\n",
      "4   215\n",
      "         bg\n",
      "12082   117\n",
      "12083   114\n",
      "12084   108\n",
      "12085   105\n",
      "12086   100\n",
      "Training Dataset Shape:  (12012, 1)\n"
     ]
    }
   ],
   "source": [
    "print(df_for_training.head())\n",
    "print(df_for_training.tail())\n",
    "print('Training Dataset Shape: ', df_for_training.shape)"
   ]
  },
  {
   "cell_type": "code",
   "execution_count": 15,
   "id": "4b14ccee",
   "metadata": {},
   "outputs": [
    {
     "name": "stdout",
     "output_type": "stream",
     "text": [
      "         bg\n",
      "12087    96\n",
      "12088    95\n",
      "12089    96\n",
      "12090   101\n",
      "12091   104\n",
      "        bg\n",
      "12190   76\n",
      "12191   67\n",
      "12192   59\n",
      "12193   53\n",
      "12194   50\n",
      "Testing Dataset Shape:  (108, 1)\n"
     ]
    }
   ],
   "source": [
    "print(df_for_testing.head())\n",
    "print(df_for_testing.tail())\n",
    "print('Testing Dataset Shape: ', df_for_testing.shape)"
   ]
  },
  {
   "cell_type": "code",
   "execution_count": 16,
   "id": "5424081c",
   "metadata": {},
   "outputs": [
    {
     "name": "stdout",
     "output_type": "stream",
     "text": [
      "<bound method NDFrame.head of          bg\n",
      "12087    96\n",
      "12088    95\n",
      "12089    96\n",
      "12090   101\n",
      "12091   104\n",
      "...     ...\n",
      "12190    76\n",
      "12191    67\n",
      "12192    59\n",
      "12193    53\n",
      "12194    50\n",
      "\n",
      "[108 rows x 1 columns]>\n"
     ]
    }
   ],
   "source": [
    "# store original BG for a future comparison with predicted BG\n",
    "\n",
    "original_bg = df_for_testing[['bg']]\n",
    "print(original_bg.head)\n"
   ]
  },
  {
   "cell_type": "code",
   "execution_count": 17,
   "id": "f72ec42e",
   "metadata": {},
   "outputs": [
    {
     "name": "stdout",
     "output_type": "stream",
     "text": [
      "trainX shape == (12000, 12, 1).\n",
      "trainY shape == (12000, 1).\n"
     ]
    }
   ],
   "source": [
    "# Prepare the training dataset\n",
    "\n",
    "#LSTM uses sigmoid and tanh that are sensitive to magnitude so dataset values need to be normalized\n",
    "# normalize the dataset\n",
    "scaler_training = StandardScaler()\n",
    "scaler_training = scaler_training.fit(df_for_training)\n",
    "df_for_training_scaled = scaler_training.transform(df_for_training)\n",
    "\n",
    "\n",
    "# Per LSTM requirements, reshape the input data into n_samples x timesteps x n_features. \n",
    "# In our BG example, the n_features is 3. \n",
    "# Try different numbers of past samples as \"timesteps\" (=n_past) for training\n",
    "# For data samples every 5 minutes, timesteps= 12 corresponds to last 1 hour data\n",
    "\n",
    "\n",
    "#Empty lists to be populated using formatted training data\n",
    "# trainX: Training input data (=past BG, insulin, and carbs)\n",
    "# trainY: Training target output (=current BG)\n",
    "trainX = []\n",
    "trainY = []\n",
    "\n",
    "n_future = 1   # Number of samples we want to predict into the future at a given instant\n",
    "n_past = num_past_samples # Number of past samples used to predict the future.\n",
    "\n",
    "# Reformat input data into a shape: (n_samples x timesteps x n_features)\n",
    "# In this example, df_for_training_scaled has a shape (59047, 3) for test_no_null.csv\n",
    "# 59047: the number of data points \n",
    "# 3: the number of columns (= endogenous variables that influence BG).\n",
    "\n",
    "for i in range(n_past, len(df_for_training_scaled) - n_future +1):\n",
    "    trainX.append(df_for_training_scaled[i - n_past:i, 0:df_for_training.shape[1]])\n",
    "    trainY.append(df_for_training_scaled[i + n_future - 1:i + n_future, 0])\n",
    "\n",
    "trainX, trainY = np.array(trainX), np.array(trainY)\n",
    "\n",
    "print('trainX shape == {}.'.format(trainX.shape))\n",
    "print('trainY shape == {}.'.format(trainY.shape))\n",
    "\n",
    "# Example Values for n_past=14:\n",
    "# trainX shape == (59047, 14, 3).\n",
    "# trainY shape == (59047, 1).\n",
    "# In this example case, trainX has a shape (59047, 14, 3). \n",
    "# 59047 because we are looking back 14 instants (59061 - 14 = 59047). \n",
    "# We cannot look back 14 instants until we get to the 15th instant. \n",
    "# trainY has a shape (59047, 1). Our model only predicts BG (a single variable) \n",
    "# The model needs 3 variables (3 in my example) to make this prediction. \n"
   ]
  },
  {
   "cell_type": "code",
   "execution_count": 18,
   "id": "e46d5771",
   "metadata": {},
   "outputs": [
    {
     "name": "stdout",
     "output_type": "stream",
     "text": [
      "testX shape == (96, 12, 1).\n",
      "testY shape == (96, 1).\n"
     ]
    }
   ],
   "source": [
    "# Prepare the testing dataset\n",
    "\n",
    "#LSTM uses sigmoid and tanh that are sensitive to magnitude so dataset values need to be normalized\n",
    "# normalize the dataset\n",
    "scaler_testing = StandardScaler()\n",
    "scaler_testing = scaler_testing.fit(df_for_testing)\n",
    "df_for_testing_scaled = scaler_testing.transform(df_for_testing)\n",
    "\n",
    "\n",
    "#Empty lists to be populated using formatted test data\n",
    "# testX: Training input data (=past BG, insulin, and carbs)\n",
    "# testY: Training target output (=current BG)\n",
    "testX = []\n",
    "testY = []\n",
    "\n",
    "n_future = 1   # Number of samples we want to predict into the future at a given instant\n",
    "n_past = num_past_samples  # Number of past samples used to predict the future.\n",
    "\n",
    "# Reformat input data into a shape: (n_samples x timesteps x n_features)\n",
    "\n",
    "for i in range(n_past, len(df_for_testing_scaled) - n_future +1):\n",
    "    testX.append(df_for_testing_scaled[i - n_past:i, 0:df_for_testing.shape[1]])\n",
    "    testY.append(df_for_testing_scaled[i + n_future - 1:i + n_future, 0])\n",
    "\n",
    "testX, testY = np.array(testX), np.array(testY)\n",
    "\n",
    "print('testX shape == {}.'.format(testX.shape))\n",
    "print('testY shape == {}.'.format(testY.shape))\n"
   ]
  },
  {
   "cell_type": "code",
   "execution_count": 19,
   "id": "809c07a0",
   "metadata": {},
   "outputs": [
    {
     "name": "stdout",
     "output_type": "stream",
     "text": [
      "Model: \"sequential\"\n",
      "_________________________________________________________________\n",
      " Layer (type)                Output Shape              Param #   \n",
      "=================================================================\n",
      " lstm (LSTM)                 (None, 12, 128)           66560     \n",
      "                                                                 \n",
      " lstm_1 (LSTM)               (None, 32)                20608     \n",
      "                                                                 \n",
      " dropout (Dropout)           (None, 32)                0         \n",
      "                                                                 \n",
      " dense (Dense)               (None, 1)                 33        \n",
      "                                                                 \n",
      "=================================================================\n",
      "Total params: 87,201\n",
      "Trainable params: 87,201\n",
      "Non-trainable params: 0\n",
      "_________________________________________________________________\n"
     ]
    }
   ],
   "source": [
    "# define the LSTM model\n",
    "# find out the difference between LSTM and autoencoder\n",
    "layer1_units=128\n",
    "layer2_units=32\n",
    "#layer1_units=64\n",
    "#layer2_units=32\n",
    "model = Sequential()\n",
    "model.add(LSTM(layer1_units, activation='relu', input_shape=(trainX.shape[1], trainX.shape[2]), return_sequences=True))\n",
    "model.add(LSTM(layer2_units, activation='relu', return_sequences=False))\n",
    "model.add(Dropout(0.2))\n",
    "model.add(Dense(trainY.shape[1]))\n",
    "\n",
    "model.compile(optimizer='adam', loss='mse')\n",
    "model.summary()"
   ]
  },
  {
   "cell_type": "code",
   "execution_count": 20,
   "id": "b943c5ed",
   "metadata": {},
   "outputs": [
    {
     "name": "stdout",
     "output_type": "stream",
     "text": [
      "Epoch 1/20\n",
      "675/675 [==============================] - 7s 8ms/step - loss: 0.1722 - val_loss: 0.1602\n",
      "Epoch 2/20\n",
      "675/675 [==============================] - 6s 8ms/step - loss: 0.1248 - val_loss: 0.1513\n",
      "Epoch 3/20\n",
      "675/675 [==============================] - 5s 7ms/step - loss: 0.1212 - val_loss: 0.1441\n",
      "Epoch 4/20\n",
      "675/675 [==============================] - 5s 7ms/step - loss: 0.1138 - val_loss: 0.1405\n",
      "Epoch 5/20\n",
      "675/675 [==============================] - 5s 7ms/step - loss: 0.1152 - val_loss: 0.1462\n",
      "Epoch 6/20\n",
      "675/675 [==============================] - 5s 7ms/step - loss: 0.1116 - val_loss: 0.1441\n",
      "Epoch 7/20\n",
      "675/675 [==============================] - 5s 7ms/step - loss: 0.1069 - val_loss: 0.1303\n",
      "Epoch 8/20\n",
      "675/675 [==============================] - 5s 7ms/step - loss: 0.1072 - val_loss: 0.1375\n",
      "Epoch 9/20\n",
      "675/675 [==============================] - 5s 8ms/step - loss: 0.1059 - val_loss: 0.1272\n",
      "Epoch 10/20\n",
      "675/675 [==============================] - 7s 10ms/step - loss: 0.1059 - val_loss: 0.1373\n",
      "Epoch 11/20\n",
      "675/675 [==============================] - 8s 12ms/step - loss: 0.1080 - val_loss: 0.1294\n",
      "Epoch 12/20\n",
      "675/675 [==============================] - 8s 13ms/step - loss: 0.1029 - val_loss: 0.1276\n",
      "Epoch 13/20\n",
      "675/675 [==============================] - 12s 18ms/step - loss: 0.1045 - val_loss: 0.1340\n",
      "Epoch 14/20\n",
      "675/675 [==============================] - 13s 19ms/step - loss: 0.1006 - val_loss: 0.1299\n",
      "Epoch 15/20\n",
      "675/675 [==============================] - 12s 18ms/step - loss: 0.1031 - val_loss: 0.1269\n",
      "Epoch 16/20\n",
      "675/675 [==============================] - 13s 19ms/step - loss: 0.0974 - val_loss: 0.1465\n",
      "Epoch 17/20\n",
      "675/675 [==============================] - 12s 18ms/step - loss: 0.1025 - val_loss: 0.1389\n",
      "Epoch 18/20\n",
      "675/675 [==============================] - 11s 16ms/step - loss: 0.0963 - val_loss: 0.1271\n",
      "Epoch 19/20\n",
      "675/675 [==============================] - 12s 18ms/step - loss: 0.0983 - val_loss: 0.1271\n",
      "Epoch 20/20\n",
      "675/675 [==============================] - 12s 18ms/step - loss: 0.0972 - val_loss: 0.1292\n",
      "3/3 [==============================] - 0s 6ms/step\n"
     ]
    },
    {
     "data": {
      "image/png": "[encoded data removed]",
      "text/plain": [
       "<Figure size 432x288 with 1 Axes>"
      ]
     },
     "metadata": {
      "needs_background": "light"
     },
     "output_type": "display_data"
    }
   ],
   "source": [
    "# fit the model\n",
    "num_epochs_lstm=20\n",
    "history = model.fit(trainX, trainY, epochs=num_epochs_lstm, batch_size=16, validation_split=0.1, verbose=1)\n",
    "# history = model.fit(trainX, trainY, epochs=5, batch_size=16, validation_split=0.1, verbose=1)\n",
    "\n",
    "\n",
    "plt.plot(history.history['loss'], label='Training loss')\n",
    "plt.plot(history.history['val_loss'], label='Validation loss')\n",
    "plt.legend()\n",
    "\n",
    "#Predicting for the test dataset...\n",
    "\n",
    "# n_past = 16\n",
    "# n_instants_for_prediction=15  #let us predict 15 samples\n",
    "\n",
    "#Make prediction\n",
    "prediction_test = model.predict(testX) \n",
    "\n",
    "#Perform inverse transformation to rescale back to original range\n",
    "#Since we used 3 variables for transform, the inverse expects same dimensions\n",
    "#Therefore, let us copy our values 3 times and discard them after inverse transform\n",
    "prediction_test_copies = np.repeat(prediction_test, df_for_testing.shape[1], axis=-1)\n",
    "y_pred_test = scaler_testing.inverse_transform(prediction_test_copies)[:,0]\n",
    "\n",
    "yhat_lstm=y_pred_test\n",
    "\n",
    "# y_actual= trainY[-n_days_for_prediction:]"
   ]
  },
  {
   "cell_type": "code",
   "execution_count": 21,
   "id": "89cbac32",
   "metadata": {},
   "outputs": [],
   "source": [
    "y_actual_original= original_bg[num_past_samples:]\n",
    "length_y_actual_original=len(y_actual_original)\n",
    "length_y_actual_original\n",
    "#y_actual_vector[0:n_days_for_prediction]=y_actual\n",
    "#y_actual_vector\n",
    "y_actual= y_actual_original.to_numpy()\n"
   ]
  },
  {
   "cell_type": "code",
   "execution_count": 22,
   "id": "f5a5622d",
   "metadata": {},
   "outputs": [],
   "source": [
    "y_actual=y_actual.astype(np.int64)"
   ]
  },
  {
   "cell_type": "code",
   "execution_count": 23,
   "id": "a8d39e7a",
   "metadata": {
    "scrolled": false
   },
   "outputs": [
    {
     "data": {
      "image/png": "[encoded data removed]",
      "text/plain": [
       "<Figure size 576x360 with 1 Axes>"
      ]
     },
     "metadata": {
      "needs_background": "light"
     },
     "output_type": "display_data"
    },
    {
     "name": "stdout",
     "output_type": "stream",
     "text": [
      "Results for the LSTM Model...\n",
      "layer1_units: 128\n",
      "layer2_units: 32\n",
      "num_epochs_lstm: 20\n",
      "rmse_test_dataset_lstm: 7.161139736783355\n",
      "mae_test_dataset_lstm: 5.682555238405864\n",
      "mape_test_dataset_lstm: 0.053642384204728145\n"
     ]
    }
   ],
   "source": [
    "# Quantify the performance of the LSTM model\n",
    "\n",
    "\n",
    "#plot the predictions for the test set\n",
    "\n",
    "plt.rcParams[\"figure.figsize\"] = (8,5)\n",
    "plt.plot(y_actual, label='Actual BG', color='blue')\n",
    "plt.plot(yhat_lstm, label='Predicted BG (LSTM)', color='red')\n",
    "plt.title('Predicted and Actual Blood Glucose Levels')\n",
    "plt.xlabel('Sample Number')\n",
    "plt.ylabel('BG Level')\n",
    "plt.ylim(40, 250)\n",
    "plt.legend(loc=\"upper left\")\n",
    "plt.show()\n",
    "\n",
    "print('Results for the LSTM Model...')\n",
    "print('layer1_units:', layer1_units)\n",
    "print('layer2_units:', layer2_units)\n",
    "print('num_epochs_lstm:', num_epochs_lstm)\n",
    "\n",
    "\n",
    "rmse_test_dataset_lstm = sqrt(mean_squared_error(y_actual, yhat_lstm))\n",
    "print('rmse_test_dataset_lstm:', rmse_test_dataset_lstm)\n",
    "\n",
    "mae_test_dataset_lstm= mean_absolute_error(y_actual, yhat_lstm)\n",
    "print('mae_test_dataset_lstm:', mae_test_dataset_lstm)\n",
    "\n",
    "mape_test_dataset_lstm= mean_absolute_percentage_error(y_actual, yhat_lstm)\n",
    "print('mape_test_dataset_lstm:', mape_test_dataset_lstm)\n",
    "\n",
    "rmse_LSTM[user_index]=rmse_test_dataset_lstm\n",
    "mae_LSTM[user_index]=mae_test_dataset_lstm\n",
    "mape_LSTM[user_index]=mape_test_dataset_lstm\n",
    "\n",
    "\n"
   ]
  },
  {
   "cell_type": "code",
   "execution_count": 24,
   "id": "ca787b6a",
   "metadata": {},
   "outputs": [
    {
     "data": {
      "image/png": "[encoded data removed]",
      "text/plain": [
       "<Figure size 576x360 with 1 Axes>"
      ]
     },
     "metadata": {
      "needs_background": "light"
     },
     "output_type": "display_data"
    }
   ],
   "source": [
    "# Plot AR, ARIMAX, and LSTM results\n",
    "plt.plot(y_actual, color='blue', label=\"Actual BG\")\n",
    "plt.plot(forecast_AR, color='black', label=\"Predicted BG (AR)\")\n",
    "plt.plot(forecast_ARIMAX, color='red', label=\"Predicted BG (ARIMAX)\")\n",
    "plt.plot(yhat_lstm, color='red', label=\"Predicted BG (LSTM)\")\n",
    "# plt.plot(y_pred_test, label='Prediction (Forecast)', color='black')\n",
    "plt.title('Predicted and Actual Blood Glucose Levels')\n",
    "plt.xlabel('Sample Number')\n",
    "plt.ylabel('BG Level')\n",
    "plt.ylim(40, 250)\n",
    "plt.legend(loc=\"upper left\")\n",
    "plt.show()"
   ]
  },
  {
   "cell_type": "code",
   "execution_count": 25,
   "id": "c17d8343",
   "metadata": {},
   "outputs": [
    {
     "name": "stdout",
     "output_type": "stream",
     "text": [
      "df_for_training Shape:  (12012, 1)\n",
      "df_for_training_scaled Shape:  (12012, 1)\n",
      "df_for_testing Shape:  (108, 1)\n",
      "df_for_testing_scaled Shape:  (108, 1)\n",
      "n_future:  1\n",
      "n_past:  12\n",
      "len(df_for_training_scaled):  12012\n",
      "len(df_for_training):  12012\n"
     ]
    }
   ],
   "source": [
    "print('df_for_training Shape: ', df_for_training.shape)\n",
    "print('df_for_training_scaled Shape: ', df_for_training_scaled.shape)\n",
    "print('df_for_testing Shape: ', df_for_testing.shape)\n",
    "print('df_for_testing_scaled Shape: ', df_for_testing_scaled.shape)\n",
    "\n",
    "print('n_future: ', n_future)\n",
    "print('n_past: ', n_past)\n",
    "\n",
    "print('len(df_for_training_scaled): ', len(df_for_training_scaled))\n",
    "print('len(df_for_training): ', len(df_for_training))\n"
   ]
  },
  {
   "cell_type": "code",
   "execution_count": 26,
   "id": "bd88702c",
   "metadata": {},
   "outputs": [
    {
     "name": "stdout",
     "output_type": "stream",
     "text": [
      "<class 'pandas.core.frame.DataFrame'>\n",
      "<class 'numpy.ndarray'>\n"
     ]
    }
   ],
   "source": [
    "print(type(df_for_training))\n",
    "print(type(df_for_training_scaled))"
   ]
  },
  {
   "cell_type": "code",
   "execution_count": 27,
   "id": "41247d09",
   "metadata": {},
   "outputs": [
    {
     "name": "stdout",
     "output_type": "stream",
     "text": [
      "trainX_rf Shape:  (12000, 12, 1)\n",
      "trainY_rf Shape:  (12000, 1)\n"
     ]
    }
   ],
   "source": [
    "#Empty lists to be populated using formatted training data\n",
    "# trainX_rf: Training input data (=past BG, insulin, and carbs)\n",
    "# trainY_rf: Training target output (=current BG)\n",
    "# No scaling for these random forest training and test datasets\n",
    "\n",
    "array_for_training=df_for_training.to_numpy()\n",
    "\n",
    "trainX_rf = []\n",
    "trainY_rf = []\n",
    "for i in range(n_past, len(df_for_training) - n_future +1):\n",
    "    trainX_rf.append(array_for_training[i - n_past:i, 0:df_for_training.shape[1]])\n",
    "    trainY_rf.append(array_for_training[i + n_future - 1:i + n_future, 0])\n",
    "\n",
    "#print('trainX_rf Shape: ', trainX_rf.shape)\n",
    "#print('trainY_rf Shape: ', trainY_rf.shape)\n",
    "trainX_rf, trainY_rf = np.array(trainX_rf), np.array(trainY_rf)\n",
    "\n",
    "print('trainX_rf Shape: ', trainX_rf.shape)\n",
    "print('trainY_rf Shape: ', trainY_rf.shape)"
   ]
  },
  {
   "cell_type": "code",
   "execution_count": 28,
   "id": "eb1df976",
   "metadata": {},
   "outputs": [
    {
     "data": {
      "text/plain": [
       "array([[' 69'],\n",
       "       [' 199'],\n",
       "       [' 204'],\n",
       "       [' 208'],\n",
       "       [' 215'],\n",
       "       [' 219'],\n",
       "       [' 223'],\n",
       "       [' 229'],\n",
       "       [' 237'],\n",
       "       [' 90'],\n",
       "       [' 246'],\n",
       "       [' 80']], dtype=object)"
      ]
     },
     "execution_count": 28,
     "metadata": {},
     "output_type": "execute_result"
    }
   ],
   "source": [
    "trainX_rf[0,:]"
   ]
  },
  {
   "cell_type": "code",
   "execution_count": 29,
   "id": "462b5191",
   "metadata": {},
   "outputs": [
    {
     "data": {
      "text/plain": [
       "array([' 80'], dtype=object)"
      ]
     },
     "execution_count": 29,
     "metadata": {},
     "output_type": "execute_result"
    }
   ],
   "source": [
    "trainY_rf[0,:]"
   ]
  },
  {
   "cell_type": "code",
   "execution_count": 30,
   "id": "816c96dc",
   "metadata": {},
   "outputs": [
    {
     "name": "stdout",
     "output_type": "stream",
     "text": [
      "testX_rf Shape:  (96, 12, 1)\n",
      "testY_rf Shape:  (96, 1)\n"
     ]
    }
   ],
   "source": [
    "array_for_testing=df_for_testing.to_numpy()\n",
    "\n",
    "testX_rf = []\n",
    "testY_rf = []\n",
    "for i in range(n_past, len(df_for_testing) - n_future +1):\n",
    "    testX_rf.append(array_for_testing[i - n_past:i, 0:df_for_testing.shape[1]])\n",
    "    testY_rf.append(array_for_testing[i + n_future - 1:i + n_future, 0])\n",
    "\n",
    "testX_rf, testY_rf = np.array(testX_rf), np.array(testY_rf)\n",
    "\n",
    "print('testX_rf Shape: ', testX_rf.shape)\n",
    "print('testY_rf Shape: ', testY_rf.shape)"
   ]
  },
  {
   "cell_type": "code",
   "execution_count": 31,
   "id": "b13ece4a",
   "metadata": {},
   "outputs": [
    {
     "data": {
      "text/plain": [
       "array([[' 96'],\n",
       "       [' 95'],\n",
       "       [' 96'],\n",
       "       [' 101'],\n",
       "       [' 104'],\n",
       "       [' 108'],\n",
       "       [' 109'],\n",
       "       [' 107'],\n",
       "       [' 104'],\n",
       "       [' 102'],\n",
       "       [' 100'],\n",
       "       [' 98']], dtype=object)"
      ]
     },
     "execution_count": 31,
     "metadata": {},
     "output_type": "execute_result"
    }
   ],
   "source": [
    "testX_rf[0,:]"
   ]
  },
  {
   "cell_type": "code",
   "execution_count": 32,
   "id": "6bf80396",
   "metadata": {},
   "outputs": [
    {
     "data": {
      "text/plain": [
       "array([' 80'], dtype=object)"
      ]
     },
     "execution_count": 32,
     "metadata": {},
     "output_type": "execute_result"
    }
   ],
   "source": [
    "trainY_rf[0,:]"
   ]
  },
  {
   "cell_type": "code",
   "execution_count": 33,
   "id": "3adf5a26",
   "metadata": {},
   "outputs": [
    {
     "name": "stdout",
     "output_type": "stream",
     "text": [
      "trainX_rf shape[0] == 12000.\n",
      "trainX_rf shape[1] == 12.\n",
      "trainX_rf shape[2] == 1.\n",
      "trainX_rf_2D shape == (12000, 12).\n",
      "trainY_rf shape == (12000, 1).\n",
      "testX_rf_2D shape == (96, 12).\n",
      "testY_rf shape == (96, 1).\n"
     ]
    }
   ],
   "source": [
    "print('trainX_rf shape[0] == {}.'.format(trainX_rf.shape[0]))\n",
    "print('trainX_rf shape[1] == {}.'.format(trainX_rf.shape[1]))\n",
    "print('trainX_rf shape[2] == {}.'.format(trainX_rf.shape[2]))\n",
    "\n",
    "trainX_rf_2D=np.reshape(trainX_rf,(trainX_rf.shape[0], trainX_rf.shape[1]*trainX_rf.shape[2]))\n",
    "print('trainX_rf_2D shape == {}.'.format(trainX_rf_2D.shape))\n",
    "print('trainY_rf shape == {}.'.format(trainY_rf.shape))\n",
    "\n",
    "testX_rf_2D=np.reshape(testX_rf,(testX_rf.shape[0], testX_rf.shape[1]*testX_rf.shape[2]))\n",
    "print('testX_rf_2D shape == {}.'.format(testX_rf_2D.shape))\n",
    "\n",
    "print('testY_rf shape == {}.'.format(testY_rf.shape))"
   ]
  },
  {
   "cell_type": "code",
   "execution_count": 34,
   "id": "5bb4d796",
   "metadata": {},
   "outputs": [
    {
     "data": {
      "text/plain": [
       "array([' 96', ' 95', ' 96', ' 101', ' 104', ' 108', ' 109', ' 107',\n",
       "       ' 104', ' 102', ' 100', ' 98'], dtype=object)"
      ]
     },
     "execution_count": 34,
     "metadata": {},
     "output_type": "execute_result"
    }
   ],
   "source": [
    "testX_rf_2D[0,:]"
   ]
  },
  {
   "cell_type": "code",
   "execution_count": 36,
   "id": "3df9be05",
   "metadata": {},
   "outputs": [
    {
     "data": {
      "text/plain": [
       "array([' 94'], dtype=object)"
      ]
     },
     "execution_count": 36,
     "metadata": {},
     "output_type": "execute_result"
    }
   ],
   "source": [
    "testY_rf[0,:]"
   ]
  },
  {
   "cell_type": "code",
   "execution_count": 35,
   "id": "cd3fb69d",
   "metadata": {},
   "outputs": [
    {
     "name": "stdout",
     "output_type": "stream",
     "text": [
      "yhat_rf shape == (96,).\n"
     ]
    }
   ],
   "source": [
    "# define the random forest regressor\n",
    "from sklearn.ensemble import RandomForestRegressor\n",
    "\n",
    "trainX_rf_2D, trainY_rf = np.array(trainX_rf_2D), np.array(trainY_rf)\n",
    "\n",
    "# define the random forest regressor model and fit model to training dataset\n",
    "# rf_model = RandomForestRegressor(n_estimators=10) \n",
    "# Works for num_rf_estimators=10 but accuracy could be improved\n",
    "num_rf_estimators=50\n",
    "rf_model = RandomForestRegressor(n_estimators=num_rf_estimators)\n",
    "rf_model.fit(trainX_rf_2D, trainY_rf.ravel())\n",
    "\n",
    "# make a one-step prediction\n",
    "yhat_rf = rf_model.predict(testX_rf_2D)\n",
    "# print('Input: %s, Predicted: %.3f' % (row, yhat[0]))\n",
    "\n",
    "print('yhat_rf shape == {}.'.format(yhat_rf.shape))\n"
   ]
  },
  {
   "cell_type": "code",
   "execution_count": 38,
   "id": "dc06ef22",
   "metadata": {
    "scrolled": true
   },
   "outputs": [
    {
     "data": {
      "text/plain": [
       "array([ 96.64      ,  92.5       ,  88.46      ,  74.38      ,\n",
       "        81.34      ,  77.52      ,  75.68      ,  79.        ,\n",
       "        78.26      ,  90.66      , 100.9       , 110.42      ,\n",
       "       111.22      , 106.7       , 112.04      , 121.44      ,\n",
       "       129.52      , 138.68      , 147.26      , 161.43666667,\n",
       "       160.34      , 137.72      , 137.94      , 128.46      ,\n",
       "       129.44      , 130.16      , 134.36      , 133.705     ,\n",
       "       126.76      , 126.74      , 124.68      , 114.14      ,\n",
       "       111.78      ,  98.28      ,  86.46      , 105.62      ,\n",
       "        77.78      ,  99.48      ,  67.96      ,  76.04      ,\n",
       "        70.86      ,  82.18      ,  97.96      , 115.86      ,\n",
       "       132.88      , 147.5       , 164.46      , 172.4       ,\n",
       "       165.64      , 159.7       , 157.56      , 162.46      ,\n",
       "       159.28      , 152.12      , 156.54      , 146.16      ,\n",
       "       134.54      , 135.40333333, 133.76      , 131.        ,\n",
       "       147.2       , 159.72      , 154.34      , 155.92      ,\n",
       "       157.58      , 149.32      , 149.16      , 150.2       ,\n",
       "       143.46      , 139.62      , 136.26      , 136.16      ,\n",
       "       158.24      , 143.06      , 144.        , 139.66      ,\n",
       "       141.56      , 125.54      , 119.22      , 103.74      ,\n",
       "       124.7       , 111.88      , 105.86      , 118.32      ,\n",
       "       112.34      , 102.42      ,  95.36      ,  95.62      ,\n",
       "        99.84666667,  87.16      ,  77.72      ,  86.        ,\n",
       "        75.8       ,  64.52      ,  69.        ,  52.92      ])"
      ]
     },
     "execution_count": 38,
     "metadata": {},
     "output_type": "execute_result"
    }
   ],
   "source": [
    "yhat_rf"
   ]
  },
  {
   "cell_type": "code",
   "execution_count": 36,
   "id": "5ea0fb73",
   "metadata": {},
   "outputs": [
    {
     "name": "stdout",
     "output_type": "stream",
     "text": [
      "Results for the Random Forest Model...\n",
      "Number of estimators: 50\n",
      "rmse_test_dataset_rf: 6.990538763230734\n",
      "mae_test_dataset_rf: 5.334788194444445\n",
      "mape_test_dataset_rf: 0.05321774974044249\n"
     ]
    }
   ],
   "source": [
    "print('Results for the Random Forest Model...')\n",
    "print('Number of estimators:', num_rf_estimators)\n",
    "\n",
    "rmse_test_dataset_rf = sqrt(mean_squared_error(y_actual, yhat_rf))\n",
    "print('rmse_test_dataset_rf:', rmse_test_dataset_rf)\n",
    "\n",
    "mae_test_dataset_rf= mean_absolute_error(y_actual, yhat_rf)\n",
    "print('mae_test_dataset_rf:', mae_test_dataset_rf)\n",
    "\n",
    "mape_test_dataset_rf= mean_absolute_percentage_error(y_actual, yhat_rf)\n",
    "print('mape_test_dataset_rf:', mape_test_dataset_rf)\n",
    "\n",
    "rmse_RF[user_index]=rmse_test_dataset_rf\n",
    "mae_RF[user_index]=mae_test_dataset_rf\n",
    "mape_RF[user_index]=mape_test_dataset_rf\n"
   ]
  },
  {
   "cell_type": "code",
   "execution_count": 60,
   "id": "efdf630d",
   "metadata": {},
   "outputs": [],
   "source": [
    "#df = pd.DataFrame({\"Actual BG\" : y_actual.vallues, \"Predicted BG (LSTM)\" : yhat_lstm.values})\n",
    "#df.to_csv(\"ModelResults.csv\", index=False)\n",
    "\n",
    "#, \"Predicted BG (Random Forest\" : yhat_rf, \"Predicted BG (AR)\" : forecast_AR, \"Predicted BG (ARIMAX)\" : forecast_ARIMAX })\n",
    "C = \"Actual BG\"\n",
    "pd.DataFrame(y_actual).to_csv(\"Actual BG.csv\", index=False, header=C)\n",
    "pd.DataFrame(yhat_lstm).to_csv(\"Predicted LSTM.csv\", index=False, header=C)\n",
    "pd.DataFrame(yhat_rf).to_csv(\"Predicted Random Forest.csv\", index=False, header=C)\n",
    "pd.DataFrame(forecast_AR_uniform).to_csv(\"Predicted AR.csv\", index=False, header=C)\n",
    "pd.DataFrame(forecast_ARIMAX_uniform).to_csv(\"Predicted ARIMAX.csv\", index=False, header=C)\n",
    "\n",
    "#Colors: Actual BG: Blue, LSTM: Red, Random Forest: Green, AR: Black, ARIMAX: Orange"
   ]
  },
  {
   "cell_type": "code",
   "execution_count": null,
   "id": "21056e71",
   "metadata": {},
   "outputs": [],
   "source": [
    "# Plot AR, ARIMAX, and LSTM results\n",
    "# plt.rcParams[\"figure.figsize\"] = (8,5.5)\n",
    "plt.rcParams[\"figure.figsize\"] = (8, 5)\n",
    "plt.plot(y_actual, color='blue', label=\"Actual BG\")\n",
    "plt.plot(forecast_AR, color='black', label=\"Predicted BG (AR)\")\n",
    "plt.plot(forecast_ARIMAX, color='orange', label=\"Predicted BG (ARIMAX)\")\n",
    "plt.plot(yhat_lstm, color='red', label=\"Predicted BG (LSTM)\")\n",
    "plt.plot(yhat_rf, color='green', label=\"Predicted BG (Random Forest)\")\n",
    "# plt.plot(y_pred_test, label='Prediction (Forecast)', color='black')\n",
    "plt.title('Predicted and Actual Blood Glucose Levels')\n",
    "plt.xlabel('Sample Number')\n",
    "plt.ylabel('BG Level')\n",
    "plt.ylim(40, 250)\n",
    "plt.legend(loc=\"upper left\")\n",
    "plt.show()"
   ]
  },
  {
   "cell_type": "code",
   "execution_count": 41,
   "id": "698f0f32",
   "metadata": {},
   "outputs": [],
   "source": [
    "# Stored Results for display\n",
    "\n",
    "\n",
    "rmse_ARIMAX_stored=[35.149, 85.342, 50.888, 47.731 ]\n",
    "mae_ARIMAX_stored=[25.757, 80.250, 41.529, 39.610 ]\n",
    "mape_ARIMAX_stored=[0.299, 0.505, 0.301, 0.3727 ]\n",
    "\n",
    "rmse_AR_stored=[34.409, 41.175, 45.267, 47.997 ]\n",
    "mae_AR_stored=[25.291, 35.642, 37.687, 39.996 ]\n",
    "mape_AR_stored=[0.293, 0.227, 0.310, 0.376 ]\n",
    "\n",
    "rmse_LSTM_stored=[7.989, 6.008, 6.715, 16.636 ]\n",
    "mae_LSTM_stored=[6.579, 4.172, 4.856, 10.084 ]\n",
    "mape_LSTM_stored=[0.0597, 0.0271, 0.0422, 0.0973]\n",
    "\n",
    "rmse_RF_stored=[7.263, 5.631, 6.521, 16.660]\n",
    "mae_RF_stored=[5.797, 3.714, 4.486, 10.511]\n",
    "mape_RF_stored=[0.0558, 0.0245, 0.0373, 0.101]\n"
   ]
  },
  {
   "cell_type": "code",
   "execution_count": 42,
   "id": "e102db20",
   "metadata": {},
   "outputs": [
    {
     "data": {
      "image/png": "[encoded data removed]",
      "text/plain": [
       "<Figure size 1008x720 with 1 Axes>"
      ]
     },
     "metadata": {
      "needs_background": "light"
     },
     "output_type": "display_data"
    }
   ],
   "source": [
    "# Visualization of the Performance Metric\"RMSI\"\n",
    "users = ['User 1','User 2','User 3','User 4']\n",
    "# users = ['User 1','User 2','User 3','User 4','User 5']\n",
    "\n",
    "x_axis = np.arange(len(users))\n",
    "\n",
    "# Multi bar Chart\n",
    "\n",
    "plt.bar(x_axis -0.05, rmse_AR_stored, width=0.1, label = 'AR')\n",
    "plt.bar(x_axis +0.05, rmse_ARIMAX_stored, width=0.1, label = 'ARIMAX')\n",
    "plt.bar(x_axis -0.15, rmse_LSTM_stored, width=0.1, label = 'LSTM')\n",
    "plt.bar(x_axis +0.15, rmse_RF_stored, width=0.1, label = 'RF')\n",
    "plt.ylabel('RMSE')\n",
    "\n",
    "# Xticks\n",
    "\n",
    "plt.xticks(x_axis, users)\n",
    "\n",
    "# Add legend\n",
    "\n",
    "plt.legend()\n",
    "\n",
    "# Display\n",
    "\n",
    "plt.show()"
   ]
  },
  {
   "cell_type": "code",
   "execution_count": 49,
   "id": "ba6e2fdd",
   "metadata": {},
   "outputs": [
    {
     "data": {
      "image/png": "[encoded data removed]",
      "text/plain": [
       "<Figure size 1008x720 with 1 Axes>"
      ]
     },
     "metadata": {
      "needs_background": "light"
     },
     "output_type": "display_data"
    }
   ],
   "source": [
    "# Visualization of the Performance Metric\"MAE\"\n",
    "users = ['User 1','User 2','User 3','User 4']\n",
    "# users = ['User 1','User 2','User 3','User 4','User 5']\n",
    "\n",
    "x_axis = np.arange(len(users))\n",
    "\n",
    "# Multi bar Chart\n",
    "\n",
    "plt.bar(x_axis -0.05, mae_AR_stored, width=0.1, label = 'AR')\n",
    "plt.bar(x_axis +0.05, mae_ARIMAX_stored, width=0.1, label = 'ARIMAX')\n",
    "plt.bar(x_axis -0.15, mae_LSTM_stored, width=0.1, label = 'LSTM')\n",
    "plt.bar(x_axis +0.15, mae_RF_stored, width=0.1, label = 'RF')\n",
    "plt.ylabel('MAE')\n",
    "\n",
    "# Xticks\n",
    "\n",
    "plt.xticks(x_axis, users)\n",
    "\n",
    "# Add legend\n",
    "\n",
    "plt.legend()\n",
    "\n",
    "# Display\n",
    "\n",
    "plt.show()"
   ]
  },
  {
   "cell_type": "code",
   "execution_count": 51,
   "id": "67d35372",
   "metadata": {},
   "outputs": [
    {
     "data": {
      "image/png": "[encoded data removed]",
      "text/plain": [
       "<Figure size 1008x720 with 1 Axes>"
      ]
     },
     "metadata": {
      "needs_background": "light"
     },
     "output_type": "display_data"
    }
   ],
   "source": [
    "# Visualization of the Performance Metric\"MAPE\"\n",
    "users = ['User 1','User 2','User 3','User 4']\n",
    "# users = ['User 1','User 2','User 3','User 4','User 5']\n",
    "\n",
    "x_axis = np.arange(len(users))\n",
    "\n",
    "# Multi bar Chart\n",
    "\n",
    "plt.bar(x_axis -0.05, mape_AR_stored, width=0.1, label = 'AR')\n",
    "plt.bar(x_axis +0.05, mape_ARIMAX_stored, width=0.1, label = 'ARIMAX')\n",
    "plt.bar(x_axis -0.15, mape_LSTM_stored, width=0.1, label = 'LSTM')\n",
    "plt.bar(x_axis +0.15, mape_RF_stored, width=0.1, label = 'RF')\n",
    "plt.ylabel('MAPE')\n",
    "\n",
    "# Xticks\n",
    "\n",
    "plt.xticks(x_axis, users)\n",
    "\n",
    "# Add legend\n",
    "\n",
    "plt.legend()\n",
    "\n",
    "# Display\n",
    "\n",
    "plt.show()"
   ]
  }
 ],
 "metadata": {
  "kernelspec": {
   "display_name": "Python 3",
   "language": "python",
   "name": "python3"
  },
  "language_info": {
   "codemirror_mode": {
    "name": "ipython",
    "version": 3
   },
   "file_extension": ".py",
   "mimetype": "text/x-python",
   "name": "python",
   "nbconvert_exporter": "python",
   "pygments_lexer": "ipython3",
   "version": "3.8.8"
  }
 },
 "nbformat": 4,
 "nbformat_minor": 5
}
