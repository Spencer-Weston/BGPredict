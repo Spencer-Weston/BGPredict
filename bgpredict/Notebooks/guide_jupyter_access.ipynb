{
 "cells": [
  {
   "cell_type": "markdown",
   "id": "c5400404-9667-4aff-8393-df6fd251e2f4",
   "metadata": {},
   "source": [
    "# Guide to Accessing Jupyter from EC2\n"
   ]
  },
  {
   "cell_type": "markdown",
   "id": "fcea47f8-5e57-4de6-be11-787e6a423a87",
   "metadata": {},
   "source": [
    "Author: Spencer Weston"
   ]
  },
  {
   "cell_type": "markdown",
   "id": "726de3bb-2776-4506-b6b5-436c76e491a5",
   "metadata": {},
   "source": [
    "I followed [this stack overflow answer](https://stackoverflow.com/a/66622495). This is what happened to work for me, but there's other options and all of this stuff is pretty finnicky, so we'll see how well this works for everyone.\n",
    "\n",
    "You can either (a) create your own EC2 instance or (b) ask me for the access key to the EC2 I created. For the time being, it'll likely be a bit easier to create your own EC2 instance. `t2.micro` should be fine (and free) for now. If/when we need large scale data processing, we will likely have to forget out how to work concurrently on a larger instance"
   ]
  },
  {
   "cell_type": "markdown",
   "id": "78bc8199-4e3a-48f5-b234-3824bb01585f",
   "metadata": {},
   "source": [
    "### Setting up your own EC2\n",
    "A couple notes that might help:\n",
    "1. Use the Amazon linux distribution -- this made a few things easier for me.\n",
    "2. You *shouldn't* have to worry about the `chmod` command if you're working on Windows. \n",
    "3. Use Powershell on windows for SSH commands\n",
    "4. Use python3.10 in your conda create command (this is what I have for the official production environment)\n",
    "5. You (probably) need to use the command `jupyter-lab` rather than `jupyter lab` as is used to start Jupyter \n"
   ]
  }
 ],
 "metadata": {
  "kernelspec": {
   "display_name": "Python 3 (ipykernel)",
   "language": "python",
   "name": "python3"
  },
  "language_info": {
   "codemirror_mode": {
    "name": "ipython",
    "version": 3
   },
   "file_extension": ".py",
   "mimetype": "text/x-python",
   "name": "python",
   "nbconvert_exporter": "python",
   "pygments_lexer": "ipython3",
   "version": "3.9.7"
  }
 },
 "nbformat": 4,
 "nbformat_minor": 5
}
