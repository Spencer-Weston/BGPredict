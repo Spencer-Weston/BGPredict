{
 "cells": [
  {
   "cell_type": "markdown",
   "id": "1a523167-aa16-4fa4-be5e-3cfda8ad1d80",
   "metadata": {},
   "source": [
    "# Baseline NN on Small Data\n",
    "Here, I'm going to just recreate some of the work in the `Pytorch_Tutorial` notebook on a small subset of our data."
   ]
  },
  {
   "cell_type": "code",
   "execution_count": 1,
   "id": "e1bd1ac8-11d8-4817-a903-0eb8468ea5e1",
   "metadata": {},
   "outputs": [],
   "source": [
    "import torch\n",
    "from torch import nn\n",
    "from torch import optim\n",
    "import numpy as np\n",
    "import sqlalchemy\n",
    "from sqlalchemy import create_engine\n",
    "import os\n",
    "import pandas as pd\n",
    "# from dotenv import load_dotenv\n",
    "from sklearn.preprocessing import MinMaxScaler\n",
    "import matplotlib.pyplot as plt"
   ]
  },
  {
   "cell_type": "code",
   "execution_count": null,
   "id": "3dd4eea9-8191-4262-883e-a58c93d04227",
   "metadata": {},
   "outputs": [],
   "source": []
  }
 ],
 "metadata": {
  "kernelspec": {
   "display_name": "Python 3 (ipykernel)",
   "language": "python",
   "name": "python3"
  },
  "language_info": {
   "codemirror_mode": {
    "name": "ipython",
    "version": 3
   },
   "file_extension": ".py",
   "mimetype": "text/x-python",
   "name": "python",
   "nbconvert_exporter": "python",
   "pygments_lexer": "ipython3",
   "version": "3.8.12"
  }
 },
 "nbformat": 4,
 "nbformat_minor": 5
}
