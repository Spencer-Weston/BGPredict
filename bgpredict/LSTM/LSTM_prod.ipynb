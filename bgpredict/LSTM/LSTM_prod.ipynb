{
 "cells": [
  {
   "cell_type": "markdown",
   "id": "5a8cc12c-cc60-4437-b701-b084a2927efc",
   "metadata": {},
   "source": [
    "# LSTM Production\n",
    "Notebook to put LSTM into production on AWS"
   ]
  },
  {
   "cell_type": "code",
   "execution_count": 88,
   "id": "6c9c451c-7a81-4ec8-9ad2-13782a1acab6",
   "metadata": {},
   "outputs": [
    {
     "ename": "ModuleNotFoundError",
     "evalue": "No module named 'bgpredict'",
     "output_type": "error",
     "traceback": [
      "\u001b[0;31m---------------------------------------------------------------------------\u001b[0m",
      "\u001b[0;31mModuleNotFoundError\u001b[0m                       Traceback (most recent call last)",
      "Input \u001b[0;32mIn [88]\u001b[0m, in \u001b[0;36m<cell line: 26>\u001b[0;34m()\u001b[0m\n\u001b[1;32m     23\u001b[0m \u001b[38;5;28;01mimport\u001b[39;00m \u001b[38;5;21;01mtorch\u001b[39;00m\u001b[38;5;21;01m.\u001b[39;00m\u001b[38;5;21;01mnn\u001b[39;00m \u001b[38;5;28;01mas\u001b[39;00m \u001b[38;5;21;01mnn\u001b[39;00m\n\u001b[1;32m     24\u001b[0m \u001b[38;5;28;01mimport\u001b[39;00m \u001b[38;5;21;01mtorch\u001b[39;00m\u001b[38;5;21;01m.\u001b[39;00m\u001b[38;5;21;01mnn\u001b[39;00m\u001b[38;5;21;01m.\u001b[39;00m\u001b[38;5;21;01mfunctional\u001b[39;00m \u001b[38;5;28;01mas\u001b[39;00m \u001b[38;5;21;01mF\u001b[39;00m\n\u001b[0;32m---> 26\u001b[0m \u001b[38;5;28;01mfrom\u001b[39;00m \u001b[38;5;21;01mbgpredict\u001b[39;00m\u001b[38;5;21;01m.\u001b[39;00m\u001b[38;5;21;01mhelpers\u001b[39;00m \u001b[38;5;28;01mimport\u001b[39;00m S3Connection\n\u001b[1;32m     28\u001b[0m \u001b[38;5;28;01mfrom\u001b[39;00m \u001b[38;5;21;01mdotenv\u001b[39;00m \u001b[38;5;28;01mimport\u001b[39;00m load_dotenv\n",
      "\u001b[0;31mModuleNotFoundError\u001b[0m: No module named 'bgpredict'"
     ]
    }
   ],
   "source": [
    "from datetime import datetime\n",
    "import matplotlib.pyplot as plt\n",
    "import numpy as np\n",
    "import os\n",
    "import pandas as pd\n",
    "from sklearn.preprocessing import MinMaxScaler\n",
    "from sklearn.metrics import mean_squared_error, mean_absolute_error, mean_absolute_percentage_error, r2_score\n",
    "import sqlalchemy\n",
    "from sqlalchemy import create_engine\n",
    "import s3fs\n",
    "import gc\n",
    "\n",
    "from functools import partial\n",
    "import ray\n",
    "from ray import tune\n",
    "from ray.tune import JupyterNotebookReporter\n",
    "from ray.tune.schedulers import ASHAScheduler\n",
    "from ray.tune.suggest.hyperopt import HyperOptSearch\n",
    "from ray.tune.stopper import TrialPlateauStopper\n",
    "\n",
    "import torch\n",
    "import torch.optim as optim\n",
    "import torch.nn as nn\n",
    "import torch.nn.functional as F\n",
    "\n",
    "from bgpredict.helpers import S3Connection\n",
    "\n",
    "from dotenv import load_dotenv"
   ]
  },
  {
   "cell_type": "markdown",
   "id": "785f164e",
   "metadata": {},
   "source": [
    "### Model"
   ]
  },
  {
   "cell_type": "code",
   "execution_count": 2,
   "id": "a264cd4d-d0d0-49d0-9bc2-77953a8a2e65",
   "metadata": {},
   "outputs": [],
   "source": [
    "class Net(nn.Module):\n",
    "    \n",
    "    def __init__(self, input_size=30, hidden_size=8, num_lstm_layers=1, dropout=0):\n",
    "        super().__init__()\n",
    "        if num_lstm_layers == 1:\n",
    "            dropout = 0\n",
    "        self.lstm = nn.LSTM(input_size=input_size,\n",
    "                            hidden_size=hidden_size,\n",
    "                            num_layers=num_lstm_layers,\n",
    "                            dropout=dropout, batch_first=True)\n",
    "        self.fc1 = nn.Linear(hidden_size, 1)\n",
    "        \n",
    "    def forward(self, x):\n",
    "        lstm_out, _ = self.lstm(x)\n",
    "        x = self.fc1(lstm_out)\n",
    "        return x"
   ]
  },
  {
   "cell_type": "markdown",
   "id": "59832b8d",
   "metadata": {},
   "source": [
    "### Train Function"
   ]
  },
  {
   "cell_type": "code",
   "execution_count": 18,
   "id": "379cbee4-b334-4166-957b-94a0f545a122",
   "metadata": {},
   "outputs": [],
   "source": [
    "def train_lstm(config, train_X, train_y, val_X, val_y, checkpoint_dir=None,):\n",
    "\n",
    "    device = \"cpu\"\n",
    "    if torch.cuda.is_available():\n",
    "        device = \"cuda:0\"\n",
    "    \n",
    "    print(f\"DEVICE: {device}\")\n",
    "    # train_X = train_X.to(device)\n",
    "    # train_y = train_y.to(device)\n",
    "    # val_X = val_X.to(device)\n",
    "    # val_y = val_y.to(device)\n",
    "    \n",
    "    # Configure the network and send it to the device\n",
    "    # Width of the dataframe - 1 (y variable) is feature set size \n",
    "    input_size = train_X.shape[2]\n",
    "    net = Net(input_size=input_size,\n",
    "              hidden_size=config['hidden_size'],\n",
    "              num_lstm_layers=config['num_lstm_layers'],\n",
    "              dropout=config['dropout'])\n",
    "    \n",
    "    if torch.cuda.device_count() > 1:\n",
    "        net = nn.DataParallel(net)     \n",
    "    net.to(device)\n",
    "    \n",
    "    optimizer = optim.Adam(net.parameters(), lr=config['learning_rate'])\n",
    "    optimizer\n",
    "    \n",
    "    # Checkpoint Dir Stuff -- handled by Tune \n",
    "    if checkpoint_dir:\n",
    "        checkpoint = os.path.join(checkpoint_dir, \"checkpoint\")\n",
    "        model_state, optimizer_state = torch.load(checkpoint)\n",
    "        net.load_state_dict(model_state)\n",
    "        optimizer.load_state_dict(optimizer_state)    \n",
    "    \n",
    "    # train\n",
    "    BATCH_SIZE = config['batch_size']\n",
    "    for epoch in range(1000):\n",
    "        epoch_start = datetime.now()\n",
    "        print(f\"Epoch: {epoch}\")\n",
    "        running_loss = 0\n",
    "        epoch_steps = 0\n",
    "        for i in range(0, len(train_X)-BATCH_SIZE, BATCH_SIZE):\n",
    "            X = train_X[i:i+BATCH_SIZE].to(device)\n",
    "            y = train_y[i:i+BATCH_SIZE].to(device)\n",
    "            net.zero_grad()\n",
    "            \n",
    "            out_seq = net(X)\n",
    "            first_dim, second_dim, _ = out_seq.shape\n",
    "            pred = out_seq.view(first_dim, second_dim)[:, -1]\n",
    "            loss = F.mse_loss(pred, y)\n",
    "            loss.backward()\n",
    "            optimizer.step()\n",
    "            running_loss += loss.item()\n",
    "            epoch_steps += 1\n",
    "            \n",
    "            # Print loss every 1000 batches\n",
    "            if i % 100 == 99:\n",
    "                avg_loss = running_loss / epoch_steps\n",
    "                print(f\"Epoch {epoch}, steps {epoch_steps-1000}:{epoch_steps} avg loss: {avg_loss}\")\n",
    "                running_loss = 0 \n",
    "                \n",
    "        # Validate each epoch\n",
    "        val_loss = 0\n",
    "        val_steps = 0\n",
    "        with torch.no_grad():\n",
    "            for i in range(0, len(val_X)-BATCH_SIZE, BATCH_SIZE):\n",
    "                X = val_X[i:i+BATCH_SIZE].to(device)\n",
    "                y = val_y[i:i+BATCH_SIZE].to(device)\n",
    "                out_seq = net(X)\n",
    "                first_dim, second_dim, _ = out_seq.shape\n",
    "                pred = out_seq.view(first_dim, second_dim)[:, -1]\n",
    "                loss = F.mse_loss(pred, y)\n",
    "                val_loss += loss.item()\n",
    "                val_steps += 1\n",
    "        \n",
    "        with tune.checkpoint_dir(step=epoch) as checkpoint_dir:\n",
    "            path = os.path.join(checkpoint_dir, \"checkpoint\")\n",
    "            torch.save((net.state_dict(), optimizer.state_dict()), path)\n",
    "            \n",
    "        tune.report(val_loss=(val_loss/val_steps), train_loss=(running_loss/epoch_steps), training_iteration=epoch)\n",
    "        print(f\"Finished epoch {epoch} in {datetime.now()-epoch_start}\")\n",
    "    print(\"finished!\")"
   ]
  },
  {
   "cell_type": "markdown",
   "id": "198b643d",
   "metadata": {},
   "source": [
    "### Load and Process data"
   ]
  },
  {
   "cell_type": "code",
   "execution_count": 4,
   "id": "01188558-2688-4048-b1aa-c531ecec12c1",
   "metadata": {},
   "outputs": [
    {
     "name": "stdout",
     "output_type": "stream",
     "text": [
      "Loading train X\n",
      "Loading train y\n",
      "Loading Val X\n",
      "Loading Val y\n"
     ]
    }
   ],
   "source": [
    "s3 = s3fs.S3FileSystem()\n",
    "print(\"Loading train X\")\n",
    "with s3.open(\"s3://bgpredict/models/lstm/tensors/train_X\", 'rb') as f:\n",
    "    train_X=torch.load(f)\n",
    "print(\"Loading train y\")\n",
    "with s3.open(\"s3://bgpredict/models/lstm/tensors/train_y\", 'rb') as f:\n",
    "    train_y=torch.load(f)\n",
    "print(\"Loading Val X\")\n",
    "# with s3.open(\"s3://bgpredict/models/lstm/tensors/val_X\", 'rb') as f:\n",
    "#     val_X=torch.load(f)    \n",
    "with open(\"./val_X.pt\", 'rb') as f:\n",
    "    val_X = torch.load(f)\n",
    "print(\"Loading Val y\")\n",
    "# with s3.open(\"s3://bgpredict/models/lstm/tensors/val_y\", 'rb') as f:\n",
    "#     val_y=torch.load(f)    \n"
   ]
  },
  {
   "cell_type": "code",
   "execution_count": 9,
   "id": "4afd1994-c25b-4104-b9b4-9db8014af794",
   "metadata": {},
   "outputs": [],
   "source": [
    "with open(\"./val_y.pt\", 'rb') as f:\n",
    "    val_y = torch.load(f)"
   ]
  },
  {
   "cell_type": "code",
   "execution_count": 12,
   "id": "8e76534e-6585-4ed1-aa16-ee3d25cffbd4",
   "metadata": {},
   "outputs": [],
   "source": [
    "with open(\"./val_y.pt\", 'wb') as f:\n",
    "    torch.save(val_y, f) "
   ]
  },
  {
   "cell_type": "code",
   "execution_count": 18,
   "id": "9c6b29e9-a1f9-43af-980a-ee504c5463c3",
   "metadata": {},
   "outputs": [],
   "source": [
    "with open(\"./val_X.pt\", 'wb') as f:\n",
    "    torch.save(val_X, f) "
   ]
  },
  {
   "cell_type": "code",
   "execution_count": 23,
   "id": "0f73aedd-6a94-4cbc-a815-24a753b32dee",
   "metadata": {},
   "outputs": [],
   "source": [
    "# with open(\"./train_X.pt\", 'wb') as f:\n",
    "#     torch.save(train_X, f)"
   ]
  },
  {
   "cell_type": "code",
   "execution_count": null,
   "id": "39d80ead-6635-409b-a623-a8fb2a713535",
   "metadata": {},
   "outputs": [],
   "source": [
    "with open(\"./train_y.pt\", 'wb') as f:\n",
    "    torch.save(train_y, f)"
   ]
  },
  {
   "cell_type": "code",
   "execution_count": 10,
   "id": "59bd14a5-b660-4470-8b53-4abeaf3d509a",
   "metadata": {},
   "outputs": [
    {
     "name": "stdout",
     "output_type": "stream",
     "text": [
      "torch.Size([2822590, 12, 171])\n",
      "torch.Size([2822590])\n",
      "torch.Size([1346613, 12, 171])\n",
      "torch.Size([1346613])\n"
     ]
    }
   ],
   "source": [
    "print(train_X.shape)\n",
    "print(train_y.shape)\n",
    "print(val_X.shape)\n",
    "print(val_y.shape)"
   ]
  },
  {
   "cell_type": "code",
   "execution_count": 13,
   "id": "2be0ea41-d009-4cbd-a3a9-d0260933487c",
   "metadata": {},
   "outputs": [
    {
     "data": {
      "text/plain": [
       "True"
      ]
     },
     "execution_count": 13,
     "metadata": {},
     "output_type": "execute_result"
    }
   ],
   "source": [
    "torch.cuda.is_available()"
   ]
  },
  {
   "cell_type": "code",
   "execution_count": 23,
   "id": "7c25364f-68c6-4cca-a250-91683896c4e1",
   "metadata": {},
   "outputs": [
    {
     "name": "stderr",
     "output_type": "stream",
     "text": [
      "2022-07-28 21:35:57,409\tINFO services.py:1470 -- View the Ray dashboard at \u001b[1m\u001b[32mhttp://127.0.0.1:8265\u001b[39m\u001b[22m\n"
     ]
    },
    {
     "data": {
      "text/plain": [
       "RayContext(dashboard_url='127.0.0.1:8265', python_version='3.9.13', ray_version='1.13.0', ray_commit='e4ce38d001dbbe09cd21c497fedd03d692b2be3e', address_info={'node_ip_address': '172.31.45.32', 'raylet_ip_address': '172.31.45.32', 'redis_address': None, 'object_store_address': '/tmp/ray/session_2022-07-28_21-35-53_631155_18603/sockets/plasma_store', 'raylet_socket_name': '/tmp/ray/session_2022-07-28_21-35-53_631155_18603/sockets/raylet', 'webui_url': '127.0.0.1:8265', 'session_dir': '/tmp/ray/session_2022-07-28_21-35-53_631155_18603', 'metrics_export_port': 61451, 'gcs_address': '172.31.45.32:58624', 'address': '172.31.45.32:58624', 'node_id': '6b8d98ec4f224e5e1dafe37876cd3c8d610000a126156da0d8a4fc02'})"
      ]
     },
     "execution_count": 23,
     "metadata": {},
     "output_type": "execute_result"
    }
   ],
   "source": [
    "ray.shutdown()\n",
    "ray.init(local_mode=True)"
   ]
  },
  {
   "cell_type": "code",
   "execution_count": 22,
   "id": "bdcafff0-0454-4b39-b1df-cb4599e8d16d",
   "metadata": {},
   "outputs": [],
   "source": [
    "with torch.no_grad():\n",
    "    torch.cuda.empty_cache()"
   ]
  },
  {
   "cell_type": "code",
   "execution_count": 24,
   "id": "d040892a-7075-4888-b683-d51ce60f20fe",
   "metadata": {},
   "outputs": [
    {
     "data": {
      "text/plain": [
       "1039"
      ]
     },
     "execution_count": 24,
     "metadata": {},
     "output_type": "execute_result"
    }
   ],
   "source": [
    "import gc \n",
    "gc.collect()"
   ]
  },
  {
   "cell_type": "code",
   "execution_count": null,
   "id": "3808f64a-6856-4574-847f-5b8a686d147c",
   "metadata": {},
   "outputs": [
    {
     "name": "stderr",
     "output_type": "stream",
     "text": [
      "[libprotobuf ERROR external/com_google_protobuf/src/google/protobuf/message_lite.cc:457] ray.rpc.GetObjectStatusReply exceeded maximum protobuf size of 2GB: 23167819240\n",
      "[libprotobuf ERROR external/com_google_protobuf/src/google/protobuf/message_lite.cc:457] ray.rpc.GetObjectStatusReply exceeded maximum protobuf size of 2GB: 11053000024\n"
     ]
    },
    {
     "name": "stdout",
     "output_type": "stream",
     "text": [
      ":task_name:bundle_reservation_check_func\n"
     ]
    },
    {
     "name": "stderr",
     "output_type": "stream",
     "text": [
      ":task_name:bundle_reservation_check_func\n",
      "[libprotobuf ERROR external/com_google_protobuf/src/google/protobuf/message_lite.cc:457] ray.rpc.GetObjectStatusReply exceeded maximum protobuf size of 2GB: 23167819240\n",
      "[libprotobuf ERROR external/com_google_protobuf/src/google/protobuf/message_lite.cc:457] ray.rpc.GetObjectStatusReply exceeded maximum protobuf size of 2GB: 11053000024\n",
      "[2022-07-28 21:38:35,624 E 18603 18603] core_worker.cc:1382: Pushed Error with JobID: 01000000 of type: pickling_large_object with message: Warning: The actor ImplicitFunc is very large (15 MiB). Check that its definition is not implicitly capturing a large array or other object in scope. Tip: use ray.put() to put large objects in the Ray object store. at time: 1.65904e+09\n"
     ]
    },
    {
     "name": "stdout",
     "output_type": "stream",
     "text": [
      ":actor_name:ImplicitFunc\n",
      ":actor_name:train_lstm\n"
     ]
    },
    {
     "name": "stderr",
     "output_type": "stream",
     "text": [
      ":actor_name:ImplicitFunc\n",
      ":actor_name:train_lstm\n"
     ]
    },
    {
     "name": "stdout",
     "output_type": "stream",
     "text": [
      "DEVICE: cuda:0\n",
      "Epoch: 0\n"
     ]
    },
    {
     "name": "stderr",
     "output_type": "stream",
     "text": [
      "2022-07-28 21:42:17,782\tWARNING util.py:214 -- The `start_trial` operation took 243.524 s, which may be a performance bottleneck.\n"
     ]
    },
    {
     "name": "stdout",
     "output_type": "stream",
     "text": [
      "<IPython.core.display.HTML object>\n",
      "Result for train_lstm_959e5f2a:\n",
      "  date: 2022-07-28_21-42-17\n",
      "  done: false\n",
      "  experiment_id: 0b7e0c285a244c06b7002950a8075fdd\n",
      "  hostname: ip-172-31-45-32.us-west-2.compute.internal\n",
      "  iterations_since_restore: 1\n",
      "  node_ip: 172.31.45.32\n",
      "  pid: 18603\n",
      "  should_checkpoint: true\n",
      "  time_since_restore: 221.880872964859\n",
      "  time_this_iter_s: 221.880872964859\n",
      "  time_total_s: 221.880872964859\n",
      "  timestamp: 1659044537\n",
      "  timesteps_since_restore: 0\n",
      "  train_loss: 2622.000008099593\n",
      "  training_iteration: 0\n",
      "  trial_id: 959e5f2a\n",
      "  val_loss: 3040.9449184113128\n",
      "  warmup_time: 0.0012040138244628906\n",
      "  \n",
      "Finished epoch 0 in 0:02:52.544281\n",
      "Epoch: 1\n",
      "<IPython.core.display.HTML object>\n",
      "Result for train_lstm_959e5f2a:\n",
      "  date: 2022-07-28_21-44-39\n",
      "  done: false\n",
      "  experiment_id: 0b7e0c285a244c06b7002950a8075fdd\n",
      "  hostname: ip-172-31-45-32.us-west-2.compute.internal\n",
      "  iterations_since_restore: 2\n",
      "  node_ip: 172.31.45.32\n",
      "  pid: 18603\n",
      "  should_checkpoint: true\n",
      "  time_since_restore: 363.66369128227234\n",
      "  time_this_iter_s: 141.78281831741333\n",
      "  time_total_s: 363.66369128227234\n",
      "  timestamp: 1659044679\n",
      "  timesteps_since_restore: 0\n",
      "  train_loss: 2592.6542659463876\n",
      "  training_iteration: 1\n",
      "  trial_id: 959e5f2a\n",
      "  val_loss: 2812.122129662227\n",
      "  warmup_time: 0.0012040138244628906\n",
      "  \n",
      "Finished epoch 1 in 0:02:21.778712\n",
      "Epoch: 2\n",
      "<IPython.core.display.HTML object>\n",
      "Result for train_lstm_959e5f2a:\n",
      "  date: 2022-07-28_21-47-01\n",
      "  done: false\n",
      "  experiment_id: 0b7e0c285a244c06b7002950a8075fdd\n",
      "  hostname: ip-172-31-45-32.us-west-2.compute.internal\n",
      "  iterations_since_restore: 3\n",
      "  node_ip: 172.31.45.32\n",
      "  pid: 18603\n",
      "  should_checkpoint: true\n",
      "  time_since_restore: 505.6845166683197\n",
      "  time_this_iter_s: 142.02082538604736\n",
      "  time_total_s: 505.6845166683197\n",
      "  timestamp: 1659044821\n",
      "  timesteps_since_restore: 0\n",
      "  train_loss: 2588.9696556237664\n",
      "  training_iteration: 2\n",
      "  trial_id: 959e5f2a\n",
      "  val_loss: 2711.5144136726176\n",
      "  warmup_time: 0.0012040138244628906\n",
      "  \n",
      "Finished epoch 2 in 0:02:22.022208\n",
      "Epoch: 3\n",
      "<IPython.core.display.HTML object>\n",
      "Result for train_lstm_959e5f2a:\n",
      "  date: 2022-07-28_21-49-23\n",
      "  done: false\n",
      "  experiment_id: 0b7e0c285a244c06b7002950a8075fdd\n",
      "  hostname: ip-172-31-45-32.us-west-2.compute.internal\n",
      "  iterations_since_restore: 4\n",
      "  node_ip: 172.31.45.32\n",
      "  pid: 18603\n",
      "  should_checkpoint: true\n",
      "  time_since_restore: 647.5282793045044\n",
      "  time_this_iter_s: 141.8437626361847\n",
      "  time_total_s: 647.5282793045044\n",
      "  timestamp: 1659044963\n",
      "  timesteps_since_restore: 0\n",
      "  train_loss: 2559.137875771156\n",
      "  training_iteration: 3\n",
      "  trial_id: 959e5f2a\n",
      "  val_loss: 2519.1777473087095\n",
      "  warmup_time: 0.0012040138244628906\n",
      "  \n",
      "Finished epoch 3 in 0:02:21.843298\n",
      "Epoch: 4\n",
      "<IPython.core.display.HTML object>\n",
      "Result for train_lstm_959e5f2a:\n",
      "  date: 2022-07-28_21-51-44\n",
      "  done: false\n",
      "  experiment_id: 0b7e0c285a244c06b7002950a8075fdd\n",
      "  hostname: ip-172-31-45-32.us-west-2.compute.internal\n",
      "  iterations_since_restore: 5\n",
      "  node_ip: 172.31.45.32\n",
      "  pid: 18603\n",
      "  should_checkpoint: true\n",
      "  time_since_restore: 788.8117742538452\n",
      "  time_this_iter_s: 141.28349494934082\n",
      "  time_total_s: 788.8117742538452\n",
      "  timestamp: 1659045104\n",
      "  timesteps_since_restore: 0\n",
      "  train_loss: 2539.671470827194\n",
      "  training_iteration: 4\n",
      "  trial_id: 959e5f2a\n",
      "  val_loss: 2625.4681673202226\n",
      "  warmup_time: 0.0012040138244628906\n",
      "  \n",
      "Finished epoch 4 in 0:02:21.282568\n",
      "Epoch: 5\n",
      "<IPython.core.display.HTML object>\n",
      "Result for train_lstm_959e5f2a:\n",
      "  date: 2022-07-28_21-54-06\n",
      "  done: false\n",
      "  experiment_id: 0b7e0c285a244c06b7002950a8075fdd\n",
      "  hostname: ip-172-31-45-32.us-west-2.compute.internal\n",
      "  iterations_since_restore: 6\n",
      "  node_ip: 172.31.45.32\n",
      "  pid: 18603\n",
      "  should_checkpoint: true\n",
      "  time_since_restore: 930.5757455825806\n",
      "  time_this_iter_s: 141.76397132873535\n",
      "  time_total_s: 930.5757455825806\n",
      "  timestamp: 1659045246\n",
      "  timesteps_since_restore: 0\n",
      "  train_loss: 2525.438355786877\n",
      "  training_iteration: 5\n",
      "  trial_id: 959e5f2a\n",
      "  val_loss: 2501.309074091458\n",
      "  warmup_time: 0.0012040138244628906\n",
      "  \n",
      "Finished epoch 5 in 0:02:21.763123\n",
      "Epoch: 6\n",
      "<IPython.core.display.HTML object>\n",
      "Result for train_lstm_959e5f2a:\n",
      "  date: 2022-07-28_21-56-28\n",
      "  done: false\n",
      "  experiment_id: 0b7e0c285a244c06b7002950a8075fdd\n",
      "  hostname: ip-172-31-45-32.us-west-2.compute.internal\n",
      "  iterations_since_restore: 7\n",
      "  node_ip: 172.31.45.32\n",
      "  pid: 18603\n",
      "  should_checkpoint: true\n",
      "  time_since_restore: 1072.7357778549194\n",
      "  time_this_iter_s: 142.16003227233887\n",
      "  time_total_s: 1072.7357778549194\n",
      "  timestamp: 1659045388\n",
      "  timesteps_since_restore: 0\n",
      "  train_loss: 2526.564034233839\n",
      "  training_iteration: 6\n",
      "  trial_id: 959e5f2a\n",
      "  val_loss: 2583.9041945656895\n",
      "  warmup_time: 0.0012040138244628906\n",
      "  \n",
      "Finished epoch 6 in 0:02:22.163078\n",
      "Epoch: 7\n",
      "<IPython.core.display.HTML object>\n",
      "Result for train_lstm_959e5f2a:\n",
      "  date: 2022-07-28_21-58-50\n",
      "  done: false\n",
      "  experiment_id: 0b7e0c285a244c06b7002950a8075fdd\n",
      "  hostname: ip-172-31-45-32.us-west-2.compute.internal\n",
      "  iterations_since_restore: 8\n",
      "  node_ip: 172.31.45.32\n",
      "  pid: 18603\n",
      "  should_checkpoint: true\n",
      "  time_since_restore: 1214.5559430122375\n",
      "  time_this_iter_s: 141.82016515731812\n",
      "  time_total_s: 1214.5559430122375\n",
      "  timestamp: 1659045530\n",
      "  timesteps_since_restore: 0\n",
      "  train_loss: 2520.2838402941384\n",
      "  training_iteration: 7\n",
      "  trial_id: 959e5f2a\n",
      "  val_loss: 2566.949000929336\n",
      "  warmup_time: 0.0012040138244628906\n",
      "  \n",
      "Finished epoch 7 in 0:02:21.817111\n",
      "Epoch: 8\n"
     ]
    }
   ],
   "source": [
    "config= {\n",
    "    'hidden_size': tune.choice([2**x for x in range(3, 8)]), # 2^3 to 2^8, 8 to 256\n",
    "    'num_lstm_layers':tune.choice([1,2,3]),\n",
    "    'dropout': tune.choice([0, 0.1, 0.2, 0.3, 0.4, 0.5]), # [0,0.5]\n",
    "    'learning_rate': tune.choice([0.00001, 0.0001, 0.001, 0.01, 0.1]),\n",
    "    'batch_size': tune.choice([128]) #tune.choice([2**x for x in range(3, 9)]), # 2^3 to 2^8, 8 to 256\n",
    "}\n",
    "\n",
    "initial_params = [{\"hidden_size\": 128,\n",
    "                  \"num_lstm_layers\": 1,\n",
    "                  \"dropout\": 0,\n",
    "                  \"batch_size\": 256,\n",
    "                  'learning_rate': 0.1}]\n",
    "\n",
    "def stopper(trial_id, result):\n",
    "    gc.collect()\n",
    "    if result['training_iteration'] > 100:\n",
    "        return True\n",
    "    elif result['val_loss'] < 5:\n",
    "        return True\n",
    "    else:\n",
    "        return False\n",
    "\n",
    "\n",
    "hyperopt_search = HyperOptSearch(metric='val_loss', mode='min', points_to_evaluate=initial_params)\n",
    "\n",
    "scheduler = ASHAScheduler(\n",
    "    metric=\"val_loss\",\n",
    "    mode=\"min\",\n",
    "    grace_period=3,\n",
    "    max_t=200\n",
    ")\n",
    "\n",
    "reporter = JupyterNotebookReporter(\n",
    "    metric_columns = [\"val_loss\", \"loss\", \"training_iteration\"],\n",
    "    overwrite=False,\n",
    "    max_report_frequency=60\n",
    ")\n",
    "\n",
    "\n",
    "result = tune.run(\n",
    "    tune.with_parameters(\n",
    "        train_lstm,\n",
    "        train_X = train_X,\n",
    "        train_y = train_y,\n",
    "        val_X = val_X,\n",
    "        val_y = val_y\n",
    "    ),\n",
    "    resources_per_trial={\"cpu\":0, \"gpu\":4},\n",
    "    config=config,\n",
    "    num_samples=1,\n",
    "    progress_reporter=reporter,\n",
    "    search_alg=hyperopt_search,\n",
    "    name='GPU',\n",
    "    stop = stopper,\n",
    "    resume=False\n",
    ")"
   ]
  },
  {
   "cell_type": "code",
   "execution_count": 1,
   "id": "2321b45a-da30-4965-bd42-82ca1dbe04b1",
   "metadata": {},
   "outputs": [
    {
     "ename": "NameError",
     "evalue": "name 'result' is not defined",
     "output_type": "error",
     "traceback": [
      "\u001b[0;31m---------------------------------------------------------------------------\u001b[0m",
      "\u001b[0;31mNameError\u001b[0m                                 Traceback (most recent call last)",
      "Input \u001b[0;32mIn [1]\u001b[0m, in \u001b[0;36m<cell line: 1>\u001b[0;34m()\u001b[0m\n\u001b[0;32m----> 1\u001b[0m best_trial \u001b[38;5;241m=\u001b[39m \u001b[43mresult\u001b[49m\u001b[38;5;241m.\u001b[39mget_best_trial(\u001b[38;5;124m'\u001b[39m\u001b[38;5;124mval_loss\u001b[39m\u001b[38;5;124m'\u001b[39m, \u001b[38;5;124m'\u001b[39m\u001b[38;5;124mmin\u001b[39m\u001b[38;5;124m'\u001b[39m, \u001b[38;5;124m'\u001b[39m\u001b[38;5;124mlast\u001b[39m\u001b[38;5;124m'\u001b[39m)\n",
      "\u001b[0;31mNameError\u001b[0m: name 'result' is not defined"
     ]
    }
   ],
   "source": [
    "# Tune Results"
   ]
  },
  {
   "cell_type": "code",
   "execution_count": 10,
   "id": "2321b45a-da30-4965-bd42-82ca1dbe04b1",
   "metadata": {},
   "outputs": [],
   "source": [
    "best_trial =result.get_best_trial(metric='val_loss', mode='min', scope=\"last-5-avg\")"
   ]
  },
  {
   "cell_type": "code",
   "execution_count": 11,
   "id": "34307f35-51a7-4609-b932-35bcd706102d",
   "metadata": {},
   "outputs": [
    {
     "name": "stdout",
     "output_type": "stream",
     "text": [
      "Best trial config: {'hidden_size': 64, 'num_lstm_layers': 2, 'dropout': 0.1, 'learning_rate': 0.001, 'batch_size': 128}\n",
      "Best trial final validation loss: 63.94800898437842\n"
     ]
    }
   ],
   "source": [
    "print(\"Best trial config: {}\".format(best_trial.config))\n",
    "print(\"Best trial final validation loss: {}\".format(\n",
    "    best_trial.last_result[\"val_loss\"]))"
   ]
  },
  {
   "cell_type": "code",
   "execution_count": 31,
   "id": "83b2d7bf-c29b-48b8-bee5-df1771f4df7f",
   "metadata": {},
   "outputs": [],
   "source": [
    "best_trial."
   ]
  },
  {
   "cell_type": "code",
   "execution_count": 21,
   "id": "0c8d4c16",
   "metadata": {},
   "outputs": [
    {
     "name": "stdout",
     "output_type": "stream",
     "text": [
      "/home/ec2-user/ray_results/GPU_fixed/train_lstm_d9a6a7da_70_batch_size=128,dropout=0.1000,hidden_size=64,learning_rate=0.0010,num_lstm_layers=2_2022-07-30_08-59-54/progress.csv\n"
     ]
    },
    {
     "data": {
      "text/plain": [
       "42.80172475369401"
      ]
     },
     "execution_count": 21,
     "metadata": {},
     "output_type": "execute_result"
    }
   ],
   "source": [
    "best_dir = result.get_best_logdir(metric='val_loss', mode='min')\n",
    "df = pd.read_csv(f\"{best_dir}/progress.csv\")\n",
    "print(f\"{best_dir}/progress.csv\")\n",
    "min(df['val_loss'])"
   ]
  },
  {
   "cell_type": "code",
   "execution_count": 22,
   "id": "79317019-27b5-4889-a52e-8fd40f0316b4",
   "metadata": {},
   "outputs": [
    {
     "data": {
      "text/plain": [
       "(50.0, 200.0)"
      ]
     },
     "execution_count": 22,
     "metadata": {},
     "output_type": "execute_result"
    },
    {
     "data": {
      "image/png": "[encoded data removed]",
      "text/plain": [
       "<Figure size 432x288 with 1 Axes>"
      ]
     },
     "metadata": {
      "needs_background": "light"
     },
     "output_type": "display_data"
    }
   ],
   "source": [
    "plt.plot(df['val_loss'])\n",
    "plt.plot(df['train_loss'])\n",
    "plt.xlim((50,200))"
   ]
  },
  {
   "cell_type": "code",
   "execution_count": 12,
   "id": "a96a5666",
   "metadata": {},
   "outputs": [],
   "source": [
    "dfs = result.trial_dataframes"
   ]
  },
  {
   "cell_type": "code",
   "execution_count": 14,
   "id": "4e772ca4",
   "metadata": {},
   "outputs": [
    {
     "data": {
      "image/png": "[encoded data removed]",
      "text/plain": [
       "<Figure size 1440x720 with 1 Axes>"
      ]
     },
     "metadata": {
      "needs_background": "light"
     },
     "output_type": "display_data"
    }
   ],
   "source": [
    "ax = None  # This plots everything on the same plot\n",
    "for d in dfs.values():\n",
    "    ax = d.val_loss.plot(ax=ax, legend=False, figsize=(20,10))"
   ]
  },
  {
   "cell_type": "markdown",
   "id": "b560092a-0c31-4cab-ad62-7e8b92fe81de",
   "metadata": {},
   "source": [
    "# Manual Train"
   ]
  },
  {
   "cell_type": "code",
   "execution_count": 8,
   "id": "60b17663-3521-453b-86ec-78ba19a20150",
   "metadata": {},
   "outputs": [],
   "source": [
    "best_trial = {'hidden_size': 128, 'num_lstm_layers': 2, 'dropout': 0.3}\n",
    "learning_rate = 0.001\n",
    "BATCH_SIZE = 256"
   ]
  },
  {
   "cell_type": "code",
   "execution_count": 9,
   "id": "0258d1df",
   "metadata": {},
   "outputs": [
    {
     "data": {
      "text/plain": [
       "Net(\n",
       "  (lstm): LSTM(30, 128, num_layers=2, batch_first=True, dropout=0.3)\n",
       "  (fc1): Linear(in_features=128, out_features=1, bias=True)\n",
       ")"
      ]
     },
     "execution_count": 9,
     "metadata": {},
     "output_type": "execute_result"
    }
   ],
   "source": [
    "net = Net(input_size=train_X.shape[2], \n",
    "          hidden_size = best_trial['hidden_size'],\n",
    "          num_lstm_layers=best_trial['num_lstm_layers'],\n",
    "          dropout= best_trial['dropout']\n",
    ")\n",
    "net"
   ]
  },
  {
   "cell_type": "code",
   "execution_count": 10,
   "id": "2457f5e4-5a79-4666-91d1-ec5cbe2747f3",
   "metadata": {},
   "outputs": [
    {
     "name": "stdout",
     "output_type": "stream",
     "text": [
      "DEVICE: cuda:0\n",
      "Running in Parallel on 4 GPU's\n"
     ]
    }
   ],
   "source": [
    "losses = []\n",
    "val_losses = []\n",
    "# BATCH_SIZE = best_trial['batch_size']\n",
    "# learning_rate = best_trial['learning_rate']\n",
    "iter_idx = 0 \n",
    "running_loss = 0\n",
    "running_val_loss = 0\n",
    "epoch_steps = 0\n",
    "epoch = 0 \n",
    "SAVE_DIR = \"./models\"\n",
    "\n",
    "device = \"cpu\"\n",
    "if torch.cuda.is_available():\n",
    "    device = \"cuda:0\"\n",
    "\n",
    "print(f\"DEVICE: {device}\")\n",
    "if torch.cuda.device_count() > 1:\n",
    "    print(f\"Running in Parallel on {torch.cuda.device_count()} GPU's\")\n",
    "    net = nn.DataParallel(net)     \n",
    "net.to(device)\n",
    "\n",
    "optimizer = optim.Adam(net.parameters(), lr=learning_rate)"
   ]
  },
  {
   "cell_type": "code",
   "execution_count": 11,
   "id": "b408e069-afb8-4be2-a12e-dfbe17bcf500",
   "metadata": {},
   "outputs": [],
   "source": [
    "train_X = train_X.to(device)\n",
    "train_y = train_y.to(device)\n",
    "val_X = val_X.to(device)\n",
    "val_y = val_y.to(device)"
   ]
  },
  {
   "cell_type": "code",
   "execution_count": 12,
   "id": "233720a6",
   "metadata": {
    "collapsed": true,
    "jupyter": {
     "outputs_hidden": true
    },
    "tags": []
   },
   "outputs": [
    {
     "name": "stderr",
     "output_type": "stream",
     "text": [
      "/opt/conda/envs/pytorch/lib/python3.9/site-packages/torch/nn/modules/rnn.py:769: UserWarning: RNN module weights are not part of single contiguous chunk of memory. This means they need to be compacted at every call, possibly greatly increasing memory usage. To compact weights again call flatten_parameters(). (Triggered internally at  /opt/conda/conda-bld/pytorch_1656352657443/work/aten/src/ATen/native/cudnn/RNN.cpp:968.)\n",
      "  result = _VF.lstm(input, hx, self._flat_weights, self.bias, self.num_layers,\n"
     ]
    },
    {
     "name": "stdout",
     "output_type": "stream",
     "text": [
      "Trained in 0:01:09.585000\n",
      "Validated in 0:00:16.090272\n",
      "here\n",
      "Epoch 1 finished in 0:01:25.679595| Train Loss: 3023.5986934124553 | Batch AVG(Validation) Loss: 777.8594603791373 | Trailing Loss: 777.8594603791373\n",
      "Trained in 0:01:00.880796\n",
      "Validated in 0:00:15.817707\n",
      "here\n",
      "Epoch 2 finished in 0:01:16.702866| Train Loss: 483.21686476218014 | Batch AVG(Validation) Loss: 218.50838457981595 | Trailing Loss: 498.1839224794766\n"
     ]
    },
    {
     "ename": "KeyboardInterrupt",
     "evalue": "",
     "output_type": "error",
     "traceback": [
      "\u001b[0;31m---------------------------------------------------------------------------\u001b[0m",
      "\u001b[0;31mKeyboardInterrupt\u001b[0m                         Traceback (most recent call last)",
      "Input \u001b[0;32mIn [12]\u001b[0m, in \u001b[0;36m<cell line: 2>\u001b[0;34m()\u001b[0m\n\u001b[1;32m     10\u001b[0m y \u001b[38;5;241m=\u001b[39m train_y[i:i\u001b[38;5;241m+\u001b[39mBATCH_SIZE]\n\u001b[1;32m     11\u001b[0m net\u001b[38;5;241m.\u001b[39mzero_grad()\n\u001b[0;32m---> 13\u001b[0m out_seq \u001b[38;5;241m=\u001b[39m \u001b[43mnet\u001b[49m\u001b[43m(\u001b[49m\u001b[43mX\u001b[49m\u001b[43m)\u001b[49m\n\u001b[1;32m     14\u001b[0m first_dim, second_dim, _ \u001b[38;5;241m=\u001b[39m out_seq\u001b[38;5;241m.\u001b[39mshape\n\u001b[1;32m     15\u001b[0m pred \u001b[38;5;241m=\u001b[39m out_seq\u001b[38;5;241m.\u001b[39mview(first_dim, second_dim)[:, \u001b[38;5;241m-\u001b[39m\u001b[38;5;241m1\u001b[39m]\n",
      "File \u001b[0;32m/opt/conda/envs/pytorch/lib/python3.9/site-packages/torch/nn/modules/module.py:1130\u001b[0m, in \u001b[0;36mModule._call_impl\u001b[0;34m(self, *input, **kwargs)\u001b[0m\n\u001b[1;32m   1126\u001b[0m \u001b[38;5;66;03m# If we don't have any hooks, we want to skip the rest of the logic in\u001b[39;00m\n\u001b[1;32m   1127\u001b[0m \u001b[38;5;66;03m# this function, and just call forward.\u001b[39;00m\n\u001b[1;32m   1128\u001b[0m \u001b[38;5;28;01mif\u001b[39;00m \u001b[38;5;129;01mnot\u001b[39;00m (\u001b[38;5;28mself\u001b[39m\u001b[38;5;241m.\u001b[39m_backward_hooks \u001b[38;5;129;01mor\u001b[39;00m \u001b[38;5;28mself\u001b[39m\u001b[38;5;241m.\u001b[39m_forward_hooks \u001b[38;5;129;01mor\u001b[39;00m \u001b[38;5;28mself\u001b[39m\u001b[38;5;241m.\u001b[39m_forward_pre_hooks \u001b[38;5;129;01mor\u001b[39;00m _global_backward_hooks\n\u001b[1;32m   1129\u001b[0m         \u001b[38;5;129;01mor\u001b[39;00m _global_forward_hooks \u001b[38;5;129;01mor\u001b[39;00m _global_forward_pre_hooks):\n\u001b[0;32m-> 1130\u001b[0m     \u001b[38;5;28;01mreturn\u001b[39;00m \u001b[43mforward_call\u001b[49m\u001b[43m(\u001b[49m\u001b[38;5;241;43m*\u001b[39;49m\u001b[38;5;28;43minput\u001b[39;49m\u001b[43m,\u001b[49m\u001b[43m \u001b[49m\u001b[38;5;241;43m*\u001b[39;49m\u001b[38;5;241;43m*\u001b[39;49m\u001b[43mkwargs\u001b[49m\u001b[43m)\u001b[49m\n\u001b[1;32m   1131\u001b[0m \u001b[38;5;66;03m# Do not call functions when jit is used\u001b[39;00m\n\u001b[1;32m   1132\u001b[0m full_backward_hooks, non_full_backward_hooks \u001b[38;5;241m=\u001b[39m [], []\n",
      "File \u001b[0;32m/opt/conda/envs/pytorch/lib/python3.9/site-packages/torch/nn/parallel/data_parallel.py:168\u001b[0m, in \u001b[0;36mDataParallel.forward\u001b[0;34m(self, *inputs, **kwargs)\u001b[0m\n\u001b[1;32m    166\u001b[0m     \u001b[38;5;28;01mreturn\u001b[39;00m \u001b[38;5;28mself\u001b[39m\u001b[38;5;241m.\u001b[39mmodule(\u001b[38;5;241m*\u001b[39minputs[\u001b[38;5;241m0\u001b[39m], \u001b[38;5;241m*\u001b[39m\u001b[38;5;241m*\u001b[39mkwargs[\u001b[38;5;241m0\u001b[39m])\n\u001b[1;32m    167\u001b[0m replicas \u001b[38;5;241m=\u001b[39m \u001b[38;5;28mself\u001b[39m\u001b[38;5;241m.\u001b[39mreplicate(\u001b[38;5;28mself\u001b[39m\u001b[38;5;241m.\u001b[39mmodule, \u001b[38;5;28mself\u001b[39m\u001b[38;5;241m.\u001b[39mdevice_ids[:\u001b[38;5;28mlen\u001b[39m(inputs)])\n\u001b[0;32m--> 168\u001b[0m outputs \u001b[38;5;241m=\u001b[39m \u001b[38;5;28;43mself\u001b[39;49m\u001b[38;5;241;43m.\u001b[39;49m\u001b[43mparallel_apply\u001b[49m\u001b[43m(\u001b[49m\u001b[43mreplicas\u001b[49m\u001b[43m,\u001b[49m\u001b[43m \u001b[49m\u001b[43minputs\u001b[49m\u001b[43m,\u001b[49m\u001b[43m \u001b[49m\u001b[43mkwargs\u001b[49m\u001b[43m)\u001b[49m\n\u001b[1;32m    169\u001b[0m \u001b[38;5;28;01mreturn\u001b[39;00m \u001b[38;5;28mself\u001b[39m\u001b[38;5;241m.\u001b[39mgather(outputs, \u001b[38;5;28mself\u001b[39m\u001b[38;5;241m.\u001b[39moutput_device)\n",
      "File \u001b[0;32m/opt/conda/envs/pytorch/lib/python3.9/site-packages/torch/nn/parallel/data_parallel.py:178\u001b[0m, in \u001b[0;36mDataParallel.parallel_apply\u001b[0;34m(self, replicas, inputs, kwargs)\u001b[0m\n\u001b[1;32m    177\u001b[0m \u001b[38;5;28;01mdef\u001b[39;00m \u001b[38;5;21mparallel_apply\u001b[39m(\u001b[38;5;28mself\u001b[39m, replicas, inputs, kwargs):\n\u001b[0;32m--> 178\u001b[0m     \u001b[38;5;28;01mreturn\u001b[39;00m \u001b[43mparallel_apply\u001b[49m\u001b[43m(\u001b[49m\u001b[43mreplicas\u001b[49m\u001b[43m,\u001b[49m\u001b[43m \u001b[49m\u001b[43minputs\u001b[49m\u001b[43m,\u001b[49m\u001b[43m \u001b[49m\u001b[43mkwargs\u001b[49m\u001b[43m,\u001b[49m\u001b[43m \u001b[49m\u001b[38;5;28;43mself\u001b[39;49m\u001b[38;5;241;43m.\u001b[39;49m\u001b[43mdevice_ids\u001b[49m\u001b[43m[\u001b[49m\u001b[43m:\u001b[49m\u001b[38;5;28;43mlen\u001b[39;49m\u001b[43m(\u001b[49m\u001b[43mreplicas\u001b[49m\u001b[43m)\u001b[49m\u001b[43m]\u001b[49m\u001b[43m)\u001b[49m\n",
      "File \u001b[0;32m/opt/conda/envs/pytorch/lib/python3.9/site-packages/torch/nn/parallel/parallel_apply.py:76\u001b[0m, in \u001b[0;36mparallel_apply\u001b[0;34m(modules, inputs, kwargs_tup, devices)\u001b[0m\n\u001b[1;32m     70\u001b[0m threads \u001b[38;5;241m=\u001b[39m [threading\u001b[38;5;241m.\u001b[39mThread(target\u001b[38;5;241m=\u001b[39m_worker,\n\u001b[1;32m     71\u001b[0m                             args\u001b[38;5;241m=\u001b[39m(i, module, \u001b[38;5;28minput\u001b[39m, kwargs, device))\n\u001b[1;32m     72\u001b[0m            \u001b[38;5;28;01mfor\u001b[39;00m i, (module, \u001b[38;5;28minput\u001b[39m, kwargs, device) \u001b[38;5;129;01min\u001b[39;00m\n\u001b[1;32m     73\u001b[0m            \u001b[38;5;28menumerate\u001b[39m(\u001b[38;5;28mzip\u001b[39m(modules, inputs, kwargs_tup, devices))]\n\u001b[1;32m     75\u001b[0m \u001b[38;5;28;01mfor\u001b[39;00m thread \u001b[38;5;129;01min\u001b[39;00m threads:\n\u001b[0;32m---> 76\u001b[0m     \u001b[43mthread\u001b[49m\u001b[38;5;241;43m.\u001b[39;49m\u001b[43mstart\u001b[49m\u001b[43m(\u001b[49m\u001b[43m)\u001b[49m\n\u001b[1;32m     77\u001b[0m \u001b[38;5;28;01mfor\u001b[39;00m thread \u001b[38;5;129;01min\u001b[39;00m threads:\n\u001b[1;32m     78\u001b[0m     thread\u001b[38;5;241m.\u001b[39mjoin()\n",
      "File \u001b[0;32m/opt/conda/envs/pytorch/lib/python3.9/threading.py:904\u001b[0m, in \u001b[0;36mThread.start\u001b[0;34m(self)\u001b[0m\n\u001b[1;32m    902\u001b[0m         \u001b[38;5;28;01mdel\u001b[39;00m _limbo[\u001b[38;5;28mself\u001b[39m]\n\u001b[1;32m    903\u001b[0m     \u001b[38;5;28;01mraise\u001b[39;00m\n\u001b[0;32m--> 904\u001b[0m \u001b[38;5;28;43mself\u001b[39;49m\u001b[38;5;241;43m.\u001b[39;49m\u001b[43m_started\u001b[49m\u001b[38;5;241;43m.\u001b[39;49m\u001b[43mwait\u001b[49m\u001b[43m(\u001b[49m\u001b[43m)\u001b[49m\n",
      "File \u001b[0;32m/opt/conda/envs/pytorch/lib/python3.9/threading.py:581\u001b[0m, in \u001b[0;36mEvent.wait\u001b[0;34m(self, timeout)\u001b[0m\n\u001b[1;32m    579\u001b[0m signaled \u001b[38;5;241m=\u001b[39m \u001b[38;5;28mself\u001b[39m\u001b[38;5;241m.\u001b[39m_flag\n\u001b[1;32m    580\u001b[0m \u001b[38;5;28;01mif\u001b[39;00m \u001b[38;5;129;01mnot\u001b[39;00m signaled:\n\u001b[0;32m--> 581\u001b[0m     signaled \u001b[38;5;241m=\u001b[39m \u001b[38;5;28;43mself\u001b[39;49m\u001b[38;5;241;43m.\u001b[39;49m\u001b[43m_cond\u001b[49m\u001b[38;5;241;43m.\u001b[39;49m\u001b[43mwait\u001b[49m\u001b[43m(\u001b[49m\u001b[43mtimeout\u001b[49m\u001b[43m)\u001b[49m\n\u001b[1;32m    582\u001b[0m \u001b[38;5;28;01mreturn\u001b[39;00m signaled\n",
      "File \u001b[0;32m/opt/conda/envs/pytorch/lib/python3.9/threading.py:312\u001b[0m, in \u001b[0;36mCondition.wait\u001b[0;34m(self, timeout)\u001b[0m\n\u001b[1;32m    310\u001b[0m \u001b[38;5;28;01mtry\u001b[39;00m:    \u001b[38;5;66;03m# restore state no matter what (e.g., KeyboardInterrupt)\u001b[39;00m\n\u001b[1;32m    311\u001b[0m     \u001b[38;5;28;01mif\u001b[39;00m timeout \u001b[38;5;129;01mis\u001b[39;00m \u001b[38;5;28;01mNone\u001b[39;00m:\n\u001b[0;32m--> 312\u001b[0m         \u001b[43mwaiter\u001b[49m\u001b[38;5;241;43m.\u001b[39;49m\u001b[43macquire\u001b[49m\u001b[43m(\u001b[49m\u001b[43m)\u001b[49m\n\u001b[1;32m    313\u001b[0m         gotit \u001b[38;5;241m=\u001b[39m \u001b[38;5;28;01mTrue\u001b[39;00m\n\u001b[1;32m    314\u001b[0m     \u001b[38;5;28;01melse\u001b[39;00m:\n",
      "\u001b[0;31mKeyboardInterrupt\u001b[0m: "
     ]
    }
   ],
   "source": [
    "while True:\n",
    "    start = datetime.now()\n",
    "    epoch_loss = []\n",
    "    train_start = datetime.now()\n",
    "    for i in range(0, len(train_X)-BATCH_SIZE, BATCH_SIZE):\n",
    "        \n",
    "        # X = train_X[i:i+BATCH_SIZE].to(device)\n",
    "        # y = train_y[i:i+BATCH_SIZE].to(device)\n",
    "        X = train_X[i:i+BATCH_SIZE]\n",
    "        y = train_y[i:i+BATCH_SIZE]\n",
    "        net.zero_grad()\n",
    "\n",
    "        out_seq = net(X)\n",
    "        first_dim, second_dim, _ = out_seq.shape\n",
    "        pred = out_seq.view(first_dim, second_dim)[:, -1]\n",
    "        loss = F.mse_loss(pred, y)\n",
    "\n",
    "        loss.backward()\n",
    "        optimizer.step()\n",
    "\n",
    "        running_loss += loss.item() * BATCH_SIZE\n",
    "        epoch_steps += 1\n",
    "    print(f'Trained in {datetime.now() - train_start}')\n",
    "    # Compute Epoch Training Loss\n",
    "    epoch_train_loss = running_loss / train_X.shape[0]\n",
    "    losses.append(epoch_train_loss)\n",
    "    \n",
    "    # Compute Validation Loss\n",
    "    val_loss = []\n",
    "    val_steps = 0\n",
    "    val_start = datetime.now()\n",
    "    with torch.no_grad():\n",
    "        for i in range(0, len(val_X)-BATCH_SIZE, BATCH_SIZE):\n",
    "            X = val_X[i:i+BATCH_SIZE]\n",
    "            y = val_y[i:i+BATCH_SIZE]\n",
    "            out_seq = net(X)\n",
    "            first_dim, second_dim, _ = out_seq.shape\n",
    "            pred = out_seq.view(first_dim, second_dim)[:, -1]\n",
    "            loss = F.mse_loss(pred, y)\n",
    "            running_val_loss += loss.item() * BATCH_SIZE\n",
    "            val_steps += 1\n",
    "    print(f'Validated in {datetime.now() - val_start}')\n",
    "    # Compute validation loss\n",
    "    epoch_val_loss = running_val_loss / val_X.shape[0]\n",
    "    val_losses.append(epoch_val_loss)\n",
    "        \n",
    "    mean_trailing_loss = np.mean(val_losses[-10:])\n",
    "    print('here')\n",
    "    running_loss = 0 \n",
    "    running_val_loss = 0 \n",
    "    epoch_steps = 0 \n",
    "    epoch += 1\n",
    "        \n",
    "    if epoch >=500:\n",
    "        break\n",
    "    save_string = f\"{epoch}_{np.round(epoch_val_loss, 2)}.pth\"\n",
    "    torch.save(net.cpu().state_dict(), os.path.join(SAVE_DIR, save_string))\n",
    "    net.to(device)\n",
    "    \n",
    "    # Print Results \n",
    "    print(f\"Epoch {epoch} finished in {datetime.now()-start}| Train Loss: {epoch_train_loss} | Batch AVG(Validation) Loss: {epoch_val_loss} | Trailing Loss: {mean_trailing_loss}\")   \n",
    "    "
   ]
  },
  {
   "cell_type": "code",
   "execution_count": 26,
   "id": "83afccb8",
   "metadata": {},
   "outputs": [
    {
     "data": {
      "text/plain": [
       "[<matplotlib.lines.Line2D at 0x7f4b381a5370>]"
      ]
     },
     "execution_count": 26,
     "metadata": {},
     "output_type": "execute_result"
    },
    {
     "data": {
      "image/png": "[encoded data removed]",
      "text/plain": [
       "<Figure size 432x288 with 1 Axes>"
      ]
     },
     "metadata": {
      "needs_background": "light"
     },
     "output_type": "display_data"
    }
   ],
   "source": [
    "plt.plot(losses)\n",
    "plt.plot(val_losses)"
   ]
  },
  {
   "cell_type": "markdown",
   "id": "07b950f2-ab86-4d6c-8126-26ce641cea6a",
   "metadata": {},
   "source": [
    "# Evaluate"
   ]
  },
  {
   "cell_type": "markdown",
   "id": "76b7b556-7836-43fd-aadd-da479b616307",
   "metadata": {},
   "source": [
    "## Load Best Tune Model"
   ]
  },
  {
   "cell_type": "code",
   "execution_count": 25,
   "id": "bb3bff2a-8563-4ce3-8328-55e88411a3b7",
   "metadata": {},
   "outputs": [
    {
     "data": {
      "text/html": [
       "<div>\n",
       "<style scoped>\n",
       "    .dataframe tbody tr th:only-of-type {\n",
       "        vertical-align: middle;\n",
       "    }\n",
       "\n",
       "    .dataframe tbody tr th {\n",
       "        vertical-align: top;\n",
       "    }\n",
       "\n",
       "    .dataframe thead th {\n",
       "        text-align: right;\n",
       "    }\n",
       "</style>\n",
       "<table border=\"1\" class=\"dataframe\">\n",
       "  <thead>\n",
       "    <tr style=\"text-align: right;\">\n",
       "      <th></th>\n",
       "      <th>val_loss</th>\n",
       "      <th>train_loss</th>\n",
       "      <th>training_iteration</th>\n",
       "      <th>time_this_iter_s</th>\n",
       "      <th>done</th>\n",
       "      <th>timesteps_total</th>\n",
       "      <th>episodes_total</th>\n",
       "      <th>trial_id</th>\n",
       "      <th>experiment_id</th>\n",
       "      <th>date</th>\n",
       "      <th>timestamp</th>\n",
       "      <th>time_total_s</th>\n",
       "      <th>pid</th>\n",
       "      <th>hostname</th>\n",
       "      <th>node_ip</th>\n",
       "      <th>time_since_restore</th>\n",
       "      <th>timesteps_since_restore</th>\n",
       "      <th>iterations_since_restore</th>\n",
       "      <th>warmup_time</th>\n",
       "    </tr>\n",
       "  </thead>\n",
       "  <tbody>\n",
       "    <tr>\n",
       "      <th>192</th>\n",
       "      <td>42.801725</td>\n",
       "      <td>97.82075</td>\n",
       "      <td>192</td>\n",
       "      <td>52.395226</td>\n",
       "      <td>False</td>\n",
       "      <td>NaN</td>\n",
       "      <td>NaN</td>\n",
       "      <td>d9a6a7da</td>\n",
       "      <td>dc4708811efa4eb6a9e1fb90fa6e3eaa</td>\n",
       "      <td>2022-07-30_11-51-54</td>\n",
       "      <td>1659181914</td>\n",
       "      <td>10317.979286</td>\n",
       "      <td>8244</td>\n",
       "      <td>ip-172-31-11-119.us-west-2.compute.internal</td>\n",
       "      <td>172.31.11.119</td>\n",
       "      <td>10317.979286</td>\n",
       "      <td>0</td>\n",
       "      <td>193</td>\n",
       "      <td>0.002376</td>\n",
       "    </tr>\n",
       "  </tbody>\n",
       "</table>\n",
       "</div>"
      ],
      "text/plain": [
       "      val_loss  train_loss  training_iteration  time_this_iter_s   done  \\\n",
       "192  42.801725    97.82075                 192         52.395226  False   \n",
       "\n",
       "     timesteps_total  episodes_total  trial_id  \\\n",
       "192              NaN             NaN  d9a6a7da   \n",
       "\n",
       "                        experiment_id                 date   timestamp  \\\n",
       "192  dc4708811efa4eb6a9e1fb90fa6e3eaa  2022-07-30_11-51-54  1659181914   \n",
       "\n",
       "     time_total_s   pid                                     hostname  \\\n",
       "192  10317.979286  8244  ip-172-31-11-119.us-west-2.compute.internal   \n",
       "\n",
       "           node_ip  time_since_restore  timesteps_since_restore  \\\n",
       "192  172.31.11.119        10317.979286                        0   \n",
       "\n",
       "     iterations_since_restore  warmup_time  \n",
       "192                       193     0.002376  "
      ]
     },
     "execution_count": 25,
     "metadata": {},
     "output_type": "execute_result"
    }
   ],
   "source": [
    "best_dir = result.get_best_logdir(metric='val_loss', mode='min')\n",
    "df = pd.read_csv(f\"{best_dir}/progress.csv\")\n",
    "df.loc[df['val_loss'] == min(df['val_loss']), :] # Gives index of best model"
   ]
  },
  {
   "cell_type": "code",
   "execution_count": 39,
   "id": "3ecc4518-92b6-4091-835c-04ae8ef767d0",
   "metadata": {},
   "outputs": [],
   "source": [
    "checkpoint = \"checkpoint_000192/checkpoint\"\n",
    "state = torch.load(os.path.join(best_dir, checkpoint))\n",
    "network_state_dict = state[0]"
   ]
  },
  {
   "cell_type": "code",
   "execution_count": 40,
   "id": "0da5e85e-b0cc-48ee-a5b1-435902392929",
   "metadata": {},
   "outputs": [
    {
     "name": "stdout",
     "output_type": "stream",
     "text": [
      "/home/ec2-user/ray_results/GPU_fixed/train_lstm_d9a6a7da_70_batch_size=128,dropout=0.1000,hidden_size=64,learning_rate=0.0010,num_lstm_layers=2_2022-07-30_08-59-54\n"
     ]
    },
    {
     "data": {
      "text/plain": [
       "<All keys matched successfully>"
      ]
     },
     "execution_count": 40,
     "metadata": {},
     "output_type": "execute_result"
    }
   ],
   "source": [
    "print(best_dir)\n",
    "# Parameters need to be equal to those the model was called with. We can get thse from the directory path\n",
    "parameters= {\"input_size\": 30, \"hidden_size\": 64, \"num_lstm_layers\": 2, \"dropout\": 0.1}\n",
    "net = Net(**parameters)\n",
    "net.load_state_dict(network_state_dict)"
   ]
  },
  {
   "cell_type": "markdown",
   "id": "69a573ff-1be0-4d20-9d37-d795fe9de5a5",
   "metadata": {},
   "source": [
    "## Save Best Tune Model"
   ]
  },
  {
   "cell_type": "code",
   "execution_count": 72,
   "id": "603544ef-363e-463b-bd81-140feeca3e43",
   "metadata": {},
   "outputs": [],
   "source": [
    "# Save all checkpoints of best model\n",
    "s3 = s3fs.S3FileSystem()\n",
    "lstm = \"s3://bgpredict/models/lstm/\"\n",
    "s3.put(\"/home/ec2-user/ray_results/GPU_fixed/train_lstm_d9a6a7da_70_batch_size=128,dropout=0.1000,hidden_size=64,learning_rate=0.0010,num_lstm_layers=2_2022-07-30_08-59-54\",\n",
    "       f\"{lstm}best_model_dir\",\n",
    "       recursive =True\n",
    "      )"
   ]
  },
  {
   "cell_type": "code",
   "execution_count": 91,
   "id": "a454fa16-fb16-4bf1-8793-a8b2d3ee8748",
   "metadata": {},
   "outputs": [
    {
     "name": "stdout",
     "output_type": "stream",
     "text": [
      "s3://bgpredict/models/lstm/best_trial_dfs\n"
     ]
    }
   ],
   "source": [
    "# Save trial dataframes of tune results\n",
    "trial_df_dir = f\"{lstm}best_trial_dfs\"\n",
    "print(trial_df_dir)\n",
    "for key, vals in dfs.items():\n",
    "    model_name = key.split(\"/\")[-1]\n",
    "    vals_csv = vals.to_csv()\n",
    "    location = f\"{trial_df_dir}/{model_name}.csv\"\n",
    "    with s3.open(location, 'w') as f:\n",
    "        f.write(vals_csv)"
   ]
  },
  {
   "cell_type": "code",
   "execution_count": 94,
   "id": "20e0f333-4f10-4292-8265-3a021781aa42",
   "metadata": {},
   "outputs": [
    {
     "name": "stdout",
     "output_type": "stream",
     "text": [
      "/home/ec2-user/ray_results/GPU_fixed/train_lstm_d9a6a7da_70_batch_size=128,dropout=0.1000,hidden_size=64,learning_rate=0.0010,num_lstm_layers=2_2022-07-30_08-59-54/checkpoint_000192/checkpoint\n"
     ]
    }
   ],
   "source": [
    "# Store model state dict in s3\n",
    "best_model_dest = f\"{lstm}best_model/best_opt_state_net_state\"\n",
    "best_model_src = os.path.join(best_dir, checkpoint)\n",
    "print(best_model_src)\n",
    "s3.put(best_model_src, best_model_dest)"
   ]
  },
  {
   "cell_type": "code",
   "execution_count": 97,
   "id": "6203eac3-6742-47f6-9c2a-b7c47684c2bb",
   "metadata": {},
   "outputs": [
    {
     "name": "stdout",
     "output_type": "stream",
     "text": [
      "odict_keys(['lstm.weight_ih_l0', 'lstm.weight_hh_l0', 'lstm.bias_ih_l0', 'lstm.bias_hh_l0', 'lstm.weight_ih_l1', 'lstm.weight_hh_l1', 'lstm.bias_ih_l1', 'lstm.bias_hh_l1', 'fc1.weight', 'fc1.bias'])\n"
     ]
    }
   ],
   "source": [
    "# Validate Load\n",
    "with s3.open(best_model_dest) as f:\n",
    "    mod = torch.load(f)\n",
    "print(mod[0].keys())"
   ]
  },
  {
   "cell_type": "markdown",
   "id": "a5921b2f-88f4-4f3b-b501-71605c3fad14",
   "metadata": {},
   "source": [
    "## Evaluate Test Set"
   ]
  },
  {
   "cell_type": "code",
   "execution_count": 41,
   "id": "fc03ccd5-1f0b-4d6e-bb60-69e533daacbc",
   "metadata": {},
   "outputs": [],
   "source": [
    "with open(\"./test_X.pt\", 'rb') as f:\n",
    "    test_X = torch.load(f)\n",
    "with open(\"./test_y.pt\", 'rb') as f:\n",
    "    test_y = torch.load(f)"
   ]
  },
  {
   "cell_type": "code",
   "execution_count": 44,
   "id": "590fa4fc",
   "metadata": {},
   "outputs": [],
   "source": [
    "net.eval()\n",
    "with torch.no_grad():\n",
    "    out_seq = net(test_X)\n",
    "    first_dim, second_dim, _ = out_seq.shape\n",
    "    pred = out_seq.view(first_dim, second_dim)[:, -1]"
   ]
  },
  {
   "cell_type": "code",
   "execution_count": 45,
   "id": "80e72e69",
   "metadata": {},
   "outputs": [],
   "source": [
    "pred_array = pred.cpu().detach().numpy()\n",
    "y = test_y.detach().numpy()"
   ]
  },
  {
   "cell_type": "code",
   "execution_count": 47,
   "id": "e10097a7-5605-4c68-bc16-9a659347e86e",
   "metadata": {},
   "outputs": [],
   "source": [
    "df = pd.DataFrame({\"y_true\":y, \"y_hat\": pred_array})\n",
    "df = df.loc[df['y_true'] != 0, :]"
   ]
  },
  {
   "cell_type": "code",
   "execution_count": 48,
   "id": "7d53be58-d354-4117-9391-13082a158fc4",
   "metadata": {},
   "outputs": [
    {
     "data": {
      "text/plain": [
       "<matplotlib.collections.PathCollection at 0x7f5f740e7df0>"
      ]
     },
     "execution_count": 48,
     "metadata": {},
     "output_type": "execute_result"
    },
    {
     "data": {
      "image/png": "[encoded data removed]",
      "text/plain": [
       "<Figure size 432x288 with 1 Axes>"
      ]
     },
     "metadata": {
      "needs_background": "light"
     },
     "output_type": "display_data"
    }
   ],
   "source": [
    "plt.scatter(df['y_true'], df['y_hat'], alpha=0.01)"
   ]
  },
  {
   "cell_type": "code",
   "execution_count": 49,
   "id": "3b7fc27a-8f02-4533-add8-d7f1c8054129",
   "metadata": {},
   "outputs": [
    {
     "data": {
      "text/plain": [
       "0.9735615829431856"
      ]
     },
     "execution_count": 49,
     "metadata": {},
     "output_type": "execute_result"
    }
   ],
   "source": [
    "r2_score(df[\"y_true\"], df[\"y_hat\"])"
   ]
  },
  {
   "cell_type": "code",
   "execution_count": 50,
   "id": "10d3d60a",
   "metadata": {},
   "outputs": [
    {
     "name": "stdout",
     "output_type": "stream",
     "text": [
      "8.326914\n"
     ]
    }
   ],
   "source": [
    "mse = mean_squared_error(df[\"y_true\"], df[\"y_hat\"])\n",
    "print(np.sqrt(mse))"
   ]
  },
  {
   "cell_type": "code",
   "execution_count": 51,
   "id": "7f651e08",
   "metadata": {},
   "outputs": [
    {
     "data": {
      "text/plain": [
       "0.04119041"
      ]
     },
     "execution_count": 51,
     "metadata": {},
     "output_type": "execute_result"
    }
   ],
   "source": [
    "mean_absolute_percentage_error(df[\"y_true\"], df[\"y_hat\"])"
   ]
  },
  {
   "cell_type": "code",
   "execution_count": 52,
   "id": "65b86818",
   "metadata": {},
   "outputs": [
    {
     "data": {
      "text/plain": [
       "5.0135427"
      ]
     },
     "execution_count": 52,
     "metadata": {},
     "output_type": "execute_result"
    }
   ],
   "source": [
    "mean_absolute_error(df[\"y_true\"], df[\"y_hat\"])"
   ]
  },
  {
   "cell_type": "markdown",
   "id": "314179d0-39ee-48d7-b0be-5ccceae7c569",
   "metadata": {},
   "source": [
    "## Evaluate Holdout Set"
   ]
  },
  {
   "cell_type": "code",
   "execution_count": 54,
   "id": "57e0e0fd-59a7-436f-90f3-e0ef02bb4cbe",
   "metadata": {},
   "outputs": [],
   "source": [
    "with open(\"./holdout_X.pt\", 'rb') as f:\n",
    "    holdout_X = torch.load(f)\n",
    "with open(\"./holdout_y.pt\", 'rb') as f:\n",
    "    holdout_y = torch.load(f)"
   ]
  },
  {
   "cell_type": "code",
   "execution_count": 63,
   "id": "ac5bbae4-60ab-49d6-a9fd-e219823f4fa2",
   "metadata": {},
   "outputs": [],
   "source": [
    "net.eval()\n",
    "with torch.no_grad():\n",
    "    out_seq = net(holdout_X)\n",
    "    first_dim, second_dim, _ = out_seq.shape\n",
    "    pred = out_seq.view(first_dim, second_dim)[:, -1]"
   ]
  },
  {
   "cell_type": "code",
   "execution_count": 64,
   "id": "1e5c6dff-3624-40a4-811e-46050550ca49",
   "metadata": {},
   "outputs": [],
   "source": [
    "pred_array = pred.cpu().detach().numpy()\n",
    "y = holdout_y.detach().numpy()"
   ]
  },
  {
   "cell_type": "code",
   "execution_count": 65,
   "id": "0ca31c45-0502-43e3-8d14-25bb00ad2fc8",
   "metadata": {},
   "outputs": [],
   "source": [
    "df = pd.DataFrame({\"y_true\":y, \"y_hat\": pred_array})\n",
    "df = df.loc[df['y_true'] != 0, :]"
   ]
  },
  {
   "cell_type": "code",
   "execution_count": 66,
   "id": "e2bc3e49-7d00-4aab-8fab-db7a49ba6dd4",
   "metadata": {},
   "outputs": [
    {
     "data": {
      "text/plain": [
       "<matplotlib.collections.PathCollection at 0x7f5f7406a610>"
      ]
     },
     "execution_count": 66,
     "metadata": {},
     "output_type": "execute_result"
    },
    {
     "data": {
      "image/png": "[encoded data removed]",
      "text/plain": [
       "<Figure size 432x288 with 1 Axes>"
      ]
     },
     "metadata": {
      "needs_background": "light"
     },
     "output_type": "display_data"
    }
   ],
   "source": [
    "plt.scatter(df['y_true'], df['y_hat'], alpha=0.01)"
   ]
  },
  {
   "cell_type": "code",
   "execution_count": 67,
   "id": "f7a7f96d-964d-4450-838e-1e4ca4df35bb",
   "metadata": {},
   "outputs": [
    {
     "data": {
      "text/plain": [
       "0.9698983846297271"
      ]
     },
     "execution_count": 67,
     "metadata": {},
     "output_type": "execute_result"
    }
   ],
   "source": [
    "r2_score(df[\"y_true\"], df[\"y_hat\"])"
   ]
  },
  {
   "cell_type": "code",
   "execution_count": 68,
   "id": "88a950e8-7087-4fe1-8f48-80e597c258a2",
   "metadata": {},
   "outputs": [
    {
     "name": "stdout",
     "output_type": "stream",
     "text": [
      "8.830021\n"
     ]
    }
   ],
   "source": [
    "mse = mean_squared_error(df[\"y_true\"], df[\"y_hat\"])\n",
    "print(np.sqrt(mse))"
   ]
  },
  {
   "cell_type": "code",
   "execution_count": 69,
   "id": "534328ca-4eb9-4731-a725-e60a561b0b92",
   "metadata": {},
   "outputs": [
    {
     "data": {
      "text/plain": [
       "0.03966662"
      ]
     },
     "execution_count": 69,
     "metadata": {},
     "output_type": "execute_result"
    }
   ],
   "source": [
    "mean_absolute_percentage_error(df[\"y_true\"], df[\"y_hat\"])"
   ]
  },
  {
   "cell_type": "code",
   "execution_count": 70,
   "id": "2a2e7642-685a-4bc6-9462-cbdb2a3d7224",
   "metadata": {},
   "outputs": [
    {
     "data": {
      "text/plain": [
       "4.812114"
      ]
     },
     "execution_count": 70,
     "metadata": {},
     "output_type": "execute_result"
    }
   ],
   "source": [
    "mean_absolute_error(df[\"y_true\"], df[\"y_hat\"])"
   ]
  },
  {
   "cell_type": "markdown",
   "id": "37d0470b-fa14-4acd-84c9-132daf07b5a6",
   "metadata": {},
   "source": [
    "## Misc"
   ]
  },
  {
   "cell_type": "code",
   "execution_count": null,
   "id": "93fa7cb2-882c-4ada-969b-e3b07af807cc",
   "metadata": {},
   "outputs": [],
   "source": [
    "# Can be useful for loading a net thats been passed to DataParallel\n",
    "from collections import OrderedDict\n",
    "state_dict = torch.load(os.path.join(SAVE_DIR, save_string))\n",
    "new_state_dict= OrderedDict()\n",
    "for k,v in state_dict.items():\n",
    "    name = k[7:]\n",
    "    new_state_dict[name]=v"
   ]
  }
 ],
 "metadata": {
  "kernelspec": {
   "display_name": "Python 3 (ipykernel)",
   "language": "python",
   "name": "python3"
  },
  "language_info": {
   "codemirror_mode": {
    "name": "ipython",
    "version": 3
   },
   "file_extension": ".py",
   "mimetype": "text/x-python",
   "name": "python",
   "nbconvert_exporter": "python",
   "pygments_lexer": "ipython3",
   "version": "3.9.13"
  }
 },
 "nbformat": 4,
 "nbformat_minor": 5
}
