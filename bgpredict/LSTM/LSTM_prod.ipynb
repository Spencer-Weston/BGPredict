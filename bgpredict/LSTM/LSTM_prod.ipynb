{
 "cells": [
  {
   "cell_type": "markdown",
   "id": "5a8cc12c-cc60-4437-b701-b084a2927efc",
   "metadata": {},
   "source": [
    "# LSTM Production\n",
    "Notebook to put LSTM into production on AWS"
   ]
  },
  {
   "cell_type": "code",
   "execution_count": 1,
   "id": "6c9c451c-7a81-4ec8-9ad2-13782a1acab6",
   "metadata": {},
   "outputs": [
    {
     "name": "stderr",
     "output_type": "stream",
     "text": [
      "/opt/conda/envs/pytorch/lib/python3.9/site-packages/tqdm/auto.py:22: TqdmWarning: IProgress not found. Please update jupyter and ipywidgets. See https://ipywidgets.readthedocs.io/en/stable/user_install.html\n",
      "  from .autonotebook import tqdm as notebook_tqdm\n"
     ]
    }
   ],
   "source": [
    "from datetime import datetime\n",
    "import matplotlib.pyplot as plt\n",
    "import numpy as np\n",
    "import os\n",
    "import pandas as pd\n",
    "from sklearn.preprocessing import MinMaxScaler\n",
    "import sqlalchemy\n",
    "from sqlalchemy import create_engine\n",
    "import s3fs\n",
    "import gc\n",
    "\n",
    "from functools import partial\n",
    "import ray\n",
    "from ray import tune\n",
    "from ray.tune import JupyterNotebookReporter\n",
    "from ray.tune.schedulers import ASHAScheduler\n",
    "from ray.tune.suggest.hyperopt import HyperOptSearch\n",
    "from ray.tune.stopper import TrialPlateauStopper\n",
    "\n",
    "import torch\n",
    "import torch.optim as optim\n",
    "import torch.nn as nn\n",
    "import torch.nn.functional as F\n",
    "\n",
    "from dotenv import load_dotenv"
   ]
  },
  {
   "cell_type": "markdown",
   "id": "785f164e",
   "metadata": {},
   "source": [
    "### Model"
   ]
  },
  {
   "cell_type": "code",
   "execution_count": 2,
   "id": "a264cd4d-d0d0-49d0-9bc2-77953a8a2e65",
   "metadata": {},
   "outputs": [],
   "source": [
    "class Net(nn.Module):\n",
    "    \n",
    "    def __init__(self, input_size, hidden_size=8, num_lstm_layers=1, dropout=0):\n",
    "        super().__init__()\n",
    "        if num_lstm_layers == 1:\n",
    "            dropout = 0\n",
    "        self.lstm = nn.LSTM(input_size=input_size,\n",
    "                            hidden_size=hidden_size,\n",
    "                            num_layers=num_lstm_layers,\n",
    "                            dropout=dropout)\n",
    "        self.fc1 = nn.Linear(hidden_size, 1)\n",
    "        \n",
    "    def forward(self, x):\n",
    "        lstm_out, _ = self.lstm(x)\n",
    "        x = self.fc1(lstm_out)\n",
    "        return x"
   ]
  },
  {
   "cell_type": "markdown",
   "id": "59832b8d",
   "metadata": {},
   "source": [
    "### Train Function"
   ]
  },
  {
   "cell_type": "code",
   "execution_count": 3,
   "id": "379cbee4-b334-4166-957b-94a0f545a122",
   "metadata": {},
   "outputs": [],
   "source": [
    "def train_lstm(config, train_X, train_y, val_X, val_y, checkpoint_dir=None,):\n",
    "\n",
    "    device = \"cpu\"\n",
    "    if torch.cuda.is_available():\n",
    "        device = \"cuda:0\"\n",
    "    \n",
    "    print(f\"DEVICE: {device}\")\n",
    "    train_X = train_X.to(device)\n",
    "    train_y = train_y.to(device)\n",
    "    val_X = val_X.to(device)\n",
    "    val_y = val_y.to(device)\n",
    "    \n",
    "    # Configure the network and send it to the device\n",
    "    # Width of the dataframe - 1 (y variable) is feature set size \n",
    "    input_size = train_X.shape[2]\n",
    "    net = Net(input_size=input_size,\n",
    "              hidden_size=config['hidden_size'],\n",
    "              num_lstm_layers=config['num_lstm_layers'],\n",
    "              dropout=config['dropout'])\n",
    "    \n",
    "    if torch.cuda.device_count() > 1:\n",
    "        net = nn.DataParallel(net)     \n",
    "    net.to(device)\n",
    "    \n",
    "    optimizer = optim.Adam(net.parameters(), lr=config['learning_rate'])\n",
    "    optimizer\n",
    "    \n",
    "    # Checkpoint Dir Stuff -- handled by Tune \n",
    "    if checkpoint_dir:\n",
    "        checkpoint = os.path.join(checkpoint_dir, \"checkpoint\")\n",
    "        model_state, optimizer_state = torch.load(checkpoint)\n",
    "        net.load_state_dict(model_state)\n",
    "        optimizer.load_state_dict(optimizer_state)    \n",
    "    \n",
    "    # train\n",
    "    BATCH_SIZE = config['batch_size']\n",
    "    for epoch in range(1000):\n",
    "        epoch_start = datetime.now()\n",
    "        print(f\"Epoch: {epoch}\")\n",
    "        running_loss = 0\n",
    "        epoch_steps = 0\n",
    "        for i in range(0, len(train_X)-BATCH_SIZE, BATCH_SIZE):\n",
    "            X = train_X[i:i+BATCH_SIZE]\n",
    "            y = train_y[i:i+BATCH_SIZE]\n",
    "            net.zero_grad()\n",
    "            \n",
    "            out_seq = net(X)\n",
    "            first_dim, second_dim, _ = out_seq.shape\n",
    "            pred = out_seq.view(first_dim, second_dim)[:, -1]\n",
    "            loss = F.mse_loss(pred, y)\n",
    "            loss.backward()\n",
    "            optimizer.step()\n",
    "            running_loss += loss.item()\n",
    "            epoch_steps += 1\n",
    "            \n",
    "            # Print loss every 1000 batches\n",
    "            if i % 100 == 99:\n",
    "                avg_loss = running_loss / epoch_steps\n",
    "                print(f\"Epoch {epoch}, steps {epoch_steps-1000}:{epoch_steps} avg loss: {avg_loss}\")\n",
    "                running_loss = 0 \n",
    "                \n",
    "        # Validate each epoch\n",
    "        val_loss = 0\n",
    "        val_steps = 0\n",
    "        with torch.no_grad():\n",
    "            for i in range(0, len(val_X)-BATCH_SIZE, BATCH_SIZE):\n",
    "                X = val_X[i:i+BATCH_SIZE]\n",
    "                y = val_y[i:i+BATCH_SIZE]\n",
    "                out_seq = net(X)\n",
    "                first_dim, second_dim, _ = out_seq.shape\n",
    "                pred = out_seq.view(first_dim, second_dim)[:, -1]\n",
    "                loss = F.mse_loss(pred, y)\n",
    "                val_loss += loss.item()\n",
    "                val_steps += 1\n",
    "        \n",
    "        with tune.checkpoint_dir(step=epoch) as checkpoint_dir:\n",
    "            path = os.path.join(checkpoint_dir, \"checkpoint\")\n",
    "            torch.save((net.state_dict(), optimizer.state_dict()), path)\n",
    "            \n",
    "        tune.report(val_loss=(val_loss/val_steps), train_loss=(running_loss/epoch_steps), training_iteration=epoch)\n",
    "        print(f\"Finished epoch {epoch} in {datetime.now()-epoch_start}\")\n",
    "    print(\"finished!\")"
   ]
  },
  {
   "cell_type": "markdown",
   "id": "198b643d",
   "metadata": {},
   "source": [
    "### Load and Process data"
   ]
  },
  {
   "cell_type": "code",
   "execution_count": 2,
   "id": "a9fcc99a-c8e2-4164-bbf5-51be5f617b26",
   "metadata": {},
   "outputs": [
    {
     "data": {
      "text/plain": [
       "True"
      ]
     },
     "execution_count": 2,
     "metadata": {},
     "output_type": "execute_result"
    }
   ],
   "source": [
    "os.path.exists(\"./test_X.pt\")"
   ]
  },
  {
   "cell_type": "code",
   "execution_count": 3,
   "id": "01188558-2688-4048-b1aa-c531ecec12c1",
   "metadata": {},
   "outputs": [
    {
     "name": "stdout",
     "output_type": "stream",
     "text": [
      "loading train Xlocally\n",
      "loading train y locally\n",
      "loading val Xlocally\n",
      "loading val ylocally\n"
     ]
    }
   ],
   "source": [
    "s3 = s3fs.S3FileSystem()\n",
    "string = \"loading train X\"\n",
    "if os.path.exists(\"./train_X.pt\"):\n",
    "    print(f\"{string}locally\")\n",
    "    with open(\"./train_X.pt\", 'rb') as f:\n",
    "        train_X = torch.load(f)\n",
    "else:\n",
    "    print(f\"{string}remotely\")\n",
    "    with s3.open(\"s3://bgpredict/models/lstm/tensors/train_X\", 'rb') as f:\n",
    "        train_X=torch.load(f)\n",
    "        \n",
    "string = \"loading train y \"\n",
    "if os.path.exists(\"./train_y.pt\"):\n",
    "    print(f\"{string}locally\")\n",
    "    with open(\"./train_y.pt\", \"rb\") as f:\n",
    "        train_y = torch.load(f)\n",
    "else:\n",
    "    print(f\"{string}remotely\")\n",
    "    with s3.open(\"s3://bgpredict/models/lstm/tensors/train_y\", 'rb') as f:\n",
    "        train_y=torch.load(f)\n",
    "\n",
    "string = \"loading val X\"\n",
    "if os.path.exists(\"./val_X.pt\"):\n",
    "    print(f\"{string}locally\")\n",
    "    with open(\"./val_X.pt\", 'rb') as f:\n",
    "        val_X = torch.load(f)\n",
    "else:\n",
    "    print(f\"{string}remotely\")\n",
    "    with s3.open(\"s3://bgpredict/models/lstm/tensors/val_X\", 'rb') as f:\n",
    "        val_X=torch.load(f) \n",
    "\n",
    "string = \"loading val y\"\n",
    "if os.path.exists(\"./val_y.pt\"):\n",
    "    print(f\"{string}locally\")\n",
    "    with open(\"./val_y.pt\", 'rb') as f:\n",
    "        val_y = torch.load(f)\n",
    "else:\n",
    "    print(f\"{string}remotely\")\n",
    "    with s3.open(\"s3://bgpredict/models/lstm/tensors/val_y\", 'rb') as f:\n",
    "        val_y=torch.load(f)    "
   ]
  },
  {
   "cell_type": "code",
   "execution_count": 4,
   "id": "312d4230-eee3-4299-9fc4-ed816d3277cd",
   "metadata": {},
   "outputs": [
    {
     "name": "stdout",
     "output_type": "stream",
     "text": [
      "torch.Size([2822590, 12, 30])\n",
      "torch.Size([2822590])\n",
      "torch.Size([1346613, 12, 30])\n",
      "torch.Size([1346613])\n"
     ]
    }
   ],
   "source": [
    "print(train_X.shape)\n",
    "print(train_y.shape)\n",
    "print(val_X.shape)\n",
    "print(val_y.shape)"
   ]
  },
  {
   "cell_type": "code",
   "execution_count": 5,
   "id": "2be0ea41-d009-4cbd-a3a9-d0260933487c",
   "metadata": {},
   "outputs": [
    {
     "data": {
      "text/plain": [
       "True"
      ]
     },
     "execution_count": 5,
     "metadata": {},
     "output_type": "execute_result"
    }
   ],
   "source": [
    "torch.cuda.is_available()"
   ]
  },
  {
   "cell_type": "code",
   "execution_count": 45,
   "id": "7c25364f-68c6-4cca-a250-91683896c4e1",
   "metadata": {},
   "outputs": [
    {
     "data": {
      "text/plain": [
       "RayContext(dashboard_url='', python_version='3.9.13', ray_version='1.13.0', ray_commit='e4ce38d001dbbe09cd21c497fedd03d692b2be3e', address_info={'node_ip_address': '172.31.11.119', 'raylet_ip_address': '172.31.11.119', 'redis_address': None, 'object_store_address': '/tmp/ray/session_2022-07-29_02-23-17_304451_17341/sockets/plasma_store', 'raylet_socket_name': '/tmp/ray/session_2022-07-29_02-23-17_304451_17341/sockets/raylet', 'webui_url': '', 'session_dir': '/tmp/ray/session_2022-07-29_02-23-17_304451_17341', 'metrics_export_port': 64048, 'gcs_address': '172.31.11.119:58825', 'address': '172.31.11.119:58825', 'node_id': '887a7277d743759952ed30ec307ee2d9ce789d60833201e715df11ea'})"
      ]
     },
     "execution_count": 45,
     "metadata": {},
     "output_type": "execute_result"
    }
   ],
   "source": [
    "ray.shutdown()\n",
    "ray.init()"
   ]
  },
  {
   "cell_type": "code",
   "execution_count": null,
   "id": "3808f64a-6856-4574-847f-5b8a686d147c",
   "metadata": {},
   "outputs": [],
   "source": [
    "config= {\n",
    "    'hidden_size': tune.choice([2**x for x in range(3, 8)]), # 2^3 to 2^8, 8 to 256\n",
    "    'num_lstm_layers':tune.choice([1,2,3]),\n",
    "    'dropout': tune.choice([0, 0.1, 0.2, 0.3, 0.4, 0.5]), # [0,0.5]\n",
    "    'learning_rate': tune.choice([0.0001, 0.001, 0.01, 0.1]),\n",
    "    'batch_size': tune.choice([64, 128, 256]), # 2^3 to 2^8, 8 to 256\n",
    "}\n",
    "\n",
    "initial_params = [{\"hidden_size\": 128,\n",
    "                  \"num_lstm_layers\": 1,\n",
    "                  \"dropout\": 0,\n",
    "                  \"batch_size\": 256,\n",
    "                  'learning_rate': 0.1}]\n",
    "\n",
    "def stopper(trial_id, result):\n",
    "    train_times = [10 * i for i in range(11)]\n",
    "    if result['training_iteration'] < 100: # and result[\"training_iteration\"] > 10:\n",
    "        training_iteration = result['training_iteration']\n",
    "        ceiling = (np.log(training_iteration) ** -0.7) * 2 * 4000\n",
    "        print(f\"CEILING: {ceiling}, ITER_NUM: {result['training_iteration']}\")\n",
    "        if result['val_loss'] > ceiling:\n",
    "            return True\n",
    "    elif result['training_iteration'] > 100:\n",
    "        return True\n",
    "    elif result['val_loss'] < 90:\n",
    "        return True\n",
    "    else:\n",
    "        return False\n",
    "\n",
    "\n",
    "hyperopt_search = HyperOptSearch(metric='val_loss', mode='min', points_to_evaluate=initial_params)\n",
    "\n",
    "scheduler = ASHAScheduler(\n",
    "    metric=\"val_loss\",\n",
    "    mode=\"min\",\n",
    "    grace_period=3,\n",
    "    max_t=200\n",
    ")\n",
    "\n",
    "reporter = JupyterNotebookReporter(\n",
    "    metric_columns = [\"val_loss\", \"loss\", \"training_iteration\"],\n",
    "    overwrite=False,\n",
    "    max_report_frequency=60\n",
    ")\n",
    "\n",
    "\n",
    "result = tune.run(\n",
    "    tune.with_parameters(\n",
    "        train_lstm,\n",
    "        train_X = train_X,\n",
    "        train_y = train_y,\n",
    "        val_X = val_X,\n",
    "        val_y = val_y\n",
    "    ),\n",
    "    resources_per_trial={\"cpu\":10, \"gpu\":4},\n",
    "    config=config,\n",
    "    num_samples=1,\n",
    "    search_alg=hyperopt_search,\n",
    "    name='GPU',\n",
    "    stop = stopper,\n",
    "    resume = \"ERRORED_ONLY\",\n",
    ")"
   ]
  },
  {
   "cell_type": "code",
   "execution_count": 154,
   "id": "2321b45a-da30-4965-bd42-82ca1dbe04b1",
   "metadata": {},
   "outputs": [],
   "source": [
    "best_trial =result.get_best_trial(metric='val_loss', mode='min', scope=\"last-5-avg\")"
   ]
  },
  {
   "cell_type": "code",
   "execution_count": 155,
   "id": "34307f35-51a7-4609-b932-35bcd706102d",
   "metadata": {},
   "outputs": [
    {
     "name": "stdout",
     "output_type": "stream",
     "text": [
      "Best trial config: {'hidden_size': 256, 'num_lstm_layers': 2, 'dropout': 0.3, 'learning_rate': 0.0001, 'batch_size': 256}\n",
      "Best trial final validation loss: 288.95336100973554\n"
     ]
    }
   ],
   "source": [
    "print(\"Best trial config: {}\".format(best_trial.config))\n",
    "print(\"Best trial final validation loss: {}\".format(\n",
    "    best_trial.last_result[\"val_loss\"]))"
   ]
  },
  {
   "cell_type": "code",
   "execution_count": 186,
   "id": "0c8d4c16",
   "metadata": {},
   "outputs": [
    {
     "name": "stdout",
     "output_type": "stream",
     "text": [
      "/home/ec2-user/ray_results/GPU/train_lstm_6cfa9ec2_58_batch_size=256,dropout=0.3000,hidden_size=256,learning_rate=0.0001,num_lstm_layers=2_2022-07-29_09-27-48/progress.csv\n"
     ]
    },
    {
     "data": {
      "text/html": [
       "<div>\n",
       "<style scoped>\n",
       "    .dataframe tbody tr th:only-of-type {\n",
       "        vertical-align: middle;\n",
       "    }\n",
       "\n",
       "    .dataframe tbody tr th {\n",
       "        vertical-align: top;\n",
       "    }\n",
       "\n",
       "    .dataframe thead th {\n",
       "        text-align: right;\n",
       "    }\n",
       "</style>\n",
       "<table border=\"1\" class=\"dataframe\">\n",
       "  <thead>\n",
       "    <tr style=\"text-align: right;\">\n",
       "      <th></th>\n",
       "      <th>val_loss</th>\n",
       "      <th>train_loss</th>\n",
       "      <th>training_iteration</th>\n",
       "      <th>time_this_iter_s</th>\n",
       "      <th>should_checkpoint</th>\n",
       "      <th>done</th>\n",
       "      <th>timesteps_total</th>\n",
       "      <th>episodes_total</th>\n",
       "      <th>trial_id</th>\n",
       "      <th>experiment_id</th>\n",
       "      <th>date</th>\n",
       "      <th>timestamp</th>\n",
       "      <th>time_total_s</th>\n",
       "      <th>pid</th>\n",
       "      <th>hostname</th>\n",
       "      <th>node_ip</th>\n",
       "      <th>time_since_restore</th>\n",
       "      <th>timesteps_since_restore</th>\n",
       "      <th>iterations_since_restore</th>\n",
       "      <th>warmup_time</th>\n",
       "    </tr>\n",
       "  </thead>\n",
       "  <tbody>\n",
       "    <tr>\n",
       "      <th>0</th>\n",
       "      <td>2564.141468</td>\n",
       "      <td>5408.201329</td>\n",
       "      <td>0</td>\n",
       "      <td>236.179984</td>\n",
       "      <td>True</td>\n",
       "      <td>False</td>\n",
       "      <td>NaN</td>\n",
       "      <td>NaN</td>\n",
       "      <td>6cfa9ec2</td>\n",
       "      <td>d8133fb3b06e4790bcc45256dcc07329</td>\n",
       "      <td>2022-07-29_09-31-46</td>\n",
       "      <td>1659087106</td>\n",
       "      <td>236.179984</td>\n",
       "      <td>43753</td>\n",
       "      <td>ip-172-31-11-119.us-west-2.compute.internal</td>\n",
       "      <td>172.31.11.119</td>\n",
       "      <td>236.179984</td>\n",
       "      <td>0</td>\n",
       "      <td>1</td>\n",
       "      <td>0.002463</td>\n",
       "    </tr>\n",
       "    <tr>\n",
       "      <th>1</th>\n",
       "      <td>2564.046755</td>\n",
       "      <td>2541.210943</td>\n",
       "      <td>1</td>\n",
       "      <td>222.899053</td>\n",
       "      <td>True</td>\n",
       "      <td>False</td>\n",
       "      <td>NaN</td>\n",
       "      <td>NaN</td>\n",
       "      <td>6cfa9ec2</td>\n",
       "      <td>d8133fb3b06e4790bcc45256dcc07329</td>\n",
       "      <td>2022-07-29_09-35-29</td>\n",
       "      <td>1659087329</td>\n",
       "      <td>459.079037</td>\n",
       "      <td>43753</td>\n",
       "      <td>ip-172-31-11-119.us-west-2.compute.internal</td>\n",
       "      <td>172.31.11.119</td>\n",
       "      <td>459.079037</td>\n",
       "      <td>0</td>\n",
       "      <td>2</td>\n",
       "      <td>0.002463</td>\n",
       "    </tr>\n",
       "    <tr>\n",
       "      <th>2</th>\n",
       "      <td>2161.225864</td>\n",
       "      <td>2414.365723</td>\n",
       "      <td>2</td>\n",
       "      <td>219.613094</td>\n",
       "      <td>True</td>\n",
       "      <td>False</td>\n",
       "      <td>NaN</td>\n",
       "      <td>NaN</td>\n",
       "      <td>6cfa9ec2</td>\n",
       "      <td>d8133fb3b06e4790bcc45256dcc07329</td>\n",
       "      <td>2022-07-29_09-39-08</td>\n",
       "      <td>1659087548</td>\n",
       "      <td>678.692131</td>\n",
       "      <td>43753</td>\n",
       "      <td>ip-172-31-11-119.us-west-2.compute.internal</td>\n",
       "      <td>172.31.11.119</td>\n",
       "      <td>678.692131</td>\n",
       "      <td>0</td>\n",
       "      <td>3</td>\n",
       "      <td>0.002463</td>\n",
       "    </tr>\n",
       "    <tr>\n",
       "      <th>3</th>\n",
       "      <td>1818.287905</td>\n",
       "      <td>2051.091033</td>\n",
       "      <td>3</td>\n",
       "      <td>219.261975</td>\n",
       "      <td>True</td>\n",
       "      <td>False</td>\n",
       "      <td>NaN</td>\n",
       "      <td>NaN</td>\n",
       "      <td>6cfa9ec2</td>\n",
       "      <td>d8133fb3b06e4790bcc45256dcc07329</td>\n",
       "      <td>2022-07-29_09-42-48</td>\n",
       "      <td>1659087768</td>\n",
       "      <td>897.954105</td>\n",
       "      <td>43753</td>\n",
       "      <td>ip-172-31-11-119.us-west-2.compute.internal</td>\n",
       "      <td>172.31.11.119</td>\n",
       "      <td>897.954105</td>\n",
       "      <td>0</td>\n",
       "      <td>4</td>\n",
       "      <td>0.002463</td>\n",
       "    </tr>\n",
       "    <tr>\n",
       "      <th>4</th>\n",
       "      <td>1273.295188</td>\n",
       "      <td>1428.743554</td>\n",
       "      <td>4</td>\n",
       "      <td>217.874669</td>\n",
       "      <td>True</td>\n",
       "      <td>False</td>\n",
       "      <td>NaN</td>\n",
       "      <td>NaN</td>\n",
       "      <td>6cfa9ec2</td>\n",
       "      <td>d8133fb3b06e4790bcc45256dcc07329</td>\n",
       "      <td>2022-07-29_09-46-25</td>\n",
       "      <td>1659087985</td>\n",
       "      <td>1115.828774</td>\n",
       "      <td>43753</td>\n",
       "      <td>ip-172-31-11-119.us-west-2.compute.internal</td>\n",
       "      <td>172.31.11.119</td>\n",
       "      <td>1115.828774</td>\n",
       "      <td>0</td>\n",
       "      <td>5</td>\n",
       "      <td>0.002463</td>\n",
       "    </tr>\n",
       "  </tbody>\n",
       "</table>\n",
       "</div>"
      ],
      "text/plain": [
       "      val_loss   train_loss  training_iteration  time_this_iter_s  \\\n",
       "0  2564.141468  5408.201329                   0        236.179984   \n",
       "1  2564.046755  2541.210943                   1        222.899053   \n",
       "2  2161.225864  2414.365723                   2        219.613094   \n",
       "3  1818.287905  2051.091033                   3        219.261975   \n",
       "4  1273.295188  1428.743554                   4        217.874669   \n",
       "\n",
       "   should_checkpoint   done  timesteps_total  episodes_total  trial_id  \\\n",
       "0               True  False              NaN             NaN  6cfa9ec2   \n",
       "1               True  False              NaN             NaN  6cfa9ec2   \n",
       "2               True  False              NaN             NaN  6cfa9ec2   \n",
       "3               True  False              NaN             NaN  6cfa9ec2   \n",
       "4               True  False              NaN             NaN  6cfa9ec2   \n",
       "\n",
       "                      experiment_id                 date   timestamp  \\\n",
       "0  d8133fb3b06e4790bcc45256dcc07329  2022-07-29_09-31-46  1659087106   \n",
       "1  d8133fb3b06e4790bcc45256dcc07329  2022-07-29_09-35-29  1659087329   \n",
       "2  d8133fb3b06e4790bcc45256dcc07329  2022-07-29_09-39-08  1659087548   \n",
       "3  d8133fb3b06e4790bcc45256dcc07329  2022-07-29_09-42-48  1659087768   \n",
       "4  d8133fb3b06e4790bcc45256dcc07329  2022-07-29_09-46-25  1659087985   \n",
       "\n",
       "   time_total_s    pid                                     hostname  \\\n",
       "0    236.179984  43753  ip-172-31-11-119.us-west-2.compute.internal   \n",
       "1    459.079037  43753  ip-172-31-11-119.us-west-2.compute.internal   \n",
       "2    678.692131  43753  ip-172-31-11-119.us-west-2.compute.internal   \n",
       "3    897.954105  43753  ip-172-31-11-119.us-west-2.compute.internal   \n",
       "4   1115.828774  43753  ip-172-31-11-119.us-west-2.compute.internal   \n",
       "\n",
       "         node_ip  time_since_restore  timesteps_since_restore  \\\n",
       "0  172.31.11.119          236.179984                        0   \n",
       "1  172.31.11.119          459.079037                        0   \n",
       "2  172.31.11.119          678.692131                        0   \n",
       "3  172.31.11.119          897.954105                        0   \n",
       "4  172.31.11.119         1115.828774                        0   \n",
       "\n",
       "   iterations_since_restore  warmup_time  \n",
       "0                         1     0.002463  \n",
       "1                         2     0.002463  \n",
       "2                         3     0.002463  \n",
       "3                         4     0.002463  \n",
       "4                         5     0.002463  "
      ]
     },
     "execution_count": 186,
     "metadata": {},
     "output_type": "execute_result"
    }
   ],
   "source": [
    "best_dir = result.get_best_logdir(metric='val_loss', mode='min')\n",
    "df = pd.read_csv(f\"{best_dir}/progress.csv\")\n",
    "print(f\"{best_dir}/progress.csv\")\n",
    "df.head()"
   ]
  },
  {
   "cell_type": "code",
   "execution_count": 140,
   "id": "a96a5666",
   "metadata": {},
   "outputs": [],
   "source": [
    "dfs = result.trial_dataframes"
   ]
  },
  {
   "cell_type": "code",
   "execution_count": 66,
   "id": "4e772ca4",
   "metadata": {},
   "outputs": [
    {
     "ename": "NameError",
     "evalue": "name 'dfs' is not defined",
     "output_type": "error",
     "traceback": [
      "\u001b[0;31m---------------------------------------------------------------------------\u001b[0m",
      "\u001b[0;31mNameError\u001b[0m                                 Traceback (most recent call last)",
      "Input \u001b[0;32mIn [66]\u001b[0m, in \u001b[0;36m<cell line: 2>\u001b[0;34m()\u001b[0m\n\u001b[1;32m      1\u001b[0m ax \u001b[38;5;241m=\u001b[39m \u001b[38;5;28;01mNone\u001b[39;00m  \u001b[38;5;66;03m# This plots everything on the same plot\u001b[39;00m\n\u001b[0;32m----> 2\u001b[0m \u001b[38;5;28;01mfor\u001b[39;00m d \u001b[38;5;129;01min\u001b[39;00m \u001b[43mdfs\u001b[49m\u001b[38;5;241m.\u001b[39mvalues():\n\u001b[1;32m      3\u001b[0m     ax \u001b[38;5;241m=\u001b[39m d\u001b[38;5;241m.\u001b[39mval_loss\u001b[38;5;241m.\u001b[39mplot(ax\u001b[38;5;241m=\u001b[39max, legend\u001b[38;5;241m=\u001b[39m\u001b[38;5;28;01mFalse\u001b[39;00m, figsize\u001b[38;5;241m=\u001b[39m(\u001b[38;5;241m20\u001b[39m,\u001b[38;5;241m10\u001b[39m))\n\u001b[1;32m      4\u001b[0m ax\u001b[38;5;241m.\u001b[39maxhline(y\u001b[38;5;241m=\u001b[39m\u001b[38;5;241m500\u001b[39m)\n",
      "\u001b[0;31mNameError\u001b[0m: name 'dfs' is not defined"
     ]
    }
   ],
   "source": [
    "ax = None  # This plots everything on the same plot\n",
    "for d in dfs.values():\n",
    "    ax = d.val_loss.plot(ax=ax, legend=False, figsize=(20,10))\n",
    "ax.axhline(y=500)"
   ]
  },
  {
   "cell_type": "code",
   "execution_count": 7,
   "id": "60b17663-3521-453b-86ec-78ba19a20150",
   "metadata": {},
   "outputs": [],
   "source": [
    "best_trial = {'hidden_size': 32, 'num_lstm_layers': 1, 'dropout': 0, 'learning_rate': 0.001, 'batch_size': 256}"
   ]
  },
  {
   "cell_type": "code",
   "execution_count": 8,
   "id": "0258d1df",
   "metadata": {},
   "outputs": [
    {
     "data": {
      "text/plain": [
       "Net(\n",
       "  (lstm): LSTM(30, 32)\n",
       "  (fc1): Linear(in_features=32, out_features=1, bias=True)\n",
       ")"
      ]
     },
     "execution_count": 8,
     "metadata": {},
     "output_type": "execute_result"
    }
   ],
   "source": [
    "net = Net(input_size=train_X.shape[2], \n",
    "          hidden_size = best_trial['hidden_size'],\n",
    "          num_lstm_layers=best_trial['num_lstm_layers'],\n",
    "          dropout= best_trial['dropout']\n",
    ")\n",
    "net"
   ]
  },
  {
   "cell_type": "code",
   "execution_count": 9,
   "id": "e8ab5d8d-e514-41a9-8e58-45f9c879535a",
   "metadata": {},
   "outputs": [
    {
     "data": {
      "text/plain": [
       "0.0"
      ]
     },
     "execution_count": 9,
     "metadata": {},
     "output_type": "execute_result"
    }
   ],
   "source": [
    "torch.cuda.memory_allocated()/1024/1024"
   ]
  },
  {
   "cell_type": "code",
   "execution_count": 10,
   "id": "2457f5e4-5a79-4666-91d1-ec5cbe2747f3",
   "metadata": {},
   "outputs": [
    {
     "name": "stdout",
     "output_type": "stream",
     "text": [
      "DEVICE: cuda:0\n",
      "Running in Parallel on 4 GPU's\n"
     ]
    },
    {
     "data": {
      "text/plain": [
       "DataParallel(\n",
       "  (module): Net(\n",
       "    (lstm): LSTM(30, 32)\n",
       "    (fc1): Linear(in_features=32, out_features=1, bias=True)\n",
       "  )\n",
       ")"
      ]
     },
     "execution_count": 10,
     "metadata": {},
     "output_type": "execute_result"
    }
   ],
   "source": [
    "losses = []\n",
    "val_losses = []\n",
    "BATCH_SIZE = best_trial['batch_size']\n",
    "learning_rate = best_trial['learning_rate']\n",
    "optimizer = optim.Adam(net.parameters(), lr=learning_rate)\n",
    "iter_idx = 0 \n",
    "running_loss = 0\n",
    "running_val_loss = 0\n",
    "epoch_steps = 0\n",
    "epoch = 0 \n",
    "\n",
    "device = \"cpu\"\n",
    "if torch.cuda.is_available():\n",
    "    device = \"cuda:0\"\n",
    "\n",
    "print(f\"DEVICE: {device}\")\n",
    "if torch.cuda.device_count() > 1:\n",
    "    print(f\"Running in Parallel on {torch.cuda.device_count()} GPU's\")\n",
    "    net = nn.DataParallel(net)     \n",
    "net.to(device)\n"
   ]
  },
  {
   "cell_type": "code",
   "execution_count": null,
   "id": "233720a6",
   "metadata": {},
   "outputs": [
    {
     "name": "stdout",
     "output_type": "stream",
     "text": [
      "Epoch: 0\n",
      "Epoch 0 finished in 0:01:10.090170| Train Loss: 4989.90412103777 | Batch AVG(Validation) Loss: 2574.0352219849447 | Trailing Loss: 2574.0352219849447\n",
      "Epoch: 1\n",
      "Epoch 1 finished in 0:01:03.522494| Train Loss: 2541.2378107767377 | Batch AVG(Validation) Loss: 2458.460211158013 | Trailing Loss: 2516.247716571479\n",
      "Epoch: 2\n",
      "Epoch 2 finished in 0:01:04.196812| Train Loss: 2350.5842827227166 | Batch AVG(Validation) Loss: 2200.6050874388766 | Trailing Loss: 2411.0335068606114\n",
      "Epoch: 3\n",
      "Epoch 3 finished in 0:01:04.615816| Train Loss: 2274.8908121591116 | Batch AVG(Validation) Loss: 2177.5540928338587 | Trailing Loss: 2352.663653353923\n",
      "Epoch: 4\n",
      "Epoch 4 finished in 0:01:04.711683| Train Loss: 2256.243190530738 | Batch AVG(Validation) Loss: 2071.2832596789244 | Trailing Loss: 2296.3875746189233\n",
      "Epoch: 5\n",
      "Epoch 5 finished in 0:01:04.909020| Train Loss: 2247.64080094656 | Batch AVG(Validation) Loss: 2027.2956512062578 | Trailing Loss: 2251.5389207168123\n",
      "Epoch: 6\n",
      "Epoch 6 finished in 0:01:07.052876| Train Loss: 2233.948451592498 | Batch AVG(Validation) Loss: 1960.6385714146227 | Trailing Loss: 2209.9817279593567\n",
      "Epoch: 7\n",
      "Epoch 7 finished in 0:01:05.838852| Train Loss: 2186.7658756196383 | Batch AVG(Validation) Loss: 1923.4400483930563 | Trailing Loss: 2174.164018013569\n",
      "Epoch: 8\n",
      "Epoch 8 finished in 0:01:05.025840| Train Loss: 1988.683461590795 | Batch AVG(Validation) Loss: 1879.761124714782 | Trailing Loss: 2141.452585424815\n",
      "Epoch: 9\n",
      "Epoch 9 finished in 0:01:04.676310| Train Loss: 1757.5745191770623 | Batch AVG(Validation) Loss: 1800.9170706315585 | Trailing Loss: 2107.3990339454895\n",
      "Epoch: 10\n",
      "Epoch 10 finished in 0:01:05.228385| Train Loss: 1479.142377041537 | Batch AVG(Validation) Loss: 1502.938184280441 | Trailing Loss: 2000.2893301750391\n",
      "Epoch: 11\n",
      "Epoch 11 finished in 0:01:05.464729| Train Loss: 1248.6175648939948 | Batch AVG(Validation) Loss: 1257.4842193563245 | Trailing Loss: 1880.19173099487\n",
      "Epoch: 12\n",
      "Epoch 12 finished in 0:01:05.588980| Train Loss: 1096.0821958255483 | Batch AVG(Validation) Loss: 1137.4265854906962 | Trailing Loss: 1773.8738808000521\n",
      "Epoch: 13\n",
      "Epoch 13 finished in 0:01:06.505284| Train Loss: 887.1823918217068 | Batch AVG(Validation) Loss: 903.670673205897 | Trailing Loss: 1646.4855388372557\n",
      "Epoch: 14\n",
      "Epoch 14 finished in 0:01:06.313812| Train Loss: 785.443017194951 | Batch AVG(Validation) Loss: 865.0788182206952 | Trailing Loss: 1525.8650946914331\n",
      "Epoch: 15\n",
      "Epoch 15 finished in 0:01:06.420609| Train Loss: 748.6699355703117 | Batch AVG(Validation) Loss: 817.6835377211196 | Trailing Loss: 1404.9038833429195\n",
      "Epoch: 16\n",
      "Epoch 16 finished in 0:01:09.744285| Train Loss: 733.0137565628443 | Batch AVG(Validation) Loss: 805.7994514618864 | Trailing Loss: 1289.4199713476455\n",
      "Epoch: 17\n",
      "Epoch 17 finished in 0:01:04.645842| Train Loss: 717.6842840876116 | Batch AVG(Validation) Loss: 915.077686219751 | Trailing Loss: 1188.583735130315\n",
      "Epoch: 18\n",
      "Epoch 18 finished in 0:01:05.352785| Train Loss: 695.4942790194743 | Batch AVG(Validation) Loss: 882.0650778346883 | Trailing Loss: 1088.8141304423057\n",
      "Epoch: 19\n",
      "Epoch 19 finished in 0:01:04.226784| Train Loss: 677.4964615350646 | Batch AVG(Validation) Loss: 850.7978655515901 | Trailing Loss: 993.8022099343091\n",
      "Epoch: 20\n",
      "Epoch 20 finished in 0:01:04.466424| Train Loss: 665.4666768393153 | Batch AVG(Validation) Loss: 800.7276198656311 | Trailing Loss: 923.581153492828\n",
      "Epoch: 21\n",
      "Epoch 21 finished in 0:01:04.510659| Train Loss: 659.7001511895436 | Batch AVG(Validation) Loss: 789.255678878027 | Trailing Loss: 876.7582994449982\n",
      "Epoch: 22\n",
      "Epoch 22 finished in 0:01:04.683816| Train Loss: 651.2042676119273 | Batch AVG(Validation) Loss: 796.6821740850645 | Trailing Loss: 842.6838583044349\n",
      "Epoch: 23\n",
      "Epoch 23 finished in 0:01:07.341278| Train Loss: 650.9515955353035 | Batch AVG(Validation) Loss: 815.2452272625666 | Trailing Loss: 833.8413137101019\n",
      "Epoch: 24\n",
      "Epoch 24 finished in 0:01:05.114335| Train Loss: 644.0054394872733 | Batch AVG(Validation) Loss: 778.5541980667713 | Trailing Loss: 825.1888516947096\n",
      "Epoch: 25\n",
      "Epoch 25 finished in 0:01:03.712963| Train Loss: 638.3088999701681 | Batch AVG(Validation) Loss: 751.5787239230597 | Trailing Loss: 818.5783703149035\n",
      "Epoch: 26\n",
      "Epoch 26 finished in 0:01:04.460336| Train Loss: 630.5949187459479 | Batch AVG(Validation) Loss: 729.4821483009015 | Trailing Loss: 810.9466399988052\n",
      "Epoch: 27\n",
      "Epoch 27 finished in 0:01:03.544461| Train Loss: 631.3244366170012 | Batch AVG(Validation) Loss: 722.0441162426469 | Trailing Loss: 791.6432830010947\n",
      "Epoch: 28\n",
      "Epoch 28 finished in 0:01:04.558887| Train Loss: 632.6713517722475 | Batch AVG(Validation) Loss: 696.7997727932448 | Trailing Loss: 773.1167524969503\n",
      "Epoch: 29\n",
      "Epoch 29 finished in 0:01:03.893042| Train Loss: 631.6281199787778 | Batch AVG(Validation) Loss: 691.4692489993297 | Trailing Loss: 757.1838908417242\n",
      "Epoch: 30\n",
      "Epoch 30 finished in 0:01:03.781851| Train Loss: 627.9825621360418 | Batch AVG(Validation) Loss: 681.183407898157 | Trailing Loss: 745.2294696449769\n",
      "Epoch: 31\n",
      "Epoch 31 finished in 0:01:04.774399| Train Loss: 623.3909767886332 | Batch AVG(Validation) Loss: 675.4578863286016 | Trailing Loss: 733.8496903900343\n",
      "Epoch: 32\n",
      "Epoch 32 finished in 0:01:03.085307| Train Loss: 621.308051160805 | Batch AVG(Validation) Loss: 671.2421379739797 | Trailing Loss: 721.3056867789259\n",
      "Epoch: 33\n",
      "Epoch 33 finished in 0:01:03.437131| Train Loss: 616.8226078285757 | Batch AVG(Validation) Loss: 678.6709890641778 | Trailing Loss: 707.6482629590871\n",
      "Epoch: 34\n",
      "Epoch 34 finished in 0:01:04.989623| Train Loss: 619.7274934279526 | Batch AVG(Validation) Loss: 673.5053062482618 | Trailing Loss: 697.1433737772361\n",
      "Epoch: 35\n",
      "Epoch 35 finished in 0:01:04.663670| Train Loss: 617.2329596512534 | Batch AVG(Validation) Loss: 676.824516255668 | Trailing Loss: 689.6679530104968\n",
      "Epoch: 36\n",
      "Epoch 36 finished in 0:01:04.416698| Train Loss: 616.8797601189892 | Batch AVG(Validation) Loss: 689.1215598717046 | Trailing Loss: 685.6318941675771\n",
      "Epoch: 37\n"
     ]
    }
   ],
   "source": [
    "while True:\n",
    "    start = datetime.now()\n",
    "    print(f\"Epoch: {epoch}\")\n",
    "    epoch_loss = []\n",
    "    for i in range(0, len(train_X)-BATCH_SIZE, BATCH_SIZE):\n",
    "        X = train_X[i:i+BATCH_SIZE].to(device)\n",
    "        y = train_y[i:i+BATCH_SIZE].to(device)\n",
    "        net.zero_grad()\n",
    "\n",
    "        out_seq = net(X)\n",
    "        first_dim, second_dim, _ = out_seq.shape\n",
    "        pred = out_seq.view(first_dim, second_dim)[:, -1]\n",
    "        loss = F.mse_loss(pred, y)\n",
    "\n",
    "        loss.backward()\n",
    "        optimizer.step()\n",
    "\n",
    "        running_loss += loss.item() * BATCH_SIZE\n",
    "        epoch_steps += 1\n",
    "        \n",
    "    # Compute Epoch Training Loss\n",
    "    epoch_train_loss = running_loss / train_X.shape[0]\n",
    "    losses.append(epoch_train_loss)\n",
    "    \n",
    "    # Compute Validation Loss\n",
    "    val_loss = []\n",
    "    val_steps = 0\n",
    "    with torch.no_grad():\n",
    "        for i in range(0, len(val_X)-BATCH_SIZE, BATCH_SIZE):\n",
    "            X = val_X[i:i+BATCH_SIZE].to(device)\n",
    "            y = val_y[i:i+BATCH_SIZE].to(device)\n",
    "            out_seq = net(X)\n",
    "            first_dim, second_dim, _ = out_seq.shape\n",
    "            pred = out_seq.view(first_dim, second_dim)[:, -1]\n",
    "            loss = F.mse_loss(pred, y)\n",
    "            running_val_loss += loss.item() * BATCH_SIZE\n",
    "            val_steps += 1\n",
    "    \n",
    "    # Compute validation loss\n",
    "    epoch_val_loss = running_val_loss / val_X.shape[0]\n",
    "    val_losses.append(epoch_val_loss)\n",
    "        \n",
    "    mean_trailing_loss = np.mean(val_losses[-10:])\n",
    "    # Print Results \n",
    "    print(f\"Epoch {epoch} finished in {datetime.now()-start}| Train Loss: {epoch_train_loss} | Batch AVG(Validation) Loss: {epoch_val_loss} | Trailing Loss: {mean_trailing_loss}\")   \n",
    "    running_loss = 0 \n",
    "    running_val_loss = 0 \n",
    "    epoch_steps = 0 \n",
    "    epoch += 1\n",
    "        \n",
    "    # Break if we've not improved in 10 iterations or reach 200 epochs \n",
    "    if epoch_val_loss > (mean_trailing_loss + 0.1 * mean_trailing_loss) and epoch > 10:\n",
    "        print(\"Breaking with plateaued loss\")\n",
    "        break\n",
    "    if epoch >=200:\n",
    "        break\n",
    "        \n",
    "\n"
   ]
  },
  {
   "cell_type": "code",
   "execution_count": 43,
   "id": "83afccb8",
   "metadata": {},
   "outputs": [
    {
     "data": {
      "text/plain": [
       "[<matplotlib.lines.Line2D at 0x7f6294145a90>]"
      ]
     },
     "execution_count": 43,
     "metadata": {},
     "output_type": "execute_result"
    },
    {
     "data": {
      "image/png": "[encoded data removed]",
      "text/plain": [
       "<Figure size 432x288 with 1 Axes>"
      ]
     },
     "metadata": {
      "needs_background": "light"
     },
     "output_type": "display_data"
    }
   ],
   "source": [
    "plt.plot(losses)\n",
    "plt.plot(val_losses)"
   ]
  },
  {
   "cell_type": "code",
   "execution_count": 20,
   "id": "fc03ccd5-1f0b-4d6e-bb60-69e533daacbc",
   "metadata": {},
   "outputs": [],
   "source": [
    "with open(\"./test_X.pt\", 'rb') as f:\n",
    "    test_X = torch.load(f)\n",
    "with open(\"./test_y.pt\", 'rb') as f:\n",
    "    test_y = torch.load(f)"
   ]
  },
  {
   "cell_type": "code",
   "execution_count": 70,
   "id": "590fa4fc",
   "metadata": {},
   "outputs": [
    {
     "ename": "RuntimeError",
     "evalue": "module must have its parameters and buffers on device cuda:0 (device_ids[0]) but found one of them on device: cpu",
     "output_type": "error",
     "traceback": [
      "\u001b[0;31m---------------------------------------------------------------------------\u001b[0m",
      "\u001b[0;31mRuntimeError\u001b[0m                              Traceback (most recent call last)",
      "Input \u001b[0;32mIn [70]\u001b[0m, in \u001b[0;36m<cell line: 3>\u001b[0;34m()\u001b[0m\n\u001b[1;32m      2\u001b[0m net\u001b[38;5;241m.\u001b[39mcpu()\n\u001b[1;32m      3\u001b[0m \u001b[38;5;28;01mwith\u001b[39;00m torch\u001b[38;5;241m.\u001b[39mno_grad():\n\u001b[0;32m----> 4\u001b[0m     out_seq \u001b[38;5;241m=\u001b[39m \u001b[43mnet\u001b[49m\u001b[43m(\u001b[49m\u001b[43mtest_X\u001b[49m\u001b[43m)\u001b[49m\n\u001b[1;32m      5\u001b[0m     first_dim, second_dim, _ \u001b[38;5;241m=\u001b[39m out_seq\u001b[38;5;241m.\u001b[39mshape\n\u001b[1;32m      6\u001b[0m     pred \u001b[38;5;241m=\u001b[39m out_seq\u001b[38;5;241m.\u001b[39mview(first_dim, second_dim)[:, \u001b[38;5;241m-\u001b[39m\u001b[38;5;241m1\u001b[39m]\n",
      "File \u001b[0;32m/opt/conda/envs/pytorch/lib/python3.9/site-packages/torch/nn/modules/module.py:1130\u001b[0m, in \u001b[0;36mModule._call_impl\u001b[0;34m(self, *input, **kwargs)\u001b[0m\n\u001b[1;32m   1126\u001b[0m \u001b[38;5;66;03m# If we don't have any hooks, we want to skip the rest of the logic in\u001b[39;00m\n\u001b[1;32m   1127\u001b[0m \u001b[38;5;66;03m# this function, and just call forward.\u001b[39;00m\n\u001b[1;32m   1128\u001b[0m \u001b[38;5;28;01mif\u001b[39;00m \u001b[38;5;129;01mnot\u001b[39;00m (\u001b[38;5;28mself\u001b[39m\u001b[38;5;241m.\u001b[39m_backward_hooks \u001b[38;5;129;01mor\u001b[39;00m \u001b[38;5;28mself\u001b[39m\u001b[38;5;241m.\u001b[39m_forward_hooks \u001b[38;5;129;01mor\u001b[39;00m \u001b[38;5;28mself\u001b[39m\u001b[38;5;241m.\u001b[39m_forward_pre_hooks \u001b[38;5;129;01mor\u001b[39;00m _global_backward_hooks\n\u001b[1;32m   1129\u001b[0m         \u001b[38;5;129;01mor\u001b[39;00m _global_forward_hooks \u001b[38;5;129;01mor\u001b[39;00m _global_forward_pre_hooks):\n\u001b[0;32m-> 1130\u001b[0m     \u001b[38;5;28;01mreturn\u001b[39;00m \u001b[43mforward_call\u001b[49m\u001b[43m(\u001b[49m\u001b[38;5;241;43m*\u001b[39;49m\u001b[38;5;28;43minput\u001b[39;49m\u001b[43m,\u001b[49m\u001b[43m \u001b[49m\u001b[38;5;241;43m*\u001b[39;49m\u001b[38;5;241;43m*\u001b[39;49m\u001b[43mkwargs\u001b[49m\u001b[43m)\u001b[49m\n\u001b[1;32m   1131\u001b[0m \u001b[38;5;66;03m# Do not call functions when jit is used\u001b[39;00m\n\u001b[1;32m   1132\u001b[0m full_backward_hooks, non_full_backward_hooks \u001b[38;5;241m=\u001b[39m [], []\n",
      "File \u001b[0;32m/opt/conda/envs/pytorch/lib/python3.9/site-packages/torch/nn/parallel/data_parallel.py:154\u001b[0m, in \u001b[0;36mDataParallel.forward\u001b[0;34m(self, *inputs, **kwargs)\u001b[0m\n\u001b[1;32m    152\u001b[0m \u001b[38;5;28;01mfor\u001b[39;00m t \u001b[38;5;129;01min\u001b[39;00m chain(\u001b[38;5;28mself\u001b[39m\u001b[38;5;241m.\u001b[39mmodule\u001b[38;5;241m.\u001b[39mparameters(), \u001b[38;5;28mself\u001b[39m\u001b[38;5;241m.\u001b[39mmodule\u001b[38;5;241m.\u001b[39mbuffers()):\n\u001b[1;32m    153\u001b[0m     \u001b[38;5;28;01mif\u001b[39;00m t\u001b[38;5;241m.\u001b[39mdevice \u001b[38;5;241m!=\u001b[39m \u001b[38;5;28mself\u001b[39m\u001b[38;5;241m.\u001b[39msrc_device_obj:\n\u001b[0;32m--> 154\u001b[0m         \u001b[38;5;28;01mraise\u001b[39;00m \u001b[38;5;167;01mRuntimeError\u001b[39;00m(\u001b[38;5;124m\"\u001b[39m\u001b[38;5;124mmodule must have its parameters and buffers \u001b[39m\u001b[38;5;124m\"\u001b[39m\n\u001b[1;32m    155\u001b[0m                            \u001b[38;5;124m\"\u001b[39m\u001b[38;5;124mon device \u001b[39m\u001b[38;5;132;01m{}\u001b[39;00m\u001b[38;5;124m (device_ids[0]) but found one of \u001b[39m\u001b[38;5;124m\"\u001b[39m\n\u001b[1;32m    156\u001b[0m                            \u001b[38;5;124m\"\u001b[39m\u001b[38;5;124mthem on device: \u001b[39m\u001b[38;5;132;01m{}\u001b[39;00m\u001b[38;5;124m\"\u001b[39m\u001b[38;5;241m.\u001b[39mformat(\u001b[38;5;28mself\u001b[39m\u001b[38;5;241m.\u001b[39msrc_device_obj, t\u001b[38;5;241m.\u001b[39mdevice))\n\u001b[1;32m    158\u001b[0m inputs, kwargs \u001b[38;5;241m=\u001b[39m \u001b[38;5;28mself\u001b[39m\u001b[38;5;241m.\u001b[39mscatter(inputs, kwargs, \u001b[38;5;28mself\u001b[39m\u001b[38;5;241m.\u001b[39mdevice_ids)\n\u001b[1;32m    159\u001b[0m \u001b[38;5;66;03m# for forward function without any inputs, empty list and dict will be created\u001b[39;00m\n\u001b[1;32m    160\u001b[0m \u001b[38;5;66;03m# so the module can be executed on one device which is the first one in device_ids\u001b[39;00m\n",
      "\u001b[0;31mRuntimeError\u001b[0m: module must have its parameters and buffers on device cuda:0 (device_ids[0]) but found one of them on device: cpu"
     ]
    }
   ],
   "source": [
    "net.eval()\n",
    "with torch.no_grad():\n",
    "    out_seq = net(test_X)\n",
    "    first_dim, second_dim, _ = out_seq.shape\n",
    "    pred = out_seq.view(first_dim, second_dim)[:, -1]"
   ]
  },
  {
   "cell_type": "code",
   "execution_count": 72,
   "id": "ce10e978-b078-45b9-b2e7-5f050367999f",
   "metadata": {},
   "outputs": [],
   "source": [
    "torch.save(net.state_dict(), \"./big_model.pt\")"
   ]
  },
  {
   "cell_type": "code",
   "execution_count": 59,
   "id": "80e72e69",
   "metadata": {},
   "outputs": [
    {
     "data": {
      "text/plain": [
       "<matplotlib.collections.PathCollection at 0x7f632fb68ca0>"
      ]
     },
     "execution_count": 59,
     "metadata": {},
     "output_type": "execute_result"
    },
    {
     "data": {
      "image/png": "[encoded data removed]",
      "text/plain": [
       "<Figure size 432x288 with 1 Axes>"
      ]
     },
     "metadata": {
      "needs_background": "light"
     },
     "output_type": "display_data"
    }
   ],
   "source": [
    "pred_array = pred.cpu().detach().numpy()\n",
    "y = test_y.detach().numpy()\n",
    "plt.scatter(y, pred_array, alpha=0.5)"
   ]
  },
  {
   "cell_type": "code",
   "execution_count": null,
   "id": "8421c4fc-2c82-40f0-9761-28f3b556afea",
   "metadata": {},
   "outputs": [],
   "source": [
    "plt.hist(y, bins=100)"
   ]
  },
  {
   "cell_type": "code",
   "execution_count": 68,
   "id": "d8aae3b3-12c8-4bd1-9bc9-6dc414b4fc41",
   "metadata": {},
   "outputs": [
    {
     "data": {
      "text/plain": [
       "{'state': {},\n",
       " 'param_groups': [{'lr': 0.0001,\n",
       "   'betas': (0.9, 0.999),\n",
       "   'eps': 1e-08,\n",
       "   'weight_decay': 0,\n",
       "   'amsgrad': False,\n",
       "   'maximize': False,\n",
       "   'foreach': None,\n",
       "   'capturable': False,\n",
       "   'params': [0, 1, 2, 3, 4, 5, 6, 7, 8, 9]}]}"
      ]
     },
     "execution_count": 68,
     "metadata": {},
     "output_type": "execute_result"
    }
   ],
   "source": [
    "optimizer.state_dict()"
   ]
  },
  {
   "cell_type": "code",
   "execution_count": 46,
   "id": "5fa24186",
   "metadata": {},
   "outputs": [],
   "source": [
    "from sklearn.metrics import mean_squared_error, mean_absolute_error, mean_absolute_percentage_error, r2_score"
   ]
  },
  {
   "cell_type": "code",
   "execution_count": 47,
   "id": "10d3d60a",
   "metadata": {},
   "outputs": [
    {
     "name": "stdout",
     "output_type": "stream",
     "text": [
      "18.850718\n"
     ]
    }
   ],
   "source": [
    "mse = mean_squared_error(y, pred_array)\n",
    "print(np.sqrt(mse))"
   ]
  },
  {
   "cell_type": "code",
   "execution_count": 48,
   "id": "7f651e08",
   "metadata": {},
   "outputs": [
    {
     "data": {
      "text/plain": [
       "35034280000000.0"
      ]
     },
     "execution_count": 48,
     "metadata": {},
     "output_type": "execute_result"
    }
   ],
   "source": [
    "mean_absolute_percentage_error(y, pred_array)"
   ]
  },
  {
   "cell_type": "code",
   "execution_count": 49,
   "id": "65b86818",
   "metadata": {},
   "outputs": [
    {
     "data": {
      "text/plain": [
       "13.416581"
      ]
     },
     "execution_count": 49,
     "metadata": {},
     "output_type": "execute_result"
    }
   ],
   "source": [
    "mean_absolute_error(y,pred_array)"
   ]
  }
 ],
 "metadata": {
  "kernelspec": {
   "display_name": "Python 3 (ipykernel)",
   "language": "python",
   "name": "python3"
  },
  "language_info": {
   "codemirror_mode": {
    "name": "ipython",
    "version": 3
   },
   "file_extension": ".py",
   "mimetype": "text/x-python",
   "name": "python",
   "nbconvert_exporter": "python",
   "pygments_lexer": "ipython3",
   "version": "3.9.13"
  }
 },
 "nbformat": 4,
 "nbformat_minor": 5
}
