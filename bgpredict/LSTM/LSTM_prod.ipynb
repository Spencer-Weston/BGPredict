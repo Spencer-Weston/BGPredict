{
 "cells": [
  {
   "cell_type": "markdown",
   "id": "5a8cc12c-cc60-4437-b701-b084a2927efc",
   "metadata": {},
   "source": [
    "# LSTM Production\n",
    "Notebook to put LSTM into production on AWS"
   ]
  },
  {
   "cell_type": "code",
   "execution_count": 1,
   "id": "6c9c451c-7a81-4ec8-9ad2-13782a1acab6",
   "metadata": {},
   "outputs": [
    {
     "name": "stderr",
     "output_type": "stream",
     "text": [
      "/opt/conda/envs/pytorch/lib/python3.9/site-packages/tqdm/auto.py:22: TqdmWarning: IProgress not found. Please update jupyter and ipywidgets. See https://ipywidgets.readthedocs.io/en/stable/user_install.html\n",
      "  from .autonotebook import tqdm as notebook_tqdm\n"
     ]
    }
   ],
   "source": [
    "from datetime import datetime\n",
    "import matplotlib.pyplot as plt\n",
    "import numpy as np\n",
    "import os\n",
    "import pandas as pd\n",
    "from sklearn.preprocessing import MinMaxScaler\n",
    "import sqlalchemy\n",
    "from sqlalchemy import create_engine\n",
    "import s3fs\n",
    "\n",
    "from functools import partial\n",
    "import ray\n",
    "from ray import tune\n",
    "from ray.tune import JupyterNotebookReporter\n",
    "from ray.tune.schedulers import ASHAScheduler\n",
    "from ray.tune.suggest.hyperopt import HyperOptSearch\n",
    "from ray.tune.stopper import TrialPlateauStopper\n",
    "\n",
    "import torch\n",
    "import torch.optim as optim\n",
    "import torch.nn as nn\n",
    "import torch.nn.functional as F\n",
    "\n",
    "from dotenv import load_dotenv"
   ]
  },
  {
   "cell_type": "markdown",
   "id": "785f164e",
   "metadata": {},
   "source": [
    "### Model"
   ]
  },
  {
   "cell_type": "code",
   "execution_count": 23,
   "id": "a264cd4d-d0d0-49d0-9bc2-77953a8a2e65",
   "metadata": {},
   "outputs": [],
   "source": [
    "class Net(nn.Module):\n",
    "    \n",
    "    def __init__(self, input_size, hidden_size=8, num_lstm_layers=1, dropout=0):\n",
    "        super().__init__()\n",
    "        if num_lstm_layers == 1:\n",
    "            dropout = 0\n",
    "        self.lstm = nn.LSTM(input_size=input_size,\n",
    "                            hidden_size=hidden_size,\n",
    "                            num_layers=num_lstm_layers,\n",
    "                            dropout=dropout)\n",
    "        self.fc1 = nn.Linear(hidden_size, 1)\n",
    "        \n",
    "    def forward(self, x):\n",
    "        lstm_out, _ = self.lstm(x)\n",
    "        x = self.fc1(lstm_out)\n",
    "        return x"
   ]
  },
  {
   "cell_type": "markdown",
   "id": "59832b8d",
   "metadata": {},
   "source": [
    "### Train Function"
   ]
  },
  {
   "cell_type": "code",
   "execution_count": 6,
   "id": "379cbee4-b334-4166-957b-94a0f545a122",
   "metadata": {},
   "outputs": [],
   "source": [
    "def train_lstm(config, train_X, train_y, val_X, val_y, checkpoint_dir=None,):\n",
    "\n",
    "    device = \"cpu\"\n",
    "    if torch.cuda.is_available():\n",
    "        device = \"cuda:0\"\n",
    "    \n",
    "    print(f\"DEVICE: {device}\")\n",
    "    train_X = train_X.to(device)\n",
    "    train_y = train_y.to(device)\n",
    "    val_X = val_X.to(device)\n",
    "    val_y = val_y.to(device)\n",
    "    \n",
    "    # Configure the network and send it to the device\n",
    "    # Width of the dataframe - 1 (y variable) is feature set size \n",
    "    input_size = train_X.shape[2]\n",
    "    net = Net(input_size=input_size,\n",
    "              hidden_size=config['hidden_size'],\n",
    "              num_lstm_layers=config['num_lstm_layers'],\n",
    "              dropout=config['dropout'])\n",
    "    \n",
    "    if torch.cuda.device_count() > 1:\n",
    "        net = nn.DataParallel(net)     \n",
    "    net.to(device)\n",
    "    \n",
    "    optimizer = optim.Adam(net.parameters(), lr=config['learning_rate'])\n",
    "    optimizer\n",
    "    \n",
    "    # Checkpoint Dir Stuff -- handled by Tune \n",
    "    if checkpoint_dir:\n",
    "        checkpoint = os.path.join(checkpoint_dir, \"checkpoint\")\n",
    "        model_state, optimizer_state = torch.load(checkpoint)\n",
    "        net.load_state_dict(model_state)\n",
    "        optimizer.load_state_dict(optimizer_state)    \n",
    "    \n",
    "    # train\n",
    "    BATCH_SIZE = config['batch_size']\n",
    "    for epoch in range(1000):\n",
    "        epoch_start = datetime.now()\n",
    "        print(f\"Epoch: {epoch}\")\n",
    "        running_loss = 0\n",
    "        epoch_steps = 0\n",
    "        for i in range(0, len(train_X)-BATCH_SIZE, BATCH_SIZE):\n",
    "            X = train_X[i:i+BATCH_SIZE]\n",
    "            y = train_y[i:i+BATCH_SIZE]\n",
    "            net.zero_grad()\n",
    "            \n",
    "            out_seq = net(X)\n",
    "            first_dim, second_dim, _ = out_seq.shape\n",
    "            pred = out_seq.view(first_dim, second_dim)[:, -1]\n",
    "            loss = F.mse_loss(pred, y)\n",
    "            loss.backward()\n",
    "            optimizer.step()\n",
    "            running_loss += loss.item()\n",
    "            epoch_steps += 1\n",
    "            \n",
    "            # Print loss every 1000 batches\n",
    "            if i % 100 == 99:\n",
    "                avg_loss = running_loss / epoch_steps\n",
    "                print(f\"Epoch {epoch}, steps {epoch_steps-1000}:{epoch_steps} avg loss: {avg_loss}\")\n",
    "                running_loss = 0 \n",
    "                \n",
    "        # Validate each epoch\n",
    "        val_loss = 0\n",
    "        val_steps = 0\n",
    "        with torch.no_grad():\n",
    "            for i in range(0, len(val_X)-BATCH_SIZE, BATCH_SIZE):\n",
    "                X = val_X[i:i+BATCH_SIZE]\n",
    "                y = val_y[i:i+BATCH_SIZE]\n",
    "                out_seq = net(X)\n",
    "                first_dim, second_dim, _ = out_seq.shape\n",
    "                pred = out_seq.view(first_dim, second_dim)[:, -1]\n",
    "                loss = F.mse_loss(pred, y)\n",
    "                val_loss += loss.item()\n",
    "                val_steps += 1\n",
    "        \n",
    "        with tune.checkpoint_dir(step=epoch) as checkpoint_dir:\n",
    "            path = os.path.join(checkpoint_dir, \"checkpoint\")\n",
    "            torch.save((net.state_dict(), optimizer.state_dict()), path)\n",
    "            \n",
    "        tune.report(val_loss=(val_loss/val_steps), train_loss=(running_loss/epoch_steps), training_iteration=epoch)\n",
    "        print(f\"Finished epoch {epoch} in {datetime.now()-epoch_start}\")\n",
    "    print(\"finished!\")"
   ]
  },
  {
   "cell_type": "markdown",
   "id": "198b643d",
   "metadata": {},
   "source": [
    "### Load and Process data"
   ]
  },
  {
   "cell_type": "code",
   "execution_count": 4,
   "id": "01188558-2688-4048-b1aa-c531ecec12c1",
   "metadata": {},
   "outputs": [
    {
     "data": {
      "text/plain": [
       "torch.Size([572731, 12, 171])"
      ]
     },
     "execution_count": 4,
     "metadata": {},
     "output_type": "execute_result"
    }
   ],
   "source": [
    "s3 = s3fs.S3FileSystem()\n",
    "print(\"Loading train X\")\n",
    "with s3.open(\"s3://bgpredict/models/lstm/tensors/train_X\", 'rb') as f:\n",
    "    train_X=torch.load(f)\n",
    "print(\"Loading train y\")\n",
    "with s3.open(\"s3://bgpredict/models/lstm/tensors/train_y\", 'rb') as f:\n",
    "    train_y=torch.load(f)\n",
    "print(\"Loading Val X\")\n",
    "with s3.open(\"s3://bgpredict/models/lstm/tensors/val_X\", 'rb') as f:\n",
    "    val_X=torch.load(f)    \n",
    "print(\"Loading Val y\")\n",
    "with s3.open(\"s3://bgpredict/models/lstm/tensors/val_y\", 'rb') as f:\n",
    "    val_y=torch.load(f)    "
   ]
  },
  {
   "cell_type": "code",
   "execution_count": 3,
   "id": "2be0ea41-d009-4cbd-a3a9-d0260933487c",
   "metadata": {},
   "outputs": [
    {
     "data": {
      "text/plain": [
       "True"
      ]
     },
     "execution_count": 3,
     "metadata": {},
     "output_type": "execute_result"
    }
   ],
   "source": [
    "torch.cuda.is_available()"
   ]
  },
  {
   "cell_type": "code",
   "execution_count": 72,
   "id": "7c25364f-68c6-4cca-a250-91683896c4e1",
   "metadata": {},
   "outputs": [
    {
     "data": {
      "text/plain": [
       "RayContext(dashboard_url='', python_version='3.9.13', ray_version='1.13.0', ray_commit='e4ce38d001dbbe09cd21c497fedd03d692b2be3e', address_info={'node_ip_address': '172.31.34.141', 'raylet_ip_address': '172.31.34.141', 'redis_address': None, 'object_store_address': '/tmp/ray/session_2022-07-28_17-51-40_585463_6931/sockets/plasma_store', 'raylet_socket_name': '/tmp/ray/session_2022-07-28_17-51-40_585463_6931/sockets/raylet', 'webui_url': '', 'session_dir': '/tmp/ray/session_2022-07-28_17-51-40_585463_6931', 'metrics_export_port': 64489, 'gcs_address': '172.31.34.141:54483', 'address': '172.31.34.141:54483', 'node_id': 'c95972cabea5ccba77e8e12cf131be8d8bbf17b56b959bfde848c127'})"
      ]
     },
     "execution_count": 72,
     "metadata": {},
     "output_type": "execute_result"
    }
   ],
   "source": [
    "ray.shutdown()\n",
    "ray.init()"
   ]
  },
  {
   "cell_type": "code",
   "execution_count": 7,
   "id": "3808f64a-6856-4574-847f-5b8a686d147c",
   "metadata": {},
   "outputs": [
    {
     "ename": "NameError",
     "evalue": "name 'train_X' is not defined",
     "output_type": "error",
     "traceback": [
      "\u001b[0;31m---------------------------------------------------------------------------\u001b[0m",
      "\u001b[0;31mNameError\u001b[0m                                 Traceback (most recent call last)",
      "Input \u001b[0;32mIn [7]\u001b[0m, in \u001b[0;36m<cell line: 38>\u001b[0;34m()\u001b[0m\n\u001b[1;32m     26\u001b[0m scheduler \u001b[38;5;241m=\u001b[39m ASHAScheduler(\n\u001b[1;32m     27\u001b[0m     time_attr\u001b[38;5;241m=\u001b[39m\u001b[38;5;124m\"\u001b[39m\u001b[38;5;124mtraining_iteration\u001b[39m\u001b[38;5;124m\"\u001b[39m,\n\u001b[1;32m     28\u001b[0m     metric\u001b[38;5;241m=\u001b[39m\u001b[38;5;124m\"\u001b[39m\u001b[38;5;124mval_loss\u001b[39m\u001b[38;5;124m\"\u001b[39m,\n\u001b[1;32m     29\u001b[0m     mode\u001b[38;5;241m=\u001b[39m\u001b[38;5;124m\"\u001b[39m\u001b[38;5;124mmin\u001b[39m\u001b[38;5;124m\"\u001b[39m)\n\u001b[1;32m     31\u001b[0m reporter \u001b[38;5;241m=\u001b[39m JupyterNotebookReporter(\n\u001b[1;32m     32\u001b[0m     metric_columns \u001b[38;5;241m=\u001b[39m [\u001b[38;5;124m\"\u001b[39m\u001b[38;5;124mval_loss\u001b[39m\u001b[38;5;124m\"\u001b[39m, \u001b[38;5;124m\"\u001b[39m\u001b[38;5;124mloss\u001b[39m\u001b[38;5;124m\"\u001b[39m, \u001b[38;5;124m\"\u001b[39m\u001b[38;5;124mtraining_iteration\u001b[39m\u001b[38;5;124m\"\u001b[39m],\n\u001b[1;32m     33\u001b[0m     overwrite\u001b[38;5;241m=\u001b[39m\u001b[38;5;28;01mFalse\u001b[39;00m,\n\u001b[1;32m     34\u001b[0m     max_report_frequency\u001b[38;5;241m=\u001b[39m\u001b[38;5;241m60\u001b[39m\n\u001b[1;32m     35\u001b[0m )\n\u001b[1;32m     38\u001b[0m result \u001b[38;5;241m=\u001b[39m tune\u001b[38;5;241m.\u001b[39mrun(\n\u001b[1;32m     39\u001b[0m     tune\u001b[38;5;241m.\u001b[39mwith_parameters(\n\u001b[1;32m     40\u001b[0m         train_lstm,\n\u001b[0;32m---> 41\u001b[0m         train_X \u001b[38;5;241m=\u001b[39m \u001b[43mtrain_X\u001b[49m,\n\u001b[1;32m     42\u001b[0m         train_y \u001b[38;5;241m=\u001b[39m train_y,\n\u001b[1;32m     43\u001b[0m         val_X \u001b[38;5;241m=\u001b[39m val_X,\n\u001b[1;32m     44\u001b[0m         val_y \u001b[38;5;241m=\u001b[39m val_y\n\u001b[1;32m     45\u001b[0m     ),\n\u001b[1;32m     46\u001b[0m     resources_per_trial\u001b[38;5;241m=\u001b[39m{\u001b[38;5;124m\"\u001b[39m\u001b[38;5;124mcpu\u001b[39m\u001b[38;5;124m\"\u001b[39m:\u001b[38;5;241m1\u001b[39m, \u001b[38;5;124m\"\u001b[39m\u001b[38;5;124mgpu\u001b[39m\u001b[38;5;124m\"\u001b[39m:\u001b[38;5;241m1\u001b[39m},\n\u001b[1;32m     47\u001b[0m     config\u001b[38;5;241m=\u001b[39mconfig,\n\u001b[1;32m     48\u001b[0m     num_samples\u001b[38;5;241m=\u001b[39m\u001b[38;5;241m16\u001b[39m,\n\u001b[1;32m     49\u001b[0m     \u001b[38;5;66;03m# progress_reporter=reporter,\u001b[39;00m\n\u001b[1;32m     50\u001b[0m     search_alg\u001b[38;5;241m=\u001b[39mhyperopt_search,\n\u001b[1;32m     51\u001b[0m     name\u001b[38;5;241m=\u001b[39m\u001b[38;5;124m'\u001b[39m\u001b[38;5;124mGPU\u001b[39m\u001b[38;5;124m'\u001b[39m,\n\u001b[1;32m     52\u001b[0m     stop \u001b[38;5;241m=\u001b[39m stopper\n\u001b[1;32m     53\u001b[0m )\n",
      "\u001b[0;31mNameError\u001b[0m: name 'train_X' is not defined"
     ]
    }
   ],
   "source": [
    "config= {\n",
    "    'hidden_size': tune.choice([2**x for x in range(3, 9)]), # 2^3 to 2^8, 8 to 256\n",
    "    'num_lstm_layers':tune.choice([1,2,3,4,5]),\n",
    "    'dropout': tune.choice([0, 0.1, 0.2, 0.3, 0.4, 0.5]), # [0,0.5]\n",
    "    'learning_rate': tune.choice([0.00001, 0.0001, 0.001, 0.01, 0.1]),\n",
    "    'batch_size': tune.choice([2**x for x in range(3, 9)]), # 2^3 to 2^8, 8 to 256\n",
    "}\n",
    "\n",
    "initial_params = [{\"hidden_size\": 128,\n",
    "                  \"num_lstm_layers\": 1,\n",
    "                  \"dropout\": 0,\n",
    "                  \"batch_size\": 128,\n",
    "                  'learning_rate': 0.1}]\n",
    "\n",
    "def stopper(trial_id, result):\n",
    "    if result['training_iteration'] > 100:\n",
    "        return True\n",
    "    elif result['val_loss'] < 5:\n",
    "        return True\n",
    "    else:\n",
    "        return False\n",
    "\n",
    "\n",
    "hyperopt_search = HyperOptSearch(metric='val_loss', mode='min', points_to_evaluate=initial_params)\n",
    "\n",
    "scheduler = ASHAScheduler(\n",
    "    time_attr=\"training_iteration\",\n",
    "    metric=\"val_loss\",\n",
    "    mode=\"min\")\n",
    "\n",
    "reporter = JupyterNotebookReporter(\n",
    "    metric_columns = [\"val_loss\", \"loss\", \"training_iteration\"],\n",
    "    overwrite=False,\n",
    "    max_report_frequency=60\n",
    ")\n",
    "\n",
    "\n",
    "result = tune.run(\n",
    "    tune.with_parameters(\n",
    "        train_lstm,\n",
    "        train_X = train_X,\n",
    "        train_y = train_y,\n",
    "        val_X = val_X,\n",
    "        val_y = val_y\n",
    "    ),\n",
    "    resources_per_trial={\"cpu\":1, \"gpu\":1},\n",
    "    config=config,\n",
    "    num_samples=16,\n",
    "    # progress_reporter=reporter,\n",
    "    search_alg=hyperopt_search,\n",
    "    name='GPU',\n",
    "    stop = stopper\n",
    ")"
   ]
  },
  {
   "cell_type": "code",
   "execution_count": 80,
   "id": "2321b45a-da30-4965-bd42-82ca1dbe04b1",
   "metadata": {},
   "outputs": [],
   "source": [
    "best_trial = result.get_best_trial('val_loss', 'min', 'last')"
   ]
  },
  {
   "cell_type": "code",
   "execution_count": 81,
   "id": "34307f35-51a7-4609-b932-35bcd706102d",
   "metadata": {},
   "outputs": [
    {
     "name": "stdout",
     "output_type": "stream",
     "text": [
      "Best trial config: {'hidden_size': 128, 'num_lstm_layers': 2, 'dropout': 0.4, 'learning_rate': 0.01, 'batch_size': 16, 'epoch': 500}\n",
      "Best trial final validation loss: 153.73668900851547\n"
     ]
    }
   ],
   "source": [
    "print(\"Best trial config: {}\".format(best_trial.config))\n",
    "print(\"Best trial final validation loss: {}\".format(\n",
    "    best_trial.last_result[\"val_loss\"]))"
   ]
  },
  {
   "cell_type": "code",
   "execution_count": 8,
   "id": "0c8d4c16",
   "metadata": {},
   "outputs": [
    {
     "ename": "NameError",
     "evalue": "name 'result' is not defined",
     "output_type": "error",
     "traceback": [
      "\u001b[0;31m---------------------------------------------------------------------------\u001b[0m",
      "\u001b[0;31mNameError\u001b[0m                                 Traceback (most recent call last)",
      "Input \u001b[0;32mIn [8]\u001b[0m, in \u001b[0;36m<cell line: 2>\u001b[0;34m()\u001b[0m\n\u001b[1;32m      1\u001b[0m \u001b[38;5;66;03m# Save directory\u001b[39;00m\n\u001b[0;32m----> 2\u001b[0m best_dir \u001b[38;5;241m=\u001b[39m \u001b[43mresult\u001b[49m\u001b[38;5;241m.\u001b[39mget_best_logdir(metric\u001b[38;5;241m=\u001b[39m\u001b[38;5;124m'\u001b[39m\u001b[38;5;124mval_loss\u001b[39m\u001b[38;5;124m'\u001b[39m, mode\u001b[38;5;241m=\u001b[39m\u001b[38;5;124m'\u001b[39m\u001b[38;5;124mmin\u001b[39m\u001b[38;5;124m'\u001b[39m)\n\u001b[1;32m      3\u001b[0m splits \u001b[38;5;241m=\u001b[39m best_dir\u001b[38;5;241m.\u001b[39msplit(\u001b[38;5;124m\"\u001b[39m\u001b[38;5;124m/\u001b[39m\u001b[38;5;124m\"\u001b[39m)\n\u001b[1;32m      4\u001b[0m folder \u001b[38;5;241m=\u001b[39m best_dir\u001b[38;5;241m.\u001b[39msplit(splits[\u001b[38;5;241m-\u001b[39m\u001b[38;5;241m1\u001b[39m])[\u001b[38;5;241m0\u001b[39m]\n",
      "\u001b[0;31mNameError\u001b[0m: name 'result' is not defined"
     ]
    }
   ],
   "source": [
    "# Save directory\n",
    "best_dir = result.get_best_logdir(metric='val_loss', mode='min')\n",
    "splits = best_dir.split(\"/\")\n",
    "folder = best_dir.split(splits[-1])[0]\n",
    "s3 = s3fs.S3FileSystem()\n",
    "s3.put(folder, \"bgpredict/models/lstm/cpu\", recursive=True)"
   ]
  },
  {
   "cell_type": "code",
   "execution_count": 82,
   "id": "a96a5666",
   "metadata": {},
   "outputs": [],
   "source": [
    "dfs = result.trial_dataframes"
   ]
  },
  {
   "cell_type": "code",
   "execution_count": 83,
   "id": "4e772ca4",
   "metadata": {},
   "outputs": [
    {
     "data": {
      "image/png": "[encoded data removed]",
      "text/plain": [
       "<Figure size 432x288 with 1 Axes>"
      ]
     },
     "metadata": {
      "needs_background": "light"
     },
     "output_type": "display_data"
    }
   ],
   "source": [
    "ax = None  # This plots everything on the same plot\n",
    "for d in dfs.values():\n",
    "    ax = d.val_loss.plot(ax=ax, legend=False)"
   ]
  },
  {
   "cell_type": "code",
   "execution_count": 31,
   "id": "0258d1df",
   "metadata": {},
   "outputs": [],
   "source": [
    "net = Net(input_size=train_X.shape[2], \n",
    "          hidden_size = best_trial.config['hidden_size'],\n",
    "          num_lstm_layers=best_trial.config['num_lstm_layers'],\n",
    "          dropout= best_trial.config['dropout']\n",
    ")"
   ]
  },
  {
   "cell_type": "code",
   "execution_count": 32,
   "id": "233720a6",
   "metadata": {},
   "outputs": [
    {
     "name": "stdout",
     "output_type": "stream",
     "text": [
      "Epoch: 0\n"
     ]
    },
    {
     "ename": "KeyboardInterrupt",
     "evalue": "",
     "output_type": "error",
     "traceback": [
      "\u001b[0;31m---------------------------------------------------------------------------\u001b[0m",
      "\u001b[0;31mKeyboardInterrupt\u001b[0m                         Traceback (most recent call last)",
      "Input \u001b[0;32mIn [32]\u001b[0m, in \u001b[0;36m<cell line: 11>\u001b[0;34m()\u001b[0m\n\u001b[1;32m     20\u001b[0m pred \u001b[38;5;241m=\u001b[39m out_seq\u001b[38;5;241m.\u001b[39mview(first_dim, second_dim)[:, \u001b[38;5;241m-\u001b[39m\u001b[38;5;241m1\u001b[39m]\n\u001b[1;32m     21\u001b[0m loss \u001b[38;5;241m=\u001b[39m F\u001b[38;5;241m.\u001b[39mmse_loss(pred, y)\n\u001b[0;32m---> 23\u001b[0m \u001b[43mloss\u001b[49m\u001b[38;5;241;43m.\u001b[39;49m\u001b[43mbackward\u001b[49m\u001b[43m(\u001b[49m\u001b[43m)\u001b[49m\n\u001b[1;32m     24\u001b[0m optimizer\u001b[38;5;241m.\u001b[39mstep()\n\u001b[1;32m     26\u001b[0m running_loss \u001b[38;5;241m+\u001b[39m\u001b[38;5;241m=\u001b[39m loss\u001b[38;5;241m.\u001b[39mitem()\n",
      "File \u001b[0;32m~/.cache/pypoetry/virtualenvs/bgpredict-iduEK74V-py3.10/lib/python3.10/site-packages/torch/_tensor.py:396\u001b[0m, in \u001b[0;36mTensor.backward\u001b[0;34m(self, gradient, retain_graph, create_graph, inputs)\u001b[0m\n\u001b[1;32m    387\u001b[0m \u001b[38;5;28;01mif\u001b[39;00m has_torch_function_unary(\u001b[38;5;28mself\u001b[39m):\n\u001b[1;32m    388\u001b[0m     \u001b[38;5;28;01mreturn\u001b[39;00m handle_torch_function(\n\u001b[1;32m    389\u001b[0m         Tensor\u001b[38;5;241m.\u001b[39mbackward,\n\u001b[1;32m    390\u001b[0m         (\u001b[38;5;28mself\u001b[39m,),\n\u001b[0;32m   (...)\u001b[0m\n\u001b[1;32m    394\u001b[0m         create_graph\u001b[38;5;241m=\u001b[39mcreate_graph,\n\u001b[1;32m    395\u001b[0m         inputs\u001b[38;5;241m=\u001b[39minputs)\n\u001b[0;32m--> 396\u001b[0m \u001b[43mtorch\u001b[49m\u001b[38;5;241;43m.\u001b[39;49m\u001b[43mautograd\u001b[49m\u001b[38;5;241;43m.\u001b[39;49m\u001b[43mbackward\u001b[49m\u001b[43m(\u001b[49m\u001b[38;5;28;43mself\u001b[39;49m\u001b[43m,\u001b[49m\u001b[43m \u001b[49m\u001b[43mgradient\u001b[49m\u001b[43m,\u001b[49m\u001b[43m \u001b[49m\u001b[43mretain_graph\u001b[49m\u001b[43m,\u001b[49m\u001b[43m \u001b[49m\u001b[43mcreate_graph\u001b[49m\u001b[43m,\u001b[49m\u001b[43m \u001b[49m\u001b[43minputs\u001b[49m\u001b[38;5;241;43m=\u001b[39;49m\u001b[43minputs\u001b[49m\u001b[43m)\u001b[49m\n",
      "File \u001b[0;32m~/.cache/pypoetry/virtualenvs/bgpredict-iduEK74V-py3.10/lib/python3.10/site-packages/torch/autograd/__init__.py:173\u001b[0m, in \u001b[0;36mbackward\u001b[0;34m(tensors, grad_tensors, retain_graph, create_graph, grad_variables, inputs)\u001b[0m\n\u001b[1;32m    168\u001b[0m     retain_graph \u001b[38;5;241m=\u001b[39m create_graph\n\u001b[1;32m    170\u001b[0m \u001b[38;5;66;03m# The reason we repeat same the comment below is that\u001b[39;00m\n\u001b[1;32m    171\u001b[0m \u001b[38;5;66;03m# some Python versions print out the first line of a multi-line function\u001b[39;00m\n\u001b[1;32m    172\u001b[0m \u001b[38;5;66;03m# calls in the traceback and some print out the last line\u001b[39;00m\n\u001b[0;32m--> 173\u001b[0m \u001b[43mVariable\u001b[49m\u001b[38;5;241;43m.\u001b[39;49m\u001b[43m_execution_engine\u001b[49m\u001b[38;5;241;43m.\u001b[39;49m\u001b[43mrun_backward\u001b[49m\u001b[43m(\u001b[49m\u001b[43m  \u001b[49m\u001b[38;5;66;43;03m# Calls into the C++ engine to run the backward pass\u001b[39;49;00m\n\u001b[1;32m    174\u001b[0m \u001b[43m    \u001b[49m\u001b[43mtensors\u001b[49m\u001b[43m,\u001b[49m\u001b[43m \u001b[49m\u001b[43mgrad_tensors_\u001b[49m\u001b[43m,\u001b[49m\u001b[43m \u001b[49m\u001b[43mretain_graph\u001b[49m\u001b[43m,\u001b[49m\u001b[43m \u001b[49m\u001b[43mcreate_graph\u001b[49m\u001b[43m,\u001b[49m\u001b[43m \u001b[49m\u001b[43minputs\u001b[49m\u001b[43m,\u001b[49m\n\u001b[1;32m    175\u001b[0m \u001b[43m    \u001b[49m\u001b[43mallow_unreachable\u001b[49m\u001b[38;5;241;43m=\u001b[39;49m\u001b[38;5;28;43;01mTrue\u001b[39;49;00m\u001b[43m,\u001b[49m\u001b[43m \u001b[49m\u001b[43maccumulate_grad\u001b[49m\u001b[38;5;241;43m=\u001b[39;49m\u001b[38;5;28;43;01mTrue\u001b[39;49;00m\u001b[43m)\u001b[49m\n",
      "\u001b[0;31mKeyboardInterrupt\u001b[0m: "
     ]
    }
   ],
   "source": [
    "losses = []\n",
    "val_losses = []\n",
    "BATCH_SIZE = 8\n",
    "learning_rate = best_trial.config['learning_rate']\n",
    "optimizer = optim.Adam(net.parameters(), lr=learning_rate)\n",
    "iter_idx = 0 \n",
    "running_loss = 0\n",
    "epoch_steps = 0\n",
    "# train_y = tensorset.train_y\n",
    "# for epoch in range(best_trial.config['epoch']):\n",
    "for epoch in range(5):\n",
    "    print(f\"Epoch: {epoch}\")\n",
    "    for i in range(0, len(train_X)-BATCH_SIZE, BATCH_SIZE):\n",
    "        X = train_X[i:i+BATCH_SIZE]\n",
    "        y = train_y[i:i+BATCH_SIZE]\n",
    "        net.zero_grad()\n",
    "\n",
    "        out_seq = net(X)\n",
    "        first_dim, second_dim, _ = out_seq.shape\n",
    "        pred = out_seq.view(first_dim, second_dim)[:, -1]\n",
    "        loss = F.mse_loss(pred, y)\n",
    "\n",
    "        loss.backward()\n",
    "        optimizer.step()\n",
    "\n",
    "        running_loss += loss.item()\n",
    "        epoch_steps += 1\n",
    "\n",
    "        # Print loss every 1000 batches\n",
    "        if i % 100 == 99:\n",
    "            avg_loss = running_loss / epoch_steps\n",
    "            print(f\"Epoch {epoch}, steps {epoch_steps-1000}:{epoch_steps} avg loss: {avg_loss}\")\n",
    "            running_loss = 0 \n",
    "        \n",
    "        \n",
    "    # Validate each epoch\n",
    "    val_loss = 0\n",
    "    val_steps = 0\n",
    "    with torch.no_grad():\n",
    "        for i in range(0, len(val_X)-BATCH_SIZE, BATCH_SIZE):\n",
    "            X = val_X[i:i+BATCH_SIZE]\n",
    "            y = val_y[i:i+BATCH_SIZE]\n",
    "            out_seq = net(X)\n",
    "            first_dim, second_dim, _ = out_seq.shape\n",
    "            pred = out_seq.view(first_dim, second_dim)[:, -1]\n",
    "            loss = F.mse_loss(pred, y)\n",
    "            val_loss += loss.item()\n",
    "            val_steps += 1\n",
    "        \n",
    "    print(\"Loss:\", loss)    \n",
    "    print(\"val_loss:\", val_loss)"
   ]
  },
  {
   "cell_type": "code",
   "execution_count": 203,
   "id": "83afccb8",
   "metadata": {},
   "outputs": [],
   "source": [
    "losses_plt = [i.item() for i in losses]\n",
    "val_losses_vals = [i[0].item() for i in val_losses]\n",
    "val_losses_idx = [i[1] for i in val_losses]"
   ]
  },
  {
   "cell_type": "code",
   "execution_count": 248,
   "id": "590fa4fc",
   "metadata": {},
   "outputs": [],
   "source": [
    "out_seq = net(test_X)\n",
    "first_dim, second_dim, _ = out_seq.shape\n",
    "pred = out_seq.view(first_dim, second_dim)[:, -1]"
   ]
  },
  {
   "cell_type": "code",
   "execution_count": 249,
   "id": "80e72e69",
   "metadata": {},
   "outputs": [
    {
     "data": {
      "text/plain": [
       "<matplotlib.collections.PathCollection at 0x7f4af4d815a0>"
      ]
     },
     "execution_count": 249,
     "metadata": {},
     "output_type": "execute_result"
    },
    {
     "data": {
      "image/png": "[encoded data removed]",
      "text/plain": [
       "<Figure size 432x288 with 1 Axes>"
      ]
     },
     "metadata": {
      "needs_background": "light"
     },
     "output_type": "display_data"
    }
   ],
   "source": [
    "pred_array = pred.detach().numpy()\n",
    "y = test_y.detach().numpy()\n",
    "plt.scatter(pred_array, y)"
   ]
  },
  {
   "cell_type": "code",
   "execution_count": 214,
   "id": "5fa24186",
   "metadata": {},
   "outputs": [],
   "source": [
    "from sklearn.metrics import mean_squared_error, mean_absolute_error, mean_absolute_percentage_error, r2_score"
   ]
  },
  {
   "cell_type": "code",
   "execution_count": 250,
   "id": "10d3d60a",
   "metadata": {},
   "outputs": [
    {
     "name": "stdout",
     "output_type": "stream",
     "text": [
      "6.5817876\n"
     ]
    }
   ],
   "source": [
    "mse = mean_squared_error(y, pred_array)\n",
    "print(np.sqrt(mse))"
   ]
  },
  {
   "cell_type": "code",
   "execution_count": 251,
   "id": "7f651e08",
   "metadata": {},
   "outputs": [
    {
     "data": {
      "text/plain": [
       "0.041773885"
      ]
     },
     "execution_count": 251,
     "metadata": {},
     "output_type": "execute_result"
    }
   ],
   "source": [
    "mean_absolute_percentage_error(y, pred_array)"
   ]
  },
  {
   "cell_type": "code",
   "execution_count": 252,
   "id": "65b86818",
   "metadata": {},
   "outputs": [
    {
     "data": {
      "text/plain": [
       "4.830085"
      ]
     },
     "execution_count": 252,
     "metadata": {},
     "output_type": "execute_result"
    }
   ],
   "source": [
    "mean_absolute_error(y,pred_array)"
   ]
  }
 ],
 "metadata": {
  "kernelspec": {
   "display_name": "Python 3 (ipykernel)",
   "language": "python",
   "name": "python3"
  },
  "language_info": {
   "codemirror_mode": {
    "name": "ipython",
    "version": 3
   },
   "file_extension": ".py",
   "mimetype": "text/x-python",
   "name": "python",
   "nbconvert_exporter": "python",
   "pygments_lexer": "ipython3",
   "version": "3.9.13"
  }
 },
 "nbformat": 4,
 "nbformat_minor": 5
}
