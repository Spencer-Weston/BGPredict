{
 "cells": [
  {
   "cell_type": "markdown",
   "id": "2e075070-2a02-4214-a5bd-ef7542ec9c25",
   "metadata": {},
   "source": [
    "# LSTM Tutorial\n",
    "Implementing LSTM based on a tutorial."
   ]
  },
  {
   "cell_type": "code",
   "execution_count": 74,
   "id": "f4f863f9-cfaa-479b-b1b2-7582b3156ac6",
   "metadata": {},
   "outputs": [],
   "source": [
    "from pydantic import BaseModel\n",
    "import time \n",
    "from typing import Optional\n",
    "import torch\n",
    "import torch.optim as optim\n",
    "import torch.nn as nn\n",
    "import torch.nn.functional as F\n",
    "from ray import tune\n",
    "from ray.tune import JupyterNotebookReporter\n",
    "from ray.tune.schedulers import ASHAScheduler\n",
    "import numpy as np\n",
    "import sqlalchemy\n",
    "from sqlalchemy import create_engine\n",
    "import os\n",
    "import pandas as pd\n",
    "from functools import partial\n",
    "from sklearn.preprocessing import MinMaxScaler\n",
    "import matplotlib.pyplot as plt\n",
    "from datetime import datetime\n",
    "\n",
    "from dotenv import load_dotenv"
   ]
  },
  {
   "cell_type": "code",
   "execution_count": 29,
   "id": "7e6f0444-c434-40fd-a301-88f181fd353b",
   "metadata": {},
   "outputs": [
    {
     "name": "stdout",
     "output_type": "stream",
     "text": [
      "Collecting pydantic\n",
      "  Downloading pydantic-1.9.1-cp310-cp310-win_amd64.whl (2.0 MB)\n",
      "     ---------------------------------------- 2.0/2.0 MB 10.4 MB/s eta 0:00:00\n",
      "Requirement already satisfied: typing-extensions>=3.7.4.3 in c:\\users\\spenc\\appdata\\local\\pypoetry\\cache\\virtualenvs\\bgpredict-zzmw8ikr-py3.10\\lib\\site-packages (from pydantic) (4.3.0)\n",
      "Installing collected packages: pydantic\n",
      "Successfully installed pydantic-1.9.1\n"
     ]
    }
   ],
   "source": [
    "!pip install pydantic"
   ]
  },
  {
   "cell_type": "code",
   "execution_count": 2,
   "id": "7392d198-c375-4835-b83f-af62e7223b13",
   "metadata": {},
   "outputs": [
    {
     "data": {
      "text/plain": [
       "True"
      ]
     },
     "execution_count": 2,
     "metadata": {},
     "output_type": "execute_result"
    }
   ],
   "source": [
    "load_dotenv()"
   ]
  },
  {
   "cell_type": "code",
   "execution_count": 61,
   "id": "366f8377-77cc-4058-9340-4ab92ea50dd8",
   "metadata": {},
   "outputs": [],
   "source": [
    "# Data Processing Functions\n",
    "def load_data_to_df():\n",
    "    location = f\"postgresql://postgres:{os.environ.get('db_password')}@{os.environ.get('db_location')}\"\n",
    "    engine = create_engine(location)\n",
    "    conn = engine.connect()\n",
    "    raw_df = pd.read_sql(\"select * from public.vw_final_dataset where subjectid = 2033176\", conn)\n",
    "    if raw_df.empty:\n",
    "        raise ValueError(\"empty df\")\n",
    "    return raw_df\n",
    "\n",
    "def clean_data(df):\n",
    "    # Drop rows with no Y value\n",
    "    df = df.dropna(subset='bg')\n",
    "    \n",
    "    # Sort by timestamp\n",
    "    df = df.sort_values(by=\"timestamp_clean\")\n",
    "    \n",
    "    # Set index to time_stamp_clean\n",
    "    df.index = df['timestamp_clean']\n",
    "    df = df.drop(labels=['timestamp_clean'], axis=1)\n",
    "    \n",
    "    # Drop first row by subject which has data quality issues\n",
    "    df = df[df.groupby('subjectid').cumcount() > 0] \n",
    "    \n",
    "    # Drop columns that are indices, irrelevant, or capture in OHE variables\n",
    "    drop_cols = ['subjectid', 'entryid', 'timestamp', 'date', 'time']\n",
    "    df = df.drop(labels=drop_cols, axis=1)\n",
    "    \n",
    "    # Fill nulls (lag BG values) with 0 to indicate data is unavailable\n",
    "    print(f\"Null values to be filled by column:\")\n",
    "    nulls = df.isna().sum()\n",
    "    null_idx = list(nulls.index)\n",
    "    vals = list(nulls)\n",
    "    for col, val in list(zip(null_idx, vals)):\n",
    "        if val > 0:\n",
    "            print(col,val)\n",
    "    df = df.fillna(0)\n",
    "    \n",
    "    # One hot Encode Weekdays\n",
    "    weekdays = np.unique(df['weekday'])\n",
    "    ohe_weekdays = [f\"ohe_{day}\" for day in weekdays]\n",
    "    df[ohe_weekdays] = pd.get_dummies(df.weekday)\n",
    "    df = df.drop(labels=\"weekday\", axis=1)\n",
    "    \n",
    "    return df\n",
    "\n",
    "def split_and_scale(df):\n",
    "    # train/val/test split\n",
    "    train_df = df.loc[df['train_set'] ==1, :]\n",
    "    val_df = df.loc[df['validation_set'] ==1, :]\n",
    "    test_df = df.loc[df['test_set'] == 1, :] \n",
    "    \n",
    "    # Extract y vars\n",
    "    train_y = train_df['bg']\n",
    "    val_y = val_df['bg']\n",
    "    test_y = test_df['bg']\n",
    "    \n",
    "    # Drop non-X columns\n",
    "    drop_cols = ['train_set', 'validation_set', 'test_set', 'bg']\n",
    "    train_df = train_df.drop(labels=drop_cols, axis=1)\n",
    "    val_df = val_df.drop(labels=drop_cols, axis=1)\n",
    "    test_df = test_df.drop(labels=drop_cols, axis=1)\n",
    "    \n",
    "    # Select Scaling columns (i.e. don't scale one hot encoded variables)\n",
    "    ohe_cols = train_df.columns[train_df.columns.str.contains('ohe')]\n",
    "    scaling_cols = train_df.columns.difference(ohe_cols)\n",
    "    print(f\"{len(ohe_cols)} one hot encoded columns \")\n",
    "    print(f\"{len(scaling_cols)} scaled columns\")\n",
    "    \n",
    "    # Fit Scaler\n",
    "    scaler = MinMaxScaler()\n",
    "    scaler.fit(train_df[scaling_cols])\n",
    "    \n",
    "    # Perform Scaling \n",
    "    train_array = scaler.transform(train_df[scaling_cols])\n",
    "    val_array = scaler.transform(val_df[scaling_cols])\n",
    "    test_array = scaler.transform(test_df[scaling_cols])\n",
    "    \n",
    "    # Recombine Scaled Data into DataFrame Format \n",
    "    train_scaled_df = pd.DataFrame(train_array, columns=scaling_cols, index=train_df.index)\n",
    "    val_scaled_df = pd.DataFrame(val_array, columns=scaling_cols, index=val_df.index)\n",
    "    test_scaled_df = pd.DataFrame(test_array, columns=scaling_cols, index=test_df.index)\n",
    "    \n",
    "    train_df = pd.concat([train_scaled_df, train_df.loc[:,ohe_cols], train_y], axis=1)\n",
    "    val_df = pd.concat([val_scaled_df, val_df.loc[:,ohe_cols], val_y], axis=1)\n",
    "    test_df = pd.concat([test_scaled_df, test_df.loc[:,ohe_cols], test_y], axis=1)\n",
    "    \n",
    "#     dataset= DataSet(**{'train_df': train_df,\n",
    "#                         'val_df': val_df,\n",
    "#                         'test_df': test_df})\n",
    "    return train_df, val_df, test_df\n",
    "\n",
    "def df_to_Xy_tensors(df, window_size=12):\n",
    "    X = []\n",
    "    y = []\n",
    "    num_features = len(df.columns) - 1\n",
    "    for idx in range(window_size, len(df)-window_size):\n",
    "        window_df = df.iloc[idx-window_size:idx]\n",
    "        X.append(window_df.loc[:, df.columns != 'bg'].values)\n",
    "        # The first element is the y value associated with the sequence of X values \n",
    "        y.append(window_df['bg'].iloc[0])\n",
    "        \n",
    "    X_tensor = torch.cat([torch.tensor(i).float() for i in X]).view(len(X), window_size, num_features)\n",
    "    y_tensor = torch.tensor(y).float()\n",
    "    return X_tensor, y_tensor"
   ]
  },
  {
   "cell_type": "code",
   "execution_count": 64,
   "id": "02ef3ab2-1043-4ada-84fc-de139aa37b49",
   "metadata": {},
   "outputs": [
    {
     "name": "stdout",
     "output_type": "stream",
     "text": [
      "loading\n",
      "cleaning\n",
      "Null values to be filled by column:\n",
      "bg_lag_1 83\n",
      "bg_lag_2 83\n",
      "bg_lag_3 85\n",
      "bg_lag_4 86\n",
      "bg_lag_5 86\n",
      "bg_lag_6 88\n",
      "bg_lag_7 89\n",
      "bg_lag_8 90\n",
      "bg_lag_9 91\n",
      "bg_lag_10 92\n",
      "bg_lag_11 92\n",
      "bg_lag_12 94\n",
      "split and scaling\n",
      "148 one hot encoded columns \n",
      "23 scaled columns\n",
      "converting to tensors\n"
     ]
    }
   ],
   "source": [
    "print('loading')\n",
    "raw_df = load_data_to_df()\n",
    "print('cleaning')\n",
    "clean_df = clean_data(raw_df)\n",
    "print(\"split and scaling\")\n",
    "train_df, val_df, test_df = split_and_scale(clean_df)\n",
    "print(\"converting to tensors\")\n",
    "tensorset = TensorSet()\n",
    "train_X, train_y = df_to_Xy_tensors(train_df, window_size=12)\n",
    "val_X, val_y = df_to_Xy_tensors(val_df, window_size=12)\n",
    "test_X, test_y = df_to_Xy_tensors(test_df, window_size=12)"
   ]
  },
  {
   "cell_type": "code",
   "execution_count": 65,
   "id": "8f5270fd-3569-45c1-b338-f1f8331e79c9",
   "metadata": {},
   "outputs": [
    {
     "name": "stdout",
     "output_type": "stream",
     "text": [
      "torch.Size([24794, 12, 171])\n"
     ]
    },
    {
     "data": {
      "text/plain": [
       "torch.Size([24794])"
      ]
     },
     "execution_count": 65,
     "metadata": {},
     "output_type": "execute_result"
    }
   ],
   "source": [
    "print(train_X.shape)\n",
    "train_y.shape"
   ]
  },
  {
   "cell_type": "code",
   "execution_count": 23,
   "id": "1645b89f-675c-45ae-af65-b317ee6bef90",
   "metadata": {},
   "outputs": [
    {
     "data": {
      "text/plain": [
       "1   2019-01-14 19:51:35.780\n",
       "2   2019-01-14 19:54:15.583\n",
       "3   2019-01-14 20:01:34.543\n",
       "4   2019-01-14 20:06:34.364\n",
       "5   2019-01-14 20:16:34.036\n",
       "Name: timestamp_clean, dtype: datetime64[ns]"
      ]
     },
     "execution_count": 23,
     "metadata": {},
     "output_type": "execute_result"
    }
   ],
   "source": [
    "raw_df.sort_values('timestamp_clean')['timestamp_clean'].head()"
   ]
  },
  {
   "cell_type": "code",
   "execution_count": 38,
   "id": "ecb33b57-17c4-4206-ac09-2360e3060092",
   "metadata": {},
   "outputs": [
    {
     "name": "stdout",
     "output_type": "stream",
     "text": [
      "columns: Index(['train_set', 'test_set', 'validation_set', 'weekday', 'hour', 'minute',\n",
      "       'federal_holiday', 'bg', 'insulin', 'carbs',\n",
      "       'datediff_currentbg_lastbg_inseconds', 'bg_lag_1', 'bg_lag_2',\n",
      "       'bg_lag_3', 'bg_lag_4', 'bg_lag_5', 'bg_lag_6', 'bg_lag_7', 'bg_lag_8',\n",
      "       'bg_lag_9', 'bg_lag_10', 'bg_lag_11', 'bg_lag_12'],\n",
      "      dtype='object')\n",
      "shape: (54013, 23)\n"
     ]
    },
    {
     "data": {
      "text/html": [
       "<div>\n",
       "<style scoped>\n",
       "    .dataframe tbody tr th:only-of-type {\n",
       "        vertical-align: middle;\n",
       "    }\n",
       "\n",
       "    .dataframe tbody tr th {\n",
       "        vertical-align: top;\n",
       "    }\n",
       "\n",
       "    .dataframe thead th {\n",
       "        text-align: right;\n",
       "    }\n",
       "</style>\n",
       "<table border=\"1\" class=\"dataframe\">\n",
       "  <thead>\n",
       "    <tr style=\"text-align: right;\">\n",
       "      <th></th>\n",
       "      <th>train_set</th>\n",
       "      <th>test_set</th>\n",
       "      <th>validation_set</th>\n",
       "      <th>weekday</th>\n",
       "      <th>hour</th>\n",
       "      <th>minute</th>\n",
       "      <th>federal_holiday</th>\n",
       "      <th>bg</th>\n",
       "      <th>insulin</th>\n",
       "      <th>carbs</th>\n",
       "      <th>...</th>\n",
       "      <th>bg_lag_3</th>\n",
       "      <th>bg_lag_4</th>\n",
       "      <th>bg_lag_5</th>\n",
       "      <th>bg_lag_6</th>\n",
       "      <th>bg_lag_7</th>\n",
       "      <th>bg_lag_8</th>\n",
       "      <th>bg_lag_9</th>\n",
       "      <th>bg_lag_10</th>\n",
       "      <th>bg_lag_11</th>\n",
       "      <th>bg_lag_12</th>\n",
       "    </tr>\n",
       "    <tr>\n",
       "      <th>timestamp_clean</th>\n",
       "      <th></th>\n",
       "      <th></th>\n",
       "      <th></th>\n",
       "      <th></th>\n",
       "      <th></th>\n",
       "      <th></th>\n",
       "      <th></th>\n",
       "      <th></th>\n",
       "      <th></th>\n",
       "      <th></th>\n",
       "      <th></th>\n",
       "      <th></th>\n",
       "      <th></th>\n",
       "      <th></th>\n",
       "      <th></th>\n",
       "      <th></th>\n",
       "      <th></th>\n",
       "      <th></th>\n",
       "      <th></th>\n",
       "      <th></th>\n",
       "      <th></th>\n",
       "    </tr>\n",
       "  </thead>\n",
       "  <tbody>\n",
       "    <tr>\n",
       "      <th>2019-01-14 20:01:34.543</th>\n",
       "      <td>1</td>\n",
       "      <td>0</td>\n",
       "      <td>0</td>\n",
       "      <td>Monday</td>\n",
       "      <td>20.0</td>\n",
       "      <td>1.0</td>\n",
       "      <td>0</td>\n",
       "      <td>211.0</td>\n",
       "      <td>0.0</td>\n",
       "      <td>0.0</td>\n",
       "      <td>...</td>\n",
       "      <td>0.0</td>\n",
       "      <td>0.0</td>\n",
       "      <td>0.0</td>\n",
       "      <td>0.0</td>\n",
       "      <td>0.0</td>\n",
       "      <td>0.0</td>\n",
       "      <td>0.0</td>\n",
       "      <td>0.0</td>\n",
       "      <td>0.0</td>\n",
       "      <td>0.0</td>\n",
       "    </tr>\n",
       "    <tr>\n",
       "      <th>2019-01-14 20:06:34.364</th>\n",
       "      <td>1</td>\n",
       "      <td>0</td>\n",
       "      <td>0</td>\n",
       "      <td>Monday</td>\n",
       "      <td>20.0</td>\n",
       "      <td>6.0</td>\n",
       "      <td>0</td>\n",
       "      <td>214.0</td>\n",
       "      <td>0.0</td>\n",
       "      <td>0.0</td>\n",
       "      <td>...</td>\n",
       "      <td>0.0</td>\n",
       "      <td>0.0</td>\n",
       "      <td>0.0</td>\n",
       "      <td>0.0</td>\n",
       "      <td>0.0</td>\n",
       "      <td>0.0</td>\n",
       "      <td>0.0</td>\n",
       "      <td>0.0</td>\n",
       "      <td>0.0</td>\n",
       "      <td>0.0</td>\n",
       "    </tr>\n",
       "    <tr>\n",
       "      <th>2019-01-14 20:16:34.036</th>\n",
       "      <td>1</td>\n",
       "      <td>0</td>\n",
       "      <td>0</td>\n",
       "      <td>Monday</td>\n",
       "      <td>20.0</td>\n",
       "      <td>16.0</td>\n",
       "      <td>0</td>\n",
       "      <td>214.0</td>\n",
       "      <td>0.0</td>\n",
       "      <td>0.0</td>\n",
       "      <td>...</td>\n",
       "      <td>201.0</td>\n",
       "      <td>0.0</td>\n",
       "      <td>0.0</td>\n",
       "      <td>0.0</td>\n",
       "      <td>0.0</td>\n",
       "      <td>0.0</td>\n",
       "      <td>0.0</td>\n",
       "      <td>0.0</td>\n",
       "      <td>0.0</td>\n",
       "      <td>0.0</td>\n",
       "    </tr>\n",
       "    <tr>\n",
       "      <th>2019-01-14 20:26:34.794</th>\n",
       "      <td>1</td>\n",
       "      <td>0</td>\n",
       "      <td>0</td>\n",
       "      <td>Monday</td>\n",
       "      <td>20.0</td>\n",
       "      <td>26.0</td>\n",
       "      <td>0</td>\n",
       "      <td>206.0</td>\n",
       "      <td>0.0</td>\n",
       "      <td>0.0</td>\n",
       "      <td>...</td>\n",
       "      <td>211.0</td>\n",
       "      <td>201.0</td>\n",
       "      <td>0.0</td>\n",
       "      <td>0.0</td>\n",
       "      <td>0.0</td>\n",
       "      <td>0.0</td>\n",
       "      <td>0.0</td>\n",
       "      <td>0.0</td>\n",
       "      <td>0.0</td>\n",
       "      <td>0.0</td>\n",
       "    </tr>\n",
       "    <tr>\n",
       "      <th>2019-01-14 20:31:33.834</th>\n",
       "      <td>1</td>\n",
       "      <td>0</td>\n",
       "      <td>0</td>\n",
       "      <td>Monday</td>\n",
       "      <td>20.0</td>\n",
       "      <td>31.0</td>\n",
       "      <td>0</td>\n",
       "      <td>196.0</td>\n",
       "      <td>0.0</td>\n",
       "      <td>0.0</td>\n",
       "      <td>...</td>\n",
       "      <td>214.0</td>\n",
       "      <td>211.0</td>\n",
       "      <td>201.0</td>\n",
       "      <td>0.0</td>\n",
       "      <td>0.0</td>\n",
       "      <td>0.0</td>\n",
       "      <td>0.0</td>\n",
       "      <td>0.0</td>\n",
       "      <td>0.0</td>\n",
       "      <td>0.0</td>\n",
       "    </tr>\n",
       "  </tbody>\n",
       "</table>\n",
       "<p>5 rows × 23 columns</p>\n",
       "</div>"
      ],
      "text/plain": [
       "                         train_set  test_set  validation_set weekday  hour  \\\n",
       "timestamp_clean                                                              \n",
       "2019-01-14 20:01:34.543          1         0               0  Monday  20.0   \n",
       "2019-01-14 20:06:34.364          1         0               0  Monday  20.0   \n",
       "2019-01-14 20:16:34.036          1         0               0  Monday  20.0   \n",
       "2019-01-14 20:26:34.794          1         0               0  Monday  20.0   \n",
       "2019-01-14 20:31:33.834          1         0               0  Monday  20.0   \n",
       "\n",
       "                         minute  federal_holiday     bg  insulin  carbs  ...  \\\n",
       "timestamp_clean                                                          ...   \n",
       "2019-01-14 20:01:34.543     1.0                0  211.0      0.0    0.0  ...   \n",
       "2019-01-14 20:06:34.364     6.0                0  214.0      0.0    0.0  ...   \n",
       "2019-01-14 20:16:34.036    16.0                0  214.0      0.0    0.0  ...   \n",
       "2019-01-14 20:26:34.794    26.0                0  206.0      0.0    0.0  ...   \n",
       "2019-01-14 20:31:33.834    31.0                0  196.0      0.0    0.0  ...   \n",
       "\n",
       "                         bg_lag_3  bg_lag_4  bg_lag_5  bg_lag_6  bg_lag_7  \\\n",
       "timestamp_clean                                                             \n",
       "2019-01-14 20:01:34.543       0.0       0.0       0.0       0.0       0.0   \n",
       "2019-01-14 20:06:34.364       0.0       0.0       0.0       0.0       0.0   \n",
       "2019-01-14 20:16:34.036     201.0       0.0       0.0       0.0       0.0   \n",
       "2019-01-14 20:26:34.794     211.0     201.0       0.0       0.0       0.0   \n",
       "2019-01-14 20:31:33.834     214.0     211.0     201.0       0.0       0.0   \n",
       "\n",
       "                         bg_lag_8  bg_lag_9  bg_lag_10  bg_lag_11  bg_lag_12  \n",
       "timestamp_clean                                                               \n",
       "2019-01-14 20:01:34.543       0.0       0.0        0.0        0.0        0.0  \n",
       "2019-01-14 20:06:34.364       0.0       0.0        0.0        0.0        0.0  \n",
       "2019-01-14 20:16:34.036       0.0       0.0        0.0        0.0        0.0  \n",
       "2019-01-14 20:26:34.794       0.0       0.0        0.0        0.0        0.0  \n",
       "2019-01-14 20:31:33.834       0.0       0.0        0.0        0.0        0.0  \n",
       "\n",
       "[5 rows x 23 columns]"
      ]
     },
     "execution_count": 38,
     "metadata": {},
     "output_type": "execute_result"
    }
   ],
   "source": [
    "## Clean Data\n",
    "\n",
    "def clean_data(df):\n",
    "    # Drop rows with no Y value\n",
    "    df = raw_df.dropna(subset='bg')\n",
    "    \n",
    "    # Sort by timestamp\n",
    "    df = df.sort_values(by=\"timestamp_clean\")\n",
    "    \n",
    "    # Set index to time_stamp_clean\n",
    "    df.index = df['timestamp_clean']\n",
    "    df = df.drop(labels=['timestamp_clean'], axis=1)\n",
    "    \n",
    "    # Drop first row by subject which has data quality issues\n",
    "    df = df[df.groupby('subjectid').cumcount() > 0] \n",
    "    df = df.drop(labels=['num_in_group'])\n",
    "    \n",
    "    # Drop columns that are indices, irrelevant, or capture in OHE variables\n",
    "    drop_cols = ['subjectid', 'entryid', 'timestamp', 'date', 'time']\n",
    "    df = df.drop(labels=drop_cols, axis=1)\n",
    "    \n",
    "    # Fill nulls (lag BG values) with 0 to indicate data is unavailable\n",
    "    print(f\"Null values to be filled by column: {df.isna().sum()}\")\n",
    "    df = df.fillna(0)\n",
    "    \n",
    "    # One hot Encode Weekdays\n",
    "    weekdays = np.unique(df['weekday'])\n",
    "    ohe_weekdays = [f\"ohe_{day}\" for day in weekdays]\n",
    "    df[ohe_weekdays] = pd.get_dummies(df.weekday)\n",
    "    df = df.drop(labels=\"weekday\", axis=1)\n",
    "    \n",
    "    return df \n",
    "    \n",
    "# Drop rows with no Y value\n",
    "df = raw_df.dropna(subset='bg')\n",
    "\n",
    "# Sort by timestamp\n",
    "df = df.sort_values(by=\"timestamp_clean\")\n",
    "\n",
    "# Set index to time_stamp_clean\n",
    "df.index = df['timestamp_clean']\n",
    "df = df.drop(labels=['timestamp_clean'], axis=1)\n",
    "\n",
    "# Drop first row which has data quality issues\n",
    "df = df.iloc[1:len(df), :] \n",
    "\n",
    "# Drop one hot encoded (OHE) columns which contain no relevant information for single subjects\n",
    "df = df.loc[:, ~df.columns.str.contains('ohe')]\n",
    "\n",
    "# Drop other columns that contain no relevant info for single subjects\n",
    "single_subj_drop_cols = ['carbs_datacount', 'normalized_carbs_datapercentile', 'normalized_insulin_datapercentile',\n",
    "                         'insulin_datacount', 'observations']\n",
    "df = df.drop(labels=single_subj_drop_cols, axis=1)\n",
    "\n",
    "# Drop columns that are indices, irrelevant, or capture in OHE variables\n",
    "drop_cols = ['subjectid', 'entryid', 'timestamp', 'date', 'time']\n",
    "df = df.drop(labels=drop_cols, axis=1)\n",
    "\n",
    "# Fill nulls (lag BG values) with 0 to indicate data is unavailable\n",
    "df = df.fillna(0)\n",
    "\n",
    "print(f\"columns: {df.columns}\")\n",
    "print(f\"shape: {df.shape}\")\n",
    "df.head()"
   ]
  },
  {
   "cell_type": "code",
   "execution_count": 47,
   "id": "bdc491ee-6410-4fdb-bc6d-07d2d5f80e0e",
   "metadata": {},
   "outputs": [
    {
     "name": "stderr",
     "output_type": "stream",
     "text": [
      "C:\\Users\\spenc\\AppData\\Local\\Temp\\ipykernel_11176\\771581302.py:1: FutureWarning: Support for multi-dimensional indexing (e.g. `obj[:, None]`) is deprecated and will be removed in a future version.  Convert to a numpy array before indexing instead.\n",
      "  train_df.columns[list(train_df.columns.str.contains('ohe')).append('bg')]\n"
     ]
    },
    {
     "data": {
      "text/plain": [
       "array([['weekday', 'hour', 'minute', 'federal_holiday', 'insulin',\n",
       "        'carbs', 'datediff_currentbg_lastbg_inseconds', 'bg_lag_1',\n",
       "        'bg_lag_2', 'bg_lag_3', 'bg_lag_4', 'bg_lag_5', 'bg_lag_6',\n",
       "        'bg_lag_7', 'bg_lag_8', 'bg_lag_9', 'bg_lag_10', 'bg_lag_11',\n",
       "        'bg_lag_12']], dtype=object)"
      ]
     },
     "execution_count": 47,
     "metadata": {},
     "output_type": "execute_result"
    }
   ],
   "source": [
    "train_df.columns[list(train_df.columns.str.contains('ohe')).append('bg')]"
   ]
  },
  {
   "cell_type": "code",
   "execution_count": 39,
   "id": "1a79b074-9195-4d74-ae7f-a65101be434f",
   "metadata": {},
   "outputs": [
    {
     "name": "stdout",
     "output_type": "stream",
     "text": [
      "one hot encoded columns: Index([], dtype='object')\n",
      "scaling columns: Index(['weekday', 'hour', 'minute', 'federal_holiday', 'insulin', 'carbs',\n",
      "       'datediff_currentbg_lastbg_inseconds', 'bg_lag_1', 'bg_lag_2',\n",
      "       'bg_lag_3', 'bg_lag_4', 'bg_lag_5', 'bg_lag_6', 'bg_lag_7', 'bg_lag_8',\n",
      "       'bg_lag_9', 'bg_lag_10', 'bg_lag_11', 'bg_lag_12'],\n",
      "      dtype='object')\n"
     ]
    },
    {
     "ename": "ValueError",
     "evalue": "could not convert string to float: 'Monday'",
     "output_type": "error",
     "traceback": [
      "\u001b[1;31m---------------------------------------------------------------------------\u001b[0m",
      "\u001b[1;31mValueError\u001b[0m                                Traceback (most recent call last)",
      "Input \u001b[1;32mIn [39]\u001b[0m, in \u001b[0;36m<cell line: 85>\u001b[1;34m()\u001b[0m\n\u001b[0;32m     82\u001b[0m \u001b[38;5;28mprint\u001b[39m(\u001b[38;5;124mf\u001b[39m\u001b[38;5;124m\"\u001b[39m\u001b[38;5;124mscaling columns: \u001b[39m\u001b[38;5;132;01m{\u001b[39;00mscaling_cols\u001b[38;5;132;01m}\u001b[39;00m\u001b[38;5;124m\"\u001b[39m)\n\u001b[0;32m     84\u001b[0m scaler \u001b[38;5;241m=\u001b[39m MinMaxScaler()\n\u001b[1;32m---> 85\u001b[0m \u001b[43mscaler\u001b[49m\u001b[38;5;241;43m.\u001b[39;49m\u001b[43mfit\u001b[49m\u001b[43m(\u001b[49m\u001b[43mtrain_df\u001b[49m\u001b[43m[\u001b[49m\u001b[43mscaling_cols\u001b[49m\u001b[43m]\u001b[49m\u001b[43m)\u001b[49m\n\u001b[0;32m     87\u001b[0m train_array \u001b[38;5;241m=\u001b[39m scaler\u001b[38;5;241m.\u001b[39mtransform(train_df[scaling_cols])\n\u001b[0;32m     88\u001b[0m val_array \u001b[38;5;241m=\u001b[39m scaler\u001b[38;5;241m.\u001b[39mtransform(val_df[scaling_cols])\n",
      "File \u001b[1;32m~\\AppData\\Local\\pypoetry\\Cache\\virtualenvs\\bgpredict-zZmw8Ikr-py3.10\\lib\\site-packages\\sklearn\\preprocessing\\_data.py:420\u001b[0m, in \u001b[0;36mMinMaxScaler.fit\u001b[1;34m(self, X, y)\u001b[0m\n\u001b[0;32m    418\u001b[0m \u001b[38;5;66;03m# Reset internal state before fitting\u001b[39;00m\n\u001b[0;32m    419\u001b[0m \u001b[38;5;28mself\u001b[39m\u001b[38;5;241m.\u001b[39m_reset()\n\u001b[1;32m--> 420\u001b[0m \u001b[38;5;28;01mreturn\u001b[39;00m \u001b[38;5;28;43mself\u001b[39;49m\u001b[38;5;241;43m.\u001b[39;49m\u001b[43mpartial_fit\u001b[49m\u001b[43m(\u001b[49m\u001b[43mX\u001b[49m\u001b[43m,\u001b[49m\u001b[43m \u001b[49m\u001b[43my\u001b[49m\u001b[43m)\u001b[49m\n",
      "File \u001b[1;32m~\\AppData\\Local\\pypoetry\\Cache\\virtualenvs\\bgpredict-zZmw8Ikr-py3.10\\lib\\site-packages\\sklearn\\preprocessing\\_data.py:457\u001b[0m, in \u001b[0;36mMinMaxScaler.partial_fit\u001b[1;34m(self, X, y)\u001b[0m\n\u001b[0;32m    451\u001b[0m     \u001b[38;5;28;01mraise\u001b[39;00m \u001b[38;5;167;01mTypeError\u001b[39;00m(\n\u001b[0;32m    452\u001b[0m         \u001b[38;5;124m\"\u001b[39m\u001b[38;5;124mMinMaxScaler does not support sparse input. \u001b[39m\u001b[38;5;124m\"\u001b[39m\n\u001b[0;32m    453\u001b[0m         \u001b[38;5;124m\"\u001b[39m\u001b[38;5;124mConsider using MaxAbsScaler instead.\u001b[39m\u001b[38;5;124m\"\u001b[39m\n\u001b[0;32m    454\u001b[0m     )\n\u001b[0;32m    456\u001b[0m first_pass \u001b[38;5;241m=\u001b[39m \u001b[38;5;129;01mnot\u001b[39;00m \u001b[38;5;28mhasattr\u001b[39m(\u001b[38;5;28mself\u001b[39m, \u001b[38;5;124m\"\u001b[39m\u001b[38;5;124mn_samples_seen_\u001b[39m\u001b[38;5;124m\"\u001b[39m)\n\u001b[1;32m--> 457\u001b[0m X \u001b[38;5;241m=\u001b[39m \u001b[38;5;28;43mself\u001b[39;49m\u001b[38;5;241;43m.\u001b[39;49m\u001b[43m_validate_data\u001b[49m\u001b[43m(\u001b[49m\n\u001b[0;32m    458\u001b[0m \u001b[43m    \u001b[49m\u001b[43mX\u001b[49m\u001b[43m,\u001b[49m\n\u001b[0;32m    459\u001b[0m \u001b[43m    \u001b[49m\u001b[43mreset\u001b[49m\u001b[38;5;241;43m=\u001b[39;49m\u001b[43mfirst_pass\u001b[49m\u001b[43m,\u001b[49m\n\u001b[0;32m    460\u001b[0m \u001b[43m    \u001b[49m\u001b[43mdtype\u001b[49m\u001b[38;5;241;43m=\u001b[39;49m\u001b[43mFLOAT_DTYPES\u001b[49m\u001b[43m,\u001b[49m\n\u001b[0;32m    461\u001b[0m \u001b[43m    \u001b[49m\u001b[43mforce_all_finite\u001b[49m\u001b[38;5;241;43m=\u001b[39;49m\u001b[38;5;124;43m\"\u001b[39;49m\u001b[38;5;124;43mallow-nan\u001b[39;49m\u001b[38;5;124;43m\"\u001b[39;49m\u001b[43m,\u001b[49m\n\u001b[0;32m    462\u001b[0m \u001b[43m\u001b[49m\u001b[43m)\u001b[49m\n\u001b[0;32m    464\u001b[0m data_min \u001b[38;5;241m=\u001b[39m np\u001b[38;5;241m.\u001b[39mnanmin(X, axis\u001b[38;5;241m=\u001b[39m\u001b[38;5;241m0\u001b[39m)\n\u001b[0;32m    465\u001b[0m data_max \u001b[38;5;241m=\u001b[39m np\u001b[38;5;241m.\u001b[39mnanmax(X, axis\u001b[38;5;241m=\u001b[39m\u001b[38;5;241m0\u001b[39m)\n",
      "File \u001b[1;32m~\\AppData\\Local\\pypoetry\\Cache\\virtualenvs\\bgpredict-zZmw8Ikr-py3.10\\lib\\site-packages\\sklearn\\base.py:577\u001b[0m, in \u001b[0;36mBaseEstimator._validate_data\u001b[1;34m(self, X, y, reset, validate_separately, **check_params)\u001b[0m\n\u001b[0;32m    575\u001b[0m     \u001b[38;5;28;01mraise\u001b[39;00m \u001b[38;5;167;01mValueError\u001b[39;00m(\u001b[38;5;124m\"\u001b[39m\u001b[38;5;124mValidation should be done on X, y or both.\u001b[39m\u001b[38;5;124m\"\u001b[39m)\n\u001b[0;32m    576\u001b[0m \u001b[38;5;28;01melif\u001b[39;00m \u001b[38;5;129;01mnot\u001b[39;00m no_val_X \u001b[38;5;129;01mand\u001b[39;00m no_val_y:\n\u001b[1;32m--> 577\u001b[0m     X \u001b[38;5;241m=\u001b[39m check_array(X, input_name\u001b[38;5;241m=\u001b[39m\u001b[38;5;124m\"\u001b[39m\u001b[38;5;124mX\u001b[39m\u001b[38;5;124m\"\u001b[39m, \u001b[38;5;241m*\u001b[39m\u001b[38;5;241m*\u001b[39mcheck_params)\n\u001b[0;32m    578\u001b[0m     out \u001b[38;5;241m=\u001b[39m X\n\u001b[0;32m    579\u001b[0m \u001b[38;5;28;01melif\u001b[39;00m no_val_X \u001b[38;5;129;01mand\u001b[39;00m \u001b[38;5;129;01mnot\u001b[39;00m no_val_y:\n",
      "File \u001b[1;32m~\\AppData\\Local\\pypoetry\\Cache\\virtualenvs\\bgpredict-zZmw8Ikr-py3.10\\lib\\site-packages\\sklearn\\utils\\validation.py:856\u001b[0m, in \u001b[0;36mcheck_array\u001b[1;34m(array, accept_sparse, accept_large_sparse, dtype, order, copy, force_all_finite, ensure_2d, allow_nd, ensure_min_samples, ensure_min_features, estimator, input_name)\u001b[0m\n\u001b[0;32m    854\u001b[0m         array \u001b[38;5;241m=\u001b[39m array\u001b[38;5;241m.\u001b[39mastype(dtype, casting\u001b[38;5;241m=\u001b[39m\u001b[38;5;124m\"\u001b[39m\u001b[38;5;124munsafe\u001b[39m\u001b[38;5;124m\"\u001b[39m, copy\u001b[38;5;241m=\u001b[39m\u001b[38;5;28;01mFalse\u001b[39;00m)\n\u001b[0;32m    855\u001b[0m     \u001b[38;5;28;01melse\u001b[39;00m:\n\u001b[1;32m--> 856\u001b[0m         array \u001b[38;5;241m=\u001b[39m \u001b[43mnp\u001b[49m\u001b[38;5;241;43m.\u001b[39;49m\u001b[43masarray\u001b[49m\u001b[43m(\u001b[49m\u001b[43marray\u001b[49m\u001b[43m,\u001b[49m\u001b[43m \u001b[49m\u001b[43morder\u001b[49m\u001b[38;5;241;43m=\u001b[39;49m\u001b[43morder\u001b[49m\u001b[43m,\u001b[49m\u001b[43m \u001b[49m\u001b[43mdtype\u001b[49m\u001b[38;5;241;43m=\u001b[39;49m\u001b[43mdtype\u001b[49m\u001b[43m)\u001b[49m\n\u001b[0;32m    857\u001b[0m \u001b[38;5;28;01mexcept\u001b[39;00m ComplexWarning \u001b[38;5;28;01mas\u001b[39;00m complex_warning:\n\u001b[0;32m    858\u001b[0m     \u001b[38;5;28;01mraise\u001b[39;00m \u001b[38;5;167;01mValueError\u001b[39;00m(\n\u001b[0;32m    859\u001b[0m         \u001b[38;5;124m\"\u001b[39m\u001b[38;5;124mComplex data not supported\u001b[39m\u001b[38;5;130;01m\\n\u001b[39;00m\u001b[38;5;132;01m{}\u001b[39;00m\u001b[38;5;130;01m\\n\u001b[39;00m\u001b[38;5;124m\"\u001b[39m\u001b[38;5;241m.\u001b[39mformat(array)\n\u001b[0;32m    860\u001b[0m     ) \u001b[38;5;28;01mfrom\u001b[39;00m \u001b[38;5;21;01mcomplex_warning\u001b[39;00m\n",
      "File \u001b[1;32m~\\AppData\\Local\\pypoetry\\Cache\\virtualenvs\\bgpredict-zZmw8Ikr-py3.10\\lib\\site-packages\\pandas\\core\\generic.py:2064\u001b[0m, in \u001b[0;36mNDFrame.__array__\u001b[1;34m(self, dtype)\u001b[0m\n\u001b[0;32m   2063\u001b[0m \u001b[38;5;28;01mdef\u001b[39;00m \u001b[38;5;21m__array__\u001b[39m(\u001b[38;5;28mself\u001b[39m, dtype: npt\u001b[38;5;241m.\u001b[39mDTypeLike \u001b[38;5;241m|\u001b[39m \u001b[38;5;28;01mNone\u001b[39;00m \u001b[38;5;241m=\u001b[39m \u001b[38;5;28;01mNone\u001b[39;00m) \u001b[38;5;241m-\u001b[39m\u001b[38;5;241m>\u001b[39m np\u001b[38;5;241m.\u001b[39mndarray:\n\u001b[1;32m-> 2064\u001b[0m     \u001b[38;5;28;01mreturn\u001b[39;00m \u001b[43mnp\u001b[49m\u001b[38;5;241;43m.\u001b[39;49m\u001b[43masarray\u001b[49m\u001b[43m(\u001b[49m\u001b[38;5;28;43mself\u001b[39;49m\u001b[38;5;241;43m.\u001b[39;49m\u001b[43m_values\u001b[49m\u001b[43m,\u001b[49m\u001b[43m \u001b[49m\u001b[43mdtype\u001b[49m\u001b[38;5;241;43m=\u001b[39;49m\u001b[43mdtype\u001b[49m\u001b[43m)\u001b[49m\n",
      "\u001b[1;31mValueError\u001b[0m: could not convert string to float: 'Monday'"
     ]
    }
   ],
   "source": [
    "## Preprocessing \n",
    "\n",
    "# train/val/test split\n",
    "train_df = df.loc[df['train_set'] ==1, :]\n",
    "val_df = df.loc[df['validation_set'] ==1, :]\n",
    "test_df = df.loc[df['test_set'] == 1, :] \n",
    "\n",
    "# Extract Y vars\n",
    "train_y = train_df['bg']\n",
    "val_y = val_df['bg']\n",
    "test_y = test_df['bg']\n",
    "\n",
    "# Drop non-X columns\n",
    "drop_cols = ['train_set', 'validation_set', 'test_set', 'bg']\n",
    "train_df = train_df.drop(labels=drop_cols, axis=1)\n",
    "val_df = val_df.drop(labels=drop_cols, axis=1)\n",
    "test_df = test_df.drop(labels=drop_cols, axis=1)\n",
    "\n",
    "\n",
    "\n",
    "## Scaling \n",
    "# select scaling columns\n",
    "ohe_cols = train_df.columns[train_df.columns.str.contains('ohe')]\n",
    "scaling_cols = train_df.columns.difference(ohe_cols)\n",
    "print(f\"one hot encoded columns: {ohe_cols}\")\n",
    "print(f\"scaling columns: {scaling_cols}\")\n",
    "\n",
    "scaler = MinMaxScaler()\n",
    "scaler.fit(train_df[scaling_cols])\n",
    "\n",
    "train_array = scaler.transform(train_df[scaling_cols])\n",
    "val_array = scaler.transform(val_df[scaling_cols])\n",
    "test_array = scaler.transform(test_df[scaling_cols])\n",
    "\n",
    "train_scaled_df = pd.DataFrame(train_array, columns=scaling_cols, index=train_df.index)\n",
    "val_scaled_df = pd.DataFrame(val_array, columns=scaling_cols, index=val_df.index)\n",
    "test_scaled_df = pd.DataFrame(test_array, columns=scaling_cols, index=test_df.index)\n",
    "\n",
    "train_df = pd.concat([train_scaled_df, train_df.loc[:,ohe_cols], train_y], axis=1)\n",
    "val_df = pd.concat([val_scaled_df, val_df.loc[:,ohe_cols], val_y], axis=1)\n",
    "test_df = pd.concat([test_scaled_df, test_df.loc[:,ohe_cols], test_y], axis=1)\n",
    "\n",
    "train_df.head()"
   ]
  },
  {
   "cell_type": "code",
   "execution_count": 6,
   "id": "8ebf0cf7-999b-405c-82e6-018723c182b0",
   "metadata": {},
   "outputs": [
    {
     "name": "stdout",
     "output_type": "stream",
     "text": [
      "24794 24794\n"
     ]
    }
   ],
   "source": [
    "# Coerce data to tensor format \n",
    "# [tensor([[ 0.5066, -0.4809, -1.4510,  0.3720, -1.3251]])\n",
    "#[\n",
    "#  Tensor- [X_1, X_2, ..., X_n]_{t-z}\n",
    "#  ... \n",
    "#  Tensor- [X_1, X_2, ..., X_n]_{t-2}\n",
    "#  Tensor- [X_1, X_2, ..., X_n]_{t-1}\n",
    "#]\n",
    "\n",
    "def df_to_X(df, window_size_hrs=6):\n",
    "    # Y was extracted earlier...\n",
    "    X = []\n",
    "#     y = []\n",
    "    window_delta = pd.Timedelta(hours=3)\n",
    "    earliest_time = min(df.index) + window_delta\n",
    "    latest_time = max(df.index) - window_delta\n",
    "    i = 0\n",
    "    for idx in df[earliest_time:latest_time].index:\n",
    "        window_df = df[idx - window_delta:idx]\n",
    "#         y.append([float(window_df.loc[idx]['bg'])])\n",
    "        X.append(window_df.loc[:, df.columns != 'bg'].values)\n",
    "        i +=1 \n",
    "    \n",
    "#     y = np.array(y)\n",
    "    return X #,y\n",
    "\n",
    "def df_to_Xy_tensors(df, window_size=12):\n",
    "    X = []\n",
    "    y = []\n",
    "    for idx in range(window_size, len(df)-window_size):\n",
    "        window_df = df.iloc[idx-window_size:idx]\n",
    "        X.append(window_df.loc[:, df.columns != 'bg'].values)\n",
    "        # The first element is the y value associated with the sequence of X values \n",
    "        y.append(window_df['bg'].iloc[0])\n",
    "    return X, y\n",
    "\n",
    "# train_X = df_to_X(train_df, window_size_hrs=3)\n",
    "# val_X = df_to_X(val_df, window_size_hrs=3)\n",
    "# test_X = df_to_X(test_df, window_size_hrs=3)\n",
    "\n",
    "train_X_seq, train_y_seq = df_to_Xy(train_df, window_size=12)\n",
    "print(len(train_X_seq), len(train_y_seq))\n",
    "val_X_seq, val_y_seq = df_to_Xy(val_df, window_size=12)\n",
    "test_X_seq, test_y_seq = df_to_Xy(test_df, window_size=12)"
   ]
  },
  {
   "cell_type": "code",
   "execution_count": 5,
   "id": "e9380411-b19d-4552-8158-7a9ea4c14861",
   "metadata": {},
   "outputs": [],
   "source": [
    "class Net(nn.Module):\n",
    "    \n",
    "    def __init__(self, input_size, hidden_size=8, num_lstm_layers=1, dropout=0):\n",
    "        super().__init__()\n",
    "        self.lstm = nn.LSTM(input_size=input_size,\n",
    "                            hidden_size=hidden_size,\n",
    "                            num_layers=num_lstm_layers,\n",
    "                            dropout=dropout)\n",
    "        self.fc1 = nn.Linear(hidden_size, 1)\n",
    "        \n",
    "    def forward(self, x):\n",
    "        lstm_out, _ = self.lstm(x)\n",
    "        x = self.fc1(lstm_out)\n",
    "        return x\n",
    "\n",
    "# net = Net(input_size=input_size)\n",
    "# net"
   ]
  },
  {
   "cell_type": "code",
   "execution_count": 75,
   "id": "7c648fdf-72c2-4f27-8efd-53f36f4f8f25",
   "metadata": {},
   "outputs": [
    {
     "data": {
      "text/plain": [
       "datetime.timedelta(microseconds=372403)"
      ]
     },
     "execution_count": 75,
     "metadata": {},
     "output_type": "execute_result"
    }
   ],
   "source": [
    "t = datetime.now()\n",
    "for i in range(10000000):\n",
    "    pass\n",
    "datetime.now() - t"
   ]
  },
  {
   "cell_type": "code",
   "execution_count": 82,
   "id": "e08d3d8d-235c-4b1a-b1b2-6a1ba78ed780",
   "metadata": {},
   "outputs": [],
   "source": [
    "def train_lstm(config, checkpoint_dir=None):\n",
    "    # Configure the network and send it to the device\n",
    "    # Width of the dataframe - 1 for the y variable \n",
    "    \n",
    "    # Load and clean data\n",
    "    print('loading')\n",
    "    raw_df = load_data_to_df()\n",
    "    \n",
    "#     engine = create_engine(config['data_loc'])\n",
    "#     conn = engine.connect()\n",
    "#     raw_df = pd.read_sql(\"select * from public.vw_final_dataset where subjectid = 2033176\", conn)\n",
    "\n",
    "    print('cleaning')\n",
    "    clean_df = clean_data(raw_df)\n",
    "    print(\"split and scaling\")\n",
    "    train_df, val_df, test_df = split_and_scale(clean_df)\n",
    "    # Process data for a given window_size\n",
    "    print(\"converting to tensors\")\n",
    "    window_size = config['window_size']\n",
    "    train_X, train_y = df_to_Xy_tensors(train_df, window_size=window_size)\n",
    "    val_X, val_y = df_to_Xy_tensors(val_df, window_size=window_size)\n",
    "    test_X, test_y = df_to_Xy_tensors(test_df, window_size=window_size)\n",
    "    print(\"Data processing finished\")\n",
    "    device = \"cpu\"\n",
    "    if torch.cuda.is_available():\n",
    "        device = \"cuda:0\"\n",
    "\n",
    "    train_X.to(device)\n",
    "    train_y.to(device)\n",
    "    val_X.to(device)\n",
    "    val_y.to(device)\n",
    "    \n",
    "    input_size = train_df.shape[1]-1\n",
    "    net = Net(input_size=input_size,\n",
    "              hidden_size=config['hidden_size'],\n",
    "              num_lstm_layers=config['num_lstm_layers'],\n",
    "              dropout=config['dropout'])\n",
    "    \n",
    "    if torch.cuda.device_count() > 1:\n",
    "        net = nn.DataParallel(net)     \n",
    "    net.to(device)\n",
    "    \n",
    "    \n",
    "    optimizer = optim.Adam(net.parameters(), lr=config['learning_rate'])\n",
    "    \n",
    "    # Checkpoint Dir Stuff -- handled by Tune \n",
    "    if checkpoint_dir:\n",
    "        checkpoint = os.path.join(checkpoint_dir, \"checkpoint\")\n",
    "        model_state, optimizer_state = torch.load(checkpoint)\n",
    "        net.load_state_dict(model_state)\n",
    "        optimizer.load_state_dict(optimizer_state)    \n",
    "    \n",
    "    # train\n",
    "    BATCH_SIZE = config['batch_size']\n",
    "    for epoch in range(config['epoch']):\n",
    "        epoch_start = datetime.now()\n",
    "        print(f\"Epoch: {epoch}\")\n",
    "        running_loss = 0\n",
    "        epoch_steps = 0\n",
    "        for i in range(0, len(train_X)-BATCH_SIZE, BATCH_SIZE):\n",
    "            X = train_X[i:i+BATCH_SIZE]\n",
    "            y = train_y[i:i+BATCH_SIZE]\n",
    "            net.zero_grad()\n",
    "            \n",
    "            out_seq = net(X)\n",
    "            first_dim, second_dim, _ = out_seq.shape\n",
    "            pred = out_seq.view(first_dim, second_dim)[:, -1]\n",
    "            loss = F.mse_loss(pred, y)\n",
    "            loss.backward()\n",
    "            \n",
    "            running_loss += loss.item()\n",
    "            epoch_steps += 1\n",
    "            \n",
    "            # Print loss every 1000 batches\n",
    "            if i % 1000 == 999:\n",
    "                avg_loss = running_loss / epoch_steps\n",
    "                print(f\"Epoch {epoch}, steps {epoch_steps-1000}:{epoch_steps} avg loss: {avg_loss}\")\n",
    "                running_loss = 0 \n",
    "                \n",
    "        # Validate each epoch\n",
    "        val_loss = 0\n",
    "        val_steps = 0\n",
    "        with torch.no_grad():\n",
    "            for i in range(0, len(val_X)-BATCH_SIZE, BATCH_SIZE):\n",
    "                X = val_X[i:i+BATCH_SIZE]\n",
    "                y = val_y[i:i+BATCH_SIZE]\n",
    "                out_seq = net(X)\n",
    "                first_dim, second_dim, _ = out_seq.shape\n",
    "                pred = out_seq.view(first_dim, second_dim)[:, -1]\n",
    "                loss = F.mse_loss(pred, y)\n",
    "                val_loss += loss.item()\n",
    "                val_steps += 1\n",
    "        \n",
    "        with tune.checkpoint_dir(step=epoch) as checkpoint_dir:\n",
    "            path = os.path.join(checkpoint_dir, \"checkpoint\")\n",
    "            torch.save((net.state_dict(), optimizer.state_dict()), path)\n",
    "            \n",
    "        tune.report(val_loss=(val_loss/val_steps), train_loss=(running_loss/epoch_steps))\n",
    "        print(f\"Finished epoch {epoch} in {datetime.now()-epoch_start}\")\n",
    "    print(\"finished!\")"
   ]
  },
  {
   "cell_type": "code",
   "execution_count": 51,
   "id": "8b179097-00c4-483d-993d-af3d4c0914fb",
   "metadata": {},
   "outputs": [],
   "source": [
    "import ray"
   ]
  },
  {
   "cell_type": "code",
   "execution_count": 89,
   "id": "5173e55b-5c77-4fb6-8616-f476def12497",
   "metadata": {},
   "outputs": [
    {
     "name": "stdout",
     "output_type": "stream",
     "text": [
      "Usage stats collection is enabled by default for nightly wheels. To disable this, run the following command: `ray disable-usage-stats` before starting Ray. See https://docs.ray.io/en/master/cluster/usage-stats.html for more details.\n"
     ]
    },
    {
     "data": {
      "text/html": [
       "<div>\n",
       "    <div style=\"margin-left: 50px;display: flex;flex-direction: row;align-items: center\">\n",
       "        <h3 style=\"color: var(--jp-ui-font-color0)\">Ray</h3>\n",
       "        <svg version=\"1.1\" id=\"ray\" width=\"3em\" viewBox=\"0 0 144.5 144.6\" style=\"margin-left: 3em;margin-right: 3em\">\n",
       "            <g id=\"layer-1\">\n",
       "                <path fill=\"#00a2e9\" class=\"st0\" d=\"M97.3,77.2c-3.8-1.1-6.2,0.9-8.3,5.1c-3.5,6.8-9.9,9.9-17.4,9.6S58,88.1,54.8,81.2c-1.4-3-3-4-6.3-4.1\n",
       "                    c-5.6-0.1-9.9,0.1-13.1,6.4c-3.8,7.6-13.6,10.2-21.8,7.6C5.2,88.4-0.4,80.5,0,71.7c0.1-8.4,5.7-15.8,13.8-18.2\n",
       "                    c8.4-2.6,17.5,0.7,22.3,8c1.3,1.9,1.3,5.2,3.6,5.6c3.9,0.6,8,0.2,12,0.2c1.8,0,1.9-1.6,2.4-2.8c3.5-7.8,9.7-11.8,18-11.9\n",
       "                    c8.2-0.1,14.4,3.9,17.8,11.4c1.3,2.8,2.9,3.6,5.7,3.3c1-0.1,2,0.1,3,0c2.8-0.5,6.4,1.7,8.1-2.7s-2.3-5.5-4.1-7.5\n",
       "                    c-5.1-5.7-10.9-10.8-16.1-16.3C84,38,81.9,37.1,78,38.3C66.7,42,56.2,35.7,53,24.1C50.3,14,57.3,2.8,67.7,0.5\n",
       "                    C78.4-2,89,4.7,91.5,15.3c0.1,0.3,0.1,0.5,0.2,0.8c0.7,3.4,0.7,6.9-0.8,9.8c-1.7,3.2-0.8,5,1.5,7.2c6.7,6.5,13.3,13,19.8,19.7\n",
       "                    c1.8,1.8,3,2.1,5.5,1.2c9.1-3.4,17.9-0.6,23.4,7c4.8,6.9,4.6,16.1-0.4,22.9c-5.4,7.2-14.2,9.9-23.1,6.5c-2.3-0.9-3.5-0.6-5.1,1.1\n",
       "                    c-6.7,6.9-13.6,13.7-20.5,20.4c-1.8,1.8-2.5,3.2-1.4,5.9c3.5,8.7,0.3,18.6-7.7,23.6c-7.9,5-18.2,3.8-24.8-2.9\n",
       "                    c-6.4-6.4-7.4-16.2-2.5-24.3c4.9-7.8,14.5-11,23.1-7.8c3,1.1,4.7,0.5,6.9-1.7C91.7,98.4,98,92.3,104.2,86c1.6-1.6,4.1-2.7,2.6-6.2\n",
       "                    c-1.4-3.3-3.8-2.5-6.2-2.6C99.8,77.2,98.9,77.2,97.3,77.2z M72.1,29.7c5.5,0.1,9.9-4.3,10-9.8c0-0.1,0-0.2,0-0.3\n",
       "                    C81.8,14,77,9.8,71.5,10.2c-5,0.3-9,4.2-9.3,9.2c-0.2,5.5,4,10.1,9.5,10.3C71.8,29.7,72,29.7,72.1,29.7z M72.3,62.3\n",
       "                    c-5.4-0.1-9.9,4.2-10.1,9.7c0,0.2,0,0.3,0,0.5c0.2,5.4,4.5,9.7,9.9,10c5.1,0.1,9.9-4.7,10.1-9.8c0.2-5.5-4-10-9.5-10.3\n",
       "                    C72.6,62.3,72.4,62.3,72.3,62.3z M115,72.5c0.1,5.4,4.5,9.7,9.8,9.9c5.6-0.2,10-4.8,10-10.4c-0.2-5.4-4.6-9.7-10-9.7\n",
       "                    c-5.3-0.1-9.8,4.2-9.9,9.5C115,72.1,115,72.3,115,72.5z M19.5,62.3c-5.4,0.1-9.8,4.4-10,9.8c-0.1,5.1,5.2,10.4,10.2,10.3\n",
       "                    c5.6-0.2,10-4.9,9.8-10.5c-0.1-5.4-4.5-9.7-9.9-9.6C19.6,62.3,19.5,62.3,19.5,62.3z M71.8,134.6c5.9,0.2,10.3-3.9,10.4-9.6\n",
       "                    c0.5-5.5-3.6-10.4-9.1-10.8c-5.5-0.5-10.4,3.6-10.8,9.1c0,0.5,0,0.9,0,1.4c-0.2,5.3,4,9.8,9.3,10\n",
       "                    C71.6,134.6,71.7,134.6,71.8,134.6z\"/>\n",
       "            </g>\n",
       "        </svg>\n",
       "        <table>\n",
       "            <tr>\n",
       "                <td style=\"text-align: left\"><b>Python version:</b></td>\n",
       "                <td style=\"text-align: left\"><b>3.10.1</b></td>\n",
       "            </tr>\n",
       "            <tr>\n",
       "                <td style=\"text-align: left\"><b>Ray version:</b></td>\n",
       "                <td style=\"text-align: left\"><b> 3.0.0.dev0</b></td>\n",
       "            </tr>\n",
       "            \n",
       "        </table>\n",
       "    </div>\n",
       "</div>\n"
      ],
      "text/plain": [
       "RayContext(dashboard_url='', python_version='3.10.1', ray_version='3.0.0.dev0', ray_commit='00947fd949624f8473ac33929f426fbf2846e91a', address_info={'node_ip_address': '127.0.0.1', 'raylet_ip_address': '127.0.0.1', 'redis_address': None, 'object_store_address': 'tcp://127.0.0.1:55253', 'raylet_socket_name': 'tcp://127.0.0.1:61264', 'webui_url': '', 'session_dir': 'C:\\\\Users\\\\spenc\\\\AppData\\\\Local\\\\Temp\\\\ray\\\\session_2022-07-21_17-13-48_881570_28504', 'metrics_export_port': 63033, 'gcs_address': '127.0.0.1:63604', 'address': '127.0.0.1:63604', 'dashboard_agent_listen_port': 52365, 'node_id': 'bfddd2cd8f6a70bb41481c9d9acd19ce34a068e1788a43d116c1c486'})"
      ]
     },
     "execution_count": 89,
     "metadata": {},
     "output_type": "execute_result"
    }
   ],
   "source": [
    "ray.shutdown()\n",
    "ray.init()"
   ]
  },
  {
   "cell_type": "code",
   "execution_count": 90,
   "id": "1713c5b7-769a-4c98-bda8-48103fb381d3",
   "metadata": {},
   "outputs": [
    {
     "data": {
      "text/html": [
       "== Status ==<br>Current time: 2022-07-21 17:14:49 (running for 00:00:56.39)<br>Memory usage on this node: 9.6/11.7 GiB<br>Using FIFO scheduling algorithm.<br>Resources requested: 0/8 CPUs, 0/0 GPUs, 0.0/1.68 GiB heap, 0.0/0.84 GiB objects<br>Result logdir: C:\\Users\\spenc\\ray_results\\train_lstm_2022-07-21_17-13-53<br>Number of trials: 1/1 (1 TERMINATED)<br><table>\n",
       "<thead>\n",
       "<tr><th>Trial name            </th><th>status    </th><th>loc            </th><th style=\"text-align: right;\">  batch_size</th><th style=\"text-align: right;\">  dropout</th><th style=\"text-align: right;\">  epoch</th><th style=\"text-align: right;\">  hidden_size</th><th style=\"text-align: right;\">  learning_rate</th><th style=\"text-align: right;\">  num_lstm_layers</th><th style=\"text-align: right;\">  window_size</th><th style=\"text-align: right;\">  val_loss</th><th style=\"text-align: right;\">  training_iteration</th></tr>\n",
       "</thead>\n",
       "<tbody>\n",
       "<tr><td>train_lstm_06101_00000</td><td>TERMINATED</td><td>127.0.0.1:25720</td><td style=\"text-align: right;\">           8</td><td style=\"text-align: right;\">        0</td><td style=\"text-align: right;\">      2</td><td style=\"text-align: right;\">            2</td><td style=\"text-align: right;\">      0.0248484</td><td style=\"text-align: right;\">                1</td><td style=\"text-align: right;\">            6</td><td style=\"text-align: right;\">   17120.2</td><td style=\"text-align: right;\">                   2</td></tr>\n",
       "</tbody>\n",
       "</table><br><br>"
      ],
      "text/plain": [
       "<IPython.core.display.HTML object>"
      ]
     },
     "metadata": {},
     "output_type": "display_data"
    },
    {
     "name": "stdout",
     "output_type": "stream",
     "text": [
      "\u001b[2m\u001b[36m(func pid=25720)\u001b[0m loading\n",
      "\u001b[2m\u001b[36m(func pid=25720)\u001b[0m cleaning\n",
      "\u001b[2m\u001b[36m(func pid=25720)\u001b[0m Null values to be filled by column:\n",
      "\u001b[2m\u001b[36m(func pid=25720)\u001b[0m bg_lag_1 83\n",
      "\u001b[2m\u001b[36m(func pid=25720)\u001b[0m bg_lag_2 83\n",
      "\u001b[2m\u001b[36m(func pid=25720)\u001b[0m bg_lag_3 85\n",
      "\u001b[2m\u001b[36m(func pid=25720)\u001b[0m bg_lag_4 86\n",
      "\u001b[2m\u001b[36m(func pid=25720)\u001b[0m bg_lag_5 86\n",
      "\u001b[2m\u001b[36m(func pid=25720)\u001b[0m bg_lag_6 88\n",
      "\u001b[2m\u001b[36m(func pid=25720)\u001b[0m bg_lag_7 89\n",
      "\u001b[2m\u001b[36m(func pid=25720)\u001b[0m bg_lag_8 90\n",
      "\u001b[2m\u001b[36m(func pid=25720)\u001b[0m bg_lag_9 91\n",
      "\u001b[2m\u001b[36m(func pid=25720)\u001b[0m bg_lag_10 92\n",
      "\u001b[2m\u001b[36m(func pid=25720)\u001b[0m bg_lag_11 92\n",
      "\u001b[2m\u001b[36m(func pid=25720)\u001b[0m bg_lag_12 94\n",
      "\u001b[2m\u001b[36m(func pid=25720)\u001b[0m split and scaling\n",
      "\u001b[2m\u001b[36m(func pid=25720)\u001b[0m 148 one hot encoded columns \n",
      "\u001b[2m\u001b[36m(func pid=25720)\u001b[0m 23 scaled columns\n",
      "\u001b[2m\u001b[36m(func pid=25720)\u001b[0m converting to tensors\n",
      "\u001b[2m\u001b[36m(func pid=25720)\u001b[0m Data processing finished\n",
      "\u001b[2m\u001b[36m(func pid=25720)\u001b[0m Epoch: 0\n",
      "Result for train_lstm_06101_00000:\n",
      "  date: 2022-07-21_17-14-44\n",
      "  done: false\n",
      "  experiment_id: 509709f5c4f84b7fa7c7f238bc871784\n",
      "  hostname: DESKTOP-LUAPM5T\n",
      "  iterations_since_restore: 1\n",
      "  node_ip: 127.0.0.1\n",
      "  pid: 25720\n",
      "  should_checkpoint: true\n",
      "  time_since_restore: 47.087101459503174\n",
      "  time_this_iter_s: 47.087101459503174\n",
      "  time_total_s: 47.087101459503174\n",
      "  timestamp: 1658438084\n",
      "  timesteps_since_restore: 0\n",
      "  train_loss: 19090.785156328755\n",
      "  training_iteration: 1\n",
      "  trial_id: '06101_00000'\n",
      "  val_loss: 17120.19303518827\n",
      "  warmup_time: 0.0049839019775390625\n",
      "  \n",
      "\u001b[2m\u001b[36m(func pid=25720)\u001b[0m Finished epoch 0 in 0:00:05.014433\n",
      "\u001b[2m\u001b[36m(func pid=25720)\u001b[0m Epoch: 1\n"
     ]
    },
    {
     "name": "stderr",
     "output_type": "stream",
     "text": [
      "\u001b[2m\u001b[36m(func pid=25720)\u001b[0m C:\\Users\\spenc\\AppData\\Local\\pypoetry\\Cache\\virtualenvs\\bgpredict-zZmw8Ikr-py3.10\\lib\\site-packages\\torch\\nn\\modules\\module.py:1402: UserWarning: positional arguments and argument \"destination\" are deprecated. nn.Module.state_dict will not accept them in the future. Refer to https://pytorch.org/docs/master/generated/torch.nn.Module.html#torch.nn.Module.state_dict for details.\n",
      "\u001b[2m\u001b[36m(func pid=25720)\u001b[0m   warnings.warn(\n"
     ]
    },
    {
     "name": "stdout",
     "output_type": "stream",
     "text": [
      "\u001b[2m\u001b[36m(func pid=25720)\u001b[0m Finished epoch 1 in 0:00:04.745428\n",
      "\u001b[2m\u001b[36m(func pid=25720)\u001b[0m finished!\n",
      "Result for train_lstm_06101_00000:\n",
      "  date: 2022-07-21_17-14-49\n",
      "  done: true\n",
      "  experiment_id: 509709f5c4f84b7fa7c7f238bc871784\n",
      "  experiment_tag: 0_batch_size=8,dropout=0.0000,epoch=2,hidden_size=2,learning_rate=0.0248,num_lstm_layers=1,window_size=6\n",
      "  hostname: DESKTOP-LUAPM5T\n",
      "  iterations_since_restore: 2\n",
      "  node_ip: 127.0.0.1\n",
      "  pid: 25720\n",
      "  should_checkpoint: true\n",
      "  time_since_restore: 51.821879863739014\n",
      "  time_this_iter_s: 4.73477840423584\n",
      "  time_total_s: 51.821879863739014\n",
      "  timestamp: 1658438089\n",
      "  timesteps_since_restore: 0\n",
      "  train_loss: 19090.785156328755\n",
      "  training_iteration: 2\n",
      "  trial_id: '06101_00000'\n",
      "  val_loss: 17120.19303518827\n",
      "  warmup_time: 0.0049839019775390625\n",
      "  \n"
     ]
    },
    {
     "name": "stderr",
     "output_type": "stream",
     "text": [
      "2022-07-21 17:14:49,788\tINFO tune.py:737 -- Total run time: 56.52 seconds (56.38 seconds for the tuning loop).\n",
      "\u001b[2m\u001b[36m(pid=)\u001b[0m [2022-07-21 17:15:30,847 E 21788 29964] (raylet.exe) agent_manager.cc:112: The raylet exited immediately because the Ray agent failed. The raylet fate shares with the agent. This can happen because the Ray agent was unexpectedly killed or failed. See `dashboard_agent.log` for the root cause.\n",
      "\u001b[2m\u001b[36m(pid=)\u001b[0m [2022-07-21 17:15:32,884 E 6556 20744] (gcs_server.exe) gcs_server.cc:295: Failed to get the resource load: GrpcUnavailable: RPC Error message: failed to connect to all addresses; RPC Error details: \n",
      "\u001b[2m\u001b[36m(pid=)\u001b[0m [2022-07-21 17:15:32,884 E 6556 20744] (gcs_server.exe) gcs_server.cc:295: Failed to get the resource load: GrpcUnavailable: RPC Error message: failed to connect to all addresses; RPC Error details: \n",
      "\u001b[2m\u001b[36m(pid=)\u001b[0m [2022-07-21 17:15:33,845 E 6556 20744] (gcs_server.exe) gcs_server.cc:295: Failed to get the resource load: GrpcUnavailable: RPC Error message: failed to connect to all addresses; RPC Error details: \n",
      "\u001b[2m\u001b[36m(pid=)\u001b[0m [2022-07-21 17:15:34,855 E 6556 20744] (gcs_server.exe) gcs_server.cc:295: Failed to get the resource load: GrpcUnavailable: RPC Error message: failed to connect to all addresses; RPC Error details: \n",
      "\u001b[2m\u001b[36m(pid=)\u001b[0m [2022-07-21 17:15:35,855 E 6556 20744] (gcs_server.exe) gcs_server.cc:295: Failed to get the resource load: GrpcUnavailable: RPC Error message: failed to connect to all addresses; RPC Error details: \n",
      "\u001b[2m\u001b[36m(pid=)\u001b[0m [2022-07-21 17:15:36,867 E 6556 20744] (gcs_server.exe) gcs_server.cc:295: Failed to get the resource load: GrpcUnavailable: RPC Error message: failed to connect to all addresses; RPC Error details: \n",
      "\u001b[2m\u001b[36m(pid=)\u001b[0m [2022-07-21 17:15:37,881 E 6556 20744] (gcs_server.exe) gcs_server.cc:295: Failed to get the resource load: GrpcUnavailable: RPC Error message: failed to connect to all addresses; RPC Error details: \n",
      "\u001b[2m\u001b[36m(pid=)\u001b[0m [2022-07-21 17:15:38,891 E 6556 20744] (gcs_server.exe) gcs_server.cc:295: Failed to get the resource load: GrpcUnavailable: RPC Error message: failed to connect to all addresses; RPC Error details: \n",
      "\u001b[2m\u001b[36m(pid=)\u001b[0m [2022-07-21 17:15:39,893 E 6556 20744] (gcs_server.exe) gcs_server.cc:295: Failed to get the resource load: GrpcUnavailable: RPC Error message: failed to connect to all addresses; RPC Error details: \n",
      "\u001b[2m\u001b[36m(pid=)\u001b[0m [2022-07-21 17:15:40,903 E 6556 20744] (gcs_server.exe) gcs_server.cc:295: Failed to get the resource load: GrpcUnavailable: RPC Error message: failed to connect to all addresses; RPC Error details: \n",
      "\u001b[2m\u001b[36m(pid=)\u001b[0m [2022-07-21 17:15:41,911 E 6556 20744] (gcs_server.exe) gcs_server.cc:295: Failed to get the resource load: GrpcUnavailable: RPC Error message: failed to connect to all addresses; RPC Error details: \n",
      "\u001b[2m\u001b[36m(pid=)\u001b[0m [2022-07-21 17:15:42,917 E 6556 20744] (gcs_server.exe) gcs_server.cc:295: Failed to get the resource load: GrpcUnavailable: RPC Error message: failed to connect to all addresses; RPC Error details: \n",
      "\u001b[2m\u001b[36m(pid=)\u001b[0m [2022-07-21 17:15:43,932 E 6556 20744] (gcs_server.exe) gcs_server.cc:295: Failed to get the resource load: GrpcUnavailable: RPC Error message: failed to connect to all addresses; RPC Error details: \n",
      "\u001b[2m\u001b[36m(pid=)\u001b[0m [2022-07-21 17:15:44,946 E 6556 20744] (gcs_server.exe) gcs_server.cc:295: Failed to get the resource load: GrpcUnavailable: RPC Error message: failed to connect to all addresses; RPC Error details: \n",
      "\u001b[2m\u001b[36m(pid=)\u001b[0m [2022-07-21 17:15:45,955 E 6556 20744] (gcs_server.exe) gcs_server.cc:295: Failed to get the resource load: GrpcUnavailable: RPC Error message: failed to connect to all addresses; RPC Error details: \n",
      "\u001b[2m\u001b[36m(pid=)\u001b[0m [2022-07-21 17:15:46,961 E 6556 20744] (gcs_server.exe) gcs_server.cc:295: Failed to get the resource load: GrpcUnavailable: RPC Error message: failed to connect to all addresses; RPC Error details: \n",
      "\u001b[2m\u001b[36m(pid=)\u001b[0m [2022-07-21 17:15:47,963 E 6556 20744] (gcs_server.exe) gcs_server.cc:295: Failed to get the resource load: GrpcUnavailable: RPC Error message: failed to connect to all addresses; RPC Error details: \n",
      "\u001b[2m\u001b[36m(pid=)\u001b[0m [2022-07-21 17:15:48,965 E 6556 20744] (gcs_server.exe) gcs_server.cc:295: Failed to get the resource load: GrpcUnavailable: RPC Error message: failed to connect to all addresses; RPC Error details: \n",
      "\u001b[2m\u001b[36m(pid=)\u001b[0m [2022-07-21 17:15:49,977 E 6556 20744] (gcs_server.exe) gcs_server.cc:295: Failed to get the resource load: GrpcUnavailable: RPC Error message: failed to connect to all addresses; RPC Error details: \n",
      "\u001b[2m\u001b[36m(pid=)\u001b[0m [2022-07-21 17:15:50,992 E 6556 20744] (gcs_server.exe) gcs_server.cc:295: Failed to get the resource load: GrpcUnavailable: RPC Error message: failed to connect to all addresses; RPC Error details: \n",
      "\u001b[2m\u001b[36m(pid=)\u001b[0m [2022-07-21 17:15:52,003 E 6556 20744] (gcs_server.exe) gcs_server.cc:295: Failed to get the resource load: GrpcUnavailable: RPC Error message: failed to connect to all addresses; RPC Error details: \n",
      "\u001b[2m\u001b[36m(pid=)\u001b[0m [2022-07-21 17:15:53,013 E 6556 20744] (gcs_server.exe) gcs_server.cc:295: Failed to get the resource load: GrpcUnavailable: RPC Error message: failed to connect to all addresses; RPC Error details: \n",
      "\u001b[2m\u001b[36m(pid=)\u001b[0m [2022-07-21 17:15:54,015 E 6556 20744] (gcs_server.exe) gcs_server.cc:295: Failed to get the resource load: GrpcUnavailable: RPC Error message: failed to connect to all addresses; RPC Error details: \n",
      "\u001b[2m\u001b[36m(pid=)\u001b[0m [2022-07-21 17:15:55,018 E 6556 20744] (gcs_server.exe) gcs_server.cc:295: Failed to get the resource load: GrpcUnavailable: RPC Error message: failed to connect to all addresses; RPC Error details: \n",
      "\u001b[2m\u001b[36m(pid=)\u001b[0m [2022-07-21 17:15:56,021 E 6556 20744] (gcs_server.exe) gcs_server.cc:295: Failed to get the resource load: GrpcUnavailable: RPC Error message: failed to connect to all addresses; RPC Error details: \n",
      "\u001b[2m\u001b[36m(pid=)\u001b[0m [2022-07-21 17:15:57,027 E 6556 20744] (gcs_server.exe) gcs_server.cc:295: Failed to get the resource load: GrpcUnavailable: RPC Error message: failed to connect to all addresses; RPC Error details: \n",
      "\u001b[2m\u001b[36m(pid=)\u001b[0m [2022-07-21 17:15:58,030 E 6556 20744] (gcs_server.exe) gcs_server.cc:295: Failed to get the resource load: GrpcUnavailable: RPC Error message: failed to connect to all addresses; RPC Error details: \n",
      "\u001b[2m\u001b[36m(pid=)\u001b[0m [2022-07-21 17:15:59,045 E 6556 20744] (gcs_server.exe) gcs_server.cc:295: Failed to get the resource load: GrpcUnavailable: RPC Error message: failed to connect to all addresses; RPC Error details: \n",
      "2022-07-21 17:15:59,983\tWARNING worker.py:1750 -- The node with node id: bfddd2cd8f6a70bb41481c9d9acd19ce34a068e1788a43d116c1c486 and address: 127.0.0.1 and node name: 127.0.0.1 has been marked dead because the detector has missed too many heartbeats from it. This can happen when a \t(1) raylet crashes unexpectedly (OOM, preempted node, etc.) \n",
      "\t(2) raylet has lagging heartbeats due to slow network or busy workload.\n"
     ]
    }
   ],
   "source": [
    "config= {\n",
    "    'hidden_size': tune.sample_from(lambda spec: 2 * np.random.randint(1,2)) ,\n",
    "    'num_lstm_layers': tune.sample_from(lambda spec: 1 * np.random.randint(1,2)),\n",
    "    'dropout': tune.sample_from(lambda spec: 0.1 * np.random.randint(0,1)),\n",
    "    'learning_rate': tune.sample_from(lambda spec: 10 ** (-10 * np.random.rand())),\n",
    "    'window_size': tune.sample_from(lambda spec: 6 * np.random.randint(1,2)),\n",
    "    'batch_size': tune.sample_from(lambda spec: 8 * np.random.randint(1,2)),\n",
    "    'epoch': tune.sample_from(lambda spec: 2 * np.random.randint(1,2)),\n",
    "    'data_loc': f\"postgresql://postgres:{os.environ.get('db_password')}@{os.environ.get('db_location')}\"\n",
    "}\n",
    "scheduler = ASHAScheduler(\n",
    "    metric=\"val_loss\",\n",
    "    mode=\"min\",\n",
    "    max_t=10,\n",
    "    grace_period=1,\n",
    "    reduction_factor=2)\n",
    "\n",
    "reporter = JupyterNotebookReporter(\n",
    "    metric_columns = [\"val_loss\", \"loss\", \"training_iteration\"]\n",
    ")\n",
    "\n",
    "result= tune.run(\n",
    "    partial(train_lstm),\n",
    "    resources_per_trial={\"cpu\":3},\n",
    "    config=config,\n",
    "    num_samples=1,\n",
    "    progress_reporter=reporter\n",
    ")"
   ]
  },
  {
   "cell_type": "code",
   "execution_count": 96,
   "id": "deea9492-855c-4382-b18b-af29c1f646c4",
   "metadata": {},
   "outputs": [],
   "source": [
    "best_trial = result.get_best_trial('val_loss', 'min', 'last')"
   ]
  },
  {
   "cell_type": "code",
   "execution_count": 1,
   "id": "06de1184-79c1-4a37-b9a7-6624e6643bc2",
   "metadata": {},
   "outputs": [
    {
     "ename": "NameError",
     "evalue": "name 'best_trial' is not defined",
     "output_type": "error",
     "traceback": [
      "\u001b[1;31m---------------------------------------------------------------------------\u001b[0m",
      "\u001b[1;31mNameError\u001b[0m                                 Traceback (most recent call last)",
      "Input \u001b[1;32mIn [1]\u001b[0m, in \u001b[0;36m<cell line: 1>\u001b[1;34m()\u001b[0m\n\u001b[1;32m----> 1\u001b[0m \u001b[38;5;28mprint\u001b[39m(\u001b[38;5;124m\"\u001b[39m\u001b[38;5;124mBest trial config: \u001b[39m\u001b[38;5;132;01m{}\u001b[39;00m\u001b[38;5;124m\"\u001b[39m\u001b[38;5;241m.\u001b[39mformat(\u001b[43mbest_trial\u001b[49m\u001b[38;5;241m.\u001b[39mconfig))\n\u001b[0;32m      2\u001b[0m \u001b[38;5;28mprint\u001b[39m(\u001b[38;5;124m\"\u001b[39m\u001b[38;5;124mBest trial final validation loss: \u001b[39m\u001b[38;5;132;01m{}\u001b[39;00m\u001b[38;5;124m\"\u001b[39m\u001b[38;5;241m.\u001b[39mformat(\n\u001b[0;32m      3\u001b[0m     best_trial\u001b[38;5;241m.\u001b[39mlast_result[\u001b[38;5;124m\"\u001b[39m\u001b[38;5;124mval_loss\u001b[39m\u001b[38;5;124m\"\u001b[39m]))\n",
      "\u001b[1;31mNameError\u001b[0m: name 'best_trial' is not defined"
     ]
    }
   ],
   "source": [
    "print(\"Best trial config: {}\".format(best_trial.config))\n",
    "print(\"Best trial final validation loss: {}\".format(\n",
    "    best_trial.last_result[\"val_loss\"]))"
   ]
  },
  {
   "cell_type": "code",
   "execution_count": 113,
   "id": "ea298fd8-fa2e-42a9-aeae-5b7318a338b8",
   "metadata": {},
   "outputs": [
    {
     "name": "stdout",
     "output_type": "stream",
     "text": [
      "Epoch: 0\n"
     ]
    },
    {
     "ename": "NameError",
     "evalue": "name 'loss' is not defined",
     "output_type": "error",
     "traceback": [
      "\u001b[1;31m---------------------------------------------------------------------------\u001b[0m",
      "\u001b[1;31mNameError\u001b[0m                                 Traceback (most recent call last)",
      "Input \u001b[1;32mIn [113]\u001b[0m, in \u001b[0;36m<cell line: 9>\u001b[1;34m()\u001b[0m\n\u001b[0;32m     32\u001b[0m             val_losses\u001b[38;5;241m.\u001b[39mappend((val_loss, iter_idx))\n\u001b[0;32m     33\u001b[0m     iter_idx \u001b[38;5;241m+\u001b[39m\u001b[38;5;241m=\u001b[39m\u001b[38;5;241m1\u001b[39m\n\u001b[1;32m---> 35\u001b[0m \u001b[38;5;28mprint\u001b[39m(\u001b[38;5;124m\"\u001b[39m\u001b[38;5;124mLoss:\u001b[39m\u001b[38;5;124m\"\u001b[39m, \u001b[43mloss\u001b[49m)    \n\u001b[0;32m     36\u001b[0m \u001b[38;5;28mprint\u001b[39m(\u001b[38;5;124m\"\u001b[39m\u001b[38;5;124mval_loss:\u001b[39m\u001b[38;5;124m\"\u001b[39m, val_loss)\n",
      "\u001b[1;31mNameError\u001b[0m: name 'loss' is not defined"
     ]
    }
   ],
   "source": [
    "# First try with real data\n",
    "losses = []\n",
    "val_losses = []\n",
    "BATCH_SIZE = 8\n",
    "optimizer = optim.Adam(net.parameters(), lr=0.01)\n",
    "iter_idx = 0 \n",
    "train_X = tensorset.train_X\n",
    "train_y = tensorset.train_y\n",
    "for epoch in range(50):\n",
    "    print(f\"Epoch: {epoch}\")\n",
    "    for i in range(0, len(train_X_tens)-BATCH_SIZE, BATCH_SIZE):\n",
    "        X = train_X[i:i+BATCH_SIZE]\n",
    "        y = train_y[i:i+BATCH_SIZE]\n",
    "        net.zero_grad()\n",
    "        out_seq = net(X)\n",
    "        break\n",
    "        first_dim, second_dim, _ = out_seq.shape\n",
    "        pred = out_seq.view(first_dim, second_dim)[:, -1]\n",
    "        loss = F.mse_loss(pred, y)\n",
    "        losses.append(loss)\n",
    "        loss.backward()\n",
    "        optimizer.step()\n",
    "        if iter_idx % 50 == 0:\n",
    "            with torch.no_grad():\n",
    "                random_start = np.random.randint(len(val_X_tens)-BATCH_SIZE)\n",
    "                X = val_X_tens[random_start:random_start+BATCH_SIZE] \n",
    "                y = val_y_tens[random_start:random_start+BATCH_SIZE]\n",
    "                out_seq = net(X)\n",
    "                first_dim, second_dim, _ = out_seq.shape\n",
    "                pred = out_seq.view(first_dim, second_dim)[:, -1]\n",
    "                val_loss = F.mse_loss(pred, y)\n",
    "                val_losses.append((val_loss, iter_idx))\n",
    "        iter_idx +=1\n",
    "        \n",
    "    print(\"Loss:\", loss)    \n",
    "    print(\"val_loss:\", val_loss)"
   ]
  },
  {
   "cell_type": "code",
   "execution_count": 114,
   "id": "8ec0cf5d-0637-4533-a6f3-bda6f9d7decd",
   "metadata": {},
   "outputs": [
    {
     "name": "stdout",
     "output_type": "stream",
     "text": [
      "torch.Size([8])\n",
      "torch.Size([8, 12, 171])\n",
      "torch.Size([8, 12, 1])\n",
      "tensor([211., 214., 214., 206., 196., 187., 167., 157.])\n",
      "tensor([ 0.0354,  0.0035, -0.0315, -0.0402, -0.0322, -0.0221, -0.0262, -0.0298],\n",
      "       grad_fn=<SelectBackward0>)\n"
     ]
    }
   ],
   "source": [
    "print(y.shape)\n",
    "print(X.shape)\n",
    "print(out_seq.shape)\n",
    "print(y)\n",
    "first_dim, second_dim, _ = out_seq.shape\n",
    "pred = out_seq.view(first_dim, second_dim)[:, -1]\n",
    "print(pred)"
   ]
  },
  {
   "cell_type": "code",
   "execution_count": 453,
   "id": "747dd4c4-7091-4caf-a90c-9bc79528bfe4",
   "metadata": {},
   "outputs": [
    {
     "data": {
      "text/plain": [
       "15495"
      ]
     },
     "execution_count": 453,
     "metadata": {},
     "output_type": "execute_result"
    }
   ],
   "source": [
    "val_losses[0:5]\n",
    "len(losses)"
   ]
  },
  {
   "cell_type": "code",
   "execution_count": 469,
   "id": "ab201803-e8d7-45fc-9d78-806d0583086c",
   "metadata": {},
   "outputs": [],
   "source": [
    "losses_plt = [i.item() for i in losses]\n",
    "val_losses_vals = [i[0].item() for i in val_losses]\n",
    "val_losses_idx = [i[1] for i in val_losses]"
   ]
  },
  {
   "cell_type": "code",
   "execution_count": 474,
   "id": "b7f0af25-a9bb-4ca3-b91c-9c800722c3dc",
   "metadata": {},
   "outputs": [
    {
     "data": {
      "text/plain": [
       "(0.0, 10000.0)"
      ]
     },
     "execution_count": 474,
     "metadata": {},
     "output_type": "execute_result"
    },
    {
     "data": {
      "image/png": "[encoded data removed]",
      "text/plain": [
       "<Figure size 432x288 with 1 Axes>"
      ]
     },
     "metadata": {
      "needs_background": "light"
     },
     "output_type": "display_data"
    }
   ],
   "source": [
    "# plt.plot([i[0].item() for i in val_losses])\n",
    "plt.plot(losses_plt, color='blue')\n",
    "plt.plot(val_losses_idx, val_losses_vals, color='red')\n",
    "plt.xlim(20000, 160000)\n",
    "plt.ylim(0,10000)"
   ]
  },
  {
   "cell_type": "code",
   "execution_count": 473,
   "id": "816205cb-36f5-4fc4-9dbf-6c62a87d4da3",
   "metadata": {},
   "outputs": [
    {
     "data": {
      "text/plain": [
       "117.23619236927281"
      ]
     },
     "execution_count": 473,
     "metadata": {},
     "output_type": "execute_result"
    }
   ],
   "source": [
    "np.mean(val_losses_vals)"
   ]
  },
  {
   "cell_type": "code",
   "execution_count": 407,
   "id": "cfc159a0-c457-4adf-8283-4d072b5f5bb5",
   "metadata": {},
   "outputs": [
    {
     "ename": "ValueError",
     "evalue": "only one element tensors can be converted to Python scalars",
     "output_type": "error",
     "traceback": [
      "\u001b[1;31m---------------------------------------------------------------------------\u001b[0m",
      "\u001b[1;31mValueError\u001b[0m                                Traceback (most recent call last)",
      "Input \u001b[1;32mIn [407]\u001b[0m, in \u001b[0;36m<cell line: 1>\u001b[1;34m()\u001b[0m\n\u001b[0;32m      1\u001b[0m \u001b[38;5;28;01mwith\u001b[39;00m torch\u001b[38;5;241m.\u001b[39mno_grad():\n\u001b[1;32m----> 2\u001b[0m     pred \u001b[38;5;241m=\u001b[39m [net(i)\u001b[38;5;241m.\u001b[39mitem() \u001b[38;5;28;01mfor\u001b[39;00m i \u001b[38;5;129;01min\u001b[39;00m val_X_tens[\u001b[38;5;241m1000\u001b[39m:\u001b[38;5;241m5000\u001b[39m]]\n",
      "Input \u001b[1;32mIn [407]\u001b[0m, in \u001b[0;36m<listcomp>\u001b[1;34m(.0)\u001b[0m\n\u001b[0;32m      1\u001b[0m \u001b[38;5;28;01mwith\u001b[39;00m torch\u001b[38;5;241m.\u001b[39mno_grad():\n\u001b[1;32m----> 2\u001b[0m     pred \u001b[38;5;241m=\u001b[39m [\u001b[43mnet\u001b[49m\u001b[43m(\u001b[49m\u001b[43mi\u001b[49m\u001b[43m)\u001b[49m\u001b[38;5;241;43m.\u001b[39;49m\u001b[43mitem\u001b[49m\u001b[43m(\u001b[49m\u001b[43m)\u001b[49m \u001b[38;5;28;01mfor\u001b[39;00m i \u001b[38;5;129;01min\u001b[39;00m val_X_tens[\u001b[38;5;241m1000\u001b[39m:\u001b[38;5;241m5000\u001b[39m]]\n",
      "\u001b[1;31mValueError\u001b[0m: only one element tensors can be converted to Python scalars"
     ]
    }
   ],
   "source": [
    "with torch.no_grad():\n",
    "    out_seq = net(val_X_tens)\n",
    "    first_dim, second_dim, _ = out_seq.shape\n",
    "    pred = out_seq.view(first_dim, second_dim)[:, -1]\n"
   ]
  },
  {
   "cell_type": "code",
   "execution_count": 274,
   "id": "98873866-b20e-4459-aeb6-dae706d8d368",
   "metadata": {},
   "outputs": [
    {
     "name": "stdout",
     "output_type": "stream",
     "text": [
      "123.05413202953339\n"
     ]
    },
    {
     "data": {
      "text/plain": [
       "38.67697523647435"
      ]
     },
     "execution_count": 274,
     "metadata": {},
     "output_type": "execute_result"
    }
   ],
   "source": [
    "print(np.mean(pred))\n",
    "np.std(pred)"
   ]
  },
  {
   "cell_type": "code",
   "execution_count": 282,
   "id": "f3c125ad-c875-447c-835a-a9a9029feb19",
   "metadata": {},
   "outputs": [
    {
     "data": {
      "text/plain": [
       "<matplotlib.collections.PathCollection at 0x153342e1000>"
      ]
     },
     "execution_count": 282,
     "metadata": {},
     "output_type": "execute_result"
    },
    {
     "data": {
      "image/png": "[encoded data removed]",
      "text/plain": [
       "<Figure size 432x288 with 1 Axes>"
      ]
     },
     "metadata": {
      "needs_background": "light"
     },
     "output_type": "display_data"
    }
   ],
   "source": [
    "y_plt = [i.item() for i in val_y_tens[1000:5000]]\n",
    "plt.scatter(y_plt, pred)"
   ]
  },
  {
   "cell_type": "code",
   "execution_count": 387,
   "id": "7b011a0a-c3a0-4981-a1f5-3d75ff20f5f1",
   "metadata": {},
   "outputs": [
    {
     "ename": "AttributeError",
     "evalue": "'list' object has no attribute 'dim'",
     "output_type": "error",
     "traceback": [
      "\u001b[1;31m---------------------------------------------------------------------------\u001b[0m",
      "\u001b[1;31mAttributeError\u001b[0m                            Traceback (most recent call last)",
      "Input \u001b[1;32mIn [387]\u001b[0m, in \u001b[0;36m<cell line: 1>\u001b[1;34m()\u001b[0m\n\u001b[1;32m----> 1\u001b[0m preds \u001b[38;5;241m=\u001b[39m \u001b[43mnet\u001b[49m\u001b[43m(\u001b[49m\u001b[43mtest\u001b[49m\u001b[43m[\u001b[49m\u001b[43m:\u001b[49m\u001b[38;5;241;43m100\u001b[39;49m\u001b[43m]\u001b[49m\u001b[43m)\u001b[49m\n\u001b[0;32m      2\u001b[0m \u001b[38;5;28mprint\u001b[39m(preds)\n\u001b[0;32m      3\u001b[0m test[\u001b[38;5;241m0\u001b[39m]\n",
      "File \u001b[1;32m~\\AppData\\Local\\pypoetry\\Cache\\virtualenvs\\bgpredict-zZmw8Ikr-py3.10\\lib\\site-packages\\torch\\nn\\modules\\module.py:1129\u001b[0m, in \u001b[0;36mModule._call_impl\u001b[1;34m(self, *input, **kwargs)\u001b[0m\n\u001b[0;32m   1125\u001b[0m \u001b[38;5;66;03m# If we don't have any hooks, we want to skip the rest of the logic in\u001b[39;00m\n\u001b[0;32m   1126\u001b[0m \u001b[38;5;66;03m# this function, and just call forward.\u001b[39;00m\n\u001b[0;32m   1127\u001b[0m \u001b[38;5;28;01mif\u001b[39;00m \u001b[38;5;129;01mnot\u001b[39;00m (\u001b[38;5;28mself\u001b[39m\u001b[38;5;241m.\u001b[39m_backward_hooks \u001b[38;5;129;01mor\u001b[39;00m \u001b[38;5;28mself\u001b[39m\u001b[38;5;241m.\u001b[39m_forward_hooks \u001b[38;5;129;01mor\u001b[39;00m \u001b[38;5;28mself\u001b[39m\u001b[38;5;241m.\u001b[39m_forward_pre_hooks \u001b[38;5;129;01mor\u001b[39;00m _global_backward_hooks\n\u001b[0;32m   1128\u001b[0m         \u001b[38;5;129;01mor\u001b[39;00m _global_forward_hooks \u001b[38;5;129;01mor\u001b[39;00m _global_forward_pre_hooks):\n\u001b[1;32m-> 1129\u001b[0m     \u001b[38;5;28;01mreturn\u001b[39;00m forward_call(\u001b[38;5;241m*\u001b[39m\u001b[38;5;28minput\u001b[39m, \u001b[38;5;241m*\u001b[39m\u001b[38;5;241m*\u001b[39mkwargs)\n\u001b[0;32m   1130\u001b[0m \u001b[38;5;66;03m# Do not call functions when jit is used\u001b[39;00m\n\u001b[0;32m   1131\u001b[0m full_backward_hooks, non_full_backward_hooks \u001b[38;5;241m=\u001b[39m [], []\n",
      "Input \u001b[1;32mIn [383]\u001b[0m, in \u001b[0;36mNet.forward\u001b[1;34m(self, x)\u001b[0m\n\u001b[0;32m      8\u001b[0m     \u001b[38;5;28;01mdef\u001b[39;00m \u001b[38;5;21mforward\u001b[39m(\u001b[38;5;28mself\u001b[39m, x):\n\u001b[1;32m----> 9\u001b[0m         lstm_out, _ \u001b[38;5;241m=\u001b[39m \u001b[38;5;28;43mself\u001b[39;49m\u001b[38;5;241;43m.\u001b[39;49m\u001b[43mlstm\u001b[49m\u001b[43m(\u001b[49m\u001b[43mx\u001b[49m\u001b[43m)\u001b[49m\n\u001b[0;32m     10\u001b[0m \u001b[38;5;66;03m#         print(f\"here: {lstm_out}, {lstm_out.shape}\")\u001b[39;00m\n\u001b[0;32m     11\u001b[0m \u001b[38;5;66;03m#         print(f\"{lstm_out[:,-1,:]}\")\u001b[39;00m\n\u001b[0;32m     12\u001b[0m         x \u001b[38;5;241m=\u001b[39m \u001b[38;5;28mself\u001b[39m\u001b[38;5;241m.\u001b[39mfc1(lstm_out[\u001b[38;5;241m-\u001b[39m\u001b[38;5;241m1\u001b[39m])\n",
      "File \u001b[1;32m~\\AppData\\Local\\pypoetry\\Cache\\virtualenvs\\bgpredict-zZmw8Ikr-py3.10\\lib\\site-packages\\torch\\nn\\modules\\module.py:1129\u001b[0m, in \u001b[0;36mModule._call_impl\u001b[1;34m(self, *input, **kwargs)\u001b[0m\n\u001b[0;32m   1125\u001b[0m \u001b[38;5;66;03m# If we don't have any hooks, we want to skip the rest of the logic in\u001b[39;00m\n\u001b[0;32m   1126\u001b[0m \u001b[38;5;66;03m# this function, and just call forward.\u001b[39;00m\n\u001b[0;32m   1127\u001b[0m \u001b[38;5;28;01mif\u001b[39;00m \u001b[38;5;129;01mnot\u001b[39;00m (\u001b[38;5;28mself\u001b[39m\u001b[38;5;241m.\u001b[39m_backward_hooks \u001b[38;5;129;01mor\u001b[39;00m \u001b[38;5;28mself\u001b[39m\u001b[38;5;241m.\u001b[39m_forward_hooks \u001b[38;5;129;01mor\u001b[39;00m \u001b[38;5;28mself\u001b[39m\u001b[38;5;241m.\u001b[39m_forward_pre_hooks \u001b[38;5;129;01mor\u001b[39;00m _global_backward_hooks\n\u001b[0;32m   1128\u001b[0m         \u001b[38;5;129;01mor\u001b[39;00m _global_forward_hooks \u001b[38;5;129;01mor\u001b[39;00m _global_forward_pre_hooks):\n\u001b[1;32m-> 1129\u001b[0m     \u001b[38;5;28;01mreturn\u001b[39;00m forward_call(\u001b[38;5;241m*\u001b[39m\u001b[38;5;28minput\u001b[39m, \u001b[38;5;241m*\u001b[39m\u001b[38;5;241m*\u001b[39mkwargs)\n\u001b[0;32m   1130\u001b[0m \u001b[38;5;66;03m# Do not call functions when jit is used\u001b[39;00m\n\u001b[0;32m   1131\u001b[0m full_backward_hooks, non_full_backward_hooks \u001b[38;5;241m=\u001b[39m [], []\n",
      "File \u001b[1;32m~\\AppData\\Local\\pypoetry\\Cache\\virtualenvs\\bgpredict-zZmw8Ikr-py3.10\\lib\\site-packages\\torch\\nn\\modules\\rnn.py:731\u001b[0m, in \u001b[0;36mLSTM.forward\u001b[1;34m(self, input, hx)\u001b[0m\n\u001b[0;32m    729\u001b[0m \u001b[38;5;28;01melse\u001b[39;00m:\n\u001b[0;32m    730\u001b[0m     batch_sizes \u001b[38;5;241m=\u001b[39m \u001b[38;5;28;01mNone\u001b[39;00m\n\u001b[1;32m--> 731\u001b[0m     is_batched \u001b[38;5;241m=\u001b[39m \u001b[38;5;28;43minput\u001b[39;49m\u001b[38;5;241;43m.\u001b[39;49m\u001b[43mdim\u001b[49m() \u001b[38;5;241m==\u001b[39m \u001b[38;5;241m3\u001b[39m\n\u001b[0;32m    732\u001b[0m     batch_dim \u001b[38;5;241m=\u001b[39m \u001b[38;5;241m0\u001b[39m \u001b[38;5;28;01mif\u001b[39;00m \u001b[38;5;28mself\u001b[39m\u001b[38;5;241m.\u001b[39mbatch_first \u001b[38;5;28;01melse\u001b[39;00m \u001b[38;5;241m1\u001b[39m\n\u001b[0;32m    733\u001b[0m     \u001b[38;5;28;01mif\u001b[39;00m \u001b[38;5;129;01mnot\u001b[39;00m is_batched:\n",
      "\u001b[1;31mAttributeError\u001b[0m: 'list' object has no attribute 'dim'"
     ]
    }
   ],
   "source": [
    "preds = net(test[:100])\n",
    "print(preds)\n",
    "test[0]"
   ]
  },
  {
   "cell_type": "markdown",
   "id": "2ec9d249-b24c-4816-9612-1daef12d8e23",
   "metadata": {},
   "source": [
    "### Padding\n",
    "Initial tests showed padding to perform very poorly. Keeping code here in case it's needed in the future"
   ]
  },
  {
   "cell_type": "code",
   "execution_count": 159,
   "id": "210b05e2-cae3-4531-b646-080c82cd40f6",
   "metadata": {},
   "outputs": [],
   "source": [
    "class Padder:\n",
    "    \n",
    "    def __init__(self):\n",
    "        self.max_length = None\n",
    "        self.padding_array = None\n",
    "\n",
    "    def fit(self, X):\n",
    "        # Determine Max Length\n",
    "        lengths = []\n",
    "        for i in X:\n",
    "            lengths.append(len(i))\n",
    "        min_l = min(lengths)\n",
    "        self.max_length = max(lengths)\n",
    "        median_l = np.median(lengths)\n",
    "        mean_l = np.mean(lengths)\n",
    "        print(f\"Padding up to length {self.max_length}\")\n",
    "        print(f\"median length = {median_l}, mean_length = {mean_l}, min_length = {min_l}\")\n",
    "        \n",
    "        # Create padding array\n",
    "        feature_width=X[0].shape[1]\n",
    "        self.padding_array = np.expand_dims(np.zeros(feature_width), axis=0)\n",
    "        \n",
    "    \n",
    "    def transform(self, X):\n",
    "        # Prepend padding to X\n",
    "        for idx, i in enumerate(X):\n",
    "            # Number of arrays to prepend to the existing data\n",
    "            pad_length = self.max_length - len(i)\n",
    "            pads = [self.padding_array for _ in range(pad_length)]\n",
    "            pads.append(i)\n",
    "            X[idx] = np.concatenate(pads)\n",
    "\n",
    "        return X "
   ]
  },
  {
   "cell_type": "code",
   "execution_count": 160,
   "id": "b05d851f-0354-4708-90a4-f11c6f4649d0",
   "metadata": {},
   "outputs": [
    {
     "name": "stdout",
     "output_type": "stream",
     "text": [
      "Padding up to length 40\n",
      "median length = 23.0, mean_length = 24.035937815465374, min_length = 1\n"
     ]
    }
   ],
   "source": [
    "padder = Padder()\n",
    "padder.fit(train_X)\n",
    "train_X_padded = padder.transform(train_X)\n",
    "val_X_padded = padder.transform(val_X)\n",
    "test_X_padded = padder.transform(test_X)"
   ]
  },
  {
   "cell_type": "markdown",
   "id": "ad11d711-f757-42b6-ab5a-3f6c400e148b",
   "metadata": {},
   "source": [
    "# Toy Example/Practice Stuff below"
   ]
  },
  {
   "cell_type": "code",
   "execution_count": 240,
   "id": "b07df404-f652-4e52-8bb4-cc489c922f5b",
   "metadata": {},
   "outputs": [
    {
     "name": "stdout",
     "output_type": "stream",
     "text": [
      "tensor([-0.8421, -0.0994, -1.0581,  0.4492, -0.0721])\n"
     ]
    },
    {
     "data": {
      "text/plain": [
       "[tensor([[-0.9606,  1.0944,  1.7780,  1.3661,  1.5622,  0.3268, -0.9777, -1.0041,\n",
       "           0.5847, -2.3832, -1.1196,  0.7594,  1.7240, -1.2549, -1.0124,  0.2177,\n",
       "          -1.0469,  0.8911,  0.8690, -1.2307,  0.2678,  0.2080,  0.8018, -2.6957,\n",
       "           0.5934]]),\n",
       " tensor([[-0.2270, -0.7460,  0.0676, -1.2601, -0.3686, -2.3264,  0.5884,  1.2743,\n",
       "          -0.3886,  1.1344,  1.3895, -0.6844,  1.4866,  0.4065, -0.1946, -0.1110,\n",
       "           1.9018,  0.3833, -0.0099,  0.8776, -0.1576,  1.5975, -1.4378, -0.5403,\n",
       "          -0.7007]])]"
      ]
     },
     "execution_count": 240,
     "metadata": {},
     "output_type": "execute_result"
    }
   ],
   "source": [
    "# generate fake data\n",
    "inputs = [torch.randn(1,25) for _ in range(5)]\n",
    "out = torch.randn(5)\n",
    "print(out)\n",
    "inputs[0:2]"
   ]
  },
  {
   "cell_type": "code",
   "execution_count": 362,
   "id": "d44dd63c-ddd9-424d-8306-f402f343c989",
   "metadata": {},
   "outputs": [
    {
     "data": {
      "text/plain": [
       "[array([[ 0.,  0.,  0., ...,  0.,  0.,  0.],\n",
       "        [ 0.,  0.,  0., ...,  0.,  0.,  0.],\n",
       "        [ 0.,  0.,  0., ...,  0.,  0.,  0.],\n",
       "        ...,\n",
       "        [ 1., 39.,  0., ...,  0.,  1.,  0.],\n",
       "        [ 1., 49.,  0., ...,  0.,  1.,  0.],\n",
       "        [ 2.,  4.,  0., ...,  0.,  1.,  0.]]),\n",
       " array([[ 0.,  0.,  0., ...,  0.,  0.,  0.],\n",
       "        [ 0.,  0.,  0., ...,  0.,  0.,  0.],\n",
       "        [ 0.,  0.,  0., ...,  0.,  0.,  0.],\n",
       "        ...,\n",
       "        [ 1., 49.,  0., ...,  0.,  1.,  0.],\n",
       "        [ 2.,  4.,  0., ...,  0.,  1.,  0.],\n",
       "        [ 2.,  9.,  0., ...,  0.,  1.,  0.]]),\n",
       " array([[ 0.,  0.,  0., ...,  0.,  0.,  0.],\n",
       "        [ 0.,  0.,  0., ...,  0.,  0.,  0.],\n",
       "        [ 0.,  0.,  0., ...,  0.,  0.,  0.],\n",
       "        ...,\n",
       "        [ 2.,  4.,  0., ...,  0.,  1.,  0.],\n",
       "        [ 2.,  9.,  0., ...,  0.,  1.,  0.],\n",
       "        [ 2., 24.,  0., ...,  0.,  1.,  0.]]),\n",
       " array([[ 0.,  0.,  0., ...,  0.,  0.,  0.],\n",
       "        [ 0.,  0.,  0., ...,  0.,  0.,  0.],\n",
       "        [ 0.,  0.,  0., ...,  0.,  0.,  0.],\n",
       "        ...,\n",
       "        [ 2.,  9.,  0., ...,  0.,  1.,  0.],\n",
       "        [ 2., 24.,  0., ...,  0.,  1.,  0.],\n",
       "        [ 2., 29.,  0., ...,  0.,  1.,  0.]]),\n",
       " array([[ 0.,  0.,  0., ...,  0.,  0.,  0.],\n",
       "        [ 0.,  0.,  0., ...,  0.,  0.,  0.],\n",
       "        [ 0.,  0.,  0., ...,  0.,  0.,  0.],\n",
       "        ...,\n",
       "        [ 2., 24.,  0., ...,  0.,  1.,  0.],\n",
       "        [ 2., 29.,  0., ...,  0.,  1.,  0.],\n",
       "        [ 2., 39.,  0., ...,  0.,  1.,  0.]])]"
      ]
     },
     "execution_count": 362,
     "metadata": {},
     "output_type": "execute_result"
    }
   ],
   "source": [
    "X[:5]"
   ]
  },
  {
   "cell_type": "code",
   "execution_count": 32,
   "id": "87f9094e-30a8-46c0-a653-e8efade3bcab",
   "metadata": {},
   "outputs": [],
   "source": [
    "rnn = nn.LSTM(input_size=10, hidden_size=20, num_layers=2)\n",
    "# five batches of size 3 with 10 elements in each row\n",
    "input = torch.randn(5, 3, 10)\n",
    "h0 = torch.randn(2, 3, 20)\n",
    "c0 = torch.randn(2, 3, 20)\n",
    "output, (hn, cn) = rnn(input, (h0, c0))"
   ]
  },
  {
   "cell_type": "code",
   "execution_count": 36,
   "id": "69bae2c6-e219-4493-b235-dc6f97d0f629",
   "metadata": {},
   "outputs": [
    {
     "name": "stdout",
     "output_type": "stream",
     "text": [
      "{'The': 0, 'dog': 1, 'ate': 2, 'the': 3, 'apple': 4, 'Everybody': 5, 'read': 6, 'that': 7, 'book': 8}\n"
     ]
    }
   ],
   "source": [
    "def prepare_sequence(seq, to_ix):\n",
    "    idxs = [to_ix[w] for w in seq]\n",
    "    return torch.tensor(idxs, dtype=torch.long)\n",
    "\n",
    "\n",
    "training_data = [\n",
    "    # Tags are: DET - determiner; NN - noun; V - verb\n",
    "    # For example, the word \"The\" is a determiner\n",
    "    (\"The dog ate the apple\".split(), [\"DET\", \"NN\", \"V\", \"DET\", \"NN\"]),\n",
    "    (\"Everybody read that book\".split(), [\"NN\", \"V\", \"DET\", \"NN\"])\n",
    "]\n",
    "word_to_ix = {}\n",
    "# For each words-list (sentence) and tags-list in each tuple of training_data\n",
    "for sent, tags in training_data:\n",
    "    for word in sent:\n",
    "        if word not in word_to_ix:  # word has not been assigned an index yet\n",
    "            word_to_ix[word] = len(word_to_ix)  # Assign each word with a unique index\n",
    "print(word_to_ix)\n",
    "tag_to_ix = {\"DET\": 0, \"NN\": 1, \"V\": 2}  # Assign each tag with a unique index"
   ]
  },
  {
   "cell_type": "code",
   "execution_count": 37,
   "id": "9241d661-fda4-45f9-bc89-79544799739a",
   "metadata": {},
   "outputs": [
    {
     "data": {
      "text/plain": [
       "tensor([0, 1, 2, 3, 4])"
      ]
     },
     "execution_count": 37,
     "metadata": {},
     "output_type": "execute_result"
    }
   ],
   "source": [
    "prepare_sequence(training_data[0][0], word_to_ix)"
   ]
  },
  {
   "cell_type": "markdown",
   "id": "a7f822df-378f-4758-bc13-3ac883620378",
   "metadata": {},
   "source": [
    "## Using someone elses example (Not Functional)\n",
    "First, we'll try to replicate the example used [here](https://towardsdatascience.com/pytorch-lstms-for-time-series-data-cd16190929d7). \n",
    "\n",
    "After working with this a bit, it turns out this example was not even close to complete, and I'm not going to spend a ton of effort debugging it."
   ]
  },
  {
   "cell_type": "code",
   "execution_count": 3,
   "id": "26835aca-7a1a-4f01-97ed-dcd2f4930555",
   "metadata": {},
   "outputs": [],
   "source": [
    "# Generate Data\n",
    "N = 100 # number of samples\n",
    "L = 1000 # length of each sample (number of values for each sine wave)\n",
    "T = 20 # width of the wave\n",
    "x = np.empty((N,L), np.float32) # instantiate empty array\n",
    "x[:] = np.arange(L) + np.random.randint(-4*T, 4*T, N).reshape(N,1)\n",
    "y = np.sin(x/1.0/T).astype(np.float32)"
   ]
  },
  {
   "cell_type": "code",
   "execution_count": 4,
   "id": "34c3043f-a2f6-4e50-bb06-0aecf8bf376a",
   "metadata": {},
   "outputs": [
    {
     "data": {
      "text/plain": [
       "(100, 1000)"
      ]
     },
     "execution_count": 4,
     "metadata": {},
     "output_type": "execute_result"
    }
   ],
   "source": [
    "y.shape"
   ]
  },
  {
   "cell_type": "code",
   "execution_count": 5,
   "id": "8f7df5d3-752f-4f08-96b2-c136be618125",
   "metadata": {},
   "outputs": [],
   "source": [
    "# Create LSTM Class\n",
    "class LSTM(nn.Module):\n",
    "    def __init__(self, hidden_layers=64):\n",
    "        super(LSTM, self).__init__()\n",
    "        self.hidden_layers = hidden_layers\n",
    "        # lstm1, lstm2, linear are all layers in the network\n",
    "        self.lstm1 = nn.LSTMCell(1, self.hidden_layers)\n",
    "        self.lstm2 = nn.LSTMCell(self.hidden_layers, self.hidden_layers)\n",
    "        self.linear = nn.Linear(self.hidden_layers, 1)\n",
    "        \n",
    "    def forward(self, y, future_preds=0):\n",
    "        outputs, n_samples = [], y.size(0)\n",
    "        h_t = torch.zeros(n_samples, self.hidden_layers, dtype=torch.float32)\n",
    "        c_t = torch.zeros(n_samples, self.hidden_layers, dtype=torch.float32)\n",
    "        h_t2 = torch.zeros(n_samples, self.hidden_layers, dtype=torch.float32)\n",
    "        c_t2 = torch.zeros(n_samples, self.hidden_layers, dtype=torch.float32)\n",
    "        \n",
    "        for time_step in y.split(1, dim=1):\n",
    "            # N, 1\n",
    "            h_t, c_t = self.lstm1(input_t, (h_t, c_t)) # initial hidden and cell states\n",
    "            h_t2, c_t2 = self.lstm2(h_t, (h_t2, c_t2)) # new hidden and cell states\n",
    "            output = self.linear(h_t2) # output from the last FC layer\n",
    "            outputs.append(output)\n",
    "            \n",
    "        for i in range(future_preds):\n",
    "            # this only generates future predictions if we pass in future_preds>0\n",
    "            # mirrors the code above, using last output/prediction as input\n",
    "            h_t, c_t = self.lstm1(output, (h_t, c_t))\n",
    "            h_t2, c_t2 = self.lstm2(h_t, (h_t2, c_t2))\n",
    "            output = self.linear(h_t2)\n",
    "            outputs.append(output)\n",
    "        # transform list to tensor    \n",
    "        outputs = torch.cat(outputs, dim=1)\n",
    "        return outputs"
   ]
  },
  {
   "cell_type": "code",
   "execution_count": 6,
   "id": "3e9a3589-6137-4a03-a3e5-f36ce31be608",
   "metadata": {},
   "outputs": [
    {
     "data": {
      "text/plain": [
       "torch.Size([97, 1])"
      ]
     },
     "execution_count": 6,
     "metadata": {},
     "output_type": "execute_result"
    }
   ],
   "source": [
    "a = torch.from_numpy(y[3:, :-1])\n",
    "b = a.split(1, dim=1)\n",
    "b[0].shape"
   ]
  },
  {
   "cell_type": "code",
   "execution_count": 7,
   "id": "34d45de9-c4d4-4322-ab19-1377cd8df035",
   "metadata": {},
   "outputs": [
    {
     "data": {
      "image/png": "[encoded data removed]",
      "text/plain": [
       "<Figure size 432x288 with 1 Axes>"
      ]
     },
     "metadata": {
      "needs_background": "light"
     },
     "output_type": "display_data"
    }
   ],
   "source": [
    "train_input = torch.from_numpy(y[3:, :-1]) # (97, 999)\n",
    "train_target = torch.from_numpy(y[3:, 1:]) # (97, 999)\n",
    "test_input = torch.from_numpy(y[:3, :-1]) # (3, 999)\n",
    "test_target = torch.from_numpy(y[:3, 1:]) # (3, 999)\n",
    "plt.plot(train_target[4])\n",
    "plt.show()"
   ]
  },
  {
   "cell_type": "code",
   "execution_count": 8,
   "id": "f5d7b886-1252-4836-94c1-6cc4b70cb490",
   "metadata": {},
   "outputs": [],
   "source": [
    "model = LSTM()\n",
    "criterion = nn.MSELoss()\n",
    "optimiser = optim.LBFGS(model.parameters(), lr=0.08)"
   ]
  },
  {
   "cell_type": "code",
   "execution_count": 9,
   "id": "e8229748-5382-443e-a66f-96db69226da0",
   "metadata": {},
   "outputs": [],
   "source": [
    "def training_loop(n_epochs, model, optimiser, loss_fn, \n",
    "                  train_input, train_target, test_input, test_target):\n",
    "    for i in range(n_epochs):\n",
    "        def closure():\n",
    "            optimiser.zero_grad()\n",
    "            out = model(train_input)\n",
    "            loss = loss_fn(out, train_target)\n",
    "            loss.backward()\n",
    "            return loss\n",
    "        optimiser.step(closure)\n",
    "        with torch.no_grad():\n",
    "            future = 1000\n",
    "            pred = model(test_input, future=future)\n",
    "            # use all pred samples, but only go to 999\n",
    "            loss = loss_fn(pred[:, :-future], test_target)\n",
    "            y = pred.detach().numpy()\n",
    "        # draw figures\n",
    "        plt.figure(figsize=(12,6))\n",
    "        plt.title(f\"Step {i+1}\")\n",
    "        plt.xlabel(\"x\")\n",
    "        plt.ylabel(\"y\")\n",
    "        plt.xticks(fontsize=20)\n",
    "        plt.yticks(fontsize=20)\n",
    "        n = train_input.shape[1] # 999\n",
    "        def draw(yi, colour):\n",
    "            plt.plot(np.arange(n), yi[:n], colour, linewidth=2.0)\n",
    "            plt.plot(np.arange(n, n+future), yi[n:], colour+\":\", linewidth=2.0)\n",
    "        draw(y[0], 'r')\n",
    "        draw(y[1], 'b')\n",
    "        draw(y[2], 'g')\n",
    "        plt.savefig(\"predict%d.png\"%i, dpi=200)\n",
    "        plt.close()\n",
    "        # print the loss\n",
    "        out = model(train_input)\n",
    "        loss_print = loss_fn(out, train_target)\n",
    "        print(\"Step: {}, Loss: {}\".format(i, loss_print))"
   ]
  },
  {
   "cell_type": "code",
   "execution_count": 10,
   "id": "6e2185fb-382b-4a99-8612-4647534a9344",
   "metadata": {},
   "outputs": [
    {
     "ename": "NameError",
     "evalue": "name 'input_t' is not defined",
     "output_type": "error",
     "traceback": [
      "\u001b[1;31m---------------------------------------------------------------------------\u001b[0m",
      "\u001b[1;31mNameError\u001b[0m                                 Traceback (most recent call last)",
      "Input \u001b[1;32mIn [10]\u001b[0m, in \u001b[0;36m<cell line: 1>\u001b[1;34m()\u001b[0m\n\u001b[1;32m----> 1\u001b[0m \u001b[43mtraining_loop\u001b[49m\u001b[43m(\u001b[49m\u001b[43mn_epochs\u001b[49m\u001b[43m \u001b[49m\u001b[38;5;241;43m=\u001b[39;49m\u001b[43m \u001b[49m\u001b[38;5;241;43m10\u001b[39;49m\u001b[43m,\u001b[49m\n\u001b[0;32m      2\u001b[0m \u001b[43m              \u001b[49m\u001b[43mmodel\u001b[49m\u001b[43m \u001b[49m\u001b[38;5;241;43m=\u001b[39;49m\u001b[43m \u001b[49m\u001b[43mmodel\u001b[49m\u001b[43m,\u001b[49m\n\u001b[0;32m      3\u001b[0m \u001b[43m              \u001b[49m\u001b[43moptimiser\u001b[49m\u001b[43m \u001b[49m\u001b[38;5;241;43m=\u001b[39;49m\u001b[43m \u001b[49m\u001b[43moptimiser\u001b[49m\u001b[43m,\u001b[49m\n\u001b[0;32m      4\u001b[0m \u001b[43m              \u001b[49m\u001b[43mloss_fn\u001b[49m\u001b[43m \u001b[49m\u001b[38;5;241;43m=\u001b[39;49m\u001b[43m \u001b[49m\u001b[43mcriterion\u001b[49m\u001b[43m,\u001b[49m\n\u001b[0;32m      5\u001b[0m \u001b[43m              \u001b[49m\u001b[43mtrain_input\u001b[49m\u001b[43m \u001b[49m\u001b[38;5;241;43m=\u001b[39;49m\u001b[43m \u001b[49m\u001b[43mtrain_input\u001b[49m\u001b[43m,\u001b[49m\n\u001b[0;32m      6\u001b[0m \u001b[43m              \u001b[49m\u001b[43mtrain_target\u001b[49m\u001b[43m \u001b[49m\u001b[38;5;241;43m=\u001b[39;49m\u001b[43m \u001b[49m\u001b[43mtrain_target\u001b[49m\u001b[43m,\u001b[49m\n\u001b[0;32m      7\u001b[0m \u001b[43m              \u001b[49m\u001b[43mtest_input\u001b[49m\u001b[43m \u001b[49m\u001b[38;5;241;43m=\u001b[39;49m\u001b[43m \u001b[49m\u001b[43mtest_input\u001b[49m\u001b[43m,\u001b[49m\n\u001b[0;32m      8\u001b[0m \u001b[43m              \u001b[49m\u001b[43mtest_target\u001b[49m\u001b[43m \u001b[49m\u001b[38;5;241;43m=\u001b[39;49m\u001b[43m \u001b[49m\u001b[43mtest_target\u001b[49m\u001b[43m)\u001b[49m\n",
      "Input \u001b[1;32mIn [9]\u001b[0m, in \u001b[0;36mtraining_loop\u001b[1;34m(n_epochs, model, optimiser, loss_fn, train_input, train_target, test_input, test_target)\u001b[0m\n\u001b[0;32m      8\u001b[0m     loss\u001b[38;5;241m.\u001b[39mbackward()\n\u001b[0;32m      9\u001b[0m     \u001b[38;5;28;01mreturn\u001b[39;00m loss\n\u001b[1;32m---> 10\u001b[0m \u001b[43moptimiser\u001b[49m\u001b[38;5;241;43m.\u001b[39;49m\u001b[43mstep\u001b[49m\u001b[43m(\u001b[49m\u001b[43mclosure\u001b[49m\u001b[43m)\u001b[49m\n\u001b[0;32m     11\u001b[0m \u001b[38;5;28;01mwith\u001b[39;00m torch\u001b[38;5;241m.\u001b[39mno_grad():\n\u001b[0;32m     12\u001b[0m     future \u001b[38;5;241m=\u001b[39m \u001b[38;5;241m1000\u001b[39m\n",
      "File \u001b[1;32m~\\AppData\\Local\\pypoetry\\Cache\\virtualenvs\\bgpredict-zZmw8Ikr-py3.10\\lib\\site-packages\\torch\\optim\\optimizer.py:88\u001b[0m, in \u001b[0;36mOptimizer._hook_for_profile.<locals>.profile_hook_step.<locals>.wrapper\u001b[1;34m(*args, **kwargs)\u001b[0m\n\u001b[0;32m     86\u001b[0m profile_name \u001b[38;5;241m=\u001b[39m \u001b[38;5;124m\"\u001b[39m\u001b[38;5;124mOptimizer.step#\u001b[39m\u001b[38;5;132;01m{}\u001b[39;00m\u001b[38;5;124m.step\u001b[39m\u001b[38;5;124m\"\u001b[39m\u001b[38;5;241m.\u001b[39mformat(obj\u001b[38;5;241m.\u001b[39m\u001b[38;5;18m__class__\u001b[39m\u001b[38;5;241m.\u001b[39m\u001b[38;5;18m__name__\u001b[39m)\n\u001b[0;32m     87\u001b[0m \u001b[38;5;28;01mwith\u001b[39;00m torch\u001b[38;5;241m.\u001b[39mautograd\u001b[38;5;241m.\u001b[39mprofiler\u001b[38;5;241m.\u001b[39mrecord_function(profile_name):\n\u001b[1;32m---> 88\u001b[0m     \u001b[38;5;28;01mreturn\u001b[39;00m func(\u001b[38;5;241m*\u001b[39margs, \u001b[38;5;241m*\u001b[39m\u001b[38;5;241m*\u001b[39mkwargs)\n",
      "File \u001b[1;32m~\\AppData\\Local\\pypoetry\\Cache\\virtualenvs\\bgpredict-zZmw8Ikr-py3.10\\lib\\site-packages\\torch\\autograd\\grad_mode.py:27\u001b[0m, in \u001b[0;36m_DecoratorContextManager.__call__.<locals>.decorate_context\u001b[1;34m(*args, **kwargs)\u001b[0m\n\u001b[0;32m     24\u001b[0m \u001b[38;5;129m@functools\u001b[39m\u001b[38;5;241m.\u001b[39mwraps(func)\n\u001b[0;32m     25\u001b[0m \u001b[38;5;28;01mdef\u001b[39;00m \u001b[38;5;21mdecorate_context\u001b[39m(\u001b[38;5;241m*\u001b[39margs, \u001b[38;5;241m*\u001b[39m\u001b[38;5;241m*\u001b[39mkwargs):\n\u001b[0;32m     26\u001b[0m     \u001b[38;5;28;01mwith\u001b[39;00m \u001b[38;5;28mself\u001b[39m\u001b[38;5;241m.\u001b[39mclone():\n\u001b[1;32m---> 27\u001b[0m         \u001b[38;5;28;01mreturn\u001b[39;00m func(\u001b[38;5;241m*\u001b[39margs, \u001b[38;5;241m*\u001b[39m\u001b[38;5;241m*\u001b[39mkwargs)\n",
      "File \u001b[1;32m~\\AppData\\Local\\pypoetry\\Cache\\virtualenvs\\bgpredict-zZmw8Ikr-py3.10\\lib\\site-packages\\torch\\optim\\lbfgs.py:311\u001b[0m, in \u001b[0;36mLBFGS.step\u001b[1;34m(self, closure)\u001b[0m\n\u001b[0;32m    308\u001b[0m state\u001b[38;5;241m.\u001b[39msetdefault(\u001b[38;5;124m'\u001b[39m\u001b[38;5;124mn_iter\u001b[39m\u001b[38;5;124m'\u001b[39m, \u001b[38;5;241m0\u001b[39m)\n\u001b[0;32m    310\u001b[0m \u001b[38;5;66;03m# evaluate initial f(x) and df/dx\u001b[39;00m\n\u001b[1;32m--> 311\u001b[0m orig_loss \u001b[38;5;241m=\u001b[39m \u001b[43mclosure\u001b[49m\u001b[43m(\u001b[49m\u001b[43m)\u001b[49m\n\u001b[0;32m    312\u001b[0m loss \u001b[38;5;241m=\u001b[39m \u001b[38;5;28mfloat\u001b[39m(orig_loss)\n\u001b[0;32m    313\u001b[0m current_evals \u001b[38;5;241m=\u001b[39m \u001b[38;5;241m1\u001b[39m\n",
      "File \u001b[1;32m~\\AppData\\Local\\pypoetry\\Cache\\virtualenvs\\bgpredict-zZmw8Ikr-py3.10\\lib\\site-packages\\torch\\autograd\\grad_mode.py:27\u001b[0m, in \u001b[0;36m_DecoratorContextManager.__call__.<locals>.decorate_context\u001b[1;34m(*args, **kwargs)\u001b[0m\n\u001b[0;32m     24\u001b[0m \u001b[38;5;129m@functools\u001b[39m\u001b[38;5;241m.\u001b[39mwraps(func)\n\u001b[0;32m     25\u001b[0m \u001b[38;5;28;01mdef\u001b[39;00m \u001b[38;5;21mdecorate_context\u001b[39m(\u001b[38;5;241m*\u001b[39margs, \u001b[38;5;241m*\u001b[39m\u001b[38;5;241m*\u001b[39mkwargs):\n\u001b[0;32m     26\u001b[0m     \u001b[38;5;28;01mwith\u001b[39;00m \u001b[38;5;28mself\u001b[39m\u001b[38;5;241m.\u001b[39mclone():\n\u001b[1;32m---> 27\u001b[0m         \u001b[38;5;28;01mreturn\u001b[39;00m func(\u001b[38;5;241m*\u001b[39margs, \u001b[38;5;241m*\u001b[39m\u001b[38;5;241m*\u001b[39mkwargs)\n",
      "Input \u001b[1;32mIn [9]\u001b[0m, in \u001b[0;36mtraining_loop.<locals>.closure\u001b[1;34m()\u001b[0m\n\u001b[0;32m      4\u001b[0m \u001b[38;5;28;01mdef\u001b[39;00m \u001b[38;5;21mclosure\u001b[39m():\n\u001b[0;32m      5\u001b[0m     optimiser\u001b[38;5;241m.\u001b[39mzero_grad()\n\u001b[1;32m----> 6\u001b[0m     out \u001b[38;5;241m=\u001b[39m \u001b[43mmodel\u001b[49m\u001b[43m(\u001b[49m\u001b[43mtrain_input\u001b[49m\u001b[43m)\u001b[49m\n\u001b[0;32m      7\u001b[0m     loss \u001b[38;5;241m=\u001b[39m loss_fn(out, train_target)\n\u001b[0;32m      8\u001b[0m     loss\u001b[38;5;241m.\u001b[39mbackward()\n",
      "File \u001b[1;32m~\\AppData\\Local\\pypoetry\\Cache\\virtualenvs\\bgpredict-zZmw8Ikr-py3.10\\lib\\site-packages\\torch\\nn\\modules\\module.py:1129\u001b[0m, in \u001b[0;36mModule._call_impl\u001b[1;34m(self, *input, **kwargs)\u001b[0m\n\u001b[0;32m   1125\u001b[0m \u001b[38;5;66;03m# If we don't have any hooks, we want to skip the rest of the logic in\u001b[39;00m\n\u001b[0;32m   1126\u001b[0m \u001b[38;5;66;03m# this function, and just call forward.\u001b[39;00m\n\u001b[0;32m   1127\u001b[0m \u001b[38;5;28;01mif\u001b[39;00m \u001b[38;5;129;01mnot\u001b[39;00m (\u001b[38;5;28mself\u001b[39m\u001b[38;5;241m.\u001b[39m_backward_hooks \u001b[38;5;129;01mor\u001b[39;00m \u001b[38;5;28mself\u001b[39m\u001b[38;5;241m.\u001b[39m_forward_hooks \u001b[38;5;129;01mor\u001b[39;00m \u001b[38;5;28mself\u001b[39m\u001b[38;5;241m.\u001b[39m_forward_pre_hooks \u001b[38;5;129;01mor\u001b[39;00m _global_backward_hooks\n\u001b[0;32m   1128\u001b[0m         \u001b[38;5;129;01mor\u001b[39;00m _global_forward_hooks \u001b[38;5;129;01mor\u001b[39;00m _global_forward_pre_hooks):\n\u001b[1;32m-> 1129\u001b[0m     \u001b[38;5;28;01mreturn\u001b[39;00m forward_call(\u001b[38;5;241m*\u001b[39m\u001b[38;5;28minput\u001b[39m, \u001b[38;5;241m*\u001b[39m\u001b[38;5;241m*\u001b[39mkwargs)\n\u001b[0;32m   1130\u001b[0m \u001b[38;5;66;03m# Do not call functions when jit is used\u001b[39;00m\n\u001b[0;32m   1131\u001b[0m full_backward_hooks, non_full_backward_hooks \u001b[38;5;241m=\u001b[39m [], []\n",
      "Input \u001b[1;32mIn [5]\u001b[0m, in \u001b[0;36mLSTM.forward\u001b[1;34m(self, y, future_preds)\u001b[0m\n\u001b[0;32m     16\u001b[0m c_t2 \u001b[38;5;241m=\u001b[39m torch\u001b[38;5;241m.\u001b[39mzeros(n_samples, \u001b[38;5;28mself\u001b[39m\u001b[38;5;241m.\u001b[39mhidden_layers, dtype\u001b[38;5;241m=\u001b[39mtorch\u001b[38;5;241m.\u001b[39mfloat32)\n\u001b[0;32m     18\u001b[0m \u001b[38;5;28;01mfor\u001b[39;00m time_step \u001b[38;5;129;01min\u001b[39;00m y\u001b[38;5;241m.\u001b[39msplit(\u001b[38;5;241m1\u001b[39m, dim\u001b[38;5;241m=\u001b[39m\u001b[38;5;241m1\u001b[39m):\n\u001b[0;32m     19\u001b[0m     \u001b[38;5;66;03m# N, 1\u001b[39;00m\n\u001b[1;32m---> 20\u001b[0m     h_t, c_t \u001b[38;5;241m=\u001b[39m \u001b[38;5;28mself\u001b[39m\u001b[38;5;241m.\u001b[39mlstm1(\u001b[43minput_t\u001b[49m, (h_t, c_t)) \u001b[38;5;66;03m# initial hidden and cell states\u001b[39;00m\n\u001b[0;32m     21\u001b[0m     h_t2, c_t2 \u001b[38;5;241m=\u001b[39m \u001b[38;5;28mself\u001b[39m\u001b[38;5;241m.\u001b[39mlstm2(h_t, (h_t2, c_t2)) \u001b[38;5;66;03m# new hidden and cell states\u001b[39;00m\n\u001b[0;32m     22\u001b[0m     output \u001b[38;5;241m=\u001b[39m \u001b[38;5;28mself\u001b[39m\u001b[38;5;241m.\u001b[39mlinear(h_t2) \u001b[38;5;66;03m# output from the last FC layer\u001b[39;00m\n",
      "\u001b[1;31mNameError\u001b[0m: name 'input_t' is not defined"
     ]
    }
   ],
   "source": [
    "training_loop(n_epochs = 10,\n",
    "              model = model,\n",
    "              optimiser = optimiser,\n",
    "              loss_fn = criterion,\n",
    "              train_input = train_input,\n",
    "              train_target = train_target,\n",
    "              test_input = test_input,\n",
    "              test_target = test_target)"
   ]
  }
 ],
 "metadata": {
  "kernelspec": {
   "display_name": "poetry_kernel",
   "language": "python",
   "name": "poetry_kernel"
  },
  "language_info": {
   "codemirror_mode": {
    "name": "ipython",
    "version": 3
   },
   "file_extension": ".py",
   "mimetype": "text/x-python",
   "name": "python",
   "nbconvert_exporter": "python",
   "pygments_lexer": "ipython3",
   "version": "3.10.1"
  }
 },
 "nbformat": 4,
 "nbformat_minor": 5
}
